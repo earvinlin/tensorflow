{
 "cells": [
  {
   "cell_type": "code",
   "execution_count": 1,
   "id": "1416c439",
   "metadata": {},
   "outputs": [
    {
     "name": "stderr",
     "output_type": "stream",
     "text": [
      "2023-09-23 10:44:26.315811: I tensorflow/core/platform/cpu_feature_guard.cc:193] This TensorFlow binary is optimized with oneAPI Deep Neural Network Library (oneDNN) to use the following CPU instructions in performance-critical operations:  SSE4.1 SSE4.2 AVX AVX2 FMA\n",
      "To enable them in other operations, rebuild TensorFlow with the appropriate compiler flags.\n"
     ]
    }
   ],
   "source": [
    "#===========================================#\n",
    "#=== Linux OS running OK                 ===#\n",
    "#=== Test iMac OS OK (needs modify path) ===#\n",
    "#===========================================#\n",
    "import os\n",
    "import numpy as np\n",
    "import pandas as pd\n",
    "import tensorflow as tf\n",
    "import matplotlib.pyplot as plt\n",
    "from tensorflow import keras\n",
    "from tensorflow.keras import layers"
   ]
  },
  {
   "cell_type": "code",
   "execution_count": 2,
   "id": "d683dcda",
   "metadata": {},
   "outputs": [
    {
     "name": "stdout",
     "output_type": "stream",
     "text": [
      "2.10.0\n",
      "2.10.0\n"
     ]
    }
   ],
   "source": [
    "print(tf.__version__)\n",
    "print(keras.__version__)"
   ]
  },
  {
   "cell_type": "code",
   "execution_count": 3,
   "id": "ce45b159",
   "metadata": {},
   "outputs": [
    {
     "name": "stderr",
     "output_type": "stream",
     "text": [
      "2023-09-23 10:44:35.611208: I tensorflow/core/platform/cpu_feature_guard.cc:193] This TensorFlow binary is optimized with oneAPI Deep Neural Network Library (oneDNN) to use the following CPU instructions in performance-critical operations:  SSE4.1 SSE4.2 AVX AVX2 FMA\n",
      "To enable them in other operations, rebuild TensorFlow with the appropriate compiler flags.\n"
     ]
    }
   ],
   "source": [
    "# § 代碼清單 5-1 實例化一個小型的卷積神經網路\n",
    "\n",
    "from keras import layers\n",
    "from keras import models\n",
    "\n",
    "model = models.Sequential()\n",
    "model.add(layers.Conv2D(32, (3, 3), activation='relu', input_shape=(28, 28, 1)))\n",
    "model.add(layers.MaxPooling2D((2, 2)))\n",
    "model.add(layers.Conv2D(64, (3, 3), activation='relu'))\n",
    "model.add(layers.MaxPooling2D((2, 2)))\n",
    "model.add(layers.Conv2D(64, (3, 3), activation='relu'))\n"
   ]
  },
  {
   "cell_type": "code",
   "execution_count": 4,
   "id": "15b87d83",
   "metadata": {},
   "outputs": [
    {
     "name": "stdout",
     "output_type": "stream",
     "text": [
      "Model: \"sequential\"\n",
      "_________________________________________________________________\n",
      " Layer (type)                Output Shape              Param #   \n",
      "=================================================================\n",
      " conv2d (Conv2D)             (None, 26, 26, 32)        320       \n",
      "                                                                 \n",
      " max_pooling2d (MaxPooling2D  (None, 13, 13, 32)       0         \n",
      " )                                                               \n",
      "                                                                 \n",
      " conv2d_1 (Conv2D)           (None, 11, 11, 64)        18496     \n",
      "                                                                 \n",
      " max_pooling2d_1 (MaxPooling  (None, 5, 5, 64)         0         \n",
      " 2D)                                                             \n",
      "                                                                 \n",
      " conv2d_2 (Conv2D)           (None, 3, 3, 64)          36928     \n",
      "                                                                 \n",
      "=================================================================\n",
      "Total params: 55,744\n",
      "Trainable params: 55,744\n",
      "Non-trainable params: 0\n",
      "_________________________________________________________________\n"
     ]
    }
   ],
   "source": [
    "model.summary()"
   ]
  },
  {
   "cell_type": "code",
   "execution_count": 5,
   "id": "db825641",
   "metadata": {},
   "outputs": [],
   "source": [
    "# § 代碼清單 5-2 在卷積神經網路上添加分類器\n",
    "\n",
    "model.add(layers.Flatten())\n",
    "model.add(layers.Dense(64, activation='relu'))\n",
    "model.add(layers.Dense(10, activation='softmax'))\n"
   ]
  },
  {
   "cell_type": "code",
   "execution_count": 6,
   "id": "f11a0067",
   "metadata": {},
   "outputs": [
    {
     "name": "stdout",
     "output_type": "stream",
     "text": [
      "Model: \"sequential\"\n",
      "_________________________________________________________________\n",
      " Layer (type)                Output Shape              Param #   \n",
      "=================================================================\n",
      " conv2d (Conv2D)             (None, 26, 26, 32)        320       \n",
      "                                                                 \n",
      " max_pooling2d (MaxPooling2D  (None, 13, 13, 32)       0         \n",
      " )                                                               \n",
      "                                                                 \n",
      " conv2d_1 (Conv2D)           (None, 11, 11, 64)        18496     \n",
      "                                                                 \n",
      " max_pooling2d_1 (MaxPooling  (None, 5, 5, 64)         0         \n",
      " 2D)                                                             \n",
      "                                                                 \n",
      " conv2d_2 (Conv2D)           (None, 3, 3, 64)          36928     \n",
      "                                                                 \n",
      " flatten (Flatten)           (None, 576)               0         \n",
      "                                                                 \n",
      " dense (Dense)               (None, 64)                36928     \n",
      "                                                                 \n",
      " dense_1 (Dense)             (None, 10)                650       \n",
      "                                                                 \n",
      "=================================================================\n",
      "Total params: 93,322\n",
      "Trainable params: 93,322\n",
      "Non-trainable params: 0\n",
      "_________________________________________________________________\n"
     ]
    }
   ],
   "source": [
    "model.summary()"
   ]
  },
  {
   "cell_type": "code",
   "execution_count": 7,
   "id": "51bb77af",
   "metadata": {
    "scrolled": true
   },
   "outputs": [
    {
     "name": "stdout",
     "output_type": "stream",
     "text": [
      "Downloading data from https://storage.googleapis.com/tensorflow/tf-keras-datasets/mnist.npz\n",
      "11490434/11490434 [==============================] - 7s 1us/step\n",
      "Epoch 1/5\n",
      "938/938 [==============================] - 20s 21ms/step - loss: 0.1697 - accuracy: 0.9474\n",
      "Epoch 2/5\n",
      "938/938 [==============================] - 19s 20ms/step - loss: 0.0458 - accuracy: 0.9860\n",
      "Epoch 3/5\n",
      "938/938 [==============================] - 19s 20ms/step - loss: 0.0317 - accuracy: 0.9900\n",
      "Epoch 4/5\n",
      "938/938 [==============================] - 19s 21ms/step - loss: 0.0239 - accuracy: 0.9928\n",
      "Epoch 5/5\n",
      "938/938 [==============================] - 20s 21ms/step - loss: 0.0192 - accuracy: 0.9940\n"
     ]
    },
    {
     "data": {
      "text/plain": [
       "<keras.callbacks.History at 0x7fd598c667c0>"
      ]
     },
     "execution_count": 7,
     "metadata": {},
     "output_type": "execute_result"
    }
   ],
   "source": [
    "# § 代碼清單 5-3 在MNIST圖像上訓練卷積神經網路\n",
    "\n",
    "from keras.datasets import mnist\n",
    "from keras.utils import to_categorical\n",
    "\n",
    "(train_images, train_labels), (test_images, test_labels) = mnist.load_data()\n",
    "\n",
    "train_images = train_images.reshape((60000, 28, 28, 1))\n",
    "train_images = train_images.astype('float32') / 255\n",
    "\n",
    "test_images = test_images.reshape((10000, 28, 28, 1))\n",
    "test_images = test_images.astype('float32') / 255\n",
    "\n",
    "train_labels = to_categorical(train_labels)\n",
    "test_labels = to_categorical(test_labels)\n",
    "\n",
    "model.compile(optimizer='rmsprop',\n",
    "             loss='categorical_crossentropy',\n",
    "             metrics=['accuracy'])\n",
    "model.fit(train_images, train_labels, epochs=5, batch_size=64)\n"
   ]
  },
  {
   "cell_type": "code",
   "execution_count": 8,
   "id": "bed6c245",
   "metadata": {},
   "outputs": [
    {
     "name": "stdout",
     "output_type": "stream",
     "text": [
      "313/313 [==============================] - 1s 3ms/step - loss: 0.0268 - accuracy: 0.9918\n",
      "loss=  0.02680221013724804 acc=  0.9918000102043152\n"
     ]
    }
   ],
   "source": [
    "test_loss, test_acc = model.evaluate(test_images, test_labels)\n",
    "print(\"loss= \", test_loss, \"acc= \", test_acc)\n"
   ]
  },
  {
   "cell_type": "code",
   "execution_count": 74,
   "id": "5ccc43c6",
   "metadata": {},
   "outputs": [
    {
     "name": "stdout",
     "output_type": "stream",
     "text": [
      "/home/earvin/workspaces/datasets/kaggle_original_data/Cat/0.jpg /home/earvin/workspaces/datasets/cats_and_dogs_small/train/cats/0.jpg\n",
      "/home/earvin/workspaces/datasets/kaggle_original_data/Cat/1.jpg /home/earvin/workspaces/datasets/cats_and_dogs_small/train/cats/1.jpg\n",
      "/home/earvin/workspaces/datasets/kaggle_original_data/Cat/2.jpg /home/earvin/workspaces/datasets/cats_and_dogs_small/train/cats/2.jpg\n",
      "/home/earvin/workspaces/datasets/kaggle_original_data/Cat/3.jpg /home/earvin/workspaces/datasets/cats_and_dogs_small/train/cats/3.jpg\n",
      "/home/earvin/workspaces/datasets/kaggle_original_data/Cat/4.jpg /home/earvin/workspaces/datasets/cats_and_dogs_small/train/cats/4.jpg\n",
      "/home/earvin/workspaces/datasets/kaggle_original_data/Cat/5.jpg /home/earvin/workspaces/datasets/cats_and_dogs_small/train/cats/5.jpg\n",
      "/home/earvin/workspaces/datasets/kaggle_original_data/Cat/6.jpg /home/earvin/workspaces/datasets/cats_and_dogs_small/train/cats/6.jpg\n",
      "/home/earvin/workspaces/datasets/kaggle_original_data/Cat/7.jpg /home/earvin/workspaces/datasets/cats_and_dogs_small/train/cats/7.jpg\n",
      "/home/earvin/workspaces/datasets/kaggle_original_data/Cat/8.jpg /home/earvin/workspaces/datasets/cats_and_dogs_small/train/cats/8.jpg\n",
      "/home/earvin/workspaces/datasets/kaggle_original_data/Cat/9.jpg /home/earvin/workspaces/datasets/cats_and_dogs_small/train/cats/9.jpg\n"
     ]
    }
   ],
   "source": [
    "# FOR TEST os\n",
    "#os.path\n",
    "#print(os.path.isdir(original_dataset_dir))\n",
    "#print(original_dataset_dir)\n",
    "\n",
    "fnames = ['{}.jpg'.format(i) for i in range(10)]\n",
    "for fname in fnames:\n",
    "    src = os.path.join(original_dataset_dir, 'Cat', fname)\n",
    "    dst = os.path.join(train_cats_dir, fname)\n",
    "    print(src, dst)\n",
    "    shutil.copyfile(src, dst)\n"
   ]
  },
  {
   "cell_type": "code",
   "execution_count": 10,
   "id": "fefa3b4e",
   "metadata": {},
   "outputs": [],
   "source": [
    "# § 代碼清單 5-4 將圖像複製到訓練、驗證和測試的目錄 (要依執行平台修正相對應的路徑)\n",
    "\n",
    "import os, shutil\n",
    "\n",
    "#--- FOR Linux Settings ---#\n",
    "#original_dataset_dir = '/home/earvin/workspaces/datasets/kaggle_original_data'\n",
    "#base_dir = '/home/earvin/workspaces/datasets/cats_and_dogs_small'\n",
    "#--- FOR iMac Settings ---#\n",
    "original_dataset_dir = '/Users/earvin/workspaces/datasets/kaggle_original_data'\n",
    "base_dir = '/Users/earvin/workspaces/datasets/cats_and_dogs_small'\n",
    "\n",
    "if not os.path.isdir(base_dir):\n",
    "    os.mkdir(base_dir)\n",
    "    # 分別對應劃分後的訓練、驗證和測試的目錄\n",
    "    train_dir = os.path.join(base_dir, 'train')\n",
    "    os.mkdir(train_dir)\n",
    "    validation_dir = os.path.join(base_dir, 'validation')\n",
    "    os.mkdir(validation_dir)\n",
    "    test_dir = os.path.join(base_dir, 'test')\n",
    "    os.mkdir(test_dir)\n",
    "\n",
    "    # 貓、狗的訓練圖像目錄\n",
    "    train_cats_dir = os.path.join(train_dir, 'cats')\n",
    "    os.mkdir(train_cats_dir)\n",
    "    train_dogs_dir = os.path.join(train_dir, 'dogs')\n",
    "    os.mkdir(train_dogs_dir)\n",
    "\n",
    "    # 貓、狗的驗證圖像目錄\n",
    "    validation_cats_dir = os.path.join(validation_dir, 'cats')\n",
    "    os.mkdir(validation_cats_dir)\n",
    "    validation_dogs_dir = os.path.join(validation_dir, 'dogs')\n",
    "    os.mkdir(validation_dogs_dir)\n",
    "\n",
    "    # 貓、狗的測試圖像目錄\n",
    "    test_cats_dir = os.path.join(test_dir, 'cats')\n",
    "    os.mkdir(test_cats_dir)\n",
    "    test_dogs_dir = os.path.join(test_dir, 'dogs')\n",
    "    os.mkdir(test_dogs_dir)\n"
   ]
  },
  {
   "cell_type": "code",
   "execution_count": 11,
   "id": "37f5650b",
   "metadata": {},
   "outputs": [],
   "source": [
    "# § 代碼清單 5-4 將圖像複製到訓練、驗證和測試的目錄 : 複製檔案 (要依執行平台修正相對應的路徑)\n",
    "\n",
    "# Cats\n",
    "#fnames = ['cat.{}.jpg'.format(i) for i in range(1000)]\n",
    "fnames = ['{}.jpg'.format(i) for i in range(1000)]\n",
    "for fname in fnames:\n",
    "#    src = os.path.join(original_dataset_dir, fname)\n",
    "    src = os.path.join(original_dataset_dir, 'Cat', fname)\n",
    "    dst = os.path.join(train_cats_dir, fname)\n",
    "    shutil.copyfile(src, dst)\n",
    "\n",
    "#fnames = ['cat.{}.jpg'.format(i) for i in range(1000, 1500)]\n",
    "fnames = ['{}.jpg'.format(i) for i in range(1000, 1500)]\n",
    "for fname in fnames:\n",
    "#    src = os.path.join(original_dataset_dir, fname)\n",
    "    src = os.path.join(original_dataset_dir, 'Cat', fname)\n",
    "    dst = os.path.join(validation_cats_dir, fname)\n",
    "    shutil.copyfile(src, dst)\n",
    "\n",
    "#fnames = ['cat.{}.jpg'.format(i) for i in range(1500, 2000)]\n",
    "fnames = ['{}.jpg'.format(i) for i in range(1500, 2000)]\n",
    "for fname in fnames:\n",
    "#    src = os.path.join(original_dataset_dir, fname)\n",
    "    src = os.path.join(original_dataset_dir, 'Cat', fname)\n",
    "    dst = os.path.join(test_cats_dir, fname)\n",
    "    shutil.copyfile(src, dst)\n",
    "\n",
    "# Dogs\n",
    "#fnames = ['dog.{}.jpg'.format(i) for i in range(1000)]\n",
    "fnames = ['{}.jpg'.format(i) for i in range(1000)]\n",
    "for fname in fnames:\n",
    "#    src = os.path.join(original_dataset_dir, fname)\n",
    "    src = os.path.join(original_dataset_dir, 'Dog', fname)\n",
    "    dst = os.path.join(train_dogs_dir, fname)\n",
    "    shutil.copyfile(src, dst)\n",
    "\n",
    "#fnames = ['dog.{}.jpg'.format(i) for i in range(1000, 1500)]\n",
    "fnames = ['{}.jpg'.format(i) for i in range(1000, 1500)]\n",
    "for fname in fnames:\n",
    "#    src = os.path.join(original_dataset_dir, fname)\n",
    "    src = os.path.join(original_dataset_dir, 'Dog', fname)\n",
    "    dst = os.path.join(validation_dogs_dir, fname)\n",
    "    shutil.copyfile(src, dst)\n",
    "\n",
    "#fnames = ['dog.{}.jpg'.format(i) for i in range(1500, 2000)]\n",
    "fnames = ['{}.jpg'.format(i) for i in range(1500, 2000)]\n",
    "for fname in fnames:\n",
    "#    src = os.path.join(original_dataset_dir, fname)\n",
    "    src = os.path.join(original_dataset_dir, 'Dog', fname)\n",
    "    dst = os.path.join(test_dogs_dir, fname)\n",
    "    shutil.copyfile(src, dst)\n"
   ]
  },
  {
   "cell_type": "code",
   "execution_count": 12,
   "id": "a5ba5a92",
   "metadata": {},
   "outputs": [
    {
     "name": "stdout",
     "output_type": "stream",
     "text": [
      "total training cat images:  1000\n",
      "total training dog images:  1000\n",
      "total validation cat images:  500\n",
      "total validation dog images:  500\n",
      "total test cat images:  500\n",
      "total test dog images:  500\n"
     ]
    }
   ],
   "source": [
    "# check copy status\n",
    "\n",
    "print('total training cat images: ', len(os.listdir(train_cats_dir)))\n",
    "print('total training dog images: ', len(os.listdir(train_dogs_dir)))\n",
    "print('total validation cat images: ', len(os.listdir(validation_cats_dir)))\n",
    "print('total validation dog images: ', len(os.listdir(validation_dogs_dir)))\n",
    "print('total test cat images: ', len(os.listdir(test_cats_dir)))\n",
    "print('total test dog images: ', len(os.listdir(test_dogs_dir)))\n"
   ]
  },
  {
   "cell_type": "code",
   "execution_count": 13,
   "id": "fc4b4e76",
   "metadata": {},
   "outputs": [],
   "source": [
    "# § 代碼清單 5-5 將貓狗分類的小型卷積神經網路實例化\n",
    "\n",
    "from keras import layers\n",
    "from keras import models\n",
    "\n",
    "model = models.Sequential()\n",
    "model.add(layers.Conv2D(32, (3, 3), activation='relu', input_shape=(150, 150, 3)))\n",
    "model.add(layers.MaxPooling2D((2, 2)))\n",
    "model.add(layers.Conv2D(64, (3, 3), activation='relu'))\n",
    "model.add(layers.MaxPooling2D((2, 2)))\n",
    "model.add(layers.Conv2D(128, (3, 3), activation='relu'))\n",
    "model.add(layers.MaxPooling2D((2, 2)))\n",
    "model.add(layers.Conv2D(128, (3, 3), activation='relu'))\n",
    "model.add(layers.MaxPooling2D((2, 2)))\n",
    "\n",
    "model.add(layers.Flatten())\n",
    "model.add(layers.Dense(512, activation='relu'))\n",
    "model.add(layers.Dense(1, activation='sigmoid'))\n"
   ]
  },
  {
   "cell_type": "code",
   "execution_count": 14,
   "id": "5b2355a8",
   "metadata": {},
   "outputs": [
    {
     "name": "stdout",
     "output_type": "stream",
     "text": [
      "Model: \"sequential_1\"\n",
      "_________________________________________________________________\n",
      " Layer (type)                Output Shape              Param #   \n",
      "=================================================================\n",
      " conv2d_3 (Conv2D)           (None, 148, 148, 32)      896       \n",
      "                                                                 \n",
      " max_pooling2d_2 (MaxPooling  (None, 74, 74, 32)       0         \n",
      " 2D)                                                             \n",
      "                                                                 \n",
      " conv2d_4 (Conv2D)           (None, 72, 72, 64)        18496     \n",
      "                                                                 \n",
      " max_pooling2d_3 (MaxPooling  (None, 36, 36, 64)       0         \n",
      " 2D)                                                             \n",
      "                                                                 \n",
      " conv2d_5 (Conv2D)           (None, 34, 34, 128)       73856     \n",
      "                                                                 \n",
      " max_pooling2d_4 (MaxPooling  (None, 17, 17, 128)      0         \n",
      " 2D)                                                             \n",
      "                                                                 \n",
      " conv2d_6 (Conv2D)           (None, 15, 15, 128)       147584    \n",
      "                                                                 \n",
      " max_pooling2d_5 (MaxPooling  (None, 7, 7, 128)        0         \n",
      " 2D)                                                             \n",
      "                                                                 \n",
      " flatten_1 (Flatten)         (None, 6272)              0         \n",
      "                                                                 \n",
      " dense_2 (Dense)             (None, 512)               3211776   \n",
      "                                                                 \n",
      " dense_3 (Dense)             (None, 1)                 513       \n",
      "                                                                 \n",
      "=================================================================\n",
      "Total params: 3,453,121\n",
      "Trainable params: 3,453,121\n",
      "Non-trainable params: 0\n",
      "_________________________________________________________________\n"
     ]
    }
   ],
   "source": [
    "model.summary()\n"
   ]
  },
  {
   "cell_type": "code",
   "execution_count": 15,
   "id": "f36a31bc",
   "metadata": {},
   "outputs": [
    {
     "name": "stderr",
     "output_type": "stream",
     "text": [
      "/Users/earvin/PROGRAMS/anaconda/anaconda3/envs/tf2/lib/python3.8/site-packages/keras/optimizers/optimizer_v2/rmsprop.py:140: UserWarning: The `lr` argument is deprecated, use `learning_rate` instead.\n",
      "  super().__init__(name, **kwargs)\n"
     ]
    }
   ],
   "source": [
    "# § 代碼清單 5-6 配置模型用於訓練\n",
    "\n",
    "from keras import optimizers\n",
    "\n",
    "model.compile(loss='binary_crossentropy',\n",
    "              optimizer=optimizers.RMSprop(lr=1e-4),\n",
    "              metrics=['acc'])\n"
   ]
  },
  {
   "cell_type": "code",
   "execution_count": 16,
   "id": "a31dc6b6",
   "metadata": {},
   "outputs": [
    {
     "name": "stdout",
     "output_type": "stream",
     "text": [
      "Found 2000 images belonging to 2 classes.\n",
      "Found 1000 images belonging to 2 classes.\n"
     ]
    }
   ],
   "source": [
    "# § 代碼清單 5-7 使用ImageDataGenerator從目錄中讀取圖像\n",
    "\n",
    "from keras.preprocessing.image import ImageDataGenerator\n",
    "\n",
    "train_datagen = ImageDataGenerator(rescale=1./255)\n",
    "test_datagen = ImageDataGenerator(rescale=1./255)\n",
    "\n",
    "train_generator = train_datagen.flow_from_directory(\n",
    "    train_dir,\n",
    "    target_size=(150, 150),\n",
    "    batch_size=20,\n",
    "    class_mode='binary')\n",
    "\n",
    "validation_generator = test_datagen.flow_from_directory(\n",
    "    validation_dir,\n",
    "    target_size=(150, 150),\n",
    "    batch_size=20,\n",
    "    class_mode='binary')\n"
   ]
  },
  {
   "cell_type": "code",
   "execution_count": 17,
   "id": "27234ef2",
   "metadata": {},
   "outputs": [
    {
     "name": "stdout",
     "output_type": "stream",
     "text": [
      "data batch shape: (20, 150, 150, 3)\n",
      "labels batch shape: (20,)\n"
     ]
    }
   ],
   "source": [
    "#=== FOR TEST ===#\n",
    "for data_batch, labels_batch in train_generator:\n",
    "    print('data batch shape:', data_batch.shape)\n",
    "    print('labels batch shape:', labels_batch.shape)\n",
    "    break\n"
   ]
  },
  {
   "cell_type": "code",
   "execution_count": 18,
   "id": "46af5988",
   "metadata": {},
   "outputs": [
    {
     "name": "stderr",
     "output_type": "stream",
     "text": [
      "/var/folders/mt/4nx5jx_57kvg5fk9x6xt2cth0000gn/T/ipykernel_12611/80143533.py:3: UserWarning: `Model.fit_generator` is deprecated and will be removed in a future version. Please use `Model.fit`, which supports generators.\n",
      "  history = model.fit_generator(\n"
     ]
    },
    {
     "name": "stdout",
     "output_type": "stream",
     "text": [
      "Epoch 1/30\n",
      "100/100 [==============================] - 37s 365ms/step - loss: 0.6877 - acc: 0.5485 - val_loss: 0.6739 - val_acc: 0.5190\n",
      "Epoch 2/30\n",
      "100/100 [==============================] - 38s 377ms/step - loss: 0.6444 - acc: 0.6190 - val_loss: 0.6446 - val_acc: 0.5990\n",
      "Epoch 3/30\n",
      "100/100 [==============================] - 36s 362ms/step - loss: 0.5968 - acc: 0.6750 - val_loss: 0.5960 - val_acc: 0.6820\n",
      "Epoch 4/30\n",
      "100/100 [==============================] - 35s 350ms/step - loss: 0.5628 - acc: 0.6955 - val_loss: 0.5844 - val_acc: 0.6950\n",
      "Epoch 5/30\n",
      "100/100 [==============================] - 35s 348ms/step - loss: 0.5299 - acc: 0.7435 - val_loss: 0.5962 - val_acc: 0.6900\n",
      "Epoch 6/30\n",
      "100/100 [==============================] - 35s 347ms/step - loss: 0.5016 - acc: 0.7605 - val_loss: 0.6170 - val_acc: 0.6820\n",
      "Epoch 7/30\n",
      "100/100 [==============================] - 35s 346ms/step - loss: 0.4831 - acc: 0.7610 - val_loss: 0.5627 - val_acc: 0.6970\n",
      "Epoch 8/30\n",
      "100/100 [==============================] - 35s 348ms/step - loss: 0.4570 - acc: 0.7820 - val_loss: 0.6020 - val_acc: 0.6890\n",
      "Epoch 9/30\n",
      "100/100 [==============================] - 34s 344ms/step - loss: 0.4337 - acc: 0.8030 - val_loss: 0.5415 - val_acc: 0.7280\n",
      "Epoch 10/30\n",
      "100/100 [==============================] - 35s 348ms/step - loss: 0.3999 - acc: 0.8195 - val_loss: 0.5387 - val_acc: 0.7210\n",
      "Epoch 11/30\n",
      "100/100 [==============================] - 35s 348ms/step - loss: 0.3770 - acc: 0.8345 - val_loss: 0.5471 - val_acc: 0.7310\n",
      "Epoch 12/30\n",
      "100/100 [==============================] - 35s 346ms/step - loss: 0.3561 - acc: 0.8430 - val_loss: 0.5294 - val_acc: 0.7390\n",
      "Epoch 13/30\n",
      "100/100 [==============================] - 34s 342ms/step - loss: 0.3312 - acc: 0.8635 - val_loss: 0.5325 - val_acc: 0.7280\n",
      "Epoch 14/30\n",
      "100/100 [==============================] - 35s 351ms/step - loss: 0.3137 - acc: 0.8705 - val_loss: 0.5613 - val_acc: 0.7220\n",
      "Epoch 15/30\n",
      "100/100 [==============================] - 35s 349ms/step - loss: 0.2816 - acc: 0.8955 - val_loss: 0.5736 - val_acc: 0.7290\n",
      "Epoch 16/30\n",
      "100/100 [==============================] - 34s 342ms/step - loss: 0.2675 - acc: 0.8905 - val_loss: 0.6353 - val_acc: 0.7290\n",
      "Epoch 17/30\n",
      "100/100 [==============================] - 35s 345ms/step - loss: 0.2461 - acc: 0.9020 - val_loss: 0.5825 - val_acc: 0.7450\n",
      "Epoch 18/30\n",
      "100/100 [==============================] - 35s 349ms/step - loss: 0.2203 - acc: 0.9185 - val_loss: 0.5936 - val_acc: 0.7420\n",
      "Epoch 19/30\n",
      "100/100 [==============================] - 35s 346ms/step - loss: 0.2054 - acc: 0.9250 - val_loss: 0.6108 - val_acc: 0.7230\n",
      "Epoch 20/30\n",
      "100/100 [==============================] - 35s 347ms/step - loss: 0.1839 - acc: 0.9385 - val_loss: 0.6469 - val_acc: 0.7270\n",
      "Epoch 21/30\n",
      "100/100 [==============================] - 35s 351ms/step - loss: 0.1641 - acc: 0.9380 - val_loss: 0.6649 - val_acc: 0.7300\n",
      "Epoch 22/30\n",
      "100/100 [==============================] - 35s 347ms/step - loss: 0.1480 - acc: 0.9480 - val_loss: 0.6462 - val_acc: 0.7380\n",
      "Epoch 23/30\n",
      "100/100 [==============================] - 34s 344ms/step - loss: 0.1260 - acc: 0.9615 - val_loss: 0.6836 - val_acc: 0.7330\n",
      "Epoch 24/30\n",
      "100/100 [==============================] - 35s 346ms/step - loss: 0.1077 - acc: 0.9665 - val_loss: 0.7400 - val_acc: 0.7280\n",
      "Epoch 25/30\n",
      "100/100 [==============================] - 35s 348ms/step - loss: 0.0943 - acc: 0.9715 - val_loss: 0.7349 - val_acc: 0.7390\n",
      "Epoch 26/30\n",
      "100/100 [==============================] - 34s 344ms/step - loss: 0.0835 - acc: 0.9770 - val_loss: 0.7849 - val_acc: 0.7470\n",
      "Epoch 27/30\n",
      "100/100 [==============================] - 35s 350ms/step - loss: 0.0766 - acc: 0.9755 - val_loss: 0.8136 - val_acc: 0.7290\n",
      "Epoch 28/30\n",
      "100/100 [==============================] - 36s 363ms/step - loss: 0.0598 - acc: 0.9855 - val_loss: 0.8489 - val_acc: 0.7270\n",
      "Epoch 29/30\n",
      "100/100 [==============================] - 37s 368ms/step - loss: 0.0500 - acc: 0.9880 - val_loss: 0.8733 - val_acc: 0.7420\n",
      "Epoch 30/30\n",
      "100/100 [==============================] - 37s 365ms/step - loss: 0.0460 - acc: 0.9850 - val_loss: 0.8550 - val_acc: 0.7350\n"
     ]
    },
    {
     "data": {
      "text/plain": [
       "'\\nhistory = model.fit_generator(\\n    train_generator,\\n    steps_per_epoch=100,\\n    epochs=30,\\n    validation_data=validation_generator,\\n    validation_steps=50)\\n'"
      ]
     },
     "execution_count": 18,
     "metadata": {},
     "output_type": "execute_result"
    }
   ],
   "source": [
    "# § 代碼清單 5-8 利用批量生成器儗合模型\n",
    "\n",
    "history = model.fit_generator(\n",
    "      train_generator,\n",
    "      steps_per_epoch=100,\n",
    "      epochs=30,\n",
    "      validation_data=validation_generator,\n",
    "      validation_steps=50)\n",
    "\n",
    "\"\"\"\n",
    "history = model.fit_generator(\n",
    "    train_generator,\n",
    "    steps_per_epoch=100,\n",
    "    epochs=30,\n",
    "    validation_data=validation_generator,\n",
    "    validation_steps=50)\n",
    "\"\"\""
   ]
  },
  {
   "cell_type": "code",
   "execution_count": 19,
   "id": "dee102a4",
   "metadata": {},
   "outputs": [],
   "source": [
    "# § 代碼清單 5-9 保存模型\n",
    "\n",
    "model.save('cats_and_dogs_small_1.h5')\n"
   ]
  },
  {
   "cell_type": "code",
   "execution_count": 19,
   "id": "ac82f7c8",
   "metadata": {},
   "outputs": [
    {
     "data": {
      "image/png": "[encoded data removed]",
      "text/plain": [
       "<Figure size 640x480 with 1 Axes>"
      ]
     },
     "metadata": {},
     "output_type": "display_data"
    },
    {
     "data": {
      "image/png": "[encoded data removed]",
      "text/plain": [
       "<Figure size 640x480 with 1 Axes>"
      ]
     },
     "metadata": {},
     "output_type": "display_data"
    }
   ],
   "source": [
    "# § 代碼清單 5-10 繪製訓練過程中的損失曲線和精度曲線\n",
    "\n",
    "import matplotlib.pyplot as plt\n",
    "\n",
    "acc = history.history['acc']\n",
    "val_acc = history.history['val_acc']\n",
    "loss = history.history['loss']\n",
    "val_loss = history.history['val_loss']\n",
    "\n",
    "epochs = range(1, len(acc) + 1)\n",
    "\n",
    "plt.plot(epochs, acc, 'bo', label='Training loss')\n",
    "plt.plot(epochs, val_acc, 'b', label='Validation acc')\n",
    "plt.title('Training and validation accuracy')\n",
    "plt.legend()\n",
    "\n",
    "plt.figure()\n",
    "\n",
    "plt.plot(epochs, loss, 'bo', label='Training loss')\n",
    "plt.plot(epochs, val_loss, 'b', label='Validation loss')\n",
    "plt.title('Training and validation loss')\n",
    "plt.legend()\n",
    "\n",
    "plt.show()\n"
   ]
  },
  {
   "cell_type": "code",
   "execution_count": 20,
   "id": "8d45ad53-e823-4e5c-a55d-64620aff0356",
   "metadata": {},
   "outputs": [
    {
     "name": "stdout",
     "output_type": "stream",
     "text": [
      "['model_weights', 'optimizer_weights']\n"
     ]
    }
   ],
   "source": [
    "#--- TEST h5 document --\n",
    "import h5py\n",
    "\n",
    "f = h5py.File('/home/earvin/workspaces/GithubProjects/tensorflow/scripts/cats_and_dogs_small_1.h5','r')\n",
    "f.keys() #可以查看所有的主键\n",
    "print([key for key in f.keys()])"
   ]
  },
  {
   "cell_type": "code",
   "execution_count": 21,
   "id": "05848f4b-9049-453f-97c6-15f981145a15",
   "metadata": {},
   "outputs": [],
   "source": [
    "from keras.models import load_model\n",
    "\n",
    "# 刪除既有模型變數\n",
    "#del model \n",
    "\n",
    "# 載入模型\n",
    "model = load_model('cats_and_dogs_small_1.h5')"
   ]
  },
  {
   "cell_type": "code",
   "execution_count": null,
   "id": "4fe9de0d-9875-46c6-ac7e-0c0843d36938",
   "metadata": {},
   "outputs": [],
   "source": []
  }
 ],
 "metadata": {
  "kernelspec": {
   "display_name": "Python 3 (ipykernel)",
   "language": "python",
   "name": "python3"
  },
  "language_info": {
   "codemirror_mode": {
    "name": "ipython",
    "version": 3
   },
   "file_extension": ".py",
   "mimetype": "text/x-python",
   "name": "python",
   "nbconvert_exporter": "python",
   "pygments_lexer": "ipython3",
   "version": "3.8.16"
  }
 },
 "nbformat": 4,
 "nbformat_minor": 5
}
