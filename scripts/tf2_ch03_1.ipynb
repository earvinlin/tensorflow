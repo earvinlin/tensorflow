{
 "cells": [
  {
   "cell_type": "code",
   "execution_count": 25,
   "id": "1416c439",
   "metadata": {},
   "outputs": [],
   "source": [
    "import os\n",
    "import numpy as np\n",
    "import pandas as pd\n",
    "import tensorflow as tf\n",
    "import matplotlib.pyplot as plt\n",
    "from tensorflow import keras\n",
    "from tensorflow.keras import layers"
   ]
  },
  {
   "cell_type": "code",
   "execution_count": 26,
   "id": "d683dcda",
   "metadata": {},
   "outputs": [
    {
     "data": {
      "text/plain": [
       "'2.13.0'"
      ]
     },
     "execution_count": 26,
     "metadata": {},
     "output_type": "execute_result"
    }
   ],
   "source": [
    "tf.__version__"
   ]
  },
  {
   "cell_type": "code",
   "execution_count": 39,
   "id": "5e76dc1f",
   "metadata": {},
   "outputs": [],
   "source": [
    "# §代碼清單 3-1\n",
    "from keras.datasets import imdb\n",
    "\n",
    "(train_data, train_labels), (test_data, test_labels) = imdb.load_data(num_words = 10000)"
   ]
  },
  {
   "cell_type": "code",
   "execution_count": 40,
   "id": "52567722",
   "metadata": {},
   "outputs": [
    {
     "data": {
      "text/plain": [
       "[1,\n",
       " 194,\n",
       " 1153,\n",
       " 194,\n",
       " 8255,\n",
       " 78,\n",
       " 228,\n",
       " 5,\n",
       " 6,\n",
       " 1463,\n",
       " 4369,\n",
       " 5012,\n",
       " 134,\n",
       " 26,\n",
       " 4,\n",
       " 715,\n",
       " 8,\n",
       " 118,\n",
       " 1634,\n",
       " 14,\n",
       " 394,\n",
       " 20,\n",
       " 13,\n",
       " 119,\n",
       " 954,\n",
       " 189,\n",
       " 102,\n",
       " 5,\n",
       " 207,\n",
       " 110,\n",
       " 3103,\n",
       " 21,\n",
       " 14,\n",
       " 69,\n",
       " 188,\n",
       " 8,\n",
       " 30,\n",
       " 23,\n",
       " 7,\n",
       " 4,\n",
       " 249,\n",
       " 126,\n",
       " 93,\n",
       " 4,\n",
       " 114,\n",
       " 9,\n",
       " 2300,\n",
       " 1523,\n",
       " 5,\n",
       " 647,\n",
       " 4,\n",
       " 116,\n",
       " 9,\n",
       " 35,\n",
       " 8163,\n",
       " 4,\n",
       " 229,\n",
       " 9,\n",
       " 340,\n",
       " 1322,\n",
       " 4,\n",
       " 118,\n",
       " 9,\n",
       " 4,\n",
       " 130,\n",
       " 4901,\n",
       " 19,\n",
       " 4,\n",
       " 1002,\n",
       " 5,\n",
       " 89,\n",
       " 29,\n",
       " 952,\n",
       " 46,\n",
       " 37,\n",
       " 4,\n",
       " 455,\n",
       " 9,\n",
       " 45,\n",
       " 43,\n",
       " 38,\n",
       " 1543,\n",
       " 1905,\n",
       " 398,\n",
       " 4,\n",
       " 1649,\n",
       " 26,\n",
       " 6853,\n",
       " 5,\n",
       " 163,\n",
       " 11,\n",
       " 3215,\n",
       " 2,\n",
       " 4,\n",
       " 1153,\n",
       " 9,\n",
       " 194,\n",
       " 775,\n",
       " 7,\n",
       " 8255,\n",
       " 2,\n",
       " 349,\n",
       " 2637,\n",
       " 148,\n",
       " 605,\n",
       " 2,\n",
       " 8003,\n",
       " 15,\n",
       " 123,\n",
       " 125,\n",
       " 68,\n",
       " 2,\n",
       " 6853,\n",
       " 15,\n",
       " 349,\n",
       " 165,\n",
       " 4362,\n",
       " 98,\n",
       " 5,\n",
       " 4,\n",
       " 228,\n",
       " 9,\n",
       " 43,\n",
       " 2,\n",
       " 1157,\n",
       " 15,\n",
       " 299,\n",
       " 120,\n",
       " 5,\n",
       " 120,\n",
       " 174,\n",
       " 11,\n",
       " 220,\n",
       " 175,\n",
       " 136,\n",
       " 50,\n",
       " 9,\n",
       " 4373,\n",
       " 228,\n",
       " 8255,\n",
       " 5,\n",
       " 2,\n",
       " 656,\n",
       " 245,\n",
       " 2350,\n",
       " 5,\n",
       " 4,\n",
       " 9837,\n",
       " 131,\n",
       " 152,\n",
       " 491,\n",
       " 18,\n",
       " 2,\n",
       " 32,\n",
       " 7464,\n",
       " 1212,\n",
       " 14,\n",
       " 9,\n",
       " 6,\n",
       " 371,\n",
       " 78,\n",
       " 22,\n",
       " 625,\n",
       " 64,\n",
       " 1382,\n",
       " 9,\n",
       " 8,\n",
       " 168,\n",
       " 145,\n",
       " 23,\n",
       " 4,\n",
       " 1690,\n",
       " 15,\n",
       " 16,\n",
       " 4,\n",
       " 1355,\n",
       " 5,\n",
       " 28,\n",
       " 6,\n",
       " 52,\n",
       " 154,\n",
       " 462,\n",
       " 33,\n",
       " 89,\n",
       " 78,\n",
       " 285,\n",
       " 16,\n",
       " 145,\n",
       " 95]"
      ]
     },
     "execution_count": 40,
     "metadata": {},
     "output_type": "execute_result"
    }
   ],
   "source": [
    "train_data[1]"
   ]
  },
  {
   "cell_type": "code",
   "execution_count": 41,
   "id": "c88d5756",
   "metadata": {},
   "outputs": [
    {
     "data": {
      "text/plain": [
       "1"
      ]
     },
     "execution_count": 41,
     "metadata": {},
     "output_type": "execute_result"
    }
   ],
   "source": [
    "# 值 = 0 : 負面 ; 值 = 1 : 正面\n",
    "train_labels[0]"
   ]
  },
  {
   "cell_type": "code",
   "execution_count": 42,
   "id": "fb6012c5",
   "metadata": {},
   "outputs": [
    {
     "data": {
      "text/plain": [
       "9999"
      ]
     },
     "execution_count": 42,
     "metadata": {},
     "output_type": "execute_result"
    }
   ],
   "source": [
    "max([max(sequence) for sequence in train_data])"
   ]
  },
  {
   "cell_type": "code",
   "execution_count": 7,
   "id": "612c1a3a",
   "metadata": {},
   "outputs": [],
   "source": [
    "# word_index : 將單詞映射為整數索引的字典\n",
    "word_index = imdb.get_word_index()\n",
    "reverse_word_index = dict([(value, key) for (key, value) in word_index.items()])\n",
    "decoded_review = ' '.join([reverse_word_index.get(i - 3, '?') for i in train_data[0]])"
   ]
  },
  {
   "cell_type": "code",
   "execution_count": 8,
   "id": "9eb18506",
   "metadata": {},
   "outputs": [
    {
     "name": "stdout",
     "output_type": "stream",
     "text": [
      "? this film was just brilliant casting location scenery story direction everyone's really suited the part they played and you could just imagine being there robert ? is an amazing actor and now the same being director ? father came from the same scottish island as myself so i loved the fact there was a real connection with this film the witty remarks throughout the film were great it was just brilliant so much that i bought the film as soon as it was released for ? and would recommend it to everyone to watch and the fly fishing was amazing really cried at the end it was so sad and you know what they say if you cry at a film it must have been good and this definitely was also ? to the two little boy's that played the ? of norman and paul they were just brilliant children are often left out of the ? list i think because the stars that play them all grown up are such a big profile for the whole film but these children are amazing and should be praised for what they have done don't you think the whole story was so lovely because it was true and was someone's life after all that was shared with us all\n"
     ]
    }
   ],
   "source": [
    "#print(word_index)\n",
    "#print(reverse_word_index)\n",
    "print(decoded_review)\n",
    "#reverse_word_index.get(11)"
   ]
  },
  {
   "cell_type": "code",
   "execution_count": 9,
   "id": "1cfff8fa",
   "metadata": {},
   "outputs": [],
   "source": [
    "# §代碼清單 3-2\n",
    "import numpy as np\n",
    "\n",
    "def vectorize_sequences(sequences, dimension = 10000) :\n",
    "    results = np.zeros((len(sequences), dimension))\n",
    "    for i, sequence in enumerate(sequences) :\n",
    "        results[i, sequence] = 1.\n",
    "    return results\n",
    "\n",
    "x_train = vectorize_sequences(train_data)\n",
    "x_test = vectorize_sequences(test_data)\n",
    "\n",
    "y_train = np.asarray(train_labels).astype('float32')\n",
    "y_test = np.asarray(test_labels).astype('float32')"
   ]
  },
  {
   "cell_type": "code",
   "execution_count": 16,
   "id": "c56a72e3",
   "metadata": {},
   "outputs": [],
   "source": [
    "# §代碼清單 3-3\n",
    "from keras import models\n",
    "from keras import layers\n",
    "\n",
    "model = models.Sequential()\n",
    "\n",
    "model.add(layers.Dense(16, activation = 'relu', input_shape = (10000,)))\n",
    "model.add(layers.Dense(16, activation = 'relu'))\n",
    "model.add(layers.Dense(1, activation = 'sigmoid'))\n",
    "\n",
    "# §代碼清單 3-4\n",
    "model.compile(optimizer = 'rmsprop',\n",
    "             loss = 'binary_crossentropy',\n",
    "             metrics = ['accuracy'])\n"
   ]
  },
  {
   "cell_type": "code",
   "execution_count": 17,
   "id": "01dcb1e1",
   "metadata": {},
   "outputs": [],
   "source": [
    "# §代碼清單 3-7\n",
    "x_val = x_train[:10000]\n",
    "partial_x_train = x_train[10000:]\n",
    "\n",
    "y_val = y_train[:10000]\n",
    "partial_y_train = y_train[10000:]\n"
   ]
  },
  {
   "cell_type": "code",
   "execution_count": 18,
   "id": "1a51733c",
   "metadata": {},
   "outputs": [
    {
     "name": "stdout",
     "output_type": "stream",
     "text": [
      "Epoch 1/20\n",
      "30/30 [==============================] - 7s 201ms/step - loss: 0.5249 - accuracy: 0.7946 - val_loss: 0.4074 - val_accuracy: 0.8641\n",
      "Epoch 2/20\n",
      "30/30 [==============================] - 1s 30ms/step - loss: 0.3312 - accuracy: 0.8931 - val_loss: 0.3240 - val_accuracy: 0.8784\n",
      "Epoch 3/20\n",
      "30/30 [==============================] - 1s 27ms/step - loss: 0.2503 - accuracy: 0.9176 - val_loss: 0.2870 - val_accuracy: 0.8879\n",
      "Epoch 4/20\n",
      "30/30 [==============================] - 1s 27ms/step - loss: 0.2029 - accuracy: 0.9343 - val_loss: 0.2926 - val_accuracy: 0.8807\n",
      "Epoch 5/20\n",
      "30/30 [==============================] - 1s 27ms/step - loss: 0.1723 - accuracy: 0.9420 - val_loss: 0.3244 - val_accuracy: 0.8688\n",
      "Epoch 6/20\n",
      "30/30 [==============================] - 1s 27ms/step - loss: 0.1480 - accuracy: 0.9523 - val_loss: 0.2972 - val_accuracy: 0.8797\n",
      "Epoch 7/20\n",
      "30/30 [==============================] - 1s 27ms/step - loss: 0.1270 - accuracy: 0.9601 - val_loss: 0.2930 - val_accuracy: 0.8860\n",
      "Epoch 8/20\n",
      "30/30 [==============================] - 1s 28ms/step - loss: 0.1103 - accuracy: 0.9667 - val_loss: 0.3063 - val_accuracy: 0.8833\n",
      "Epoch 9/20\n",
      "30/30 [==============================] - 1s 28ms/step - loss: 0.0942 - accuracy: 0.9737 - val_loss: 0.3188 - val_accuracy: 0.8831\n",
      "Epoch 10/20\n",
      "30/30 [==============================] - 1s 28ms/step - loss: 0.0811 - accuracy: 0.9776 - val_loss: 0.3659 - val_accuracy: 0.8690\n",
      "Epoch 11/20\n",
      "30/30 [==============================] - 1s 28ms/step - loss: 0.0716 - accuracy: 0.9816 - val_loss: 0.3490 - val_accuracy: 0.8770\n",
      "Epoch 12/20\n",
      "30/30 [==============================] - 1s 28ms/step - loss: 0.0606 - accuracy: 0.9862 - val_loss: 0.3695 - val_accuracy: 0.8789\n",
      "Epoch 13/20\n",
      "30/30 [==============================] - 1s 28ms/step - loss: 0.0538 - accuracy: 0.9877 - val_loss: 0.3858 - val_accuracy: 0.8741\n",
      "Epoch 14/20\n",
      "30/30 [==============================] - 1s 28ms/step - loss: 0.0439 - accuracy: 0.9915 - val_loss: 0.4214 - val_accuracy: 0.8751\n",
      "Epoch 15/20\n",
      "30/30 [==============================] - 1s 27ms/step - loss: 0.0371 - accuracy: 0.9937 - val_loss: 0.4276 - val_accuracy: 0.8739\n",
      "Epoch 16/20\n",
      "30/30 [==============================] - 1s 28ms/step - loss: 0.0319 - accuracy: 0.9947 - val_loss: 0.4681 - val_accuracy: 0.8730\n",
      "Epoch 17/20\n",
      "30/30 [==============================] - 1s 28ms/step - loss: 0.0271 - accuracy: 0.9962 - val_loss: 0.4748 - val_accuracy: 0.8716\n",
      "Epoch 18/20\n",
      "30/30 [==============================] - 1s 28ms/step - loss: 0.0241 - accuracy: 0.9959 - val_loss: 0.4992 - val_accuracy: 0.8744\n",
      "Epoch 19/20\n",
      "30/30 [==============================] - 1s 28ms/step - loss: 0.0182 - accuracy: 0.9980 - val_loss: 0.5216 - val_accuracy: 0.8673\n",
      "Epoch 20/20\n",
      "30/30 [==============================] - 1s 27ms/step - loss: 0.0165 - accuracy: 0.9981 - val_loss: 0.5480 - val_accuracy: 0.8719\n"
     ]
    }
   ],
   "source": [
    "# §代碼清單 3-8\n",
    "history = model.fit(partial_x_train,\n",
    "                   partial_y_train,\n",
    "                   epochs = 20,\n",
    "                   batch_size = 512,\n",
    "                   validation_data = (x_val, y_val))"
   ]
  },
  {
   "cell_type": "code",
   "execution_count": 20,
   "id": "f763292d",
   "metadata": {},
   "outputs": [
    {
     "data": {
      "image/png": "[encoded data removed]",
      "text/plain": [
       "<Figure size 640x480 with 1 Axes>"
      ]
     },
     "metadata": {},
     "output_type": "display_data"
    }
   ],
   "source": [
    "# §代碼清單 3-9\n",
    "import matplotlib.pyplot as plt\n",
    "\n",
    "history_dict = history.history\n",
    "loss_values = history_dict['loss']\n",
    "val_loss_values = history_dict['val_loss']\n",
    "\n",
    "# 20230904 --START --\n",
    "\"\"\"\n",
    "-- ADDR : https://github.com/fchollet/deep-learning-with-python-notebooks/issues/23\n",
    "Look into history.history.keys() to find the actual keys used which varies with different versions of keras, \n",
    "then replace val_acc, acc with the respective keys.\n",
    "\n",
    "print(history.history.keys())\n",
    "return -> dict_keys(['loss', 'accuracy', 'val_loss', 'val_accuracy'])\n",
    "\"\"\"\n",
    "acc = history_dict['accuracy'] #<----Add this line and the program should graph correctly!\n",
    "# 20230904 -- END --\n",
    "\n",
    "epochs = range(1, len(acc) + 1)\n",
    "plt.plot(epochs, loss_values, 'bo', label='Training loss')\n",
    "plt.plot(epochs, val_loss_values, 'b', label='Validation loss')\n",
    "plt.title('Training and validation loss')\n",
    "plt.xlabel('Epochs')\n",
    "plt.ylabel('Loss')\n",
    "plt.legend()\n",
    "\n",
    "plt.show()"
   ]
  },
  {
   "cell_type": "code",
   "execution_count": 23,
   "id": "09789478",
   "metadata": {},
   "outputs": [
    {
     "data": {
      "image/png": "[encoded data removed]",
      "text/plain": [
       "<Figure size 640x480 with 1 Axes>"
      ]
     },
     "metadata": {},
     "output_type": "display_data"
    }
   ],
   "source": [
    "plt.clf()\n",
    "acc = history_dict['accuracy']\n",
    "val_acc = history_dict['val_accuracy']\n",
    "\n",
    "plt.plot(epochs, acc, 'bo', label = 'Training acc')\n",
    "plt.plot(epochs, val_acc, 'b', label = 'Validation acc')\n",
    "plt.title('Training and validation accuracy')\n",
    "plt.xlabel('Epochs')\n",
    "plt.ylabel('Accuracy')\n",
    "plt.legend()\n",
    "\n",
    "plt.show()"
   ]
  },
  {
   "cell_type": "code",
   "execution_count": null,
   "id": "7640731a",
   "metadata": {},
   "outputs": [],
   "source": []
  }
 ],
 "metadata": {
  "kernelspec": {
   "display_name": "Python 3 (ipykernel)",
   "language": "python",
   "name": "python3"
  },
  "language_info": {
   "codemirror_mode": {
    "name": "ipython",
    "version": 3
   },
   "file_extension": ".py",
   "mimetype": "text/x-python",
   "name": "python",
   "nbconvert_exporter": "python",
   "pygments_lexer": "ipython3",
   "version": "3.9.13"
  }
 },
 "nbformat": 4,
 "nbformat_minor": 5
}
