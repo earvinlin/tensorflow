{
 "cells": [
  {
   "cell_type": "code",
   "execution_count": 1,
   "id": "fb8685dc",
   "metadata": {},
   "outputs": [
    {
     "name": "stderr",
     "output_type": "stream",
     "text": [
      "2023-08-26 18:41:22.360814: I tensorflow/core/platform/cpu_feature_guard.cc:193] This TensorFlow binary is optimized with oneAPI Deep Neural Network Library (oneDNN) to use the following CPU instructions in performance-critical operations:  SSE4.1 SSE4.2 AVX AVX2 AVX_VNNI FMA\n",
      "To enable them in other operations, rebuild TensorFlow with the appropriate compiler flags.\n"
     ]
    }
   ],
   "source": [
    "import tensorflow as tf\n",
    "import numpy\n",
    "import pandas\n",
    "import os\n"
   ]
  },
  {
   "cell_type": "code",
   "execution_count": 2,
   "id": "215b3381",
   "metadata": {},
   "outputs": [
    {
     "name": "stdout",
     "output_type": "stream",
     "text": [
      "tf.Tensor(\n",
      "[[1 2]\n",
      " [3 4]], shape=(2, 2), dtype=int32)\n"
     ]
    },
    {
     "name": "stderr",
     "output_type": "stream",
     "text": [
      "2023-08-26 18:41:29.180413: I tensorflow/core/platform/cpu_feature_guard.cc:193] This TensorFlow binary is optimized with oneAPI Deep Neural Network Library (oneDNN) to use the following CPU instructions in performance-critical operations:  SSE4.1 SSE4.2 AVX AVX2 AVX_VNNI FMA\n",
      "To enable them in other operations, rebuild TensorFlow with the appropriate compiler flags.\n",
      "2023-08-26 18:41:29.189152: I tensorflow/core/common_runtime/process_util.cc:146] Creating new thread pool with default inter op setting: 2. Tune using inter_op_parallelism_threads for best performance.\n"
     ]
    }
   ],
   "source": [
    "print(tf.constant([[1,2],[3,4]]))"
   ]
  },
  {
   "cell_type": "code",
   "execution_count": 3,
   "id": "2b53bcd3",
   "metadata": {},
   "outputs": [
    {
     "name": "stdout",
     "output_type": "stream",
     "text": [
      "2.10.0\n",
      "tf.Tensor(3.0, shape=(), dtype=float32)\n"
     ]
    }
   ],
   "source": [
    "os.environ['TF_XLA_FLAGS'] = '--tf_xla_enable_xla_devices'\n",
    "\n",
    "os.environ['TF_CPP_MIN_LOG_LEVEL'] = '2'\n",
    "print(tf.__version__)\n",
    "a = tf.constant(1.)\n",
    "b = tf.constant(2.)\n",
    "print(a+b)\n",
    "# print('GPU:', tf.test.is_gpu_available())"
   ]
  },
  {
   "cell_type": "code",
   "execution_count": 4,
   "id": "a343577a",
   "metadata": {},
   "outputs": [
    {
     "name": "stdout",
     "output_type": "stream",
     "text": [
      "c=  tf.Tensor(1, shape=(), dtype=int32)\n",
      "v=  <tf.Variable 'Variable:0' shape=() dtype=int32, numpy=1>\n"
     ]
    }
   ],
   "source": [
    "c = tf.constant(1)\n",
    "v = tf.Variable(1)\n",
    "\n",
    "print(\"c= \", c)\n",
    "print(\"v= \", v)"
   ]
  },
  {
   "cell_type": "code",
   "execution_count": 5,
   "id": "f7ef00d5",
   "metadata": {},
   "outputs": [
    {
     "name": "stdout",
     "output_type": "stream",
     "text": [
      "tf.Tensor(4, shape=(), dtype=int32)\n",
      "0維Tensor\n"
     ]
    }
   ],
   "source": [
    "x = tf.constant(4)\n",
    "print(x)\n",
    "print(\"{}維Tensor\".format(x.ndim))  "
   ]
  },
  {
   "cell_type": "code",
   "execution_count": 6,
   "id": "4c192035",
   "metadata": {},
   "outputs": [
    {
     "name": "stdout",
     "output_type": "stream",
     "text": [
      "1維Tensor\n"
     ]
    }
   ],
   "source": [
    "# 一維張量稱「向量」\n",
    "x = tf.constant([1, 2, 3, 4, 5, 6])\n",
    "print(\"{}維Tensor\".format(x.ndim)) "
   ]
  },
  {
   "cell_type": "code",
   "execution_count": 7,
   "id": "7be5c94f",
   "metadata": {},
   "outputs": [
    {
     "name": "stdout",
     "output_type": "stream",
     "text": [
      "2維Tensor\n"
     ]
    }
   ],
   "source": [
    "# 二維張量稱「矩陣」\n",
    "x = tf.constant([[1, 2, 3], [4, 5, 6]])\n",
    "print(\"{}維Tensor\".format(x.ndim)) "
   ]
  },
  {
   "cell_type": "code",
   "execution_count": 8,
   "id": "24bc6cde",
   "metadata": {},
   "outputs": [
    {
     "name": "stdout",
     "output_type": "stream",
     "text": [
      "Eager Execution模式是否啟動：True\n"
     ]
    }
   ],
   "source": [
    "# 檢查Eager Execution模式是否啟動\n",
    "print(\"Eager Execution模式是否啟動：{}\".format(tf.executing_eagerly()))"
   ]
  },
  {
   "cell_type": "code",
   "execution_count": 9,
   "id": "05376e98",
   "metadata": {},
   "outputs": [
    {
     "name": "stdout",
     "output_type": "stream",
     "text": [
      "a + b = 7\n"
     ]
    }
   ],
   "source": [
    "a = 3\n",
    "b = 4\n",
    "c = a + b\n",
    "print(\"a + b = {}\".format(c))"
   ]
  },
  {
   "cell_type": "code",
   "execution_count": 10,
   "id": "7594ca21",
   "metadata": {},
   "outputs": [
    {
     "name": "stdout",
     "output_type": "stream",
     "text": [
      "a constant: 2D Tensor\n",
      "a + b = \n",
      "[[2. 2.]\n",
      " [5. 7.]]\n",
      "a * b = \n",
      "[[ 5.  6.]\n",
      " [11. 12.]]\n"
     ]
    }
   ],
   "source": [
    "import numpy as np\n",
    "# Eager Execution模式下，可以混合Tensor and Numpy做運算\n",
    "a = tf.constant([[1.,2.], [3.,4.]], dtype = tf.float32)\n",
    "b = np.array([[1.,0.],[2.,3.]], dtype = np.float32)\n",
    "print(\"a constant: {}D Tensor\".format(a.ndim))\n",
    "\n",
    "c = a + b\n",
    "print(\"a + b = \\n{}\".format(c))\n",
    "\n",
    "d = tf.matmul(a, b)\n",
    "print(\"a * b = \\n{}\".format(d))\n"
   ]
  },
  {
   "cell_type": "code",
   "execution_count": 11,
   "id": "2f115e35",
   "metadata": {},
   "outputs": [
    {
     "name": "stdout",
     "output_type": "stream",
     "text": [
      "NumpyArray:\n",
      " [[2. 2.]\n",
      " [5. 7.]]\n"
     ]
    }
   ],
   "source": [
    "print(\"NumpyArray:\\n {}\".format(c.numpy()))"
   ]
  },
  {
   "cell_type": "code",
   "execution_count": 12,
   "id": "5180c3ae",
   "metadata": {},
   "outputs": [
    {
     "name": "stdout",
     "output_type": "stream",
     "text": [
      "tf.Tensor([[2.]], shape=(1, 1), dtype=float32)\n"
     ]
    }
   ],
   "source": [
    "# 計算梯度(Gradient)\n",
    "w = tf.Variable([[1.0]])\n",
    "\n",
    "with tf.GradientTape() as tape :\n",
    "    loss = w * w\n",
    "\n",
    "grad = tape.gradient(loss, w)\n",
    "print(grad)"
   ]
  },
  {
   "cell_type": "code",
   "execution_count": 13,
   "id": "7bf45029",
   "metadata": {},
   "outputs": [],
   "source": [
    "# Seqential Model (pdf.43)\n",
    "import tensorflow as tf\n",
    "from tensorflow import keras\n",
    "from tensorflow.keras import layers\n",
    "from tensorflow.keras.utils import plot_model\n",
    "from IPython.display import Image\n",
    "\n"
   ]
  },
  {
   "cell_type": "code",
   "execution_count": 14,
   "id": "7db4b6f6",
   "metadata": {},
   "outputs": [],
   "source": [
    "# Method one\n",
    "model = keras.Sequential(name = 'Sequential')\n",
    "model.add(layers.Dense(64, activation = 'relu', input_shape = (784,)))\n",
    "model.add(layers.Dense(64, activation = 'relu'))\n",
    "model.add(layers.Dense(10, activation = 'softmax'))"
   ]
  },
  {
   "cell_type": "code",
   "execution_count": 15,
   "id": "52917451",
   "metadata": {},
   "outputs": [],
   "source": [
    "# Method two\n",
    "model = tf.keras.Sequential([\n",
    "    layers.Dense(64, activation = 'relu', input_shape = (784,)),\n",
    "    layers.Dense(64, activation = 'relu'),\n",
    "    layers.Dense(10, activation = 'softmax')\n",
    "])"
   ]
  },
  {
   "cell_type": "code",
   "execution_count": 16,
   "id": "afbdd66d",
   "metadata": {},
   "outputs": [
    {
     "data": {
      "image/png": "[encoded data removed]",
      "text/plain": [
       "<IPython.core.display.Image object>"
      ]
     },
     "execution_count": 16,
     "metadata": {},
     "output_type": "execute_result"
    }
   ],
   "source": [
    "plot_model(model, to_file='Functional_API_Sequential_Model.png')\n",
    "#Image('Functional_API_Sequential_Model')"
   ]
  },
  {
   "cell_type": "code",
   "execution_count": 17,
   "id": "ad6c9e0f",
   "metadata": {},
   "outputs": [
    {
     "data": {
      "image/png": "[encoded data removed]",
      "text/plain": [
       "<IPython.core.display.Image object>"
      ]
     },
     "execution_count": 17,
     "metadata": {},
     "output_type": "execute_result"
    }
   ],
   "source": [
    "# Book pdf.47\n",
    "# Multi Input Model\n",
    "img_input = keras.Input(shape = (128, 128, 3), name = 'Image_Input')\n",
    "info_input = keras.Input(shape = (1, ), name = 'Information_Input')\n",
    "\n",
    "h1_1 = layers.Conv2D(64, 5, strides = 2, activation = 'relu', name = 'hidden1_1')(img_input)\n",
    "h1_2 = layers.Conv2D(32, 5, strides = 2, activation = 'relu', name = 'hidden1_2')(h1_1)\n",
    "h1_2_ft = layers.Flatten()(h1_2)\n",
    "h1_3 = layers.Dense(64, activation = 'relu', name = 'hidden1_3')(info_input)\n",
    "concat = layers.Concatenate()([h1_2_ft, h1_3])\n",
    "h2 = layers.Dense(64, activation = 'relu', name = 'hidden2')(concat)\n",
    "\n",
    "outputs = layers.Dense(1, name = 'Output')(h2)\n",
    "\n",
    "model = keras.Model(inputs = [img_input, info_input], outputs = outputs)\n",
    "\n",
    "plot_model(model, to_file = 'Functional_API_Multi_Input_Model.png')\n",
    "#Image('Functional_API_Multi_Input_Model.png')\n"
   ]
  },
  {
   "cell_type": "code",
   "execution_count": null,
   "id": "abb7095f",
   "metadata": {},
   "outputs": [],
   "source": []
  }
 ],
 "metadata": {
  "kernelspec": {
   "display_name": "tf2",
   "language": "python",
   "name": "tf2"
  },
  "language_info": {
   "codemirror_mode": {
    "name": "ipython",
    "version": 3
   },
   "file_extension": ".py",
   "mimetype": "text/x-python",
   "name": "python",
   "nbconvert_exporter": "python",
   "pygments_lexer": "ipython3",
   "version": "3.8.16"
  }
 },
 "nbformat": 4,
 "nbformat_minor": 5
}
