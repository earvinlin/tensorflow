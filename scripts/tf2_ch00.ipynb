{
 "cells": [
  {
   "cell_type": "code",
   "execution_count": 1,
   "id": "fb8685dc",
   "metadata": {},
   "outputs": [
    {
     "name": "stderr",
     "output_type": "stream",
     "text": [
<<<<<<< HEAD
      "2023-08-17 19:21:27.033852: I tensorflow/tsl/cuda/cudart_stub.cc:28] Could not find cuda drivers on your machine, GPU will not be used.\n",
      "2023-08-17 19:21:27.056594: I tensorflow/tsl/cuda/cudart_stub.cc:28] Could not find cuda drivers on your machine, GPU will not be used.\n",
      "2023-08-17 19:21:27.057318: I tensorflow/core/platform/cpu_feature_guard.cc:182] This TensorFlow binary is optimized to use available CPU instructions in performance-critical operations.\n",
      "To enable the following instructions: AVX2 FMA, in other operations, rebuild TensorFlow with the appropriate compiler flags.\n",
      "2023-08-17 19:21:27.548029: W tensorflow/compiler/tf2tensorrt/utils/py_utils.cc:38] TF-TRT Warning: Could not find TensorRT\n"
=======
      "2023-08-11 14:10:26.624570: I tensorflow/stream_executor/platform/default/dso_loader.cc:49] Successfully opened dynamic library libcudart.so.10.1\n"
>>>>>>> 5588dcce56f493c23ac39828dc5f94cfab163b00
     ]
    }
   ],
   "source": [
    "import tensorflow as tf\n",
    "import numpy\n",
    "import pandas\n",
    "import os\n"
   ]
  },
  {
   "cell_type": "code",
   "execution_count": 2,
   "id": "215b3381",
   "metadata": {},
   "outputs": [
    {
     "name": "stdout",
     "output_type": "stream",
     "text": [
      "tf.Tensor(\n",
      "[[1 2]\n",
      " [3 4]], shape=(2, 2), dtype=int32)\n"
     ]
    },
    {
     "name": "stderr",
     "output_type": "stream",
     "text": [
      "2023-08-11 14:10:37.556416: I tensorflow/compiler/jit/xla_cpu_device.cc:41] Not creating XLA devices, tf_xla_enable_xla_devices not set\n",
      "2023-08-11 14:10:37.557556: W tensorflow/stream_executor/platform/default/dso_loader.cc:60] Could not load dynamic library 'libcuda.so.1'; dlerror: libcuda.so.1: cannot open shared object file: No such file or directory\n",
      "2023-08-11 14:10:37.557591: W tensorflow/stream_executor/cuda/cuda_driver.cc:326] failed call to cuInit: UNKNOWN ERROR (303)\n",
      "2023-08-11 14:10:37.557631: I tensorflow/stream_executor/cuda/cuda_diagnostics.cc:156] kernel driver does not appear to be running on this host (VMDebianVIVO): /proc/driver/nvidia/version does not exist\n",
      "2023-08-11 14:10:37.604801: I tensorflow/core/platform/cpu_feature_guard.cc:142] This TensorFlow binary is optimized with oneAPI Deep Neural Network Library (oneDNN) to use the following CPU instructions in performance-critical operations:  SSE4.1 SSE4.2 AVX AVX2 FMA\n",
      "To enable them in other operations, rebuild TensorFlow with the appropriate compiler flags.\n",
      "2023-08-11 14:10:37.641993: I tensorflow/compiler/jit/xla_gpu_device.cc:99] Not creating XLA devices, tf_xla_enable_xla_devices not set\n"
     ]
    }
   ],
   "source": [
    "print(tf.constant([[1,2],[3,4]]))"
   ]
  },
  {
   "cell_type": "code",
   "execution_count": 3,
   "id": "2b53bcd3",
   "metadata": {},
   "outputs": [
    {
     "name": "stdout",
     "output_type": "stream",
     "text": [
<<<<<<< HEAD
      "2.13.0\n",
=======
      "2.4.1\n",
>>>>>>> 5588dcce56f493c23ac39828dc5f94cfab163b00
      "tf.Tensor(3.0, shape=(), dtype=float32)\n"
     ]
    }
   ],
   "source": [
    "os.environ['TF_XLA_FLAGS'] = '--tf_xla_enable_xla_devices'\n",
    "\n",
    "os.environ['TF_CPP_MIN_LOG_LEVEL'] = '2'\n",
    "print(tf.__version__)\n",
    "a = tf.constant(1.)\n",
    "b = tf.constant(2.)\n",
    "print(a+b)\n",
    "# print('GPU:', tf.test.is_gpu_available())"
   ]
  },
  {
   "cell_type": "code",
   "execution_count": 4,
   "id": "a343577a",
   "metadata": {},
   "outputs": [
    {
     "name": "stdout",
     "output_type": "stream",
     "text": [
      "c=  tf.Tensor(1, shape=(), dtype=int32)\n",
      "v=  <tf.Variable 'Variable:0' shape=() dtype=int32, numpy=1>\n"
     ]
    }
   ],
   "source": [
    "c = tf.constant(1)\n",
    "v = tf.Variable(1)\n",
    "\n",
    "print(\"c= \", c)\n",
    "print(\"v= \", v)"
   ]
  },
  {
   "cell_type": "code",
   "execution_count": 5,
   "id": "f7ef00d5",
   "metadata": {},
   "outputs": [
    {
     "name": "stdout",
     "output_type": "stream",
     "text": [
      "tf.Tensor(4, shape=(), dtype=int32)\n",
      "0維Tensor\n"
     ]
    }
   ],
   "source": [
    "x = tf.constant(4)\n",
    "print(x)\n",
    "print(\"{}維Tensor\".format(x.ndim))  "
   ]
  },
  {
   "cell_type": "code",
   "execution_count": 6,
   "id": "4c192035",
   "metadata": {},
   "outputs": [
    {
     "name": "stdout",
     "output_type": "stream",
     "text": [
      "1維Tensor\n"
     ]
    }
   ],
   "source": [
    "# 一維張量稱「向量」\n",
    "x = tf.constant([1, 2, 3, 4, 5, 6])\n",
    "print(\"{}維Tensor\".format(x.ndim)) "
   ]
  },
  {
   "cell_type": "code",
   "execution_count": 7,
   "id": "7be5c94f",
   "metadata": {},
   "outputs": [
    {
     "name": "stdout",
     "output_type": "stream",
     "text": [
      "2維Tensor\n"
     ]
    }
   ],
   "source": [
    "# 二維張量稱「矩陣」\n",
    "x = tf.constant([[1, 2, 3], [4, 5, 6]])\n",
    "print(\"{}維Tensor\".format(x.ndim)) "
   ]
  },
  {
   "cell_type": "code",
   "execution_count": 8,
   "id": "24bc6cde",
   "metadata": {},
   "outputs": [
    {
     "name": "stdout",
     "output_type": "stream",
     "text": [
      "Eager Execution模式是否啟動：True\n"
     ]
    }
   ],
   "source": [
    "# 檢查Eager Execution模式是否啟動\n",
    "print(\"Eager Execution模式是否啟動：{}\".format(tf.executing_eagerly()))"
   ]
  },
  {
   "cell_type": "code",
   "execution_count": 9,
   "id": "05376e98",
   "metadata": {},
   "outputs": [
    {
     "name": "stdout",
     "output_type": "stream",
     "text": [
      "a + b = 7\n"
     ]
    }
   ],
   "source": [
    "a = 3\n",
    "b = 4\n",
    "c = a + b\n",
    "print(\"a + b = {}\".format(c))"
   ]
  },
  {
   "cell_type": "code",
   "execution_count": 10,
   "id": "7594ca21",
   "metadata": {},
   "outputs": [
    {
     "name": "stdout",
     "output_type": "stream",
     "text": [
      "a constant: 2D Tensor\n",
      "a + b = \n",
      "[[2. 2.]\n",
      " [5. 7.]]\n",
      "a * b = \n",
      "[[ 5.  6.]\n",
      " [11. 12.]]\n"
     ]
    }
   ],
   "source": [
    "import numpy as np\n",
    "# Eager Execution模式下，可以混合Tensor and Numpy做運算\n",
    "a = tf.constant([[1.,2.], [3.,4.]], dtype = tf.float32)\n",
    "b = np.array([[1.,0.],[2.,3.]], dtype = np.float32)\n",
    "print(\"a constant: {}D Tensor\".format(a.ndim))\n",
    "\n",
    "c = a + b\n",
    "print(\"a + b = \\n{}\".format(c))\n",
    "\n",
    "d = tf.matmul(a, b)\n",
    "print(\"a * b = \\n{}\".format(d))\n"
   ]
  },
  {
   "cell_type": "code",
   "execution_count": 11,
   "id": "2f115e35",
   "metadata": {},
   "outputs": [
    {
     "name": "stdout",
     "output_type": "stream",
     "text": [
      "NumpyArray:\n",
      " [[2. 2.]\n",
      " [5. 7.]]\n"
     ]
    }
   ],
   "source": [
    "print(\"NumpyArray:\\n {}\".format(c.numpy()))"
   ]
  },
  {
   "cell_type": "code",
   "execution_count": 12,
   "id": "5180c3ae",
   "metadata": {},
   "outputs": [
    {
     "name": "stdout",
     "output_type": "stream",
     "text": [
      "tf.Tensor([[2.]], shape=(1, 1), dtype=float32)\n"
     ]
    }
   ],
   "source": [
    "# 計算梯度(Gradient)\n",
    "w = tf.Variable([[1.0]])\n",
    "\n",
    "with tf.GradientTape() as tape :\n",
    "    loss = w * w\n",
    "\n",
    "grad = tape.gradient(loss, w)\n",
    "print(grad)"
   ]
  },
  {
   "cell_type": "code",
   "execution_count": 13,
   "id": "7bf45029",
   "metadata": {},
   "outputs": [],
   "source": [
    "# Seqential Model (pdf.43)\n",
    "import tensorflow as tf\n",
    "from tensorflow import keras\n",
    "from tensorflow.keras import layers\n",
    "from tensorflow.keras.utils import plot_model\n",
    "from IPython.display import Image\n",
    "\n"
   ]
  },
  {
   "cell_type": "code",
   "execution_count": 14,
   "id": "7db4b6f6",
   "metadata": {},
   "outputs": [],
   "source": [
    "# Method one\n",
    "model = keras.Sequential(name = 'Sequential')\n",
    "model.add(layers.Dense(64, activation = 'relu', input_shape = (784,)))\n",
    "model.add(layers.Dense(64, activation = 'relu'))\n",
    "model.add(layers.Dense(10, activation = 'softmax'))"
   ]
  },
  {
   "cell_type": "code",
   "execution_count": 15,
   "id": "52917451",
   "metadata": {},
   "outputs": [],
   "source": [
    "# Method two\n",
    "model = tf.keras.Sequential([\n",
    "    layers.Dense(64, activation = 'relu', input_shape = (784,)),\n",
    "    layers.Dense(64, activation = 'relu'),\n",
    "    layers.Dense(10, activation = 'softmax')\n",
    "])"
   ]
  },
  {
   "cell_type": "code",
   "execution_count": 16,
   "id": "afbdd66d",
   "metadata": {},
   "outputs": [
    {
     "data": {
<<<<<<< HEAD
      "image/png": "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",
=======
      "image/png": "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\n",
>>>>>>> 5588dcce56f493c23ac39828dc5f94cfab163b00
      "text/plain": [
       "<IPython.core.display.Image object>"
      ]
     },
     "execution_count": 16,
     "metadata": {},
     "output_type": "execute_result"
    }
   ],
   "source": [
    "plot_model(model, to_file='Functional_API_Sequential_Model.png')\n",
    "#Image('Functional_API_Sequential_Model')"
   ]
  },
  {
   "cell_type": "code",
   "execution_count": 17,
   "id": "ad6c9e0f",
   "metadata": {},
   "outputs": [
    {
     "data": {
<<<<<<< HEAD
      "image/png": "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",
=======
      "image/png": "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\n",
>>>>>>> 5588dcce56f493c23ac39828dc5f94cfab163b00
      "text/plain": [
       "<IPython.core.display.Image object>"
      ]
     },
     "execution_count": 17,
     "metadata": {},
     "output_type": "execute_result"
    }
   ],
   "source": [
    "# Book pdf.47\n",
    "# Multi Input Model\n",
    "img_input = keras.Input(shape = (128, 128, 3), name = 'Image_Input')\n",
    "info_input = keras.Input(shape = (1, ), name = 'Information_Input')\n",
    "\n",
    "h1_1 = layers.Conv2D(64, 5, strides = 2, activation = 'relu', name = 'hidden1_1')(img_input)\n",
    "h1_2 = layers.Conv2D(32, 5, strides = 2, activation = 'relu', name = 'hidden1_2')(h1_1)\n",
    "h1_2_ft = layers.Flatten()(h1_2)\n",
    "h1_3 = layers.Dense(64, activation = 'relu', name = 'hidden1_3')(info_input)\n",
    "concat = layers.Concatenate()([h1_2_ft, h1_3])\n",
    "h2 = layers.Dense(64, activation = 'relu', name = 'hidden2')(concat)\n",
    "\n",
    "outputs = layers.Dense(1, name = 'Output')(h2)\n",
    "\n",
    "model = keras.Model(inputs = [img_input, info_input], outputs = outputs)\n",
    "\n",
    "plot_model(model, to_file = 'Functional_API_Multi_Input_Model.png')\n",
    "#Image('Functional_API_Multi_Input_Model.png')\n"
   ]
<<<<<<< HEAD
=======
  },
  {
   "cell_type": "code",
   "execution_count": 19,
   "id": "c09a8219",
   "metadata": {},
   "outputs": [
    {
     "name": "stdout",
     "output_type": "stream",
     "text": [
      "<TensorDataset shapes: (10,), types: tf.int32>\n"
     ]
    }
   ],
   "source": [
    "#pdf.52, §1.7.2\n",
    "dataset = tf.data.Dataset.from_tensors(tf.constant([1,2,3,4,5,6,7,8,9,0], shape=(10,)))\n",
    "print(dataset)"
   ]
  },
  {
   "cell_type": "code",
   "execution_count": 21,
   "id": "eb85819b",
   "metadata": {},
   "outputs": [
    {
     "name": "stdout",
     "output_type": "stream",
     "text": [
      "<TensorSliceDataset shapes: (), types: tf.int32>\n"
     ]
    }
   ],
   "source": [
    "x_data = tf.data.Dataset.from_tensor_slices(tf.constant([1,2,3,4,5,6,7,8,9,0]))\n",
    "print(x_data)"
   ]
  },
  {
   "cell_type": "code",
   "execution_count": 22,
   "id": "7dfff5f3",
   "metadata": {},
   "outputs": [
    {
     "name": "stdout",
     "output_type": "stream",
     "text": [
      "<TensorSliceDataset shapes: (), types: tf.int32>\n"
     ]
    }
   ],
   "source": [
    "y_data = tf.data.Dataset.from_tensor_slices(tf.constant([0,2,4,6,8,10,12,14,16,18]))\n",
    "print(y_data)"
   ]
  },
  {
   "cell_type": "code",
   "execution_count": 24,
   "id": "453d9ed4",
   "metadata": {},
   "outputs": [
    {
     "name": "stdout",
     "output_type": "stream",
     "text": [
      "tf.Tensor(1, shape=(), dtype=int32)\n",
      "tf.Tensor(2, shape=(), dtype=int32)\n",
      "tf.Tensor(3, shape=(), dtype=int32)\n",
      "tf.Tensor(4, shape=(), dtype=int32)\n",
      "tf.Tensor(5, shape=(), dtype=int32)\n",
      "tf.Tensor(6, shape=(), dtype=int32)\n",
      "tf.Tensor(7, shape=(), dtype=int32)\n",
      "tf.Tensor(8, shape=(), dtype=int32)\n",
      "tf.Tensor(9, shape=(), dtype=int32)\n",
      "tf.Tensor(0, shape=(), dtype=int32)\n"
     ]
    }
   ],
   "source": [
    "for data in x_data :\n",
    "    print(data)"
   ]
  },
  {
   "cell_type": "code",
   "execution_count": 30,
   "id": "601146d1",
   "metadata": {},
   "outputs": [
    {
     "name": "stdout",
     "output_type": "stream",
     "text": [
      "(array([[0.2249631 , 0.93117086, 0.90192527],\n",
      "       [0.39860075, 0.56494056, 0.23058764],\n",
      "       [0.01535565, 0.92312895, 0.10891835],\n",
      "       [0.31898865, 0.97444233, 0.46727801],\n",
      "       [0.77424271, 0.27877305, 0.18922496],\n",
      "       [0.46599859, 0.83716943, 0.84190895]]), array([[0.89710357],\n",
      "       [0.44050556],\n",
      "       [0.17125768],\n",
      "       [0.26444387],\n",
      "       [0.65594387],\n",
      "       [0.01494594]]))\n",
      "<TensorSliceDataset shapes: ((3,), (1,)), types: (tf.float64, tf.float64)>\n"
     ]
    }
   ],
   "source": [
    "# from_tensor_slices EXAMPLE : https://blog.csdn.net/Dr_jiabin/article/details/93366661\n",
    "features, labels = (np.random.sample((6, 3)), np.random.sample((6, 1)))\n",
    "print((features, labels))\n",
    "data = tf.data.Dataset.from_tensor_slices((features, labels))\n",
    "print(data)"
   ]
  },
  {
   "cell_type": "code",
   "execution_count": null,
   "id": "be4f0a3e",
   "metadata": {},
   "outputs": [],
   "source": []
>>>>>>> 5588dcce56f493c23ac39828dc5f94cfab163b00
  }
 ],
 "metadata": {
  "kernelspec": {
   "display_name": "Python 3 (ipykernel)",
   "language": "python",
   "name": "python3"
  },
  "language_info": {
   "codemirror_mode": {
    "name": "ipython",
    "version": 3
   },
   "file_extension": ".py",
   "mimetype": "text/x-python",
   "name": "python",
   "nbconvert_exporter": "python",
   "pygments_lexer": "ipython3",
   "version": "3.9.16"
  }
 },
 "nbformat": 4,
 "nbformat_minor": 5
}
