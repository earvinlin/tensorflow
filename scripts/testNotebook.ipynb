{
 "cells": [
  {
   "cell_type": "code",
   "execution_count": 1,
   "id": "fff5f143",
   "metadata": {},
   "outputs": [
    {
     "name": "stderr",
     "output_type": "stream",
     "text": [
      "2023-12-03 17:41:45.920374: I tensorflow/core/platform/cpu_feature_guard.cc:193] This TensorFlow binary is optimized with oneAPI Deep Neural Network Library (oneDNN) to use the following CPU instructions in performance-critical operations:  AVX2 AVX_VNNI FMA\n",
      "To enable them in other operations, rebuild TensorFlow with the appropriate compiler flags.\n",
      "2023-12-03 17:41:46.014414: I tensorflow/core/util/util.cc:169] oneDNN custom operations are on. You may see slightly different numerical results due to floating-point round-off errors from different computation orders. To turn them off, set the environment variable `TF_ENABLE_ONEDNN_OPTS=0`.\n",
      "2023-12-03 17:41:46.035109: E tensorflow/stream_executor/cuda/cuda_blas.cc:2981] Unable to register cuBLAS factory: Attempting to register factory for plugin cuBLAS when one has already been registered\n",
      "2023-12-03 17:41:46.379590: W tensorflow/stream_executor/platform/default/dso_loader.cc:64] Could not load dynamic library 'libnvinfer.so.7'; dlerror: libnvinfer.so.7: cannot open shared object file: No such file or directory; LD_LIBRARY_PATH: /usr/local/cuda-11.8/lib64::/usr/local/cuda-12.3/lib64:/usr/local/cuda-12.3/lib64\n",
      "2023-12-03 17:41:46.379636: W tensorflow/stream_executor/platform/default/dso_loader.cc:64] Could not load dynamic library 'libnvinfer_plugin.so.7'; dlerror: libnvinfer_plugin.so.7: cannot open shared object file: No such file or directory; LD_LIBRARY_PATH: /usr/local/cuda-11.8/lib64::/usr/local/cuda-12.3/lib64:/usr/local/cuda-12.3/lib64\n",
      "2023-12-03 17:41:46.379640: W tensorflow/compiler/tf2tensorrt/utils/py_utils.cc:38] TF-TRT Warning: Cannot dlopen some TensorRT libraries. If you would like to use Nvidia GPU with TensorRT, please make sure the missing libraries mentioned above are installed properly.\n"
     ]
    }
   ],
   "source": [
    "import os\n",
    "import numpy as np\n",
    "import pandas as pd\n",
    "import tensorflow as tf\n",
    "import matplotlib.pyplot as plt\n",
    "from tensorflow import keras\n",
    "from tensorflow.keras import layers"
   ]
  },
  {
   "cell_type": "code",
   "execution_count": 2,
   "id": "cc116ce0-d0d7-4a24-b85f-36ed3e77094e",
   "metadata": {},
   "outputs": [
    {
     "name": "stdout",
     "output_type": "stream",
     "text": [
      "2.10.0\n",
      "2.10.0\n"
     ]
    }
   ],
   "source": [
    "print(tf.__version__)\n",
    "print(keras.__version__)"
   ]
  },
  {
   "cell_type": "code",
   "execution_count": 3,
   "id": "8e4ebbb8-81ee-47d7-ab43-cbc1d5b0368f",
   "metadata": {},
   "outputs": [
    {
     "name": "stdout",
     "output_type": "stream",
     "text": [
      "[[[ 1  2]\n",
      "  [ 4  5]\n",
      "  [ 7  8]]\n",
      "\n",
      " [[11 22]\n",
      "  [44 55]\n",
      "  [77 88]]\n",
      "\n",
      " [[13 12]\n",
      "  [14 15]\n",
      "  [17 18]]]\n",
      "3\n",
      "(3, 3, 2)\n",
      "[[ 1  2  4  5  7  8]\n",
      " [11 22 44 55 77 88]\n",
      " [13 12 14 15 17 18]]\n"
     ]
    }
   ],
   "source": [
    "# Test reshape\n",
    "arr = np.array(\n",
    "    [[[1,2],\n",
    "    [4,5],\n",
    "    [7,8]],\n",
    "    [[11,22],\n",
    "    [44,55],\n",
    "    [77,88]],\n",
    "    [[13,12],\n",
    "    [14,15],\n",
    "    [17,18]]]\n",
    ")\n",
    "print(arr)\n",
    "print(arr.ndim)\n",
    "print(arr.shape)\n",
    "\n",
    "a1 = arr.reshape(3,3*2)\n",
    "print(a1)"
   ]
  },
  {
   "cell_type": "code",
   "execution_count": 4,
   "id": "328b79cd-d5ef-4e4f-9111-3e38bf5f4409",
   "metadata": {},
   "outputs": [
    {
     "name": "stdout",
     "output_type": "stream",
     "text": [
      "[PhysicalDevice(name='/physical_device:GPU:0', device_type='GPU')] \n",
      " [PhysicalDevice(name='/physical_device:CPU:0', device_type='CPU')]\n"
     ]
    },
    {
     "name": "stderr",
     "output_type": "stream",
     "text": [
      "2023-12-03 17:41:55.372394: I tensorflow/stream_executor/cuda/cuda_gpu_executor.cc:980] successful NUMA node read from SysFS had negative value (-1), but there must be at least one NUMA node, so returning NUMA node zero\n",
      "2023-12-03 17:41:55.388546: I tensorflow/stream_executor/cuda/cuda_gpu_executor.cc:980] successful NUMA node read from SysFS had negative value (-1), but there must be at least one NUMA node, so returning NUMA node zero\n",
      "2023-12-03 17:41:55.388656: I tensorflow/stream_executor/cuda/cuda_gpu_executor.cc:980] successful NUMA node read from SysFS had negative value (-1), but there must be at least one NUMA node, so returning NUMA node zero\n"
     ]
    }
   ],
   "source": [
    "gpus = tf.config.experimental.list_physical_devices(device_type='GPU')\n",
    "cpus = tf.config.experimental.list_physical_devices(device_type='CPU')\n",
    "print(gpus, '\\n', cpus)"
   ]
  },
  {
   "cell_type": "code",
   "execution_count": 5,
   "id": "43792d2d-9234-470b-ac41-0e49d5117d5f",
   "metadata": {},
   "outputs": [
    {
     "data": {
      "text/plain": [
       "(2, 3, 3, 2)"
      ]
     },
     "execution_count": 5,
     "metadata": {},
     "output_type": "execute_result"
    }
   ],
   "source": [
    "a1 = np.array(\n",
    "[[\n",
    "    [\n",
    "        [1,2],\n",
    "        [4,5],\n",
    "        [7,8]\n",
    "    ],\n",
    "    [\n",
    "        [11,22],\n",
    "        [44,55],\n",
    "        [77,88]\n",
    "    ],\n",
    "    [\n",
    "        [13,12],\n",
    "        [14,15],\n",
    "        [17,18]\n",
    "    ]\n",
    "],\n",
    "[\n",
    "    [\n",
    "        [1,2],\n",
    "        [4,5],\n",
    "        [7,8]\n",
    "    ],\n",
    "    [\n",
    "        [11,22],\n",
    "        [44,55],\n",
    "        [77,88]\n",
    "    ],\n",
    "    [\n",
    "        [13,12],\n",
    "        [14,15],\n",
    "        [17,18]\n",
    "    ]\n",
    "]]\n",
    ")\n",
    "a1.shape"
   ]
  },
  {
   "cell_type": "code",
   "execution_count": 6,
   "id": "0e5261e8",
   "metadata": {},
   "outputs": [
    {
     "data": {
      "text/plain": [
       "(2,)"
      ]
     },
     "execution_count": 6,
     "metadata": {},
     "output_type": "execute_result"
    }
   ],
   "source": [
    "a2 = np.array([2,5])\n",
    "a2.shape"
   ]
  },
  {
   "cell_type": "code",
   "execution_count": 9,
   "id": "fb410e13",
   "metadata": {},
   "outputs": [
    {
     "name": "stdout",
     "output_type": "stream",
     "text": [
      "[[[[  2  10]\n",
      "   [  8  25]\n",
      "   [ 14  40]]\n",
      "\n",
      "  [[ 22 110]\n",
      "   [ 88 275]\n",
      "   [154 440]]\n",
      "\n",
      "  [[ 26  60]\n",
      "   [ 28  75]\n",
      "   [ 34  90]]]\n",
      "\n",
      "\n",
      " [[[  2  10]\n",
      "   [  8  25]\n",
      "   [ 14  40]]\n",
      "\n",
      "  [[ 22 110]\n",
      "   [ 88 275]\n",
      "   [154 440]]\n",
      "\n",
      "  [[ 26  60]\n",
      "   [ 28  75]\n",
      "   [ 34  90]]]]\n",
      "(2, 3, 3, 2)\n"
     ]
    }
   ],
   "source": [
    "a3 = a1*a2\n",
    "print(a3)\n",
    "print(a3.shape)"
   ]
  },
  {
   "cell_type": "code",
   "execution_count": 10,
   "id": "11e3c006-b284-4215-84ae-915eb91709f7",
   "metadata": {},
   "outputs": [
    {
     "name": "stdout",
     "output_type": "stream",
     "text": [
      "[[[ 12  33  54]\n",
      "  [132 363 594]\n",
      "  [ 86 103 124]]\n",
      "\n",
      " [[ 12  33  54]\n",
      "  [132 363 594]\n",
      "  [ 86 103 124]]]\n",
      "(2, 3, 3)\n"
     ]
    }
   ],
   "source": [
    "dotr = np.dot(a1, a2)\n",
    "print(dotr)\n",
    "print(dotr.shape)\n",
    "    "
   ]
  },
  {
   "cell_type": "code",
   "execution_count": 13,
   "id": "f46b1beb",
   "metadata": {},
   "outputs": [
    {
     "name": "stdout",
     "output_type": "stream",
     "text": [
      "[[2 5 1]\n",
      " [3 4 2]]\n",
      "(2, 3)\n"
     ]
    }
   ],
   "source": [
    "a3 = np.array([[2,5,1], [3,4,2]])\n",
    "print(a3)\n",
    "print(a3.shape)"
   ]
  },
  {
   "cell_type": "code",
   "execution_count": 14,
   "id": "a14cde11",
   "metadata": {},
   "outputs": [
    {
     "name": "stdout",
     "output_type": "stream",
     "text": [
      "[[[[  8  13   5]\n",
      "   [ 23  40  14]\n",
      "   [ 38  67  23]]\n",
      "\n",
      "  [[ 88 143  55]\n",
      "   [253 440 154]\n",
      "   [418 737 253]]\n",
      "\n",
      "  [[ 62 113  37]\n",
      "   [ 73 130  44]\n",
      "   [ 88 157  53]]]\n",
      "\n",
      "\n",
      " [[[  8  13   5]\n",
      "   [ 23  40  14]\n",
      "   [ 38  67  23]]\n",
      "\n",
      "  [[ 88 143  55]\n",
      "   [253 440 154]\n",
      "   [418 737 253]]\n",
      "\n",
      "  [[ 62 113  37]\n",
      "   [ 73 130  44]\n",
      "   [ 88 157  53]]]]\n",
      "(2, 3, 3, 3)\n"
     ]
    }
   ],
   "source": [
    "dotr = np.dot(a1, a3)\n",
    "print(dotr)\n",
    "print(dotr.shape)"
   ]
  },
  {
   "cell_type": "code",
   "execution_count": 24,
   "id": "ca58144f",
   "metadata": {},
   "outputs": [
    {
     "name": "stdout",
     "output_type": "stream",
     "text": [
      "[[[2]\n",
      "  [5]]\n",
      "\n",
      " [[3]\n",
      "  [4]]\n",
      "\n",
      " [[3]\n",
      "  [4]]]\n",
      "(3, 2, 1)\n"
     ]
    }
   ],
   "source": [
    "'''\n",
    "a4 = np.array([[[2,0],[5,1]], \n",
    "               [[3,3],[4,2]], \n",
    "               [[3,3],[4,2]]])\n",
    "'''\n",
    "a4 = np.array([[[2],[5]], \n",
    "               [[3],[4]], \n",
    "               [[3],[4]]])\n",
    "print(a4)\n",
    "print(a4.shape)"
   ]
  },
  {
   "cell_type": "code",
   "execution_count": 25,
   "id": "c5f43b20",
   "metadata": {},
   "outputs": [
    {
     "name": "stdout",
     "output_type": "stream",
     "text": [
      "[[[[[ 12]\n",
      "    [ 11]\n",
      "    [ 11]]\n",
      "\n",
      "   [[ 33]\n",
      "    [ 32]\n",
      "    [ 32]]\n",
      "\n",
      "   [[ 54]\n",
      "    [ 53]\n",
      "    [ 53]]]\n",
      "\n",
      "\n",
      "  [[[132]\n",
      "    [121]\n",
      "    [121]]\n",
      "\n",
      "   [[363]\n",
      "    [352]\n",
      "    [352]]\n",
      "\n",
      "   [[594]\n",
      "    [583]\n",
      "    [583]]]\n",
      "\n",
      "\n",
      "  [[[ 86]\n",
      "    [ 87]\n",
      "    [ 87]]\n",
      "\n",
      "   [[103]\n",
      "    [102]\n",
      "    [102]]\n",
      "\n",
      "   [[124]\n",
      "    [123]\n",
      "    [123]]]]\n",
      "\n",
      "\n",
      "\n",
      " [[[[ 12]\n",
      "    [ 11]\n",
      "    [ 11]]\n",
      "\n",
      "   [[ 33]\n",
      "    [ 32]\n",
      "    [ 32]]\n",
      "\n",
      "   [[ 54]\n",
      "    [ 53]\n",
      "    [ 53]]]\n",
      "\n",
      "\n",
      "  [[[132]\n",
      "    [121]\n",
      "    [121]]\n",
      "\n",
      "   [[363]\n",
      "    [352]\n",
      "    [352]]\n",
      "\n",
      "   [[594]\n",
      "    [583]\n",
      "    [583]]]\n",
      "\n",
      "\n",
      "  [[[ 86]\n",
      "    [ 87]\n",
      "    [ 87]]\n",
      "\n",
      "   [[103]\n",
      "    [102]\n",
      "    [102]]\n",
      "\n",
      "   [[124]\n",
      "    [123]\n",
      "    [123]]]]]\n",
      "(2, 3, 3, 3, 1)\n"
     ]
    }
   ],
   "source": [
    "dotr = np.dot(a1, a4)\n",
    "print(dotr)\n",
    "print(dotr.shape)"
   ]
  }
 ],
 "metadata": {
  "kernelspec": {
   "display_name": "Python 3 (ipykernel)",
   "language": "python",
   "name": "python3"
  },
  "language_info": {
   "codemirror_mode": {
    "name": "ipython",
    "version": 3
   },
   "file_extension": ".py",
   "mimetype": "text/x-python",
   "name": "python",
   "nbconvert_exporter": "python",
   "pygments_lexer": "ipython3",
   "version": "3.9.0"
  }
 },
 "nbformat": 4,
 "nbformat_minor": 5
}
