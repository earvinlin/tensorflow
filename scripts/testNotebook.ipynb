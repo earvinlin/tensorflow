{
 "cells": [
  {
   "cell_type": "code",
   "execution_count": 1,
   "id": "fff5f143",
   "metadata": {},
   "outputs": [
    {
     "name": "stderr",
     "output_type": "stream",
     "text": [
      "2023-12-03 17:41:45.920374: I tensorflow/core/platform/cpu_feature_guard.cc:193] This TensorFlow binary is optimized with oneAPI Deep Neural Network Library (oneDNN) to use the following CPU instructions in performance-critical operations:  AVX2 AVX_VNNI FMA\n",
      "To enable them in other operations, rebuild TensorFlow with the appropriate compiler flags.\n",
      "2023-12-03 17:41:46.014414: I tensorflow/core/util/util.cc:169] oneDNN custom operations are on. You may see slightly different numerical results due to floating-point round-off errors from different computation orders. To turn them off, set the environment variable `TF_ENABLE_ONEDNN_OPTS=0`.\n",
      "2023-12-03 17:41:46.035109: E tensorflow/stream_executor/cuda/cuda_blas.cc:2981] Unable to register cuBLAS factory: Attempting to register factory for plugin cuBLAS when one has already been registered\n",
      "2023-12-03 17:41:46.379590: W tensorflow/stream_executor/platform/default/dso_loader.cc:64] Could not load dynamic library 'libnvinfer.so.7'; dlerror: libnvinfer.so.7: cannot open shared object file: No such file or directory; LD_LIBRARY_PATH: /usr/local/cuda-11.8/lib64::/usr/local/cuda-12.3/lib64:/usr/local/cuda-12.3/lib64\n",
      "2023-12-03 17:41:46.379636: W tensorflow/stream_executor/platform/default/dso_loader.cc:64] Could not load dynamic library 'libnvinfer_plugin.so.7'; dlerror: libnvinfer_plugin.so.7: cannot open shared object file: No such file or directory; LD_LIBRARY_PATH: /usr/local/cuda-11.8/lib64::/usr/local/cuda-12.3/lib64:/usr/local/cuda-12.3/lib64\n",
      "2023-12-03 17:41:46.379640: W tensorflow/compiler/tf2tensorrt/utils/py_utils.cc:38] TF-TRT Warning: Cannot dlopen some TensorRT libraries. If you would like to use Nvidia GPU with TensorRT, please make sure the missing libraries mentioned above are installed properly.\n"
     ]
    }
   ],
   "source": [
    "import os\n",
    "import numpy as np\n",
    "import pandas as pd\n",
    "import tensorflow as tf\n",
    "import matplotlib.pyplot as plt\n",
    "from tensorflow import keras\n",
    "from tensorflow.keras import layers"
   ]
  },
  {
   "cell_type": "code",
   "execution_count": 2,
<<<<<<< HEAD
   "id": "a29d9315",
   "metadata": {},
   "outputs": [
    {
     "name": "stderr",
     "output_type": "stream",
     "text": [
      "<__array_function__ internals>:180: VisibleDeprecationWarning: Creating an ndarray from ragged nested sequences (which is a list-or-tuple of lists-or-tuples-or ndarrays with different lengths or shapes) is deprecated. If you meant to do this, you must specify 'dtype=object' when creating the ndarray.\n",
      "/home/earvin/miniconda3/envs/tf/lib/python3.8/site-packages/tensorflow/python/keras/datasets/imdb.py:159: VisibleDeprecationWarning: Creating an ndarray from ragged nested sequences (which is a list-or-tuple of lists-or-tuples-or ndarrays with different lengths or shapes) is deprecated. If you meant to do this, you must specify 'dtype=object' when creating the ndarray.\n",
      "  x_train, y_train = np.array(xs[:idx]), np.array(labels[:idx])\n",
      "/home/earvin/miniconda3/envs/tf/lib/python3.8/site-packages/tensorflow/python/keras/datasets/imdb.py:160: VisibleDeprecationWarning: Creating an ndarray from ragged nested sequences (which is a list-or-tuple of lists-or-tuples-or ndarrays with different lengths or shapes) is deprecated. If you meant to do this, you must specify 'dtype=object' when creating the ndarray.\n",
      "  x_test, y_test = np.array(xs[idx:]), np.array(labels[idx:])\n"
     ]
    }
   ],
   "source": [
    "# §代碼清單 3-1\n",
    "from keras.datasets import imdb\n",
    "\n",
    "(train_data, train_labels), (test_data, test_labels) = imdb.load_data(num_words = 10000)"
   ]
  },
  {
   "cell_type": "code",
   "execution_count": 7,
   "id": "f6eb5410",
   "metadata": {},
   "outputs": [],
   "source": [
    "# word_index : 將單詞映射為整數索引的字典, return {'fawn': 34701, 'tsukino': 52006, ...}\n",
    "word_index = imdb.get_word_index() \n",
    "reverse_word_index = dict([(value, key) for (key, value) in word_index.items()])\n",
    "decoded_review = ' '.join([reverse_word_index.get(i - 3, '?') for i in train_data[1]])"
   ]
  },
  {
   "cell_type": "code",
   "execution_count": 8,
   "id": "a217722d",
=======
   "id": "cc116ce0-d0d7-4a24-b85f-36ed3e77094e",
>>>>>>> 9115d0d499904b8f883d93cd1327c97aa12c3c25
   "metadata": {},
   "outputs": [
    {
     "name": "stdout",
     "output_type": "stream",
     "text": [
      "2.10.0\n",
      "2.10.0\n"
     ]
    }
   ],
   "source": [
    "print(tf.__version__)\n",
    "print(keras.__version__)"
   ]
  },
  {
   "cell_type": "code",
<<<<<<< HEAD
   "execution_count": 23,
   "id": "226a4a75",
   "metadata": {},
   "outputs": [
    {
     "name": "stdout",
     "output_type": "stream",
     "text": [
      "big\n"
     ]
    }
   ],
   "source": [
    "#print(type(reverse_word_index))\n",
    "print(reverse_word_index.get(191))"
   ]
  },
  {
   "cell_type": "code",
   "execution_count": 3,
   "id": "24b7c53c",
   "metadata": {},
   "outputs": [
    {
     "name": "stdout",
     "output_type": "stream",
     "text": [
      "[list([1, 14, 22, 16, 43, 530, 973, 1622, 1385, 65, 458, 4468, 66, 3941, 4, 173, 36, 256, 5, 25, 100, 43, 838, 112, 50, 670, 2, 9, 35, 480, 284, 5, 150, 4, 172, 112, 167, 2, 336, 385, 39, 4, 172, 4536, 1111, 17, 546, 38, 13, 447, 4, 192, 50, 16, 6, 147, 2025, 19, 14, 22, 4, 1920, 4613, 469, 4, 22, 71, 87, 12, 16, 43, 530, 38, 76, 15, 13, 1247, 4, 22, 17, 515, 17, 12, 16, 626, 18, 2, 5, 62, 386, 12, 8, 316, 8, 106, 5, 4, 2223, 5244, 16, 480, 66, 3785, 33, 4, 130, 12, 16, 38, 619, 5, 25, 124, 51, 36, 135, 48, 25, 1415, 33, 6, 22, 12, 215, 28, 77, 52, 5, 14, 407, 16, 82, 2, 8, 4, 107, 117, 5952, 15, 256, 4, 2, 7, 3766, 5, 723, 36, 71, 43, 530, 476, 26, 400, 317, 46, 7, 4, 2, 1029, 13, 104, 88, 4, 381, 15, 297, 98, 32, 2071, 56, 26, 141, 6, 194, 7486, 18, 4, 226, 22, 21, 134, 476, 26, 480, 5, 144, 30, 5535, 18, 51, 36, 28, 224, 92, 25, 104, 4, 226, 65, 16, 38, 1334, 88, 12, 16, 283, 5, 16, 4472, 113, 103, 32, 15, 16, 5345, 19, 178, 32])\n",
      " list([1, 194, 1153, 194, 8255, 78, 228, 5, 6, 1463, 4369, 5012, 134, 26, 4, 715, 8, 118, 1634, 14, 394, 20, 13, 119, 954, 189, 102, 5, 207, 110, 3103, 21, 14, 69, 188, 8, 30, 23, 7, 4, 249, 126, 93, 4, 114, 9, 2300, 1523, 5, 647, 4, 116, 9, 35, 8163, 4, 229, 9, 340, 1322, 4, 118, 9, 4, 130, 4901, 19, 4, 1002, 5, 89, 29, 952, 46, 37, 4, 455, 9, 45, 43, 38, 1543, 1905, 398, 4, 1649, 26, 6853, 5, 163, 11, 3215, 2, 4, 1153, 9, 194, 775, 7, 8255, 2, 349, 2637, 148, 605, 2, 8003, 15, 123, 125, 68, 2, 6853, 15, 349, 165, 4362, 98, 5, 4, 228, 9, 43, 2, 1157, 15, 299, 120, 5, 120, 174, 11, 220, 175, 136, 50, 9, 4373, 228, 8255, 5, 2, 656, 245, 2350, 5, 4, 9837, 131, 152, 491, 18, 2, 32, 7464, 1212, 14, 9, 6, 371, 78, 22, 625, 64, 1382, 9, 8, 168, 145, 23, 4, 1690, 15, 16, 4, 1355, 5, 28, 6, 52, 154, 462, 33, 89, 78, 285, 16, 145, 95])\n",
      " list([1, 14, 47, 8, 30, 31, 7, 4, 249, 108, 7, 4, 5974, 54, 61, 369, 13, 71, 149, 14, 22, 112, 4, 2401, 311, 12, 16, 3711, 33, 75, 43, 1829, 296, 4, 86, 320, 35, 534, 19, 263, 4821, 1301, 4, 1873, 33, 89, 78, 12, 66, 16, 4, 360, 7, 4, 58, 316, 334, 11, 4, 1716, 43, 645, 662, 8, 257, 85, 1200, 42, 1228, 2578, 83, 68, 3912, 15, 36, 165, 1539, 278, 36, 69, 2, 780, 8, 106, 14, 6905, 1338, 18, 6, 22, 12, 215, 28, 610, 40, 6, 87, 326, 23, 2300, 21, 23, 22, 12, 272, 40, 57, 31, 11, 4, 22, 47, 6, 2307, 51, 9, 170, 23, 595, 116, 595, 1352, 13, 191, 79, 638, 89, 2, 14, 9, 8, 106, 607, 624, 35, 534, 6, 227, 7, 129, 113])\n",
      " ...\n",
      " list([1, 11, 6, 230, 245, 6401, 9, 6, 1225, 446, 2, 45, 2174, 84, 8322, 4007, 21, 4, 912, 84, 2, 325, 725, 134, 2, 1715, 84, 5, 36, 28, 57, 1099, 21, 8, 140, 8, 703, 5, 2, 84, 56, 18, 1644, 14, 9, 31, 7, 4, 9406, 1209, 2295, 2, 1008, 18, 6, 20, 207, 110, 563, 12, 8, 2901, 2, 8, 97, 6, 20, 53, 4767, 74, 4, 460, 364, 1273, 29, 270, 11, 960, 108, 45, 40, 29, 2961, 395, 11, 6, 4065, 500, 7, 2, 89, 364, 70, 29, 140, 4, 64, 4780, 11, 4, 2678, 26, 178, 4, 529, 443, 2, 5, 27, 710, 117, 2, 8123, 165, 47, 84, 37, 131, 818, 14, 595, 10, 10, 61, 1242, 1209, 10, 10, 288, 2260, 1702, 34, 2901, 2, 4, 65, 496, 4, 231, 7, 790, 5, 6, 320, 234, 2766, 234, 1119, 1574, 7, 496, 4, 139, 929, 2901, 2, 7750, 5, 4241, 18, 4, 8497, 2, 250, 11, 1818, 7561, 4, 4217, 5408, 747, 1115, 372, 1890, 1006, 541, 9303, 7, 4, 59, 2, 4, 3586, 2])\n",
      " list([1, 1446, 7079, 69, 72, 3305, 13, 610, 930, 8, 12, 582, 23, 5, 16, 484, 685, 54, 349, 11, 4120, 2959, 45, 58, 1466, 13, 197, 12, 16, 43, 23, 2, 5, 62, 30, 145, 402, 11, 4131, 51, 575, 32, 61, 369, 71, 66, 770, 12, 1054, 75, 100, 2198, 8, 4, 105, 37, 69, 147, 712, 75, 3543, 44, 257, 390, 5, 69, 263, 514, 105, 50, 286, 1814, 23, 4, 123, 13, 161, 40, 5, 421, 4, 116, 16, 897, 13, 2, 40, 319, 5872, 112, 6700, 11, 4803, 121, 25, 70, 3468, 4, 719, 3798, 13, 18, 31, 62, 40, 8, 7200, 4, 2, 7, 14, 123, 5, 942, 25, 8, 721, 12, 145, 5, 202, 12, 160, 580, 202, 12, 6, 52, 58, 2, 92, 401, 728, 12, 39, 14, 251, 8, 15, 251, 5, 2, 12, 38, 84, 80, 124, 12, 9, 23])\n",
      " list([1, 17, 6, 194, 337, 7, 4, 204, 22, 45, 254, 8, 106, 14, 123, 4, 2, 270, 2, 5, 2, 2, 732, 2098, 101, 405, 39, 14, 1034, 4, 1310, 9, 115, 50, 305, 12, 47, 4, 168, 5, 235, 7, 38, 111, 699, 102, 7, 4, 4039, 9245, 9, 24, 6, 78, 1099, 17, 2345, 2, 21, 27, 9685, 6139, 5, 2, 1603, 92, 1183, 4, 1310, 7, 4, 204, 42, 97, 90, 35, 221, 109, 29, 127, 27, 118, 8, 97, 12, 157, 21, 6789, 2, 9, 6, 66, 78, 1099, 4, 631, 1191, 5, 2642, 272, 191, 1070, 6, 7585, 8, 2197, 2, 2, 544, 5, 383, 1271, 848, 1468, 2, 497, 2, 8, 1597, 8778, 2, 21, 60, 27, 239, 9, 43, 8368, 209, 405, 10, 10, 12, 764, 40, 4, 248, 20, 12, 16, 5, 174, 1791, 72, 7, 51, 6, 1739, 22, 4, 204, 131, 9])]\n"
     ]
    }
   ],
   "source": [
    "print(train_data)"
   ]
  },
  {
   "cell_type": "code",
   "execution_count": 21,
   "id": "4c6fdcf2",
   "metadata": {},
   "outputs": [
    {
     "name": "stdout",
     "output_type": "stream",
     "text": [
      "? big hair big boobs bad music and a giant safety pin these are the words to best describe this terrible movie i love cheesy horror movies and i've seen hundreds but this had got to be on of the worst ever made the plot is paper thin and ridiculous the acting is an abomination the script is completely laughable the best is the end showdown with the cop and how he worked out who the killer is it's just so damn terribly written the clothes are sickening and funny in equal ? the hair is big lots of boobs ? men wear those cut ? shirts that show off their ? sickening that men actually wore them and the music is just ? trash that plays over and over again in almost every scene there is trashy music boobs and ? taking away bodies and the gym still doesn't close for ? all joking aside this is a truly bad film whose only charm is to look back on the disaster that was the 80's and have a good old laugh at how bad everything was back then\n"
     ]
    }
   ],
   "source": [
    "decoded_review = ' '.join([reverse_word_index.get(i - 3, '?') for i in train_data[1]])\n",
    "print(decoded_review)"
   ]
  },
  {
   "cell_type": "code",
   "execution_count": 4,
   "id": "28ea8588",
   "metadata": {},
   "outputs": [
    {
     "name": "stdout",
     "output_type": "stream",
     "text": [
      "[list([1, 14, 22, 16, 43, 530, 973, 1622, 1385, 65, 458, 4468, 66, 3941, 4, 173, 36, 256, 5, 25, 100, 43, 838, 112, 50, 670, 2, 9, 35, 480, 284, 5, 150, 4, 172, 112, 167, 2, 336, 385, 39, 4, 172, 4536, 1111, 17, 546, 38, 13, 447, 4, 192, 50, 16, 6, 147, 2025, 19, 14, 22, 4, 1920, 4613, 469, 4, 22, 71, 87, 12, 16, 43, 530, 38, 76, 15, 13, 1247, 4, 22, 17, 515, 17, 12, 16, 626, 18, 2, 5, 62, 386, 12, 8, 316, 8, 106, 5, 4, 2223, 5244, 16, 480, 66, 3785, 33, 4, 130, 12, 16, 38, 619, 5, 25, 124, 51, 36, 135, 48, 25, 1415, 33, 6, 22, 12, 215, 28, 77, 52, 5, 14, 407, 16, 82, 2, 8, 4, 107, 117, 5952, 15, 256, 4, 2, 7, 3766, 5, 723, 36, 71, 43, 530, 476, 26, 400, 317, 46, 7, 4, 2, 1029, 13, 104, 88, 4, 381, 15, 297, 98, 32, 2071, 56, 26, 141, 6, 194, 7486, 18, 4, 226, 22, 21, 134, 476, 26, 480, 5, 144, 30, 5535, 18, 51, 36, 28, 224, 92, 25, 104, 4, 226, 65, 16, 38, 1334, 88, 12, 16, 283, 5, 16, 4472, 113, 103, 32, 15, 16, 5345, 19, 178, 32])\n",
      " list([1, 194, 1153, 194, 8255, 78, 228, 5, 6, 1463, 4369, 5012, 134, 26, 4, 715, 8, 118, 1634, 14, 394, 20, 13, 119, 954, 189, 102, 5, 207, 110, 3103, 21, 14, 69, 188, 8, 30, 23, 7, 4, 249, 126, 93, 4, 114, 9, 2300, 1523, 5, 647, 4, 116, 9, 35, 8163, 4, 229, 9, 340, 1322, 4, 118, 9, 4, 130, 4901, 19, 4, 1002, 5, 89, 29, 952, 46, 37, 4, 455, 9, 45, 43, 38, 1543, 1905, 398, 4, 1649, 26, 6853, 5, 163, 11, 3215, 2, 4, 1153, 9, 194, 775, 7, 8255, 2, 349, 2637, 148, 605, 2, 8003, 15, 123, 125, 68, 2, 6853, 15, 349, 165, 4362, 98, 5, 4, 228, 9, 43, 2, 1157, 15, 299, 120, 5, 120, 174, 11, 220, 175, 136, 50, 9, 4373, 228, 8255, 5, 2, 656, 245, 2350, 5, 4, 9837, 131, 152, 491, 18, 2, 32, 7464, 1212, 14, 9, 6, 371, 78, 22, 625, 64, 1382, 9, 8, 168, 145, 23, 4, 1690, 15, 16, 4, 1355, 5, 28, 6, 52, 154, 462, 33, 89, 78, 285, 16, 145, 95])\n",
      " list([1, 14, 47, 8, 30, 31, 7, 4, 249, 108, 7, 4, 5974, 54, 61, 369, 13, 71, 149, 14, 22, 112, 4, 2401, 311, 12, 16, 3711, 33, 75, 43, 1829, 296, 4, 86, 320, 35, 534, 19, 263, 4821, 1301, 4, 1873, 33, 89, 78, 12, 66, 16, 4, 360, 7, 4, 58, 316, 334, 11, 4, 1716, 43, 645, 662, 8, 257, 85, 1200, 42, 1228, 2578, 83, 68, 3912, 15, 36, 165, 1539, 278, 36, 69, 2, 780, 8, 106, 14, 6905, 1338, 18, 6, 22, 12, 215, 28, 610, 40, 6, 87, 326, 23, 2300, 21, 23, 22, 12, 272, 40, 57, 31, 11, 4, 22, 47, 6, 2307, 51, 9, 170, 23, 595, 116, 595, 1352, 13, 191, 79, 638, 89, 2, 14, 9, 8, 106, 607, 624, 35, 534, 6, 227, 7, 129, 113])]\n"
     ]
    }
   ],
   "source": [
    "#a = np.zeros((3,3))\n",
    "#print(a)\n",
    "print(train_data[:3])"
   ]
  },
  {
   "cell_type": "code",
   "execution_count": 34,
   "id": "f6cd33f7",
   "metadata": {},
   "outputs": [
    {
     "name": "stdout",
     "output_type": "stream",
     "text": [
      "<class 'numpy.ndarray'>\n",
      "218\n",
      "\n",
      "=== split line ===\n",
      "\n",
      "[[0. 0. 0. ... 0. 0. 0.]\n",
      " [0. 0. 0. ... 0. 0. 0.]\n",
      " [0. 0. 0. ... 0. 0. 0.]\n",
      " [0. 0. 0. ... 0. 0. 0.]\n",
      " [0. 0. 0. ... 0. 0. 0.]]\n",
      "\n",
      "=== split line ===\n",
      "\n",
      "[[0. 1. 1. ... 0. 0. 0.]\n",
      " [0. 1. 1. ... 0. 0. 0.]\n",
      " [0. 1. 1. ... 0. 0. 0.]\n",
      " [0. 1. 1. ... 0. 0. 0.]\n",
      " [0. 1. 1. ... 0. 0. 0.]]\n"
     ]
    }
   ],
   "source": [
    "#print(train_data[:1])\n",
    "#print(type(train_data))\n",
    "#print(len(train_data[:1]))\n",
    "\n",
    "a = train_data[0:1]\n",
    "print(type(a))\n",
    "print(len(a[0]))\n",
    "\n",
    "print(\"\\n=== split line ===\\n\")\n",
    "\n",
    "results = np.zeros((len(train_data[:5]), 10000))\n",
    "print(results)\n",
    "\n",
    "print(\"\\n=== split line ===\\n\")\n",
    "\n",
    "for i, sequence in enumerate(train_data[:5]) :\n",
    "    results[i, sequence] = 1.\n",
    "print(results)"
   ]
  },
  {
   "cell_type": "code",
   "execution_count": 37,
   "id": "3179fd50",
   "metadata": {},
   "outputs": [
    {
     "name": "stdout",
     "output_type": "stream",
     "text": [
      "0 1\n",
      "1 14\n",
      "2 22\n",
      "3 16\n",
      "4 43\n",
      "5 530\n",
      "6 973\n",
      "7 1622\n",
      "8 1385\n",
      "9 65\n",
      "10 458\n",
      "11 4468\n",
      "12 66\n",
      "13 3941\n",
      "14 4\n",
      "15 173\n",
      "16 36\n",
      "17 256\n",
      "18 5\n",
      "19 25\n",
      "20 100\n",
      "21 43\n",
      "22 838\n",
      "23 112\n",
      "24 50\n",
      "25 670\n",
      "26 2\n",
      "27 9\n",
      "28 35\n",
      "29 480\n",
      "30 284\n",
      "31 5\n",
      "32 150\n",
      "33 4\n",
      "34 172\n",
      "35 112\n",
      "36 167\n",
      "37 2\n",
      "38 336\n",
      "39 385\n",
      "40 39\n",
      "41 4\n",
      "42 172\n",
      "43 4536\n",
      "44 1111\n",
      "45 17\n",
      "46 546\n",
      "47 38\n",
      "48 13\n",
      "49 447\n",
      "50 4\n",
      "51 192\n",
      "52 50\n",
      "53 16\n",
      "54 6\n",
      "55 147\n",
      "56 2025\n",
      "57 19\n",
      "58 14\n",
      "59 22\n",
      "60 4\n",
      "61 1920\n",
      "62 4613\n",
      "63 469\n",
      "64 4\n",
      "65 22\n",
      "66 71\n",
      "67 87\n",
      "68 12\n",
      "69 16\n",
      "70 43\n",
      "71 530\n",
      "72 38\n",
      "73 76\n",
      "74 15\n",
      "75 13\n",
      "76 1247\n",
      "77 4\n",
      "78 22\n",
      "79 17\n",
      "80 515\n",
      "81 17\n",
      "82 12\n",
      "83 16\n",
      "84 626\n",
      "85 18\n",
      "86 2\n",
      "87 5\n",
      "88 62\n",
      "89 386\n",
      "90 12\n",
      "91 8\n",
      "92 316\n",
      "93 8\n",
      "94 106\n",
      "95 5\n",
      "96 4\n",
      "97 2223\n",
      "98 5244\n",
      "99 16\n",
      "100 480\n",
      "101 66\n",
      "102 3785\n",
      "103 33\n",
      "104 4\n",
      "105 130\n",
      "106 12\n",
      "107 16\n",
      "108 38\n",
      "109 619\n",
      "110 5\n",
      "111 25\n",
      "112 124\n",
      "113 51\n",
      "114 36\n",
      "115 135\n",
      "116 48\n",
      "117 25\n",
      "118 1415\n",
      "119 33\n",
      "120 6\n",
      "121 22\n",
      "122 12\n",
      "123 215\n",
      "124 28\n",
      "125 77\n",
      "126 52\n",
      "127 5\n",
      "128 14\n",
      "129 407\n",
      "130 16\n",
      "131 82\n",
      "132 2\n",
      "133 8\n",
      "134 4\n",
      "135 107\n",
      "136 117\n",
      "137 5952\n",
      "138 15\n",
      "139 256\n",
      "140 4\n",
      "141 2\n",
      "142 7\n",
      "143 3766\n",
      "144 5\n",
      "145 723\n",
      "146 36\n",
      "147 71\n",
      "148 43\n",
      "149 530\n",
      "150 476\n",
      "151 26\n",
      "152 400\n",
      "153 317\n",
      "154 46\n",
      "155 7\n",
      "156 4\n",
      "157 2\n",
      "158 1029\n",
      "159 13\n",
      "160 104\n",
      "161 88\n",
      "162 4\n",
      "163 381\n",
      "164 15\n",
      "165 297\n",
      "166 98\n",
      "167 32\n",
      "168 2071\n",
      "169 56\n",
      "170 26\n",
      "171 141\n",
      "172 6\n",
      "173 194\n",
      "174 7486\n",
      "175 18\n",
      "176 4\n",
      "177 226\n",
      "178 22\n",
      "179 21\n",
      "180 134\n",
      "181 476\n",
      "182 26\n",
      "183 480\n",
      "184 5\n",
      "185 144\n",
      "186 30\n",
      "187 5535\n",
      "188 18\n",
      "189 51\n",
      "190 36\n",
      "191 28\n",
      "192 224\n",
      "193 92\n",
      "194 25\n",
      "195 104\n",
      "196 4\n",
      "197 226\n",
      "198 65\n",
      "199 16\n",
      "200 38\n",
      "201 1334\n",
      "202 88\n",
      "203 12\n",
      "204 16\n",
      "205 283\n",
      "206 5\n",
      "207 16\n",
      "208 4472\n",
      "209 113\n",
      "210 103\n",
      "211 32\n",
      "212 15\n",
      "213 16\n",
      "214 5345\n",
      "215 19\n",
      "216 178\n",
      "217 32\n"
     ]
    }
   ],
   "source": [
    "#print(results[0][:5])\n",
    "#seq = [ 'one' , 'two' , 'three' ]\n",
    "for i , element in enumerate (train_data[0]) :\n",
    "    print(i, element)"
   ]
  },
  {
   "cell_type": "code",
   "execution_count": 39,
   "id": "11b762cc",
   "metadata": {},
   "outputs": [
    {
     "name": "stdout",
     "output_type": "stream",
     "text": [
      "<class 'numpy.ndarray'>\n"
     ]
    }
   ],
   "source": [
    "print(type(train_labels))\n",
    "y_train = train_labels\n"
   ]
  },
  {
   "cell_type": "code",
=======
>>>>>>> 9115d0d499904b8f883d93cd1327c97aa12c3c25
   "execution_count": 3,
   "id": "8e4ebbb8-81ee-47d7-ab43-cbc1d5b0368f",
   "metadata": {},
   "outputs": [
    {
     "name": "stdout",
     "output_type": "stream",
     "text": [
      "[[[ 1  2]\n",
      "  [ 4  5]\n",
      "  [ 7  8]]\n",
      "\n",
      " [[11 22]\n",
      "  [44 55]\n",
      "  [77 88]]\n",
      "\n",
      " [[13 12]\n",
      "  [14 15]\n",
      "  [17 18]]]\n",
      "3\n",
      "(3, 3, 2)\n",
      "[[ 1  2  4  5  7  8]\n",
      " [11 22 44 55 77 88]\n",
      " [13 12 14 15 17 18]]\n"
     ]
    }
   ],
   "source": [
    "# Test reshape\n",
    "arr = np.array(\n",
    "    [[[1,2],\n",
    "    [4,5],\n",
    "    [7,8]],\n",
    "    [[11,22],\n",
    "    [44,55],\n",
    "    [77,88]],\n",
    "    [[13,12],\n",
    "    [14,15],\n",
    "    [17,18]]]\n",
    ")\n",
    "print(arr)\n",
    "print(arr.ndim)\n",
    "print(arr.shape)\n",
    "\n",
    "a1 = arr.reshape(3,3*2)\n",
    "print(a1)"
   ]
  },
  {
   "cell_type": "code",
   "execution_count": 4,
   "id": "328b79cd-d5ef-4e4f-9111-3e38bf5f4409",
   "metadata": {},
   "outputs": [
    {
     "name": "stdout",
     "output_type": "stream",
     "text": [
      "[PhysicalDevice(name='/physical_device:GPU:0', device_type='GPU')] \n",
      " [PhysicalDevice(name='/physical_device:CPU:0', device_type='CPU')]\n"
     ]
    },
    {
     "name": "stderr",
     "output_type": "stream",
     "text": [
      "2023-12-03 17:41:55.372394: I tensorflow/stream_executor/cuda/cuda_gpu_executor.cc:980] successful NUMA node read from SysFS had negative value (-1), but there must be at least one NUMA node, so returning NUMA node zero\n",
      "2023-12-03 17:41:55.388546: I tensorflow/stream_executor/cuda/cuda_gpu_executor.cc:980] successful NUMA node read from SysFS had negative value (-1), but there must be at least one NUMA node, so returning NUMA node zero\n",
      "2023-12-03 17:41:55.388656: I tensorflow/stream_executor/cuda/cuda_gpu_executor.cc:980] successful NUMA node read from SysFS had negative value (-1), but there must be at least one NUMA node, so returning NUMA node zero\n"
     ]
    }
   ],
   "source": [
    "gpus = tf.config.experimental.list_physical_devices(device_type='GPU')\n",
    "cpus = tf.config.experimental.list_physical_devices(device_type='CPU')\n",
    "print(gpus, '\\n', cpus)"
   ]
  },
  {
   "cell_type": "code",
   "execution_count": 5,
   "id": "43792d2d-9234-470b-ac41-0e49d5117d5f",
   "metadata": {},
   "outputs": [
    {
     "data": {
      "text/plain": [
       "(2, 3, 3, 2)"
      ]
     },
     "execution_count": 5,
     "metadata": {},
     "output_type": "execute_result"
    }
   ],
   "source": [
    "a1 = np.array(\n",
    "[[\n",
    "    [\n",
    "        [1,2],\n",
    "        [4,5],\n",
    "        [7,8]\n",
    "    ],\n",
    "    [\n",
    "        [11,22],\n",
    "        [44,55],\n",
    "        [77,88]\n",
    "    ],\n",
    "    [\n",
    "        [13,12],\n",
    "        [14,15],\n",
    "        [17,18]\n",
    "    ]\n",
    "],\n",
    "[\n",
    "    [\n",
    "        [1,2],\n",
    "        [4,5],\n",
    "        [7,8]\n",
    "    ],\n",
    "    [\n",
    "        [11,22],\n",
    "        [44,55],\n",
    "        [77,88]\n",
    "    ],\n",
    "    [\n",
    "        [13,12],\n",
    "        [14,15],\n",
    "        [17,18]\n",
    "    ]\n",
    "]]\n",
    ")\n",
    "a1.shape"
   ]
  },
  {
   "cell_type": "code",
   "execution_count": 6,
   "id": "0e5261e8",
   "metadata": {},
   "outputs": [
    {
     "data": {
      "text/plain": [
       "(2,)"
      ]
     },
     "execution_count": 6,
     "metadata": {},
     "output_type": "execute_result"
    }
   ],
   "source": [
    "a2 = np.array([2,5])\n",
    "a2.shape"
   ]
  },
  {
   "cell_type": "code",
   "execution_count": 9,
   "id": "fb410e13",
   "metadata": {},
   "outputs": [
    {
     "name": "stdout",
     "output_type": "stream",
     "text": [
      "[[[[  2  10]\n",
      "   [  8  25]\n",
      "   [ 14  40]]\n",
      "\n",
      "  [[ 22 110]\n",
      "   [ 88 275]\n",
      "   [154 440]]\n",
      "\n",
      "  [[ 26  60]\n",
      "   [ 28  75]\n",
      "   [ 34  90]]]\n",
      "\n",
      "\n",
      " [[[  2  10]\n",
      "   [  8  25]\n",
      "   [ 14  40]]\n",
      "\n",
      "  [[ 22 110]\n",
      "   [ 88 275]\n",
      "   [154 440]]\n",
      "\n",
      "  [[ 26  60]\n",
      "   [ 28  75]\n",
      "   [ 34  90]]]]\n",
      "(2, 3, 3, 2)\n"
     ]
    }
   ],
   "source": [
    "a3 = a1*a2\n",
    "print(a3)\n",
    "print(a3.shape)"
   ]
  },
  {
   "cell_type": "code",
   "execution_count": 10,
   "id": "11e3c006-b284-4215-84ae-915eb91709f7",
   "metadata": {},
   "outputs": [
    {
     "name": "stdout",
     "output_type": "stream",
     "text": [
      "[[[ 12  33  54]\n",
      "  [132 363 594]\n",
      "  [ 86 103 124]]\n",
      "\n",
      " [[ 12  33  54]\n",
      "  [132 363 594]\n",
      "  [ 86 103 124]]]\n",
      "(2, 3, 3)\n"
     ]
    }
   ],
   "source": [
    "dotr = np.dot(a1, a2)\n",
    "print(dotr)\n",
    "print(dotr.shape)\n",
    "    "
   ]
  },
  {
   "cell_type": "code",
   "execution_count": 13,
   "id": "f46b1beb",
   "metadata": {},
   "outputs": [
    {
     "name": "stdout",
     "output_type": "stream",
     "text": [
      "[[2 5 1]\n",
      " [3 4 2]]\n",
      "(2, 3)\n"
     ]
    }
   ],
   "source": [
    "a3 = np.array([[2,5,1], [3,4,2]])\n",
    "print(a3)\n",
    "print(a3.shape)"
   ]
  },
  {
   "cell_type": "code",
   "execution_count": 14,
   "id": "a14cde11",
   "metadata": {},
   "outputs": [
    {
     "name": "stdout",
     "output_type": "stream",
     "text": [
      "[[[[  8  13   5]\n",
      "   [ 23  40  14]\n",
      "   [ 38  67  23]]\n",
      "\n",
      "  [[ 88 143  55]\n",
      "   [253 440 154]\n",
      "   [418 737 253]]\n",
      "\n",
      "  [[ 62 113  37]\n",
      "   [ 73 130  44]\n",
      "   [ 88 157  53]]]\n",
      "\n",
      "\n",
      " [[[  8  13   5]\n",
      "   [ 23  40  14]\n",
      "   [ 38  67  23]]\n",
      "\n",
      "  [[ 88 143  55]\n",
      "   [253 440 154]\n",
      "   [418 737 253]]\n",
      "\n",
      "  [[ 62 113  37]\n",
      "   [ 73 130  44]\n",
      "   [ 88 157  53]]]]\n",
      "(2, 3, 3, 3)\n"
     ]
    }
   ],
   "source": [
    "dotr = np.dot(a1, a3)\n",
    "print(dotr)\n",
    "print(dotr.shape)"
   ]
  },
  {
   "cell_type": "code",
   "execution_count": 24,
   "id": "ca58144f",
   "metadata": {},
   "outputs": [
    {
     "name": "stdout",
     "output_type": "stream",
     "text": [
      "[[[2]\n",
      "  [5]]\n",
      "\n",
      " [[3]\n",
      "  [4]]\n",
      "\n",
      " [[3]\n",
      "  [4]]]\n",
      "(3, 2, 1)\n"
     ]
    }
   ],
   "source": [
    "'''\n",
    "a4 = np.array([[[2,0],[5,1]], \n",
    "               [[3,3],[4,2]], \n",
    "               [[3,3],[4,2]]])\n",
    "'''\n",
    "a4 = np.array([[[2],[5]], \n",
    "               [[3],[4]], \n",
    "               [[3],[4]]])\n",
    "print(a4)\n",
    "print(a4.shape)"
   ]
  },
  {
   "cell_type": "code",
   "execution_count": 25,
   "id": "c5f43b20",
   "metadata": {},
   "outputs": [
    {
     "name": "stdout",
     "output_type": "stream",
     "text": [
      "[[[[[ 12]\n",
      "    [ 11]\n",
      "    [ 11]]\n",
      "\n",
      "   [[ 33]\n",
      "    [ 32]\n",
      "    [ 32]]\n",
      "\n",
      "   [[ 54]\n",
      "    [ 53]\n",
      "    [ 53]]]\n",
      "\n",
      "\n",
      "  [[[132]\n",
      "    [121]\n",
      "    [121]]\n",
      "\n",
      "   [[363]\n",
      "    [352]\n",
      "    [352]]\n",
      "\n",
      "   [[594]\n",
      "    [583]\n",
      "    [583]]]\n",
      "\n",
      "\n",
      "  [[[ 86]\n",
      "    [ 87]\n",
      "    [ 87]]\n",
      "\n",
      "   [[103]\n",
      "    [102]\n",
      "    [102]]\n",
      "\n",
      "   [[124]\n",
      "    [123]\n",
      "    [123]]]]\n",
      "\n",
      "\n",
      "\n",
      " [[[[ 12]\n",
      "    [ 11]\n",
      "    [ 11]]\n",
      "\n",
      "   [[ 33]\n",
      "    [ 32]\n",
      "    [ 32]]\n",
      "\n",
      "   [[ 54]\n",
      "    [ 53]\n",
      "    [ 53]]]\n",
      "\n",
      "\n",
      "  [[[132]\n",
      "    [121]\n",
      "    [121]]\n",
      "\n",
      "   [[363]\n",
      "    [352]\n",
      "    [352]]\n",
      "\n",
      "   [[594]\n",
      "    [583]\n",
      "    [583]]]\n",
      "\n",
      "\n",
      "  [[[ 86]\n",
      "    [ 87]\n",
      "    [ 87]]\n",
      "\n",
      "   [[103]\n",
      "    [102]\n",
      "    [102]]\n",
      "\n",
      "   [[124]\n",
      "    [123]\n",
      "    [123]]]]]\n",
      "(2, 3, 3, 3, 1)\n"
     ]
    }
   ],
   "source": [
    "dotr = np.dot(a1, a4)\n",
    "print(dotr)\n",
    "print(dotr.shape)"
   ]
  },
  {
   "cell_type": "code",
   "execution_count": null,
   "id": "9d763dcc-bddb-44d2-96db-e14ec37367f2",
   "metadata": {},
   "outputs": [],
   "source": [
    "# test enumerate() usage\n",
    "\n"
   ]
  }
 ],
 "metadata": {
  "kernelspec": {
   "display_name": "Python 3 (ipykernel)",
   "language": "python",
   "name": "python3"
  },
  "language_info": {
   "codemirror_mode": {
    "name": "ipython",
    "version": 3
   },
   "file_extension": ".py",
   "mimetype": "text/x-python",
   "name": "python",
   "nbconvert_exporter": "python",
   "pygments_lexer": "ipython3",
<<<<<<< HEAD
   "version": "3.8.0"
=======
   "version": "3.9.0"
>>>>>>> 9115d0d499904b8f883d93cd1327c97aa12c3c25
  }
 },
 "nbformat": 4,
 "nbformat_minor": 5
}
