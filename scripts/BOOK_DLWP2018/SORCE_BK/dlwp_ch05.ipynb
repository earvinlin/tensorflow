{
 "cells": [
  {
   "cell_type": "code",
<<<<<<< HEAD
   "execution_count": 2,
=======
   "execution_count": 1,
>>>>>>> 03ee5e033c555480b6168834bbe57e5cbc91685b
   "id": "b56b153a",
   "metadata": {},
   "outputs": [
    {
     "name": "stderr",
     "output_type": "stream",
     "text": [
      "2023-11-10 22:05:14.429299: I tensorflow/core/platform/cpu_feature_guard.cc:182] This TensorFlow binary is optimized to use available CPU instructions in performance-critical operations.\n",
      "To enable the following instructions: SSE4.1 SSE4.2 AVX AVX2 AVX_VNNI FMA, in other operations, rebuild TensorFlow with the appropriate compiler flags.\n"
     ]
    }
   ],
   "source": [
    "import os\n",
    "import numpy as np\n",
    "import pandas as pd\n",
    "import tensorflow as tf\n",
    "import matplotlib.pyplot as plt\n",
    "from tensorflow import keras\n",
    "from tensorflow.keras import layers"
   ]
  },
  {
   "cell_type": "code",
<<<<<<< HEAD
   "execution_count": 3,
=======
   "execution_count": 2,
>>>>>>> 03ee5e033c555480b6168834bbe57e5cbc91685b
   "id": "4255723d",
   "metadata": {},
   "outputs": [
    {
     "name": "stdout",
     "output_type": "stream",
     "text": [
<<<<<<< HEAD
      "2.14.0\n"
     ]
    },
    {
     "ename": "AttributeError",
     "evalue": "module 'tensorflow.keras' has no attribute '__version__'",
     "output_type": "error",
     "traceback": [
      "\u001b[1;31m---------------------------------------------------------------------------\u001b[0m",
      "\u001b[1;31mAttributeError\u001b[0m                            Traceback (most recent call last)",
      "Cell \u001b[1;32mIn[3], line 2\u001b[0m\n\u001b[0;32m      1\u001b[0m \u001b[38;5;28mprint\u001b[39m(tf\u001b[38;5;241m.\u001b[39m__version__)\n\u001b[1;32m----> 2\u001b[0m \u001b[38;5;28mprint\u001b[39m(\u001b[43mkeras\u001b[49m\u001b[38;5;241;43m.\u001b[39;49m\u001b[43m__version__\u001b[49m)\n",
      "\u001b[1;31mAttributeError\u001b[0m: module 'tensorflow.keras' has no attribute '__version__'"
=======
      "2.12.0\n",
      "2.12.0\n"
>>>>>>> 03ee5e033c555480b6168834bbe57e5cbc91685b
     ]
    }
   ],
   "source": [
    "print(tf.__version__)\n",
    "print(keras.__version__)"
   ]
  },
  {
   "cell_type": "code",
   "execution_count": 3,
   "id": "a3be456b",
   "metadata": {},
   "outputs": [
    {
     "name": "stderr",
     "output_type": "stream",
     "text": [
      "2023-11-10 22:05:18.680262: I tensorflow/core/common_runtime/process_util.cc:146] Creating new thread pool with default inter op setting: 2. Tune using inter_op_parallelism_threads for best performance.\n"
     ]
    }
   ],
   "source": [
    "# Listing 5.1 Instantiating a small convnet\n",
    "\n",
    "from keras import layers\n",
    "from keras import models\n",
    "\n",
    "model = models.Sequential()\n",
    "model.add(layers.Conv2D(32, (3, 3), activation='relu', input_shape=(28, 28, 1)))\n",
    "model.add(layers.MaxPooling2D((2, 2)))\n",
    "model.add(layers.Conv2D(64, (3, 3), activation='relu'))\n",
    "model.add(layers.MaxPooling2D((2, 2)))\n",
    "model.add(layers.Conv2D(64, (3, 3), activation='relu'))\n"
   ]
  },
  {
   "cell_type": "code",
   "execution_count": 4,
   "id": "3685728f",
   "metadata": {},
   "outputs": [
    {
     "name": "stdout",
     "output_type": "stream",
     "text": [
      "Model: \"sequential\"\n",
      "_________________________________________________________________\n",
      " Layer (type)                Output Shape              Param #   \n",
      "=================================================================\n",
      " conv2d (Conv2D)             (None, 26, 26, 32)        320       \n",
      "                                                                 \n",
      " max_pooling2d (MaxPooling2D  (None, 13, 13, 32)       0         \n",
      " )                                                               \n",
      "                                                                 \n",
      " conv2d_1 (Conv2D)           (None, 11, 11, 64)        18496     \n",
      "                                                                 \n",
      " max_pooling2d_1 (MaxPooling  (None, 5, 5, 64)         0         \n",
      " 2D)                                                             \n",
      "                                                                 \n",
      " conv2d_2 (Conv2D)           (None, 3, 3, 64)          36928     \n",
      "                                                                 \n",
      "=================================================================\n",
      "Total params: 55,744\n",
      "Trainable params: 55,744\n",
      "Non-trainable params: 0\n",
      "_________________________________________________________________\n"
     ]
    }
   ],
   "source": [
    "model.summary()"
   ]
  },
  {
   "cell_type": "code",
   "execution_count": 5,
   "id": "ea3f1ebd",
   "metadata": {},
   "outputs": [],
   "source": [
    "# Listing 5.2 Adding a classifier on top of the convnet\n",
    "\n",
    "model.add(layers.Flatten())\n",
    "model.add(layers.Dense(64, activation='relu'))\n",
    "model.add(layers.Dense(10, activation='softmax'))\n"
   ]
  },
  {
   "cell_type": "code",
   "execution_count": 6,
   "id": "51b1e0c8",
   "metadata": {},
   "outputs": [
    {
     "name": "stdout",
     "output_type": "stream",
     "text": [
      "Model: \"sequential\"\n",
      "_________________________________________________________________\n",
      " Layer (type)                Output Shape              Param #   \n",
      "=================================================================\n",
      " conv2d (Conv2D)             (None, 26, 26, 32)        320       \n",
      "                                                                 \n",
      " max_pooling2d (MaxPooling2D  (None, 13, 13, 32)       0         \n",
      " )                                                               \n",
      "                                                                 \n",
      " conv2d_1 (Conv2D)           (None, 11, 11, 64)        18496     \n",
      "                                                                 \n",
      " max_pooling2d_1 (MaxPooling  (None, 5, 5, 64)         0         \n",
      " 2D)                                                             \n",
      "                                                                 \n",
      " conv2d_2 (Conv2D)           (None, 3, 3, 64)          36928     \n",
      "                                                                 \n",
      " flatten (Flatten)           (None, 576)               0         \n",
      "                                                                 \n",
      " dense (Dense)               (None, 64)                36928     \n",
      "                                                                 \n",
      " dense_1 (Dense)             (None, 10)                650       \n",
      "                                                                 \n",
      "=================================================================\n",
      "Total params: 93,322\n",
      "Trainable params: 93,322\n",
      "Non-trainable params: 0\n",
      "_________________________________________________________________\n"
     ]
    }
   ],
   "source": [
    "model.summary()"
   ]
  },
  {
   "cell_type": "code",
   "execution_count": 7,
   "id": "d9b4f3ee",
   "metadata": {
    "scrolled": true
   },
   "outputs": [
    {
     "name": "stdout",
     "output_type": "stream",
     "text": [
      "Downloading data from https://storage.googleapis.com/tensorflow/tf-keras-datasets/mnist.npz\n",
      "11490434/11490434 [==============================] - 16s 1us/step\n",
      "Epoch 1/5\n",
      "938/938 [==============================] - 34s 36ms/step - loss: 0.1753 - accuracy: 0.9450\n",
      "Epoch 2/5\n",
      "938/938 [==============================] - 46s 49ms/step - loss: 0.0475 - accuracy: 0.9855\n",
      "Epoch 3/5\n",
      "938/938 [==============================] - 37s 39ms/step - loss: 0.0324 - accuracy: 0.9897\n",
      "Epoch 4/5\n",
      "938/938 [==============================] - 68s 72ms/step - loss: 0.0247 - accuracy: 0.9923\n",
      "Epoch 5/5\n",
      "938/938 [==============================] - 68s 72ms/step - loss: 0.0184 - accuracy: 0.9943\n"
     ]
    },
    {
     "data": {
      "text/plain": [
       "<keras.callbacks.History at 0x7f3abbf464d0>"
      ]
     },
     "execution_count": 7,
     "metadata": {},
     "output_type": "execute_result"
    }
   ],
   "source": [
    "# Listing 5.3 Training the convnet on MNIST images\n",
    "\n",
    "from keras.datasets import mnist\n",
    "from keras.utils import to_categorical\n",
    "\n",
    "(train_images, train_labels), (test_images, test_labels) = mnist.load_data()\n",
    "\n",
    "train_images = train_images.reshape((60000, 28, 28, 1))\n",
    "train_images = train_images.astype('float32') / 255\n",
    "\n",
    "test_images = test_images.reshape((10000, 28, 28, 1))\n",
    "test_images = test_images.astype('float32') / 255\n",
    "\n",
    "train_labels = to_categorical(train_labels)\n",
    "test_labels = to_categorical(test_labels)\n",
    "\n",
    "model.compile(optimizer='rmsprop', loss='categorical_crossentropy', metrics=['accuracy'])\n",
    "model.fit(train_images, train_labels, epochs=5, batch_size=64)\n"
   ]
  },
  {
   "cell_type": "code",
   "execution_count": 28,
   "id": "eb90d739",
   "metadata": {},
   "outputs": [
    {
     "name": "stdout",
     "output_type": "stream",
     "text": [
      "313/313 [==============================] - 5s 14ms/step - loss: 0.0240 - accuracy: 0.9927\n",
      "loss=  0.023999255150556564 acc=  0.9926999807357788\n"
     ]
    }
   ],
   "source": [
    "# evaluate() : 在前一章某個程式段落執行會有問，以錯誤訊息來看，應該是這個函數已不建議使用…\n",
    "test_loss, test_acc = model.evaluate(test_images, test_labels)\n",
    "print(\"loss= \", test_loss, \"acc= \", test_acc)\n"
   ]
  },
  {
   "cell_type": "code",
   "execution_count": 29,
   "id": "c543f91c",
   "metadata": {},
   "outputs": [
    {
     "name": "stdout",
     "output_type": "stream",
     "text": [
      "/home/earvin/workspaces/datasets/kaggle_original_data/Cat/0.jpg /home/earvin/workspaces/datasets/cats_and_dogs_small/train/cats/0.jpg\n",
      "/home/earvin/workspaces/datasets/kaggle_original_data/Cat/1.jpg /home/earvin/workspaces/datasets/cats_and_dogs_small/train/cats/1.jpg\n",
      "/home/earvin/workspaces/datasets/kaggle_original_data/Cat/2.jpg /home/earvin/workspaces/datasets/cats_and_dogs_small/train/cats/2.jpg\n",
      "/home/earvin/workspaces/datasets/kaggle_original_data/Cat/3.jpg /home/earvin/workspaces/datasets/cats_and_dogs_small/train/cats/3.jpg\n",
      "/home/earvin/workspaces/datasets/kaggle_original_data/Cat/4.jpg /home/earvin/workspaces/datasets/cats_and_dogs_small/train/cats/4.jpg\n",
      "/home/earvin/workspaces/datasets/kaggle_original_data/Cat/5.jpg /home/earvin/workspaces/datasets/cats_and_dogs_small/train/cats/5.jpg\n",
      "/home/earvin/workspaces/datasets/kaggle_original_data/Cat/6.jpg /home/earvin/workspaces/datasets/cats_and_dogs_small/train/cats/6.jpg\n",
      "/home/earvin/workspaces/datasets/kaggle_original_data/Cat/7.jpg /home/earvin/workspaces/datasets/cats_and_dogs_small/train/cats/7.jpg\n",
      "/home/earvin/workspaces/datasets/kaggle_original_data/Cat/8.jpg /home/earvin/workspaces/datasets/cats_and_dogs_small/train/cats/8.jpg\n",
      "/home/earvin/workspaces/datasets/kaggle_original_data/Cat/9.jpg /home/earvin/workspaces/datasets/cats_and_dogs_small/train/cats/9.jpg\n"
     ]
    }
   ],
   "source": [
    "# FOR TEST os\n",
    "#os.path\n",
    "#print(os.path.isdir(original_dataset_dir))\n",
    "#print(original_dataset_dir)\n",
    "\n",
    "#--- FOR Linux Settings ---#\n",
    "original_dataset_dir = '/home/earvin/workspaces/datasets/kaggle_original_data'\n",
    "base_dir = '/home/earvin/workspaces/datasets/cats_and_dogs_small'\n",
    "\n",
    "#--- FOR Widows(vivopc) Settings ---#\n",
    "#original_dataset_dir = 'E:\\WORKSPACES\\Datasets\\kaggle_original_data'\n",
    "#base_dir = 'E:\\WORKSPACES\\Datasets\\cats_and_dogs_small'\n",
    "\n",
    "fnames = ['{}.jpg'.format(i) for i in range(10)]\n",
    "for fname in fnames:\n",
    "    src = os.path.join(original_dataset_dir, 'Cat', fname)\n",
    "    dst = os.path.join(train_cats_dir, fname)\n",
    "    print(src, dst)\n",
    "    shutil.copyfile(src, dst)\n",
    "\n",
    "\n"
   ]
  },
  {
   "cell_type": "code",
   "execution_count": 30,
   "id": "9dcb3c71",
   "metadata": {},
   "outputs": [],
   "source": [
    "# Listing 5.4 Copying images to training, validation, and test directories (1) \n",
    "# NOTE : 要依執行平台修正相對應的路徑\n",
    "\n",
    "import os, shutil\n",
    "\n",
    "#--- FOR Linux Settings ---#\n",
    "original_dataset_dir = '/home/earvin/workspaces/datasets/kaggle_original_data'\n",
    "base_dir = '/home/earvin/workspaces/datasets/cats_and_dogs_small'\n",
    "\n",
    "#--- FOR Widows(vivopc) Settings ---#\n",
    "#original_dataset_dir = 'E:\\WORKSPACES\\Datasets\\kaggle_original_data'\n",
    "#base_dir = 'E:\\WORKSPACES\\Datasets\\cats_and_dogs_small'\n",
    "\n",
    "if not os.path.isdir(base_dir):\n",
    "    os.mkdir(base_dir)\n",
    "    # 分別對應劃分後的訓練、驗證和測試的目錄\n",
    "    train_dir = os.path.join(base_dir, 'train')\n",
    "    os.mkdir(train_dir)\n",
    "    validation_dir = os.path.join(base_dir, 'validation')\n",
    "    os.mkdir(validation_dir)\n",
    "    test_dir = os.path.join(base_dir, 'test')\n",
    "    os.mkdir(test_dir)\n",
    "\n",
    "    # 貓、狗的訓練圖像目錄\n",
    "    train_cats_dir = os.path.join(train_dir, 'cats')\n",
    "    os.mkdir(train_cats_dir)\n",
    "    train_dogs_dir = os.path.join(train_dir, 'dogs')\n",
    "    os.mkdir(train_dogs_dir)\n",
    "\n",
    "    # 貓、狗的驗證圖像目錄\n",
    "    validation_cats_dir = os.path.join(validation_dir, 'cats')\n",
    "    os.mkdir(validation_cats_dir)\n",
    "    validation_dogs_dir = os.path.join(validation_dir, 'dogs')\n",
    "    os.mkdir(validation_dogs_dir)\n",
    "\n",
    "    # 貓、狗的測試圖像目錄\n",
    "    test_cats_dir = os.path.join(test_dir, 'cats')\n",
    "    os.mkdir(test_cats_dir)\n",
    "    test_dogs_dir = os.path.join(test_dir, 'dogs')\n",
    "    os.mkdir(test_dogs_dir)\n"
   ]
  },
  {
   "cell_type": "code",
   "execution_count": 31,
   "id": "e5542e94",
   "metadata": {},
   "outputs": [],
   "source": [
    "# § Listing 5.4 Copying images to training, validation, and test directories (2)\n",
    "\n",
    "# Cats\n",
    "#fnames = ['cat.{}.jpg'.format(i) for i in range(1000)]\n",
    "fnames = ['{}.jpg'.format(i) for i in range(1000)]\n",
    "for fname in fnames:\n",
    "#    src = os.path.join(original_dataset_dir, fname)\n",
    "    src = os.path.join(original_dataset_dir, 'Cat', fname)\n",
    "    dst = os.path.join(train_cats_dir, fname)\n",
    "    shutil.copyfile(src, dst)\n",
    "\n",
    "#fnames = ['cat.{}.jpg'.format(i) for i in range(1000, 1500)]\n",
    "fnames = ['{}.jpg'.format(i) for i in range(1000, 1500)]\n",
    "for fname in fnames:\n",
    "#    src = os.path.join(original_dataset_dir, fname)\n",
    "    src = os.path.join(original_dataset_dir, 'Cat', fname)\n",
    "    dst = os.path.join(validation_cats_dir, fname)\n",
    "    shutil.copyfile(src, dst)\n",
    "\n",
    "#fnames = ['cat.{}.jpg'.format(i) for i in range(1500, 2000)]\n",
    "fnames = ['{}.jpg'.format(i) for i in range(1500, 2000)]\n",
    "for fname in fnames:\n",
    "#    src = os.path.join(original_dataset_dir, fname)\n",
    "    src = os.path.join(original_dataset_dir, 'Cat', fname)\n",
    "    dst = os.path.join(test_cats_dir, fname)\n",
    "    shutil.copyfile(src, dst)\n",
    "\n",
    "# Dogs\n",
    "#fnames = ['dog.{}.jpg'.format(i) for i in range(1000)]\n",
    "fnames = ['{}.jpg'.format(i) for i in range(1000)]\n",
    "for fname in fnames:\n",
    "#    src = os.path.join(original_dataset_dir, fname)\n",
    "    src = os.path.join(original_dataset_dir, 'Dog', fname)\n",
    "    dst = os.path.join(train_dogs_dir, fname)\n",
    "    shutil.copyfile(src, dst)\n",
    "\n",
    "#fnames = ['dog.{}.jpg'.format(i) for i in range(1000, 1500)]\n",
    "fnames = ['{}.jpg'.format(i) for i in range(1000, 1500)]\n",
    "for fname in fnames:\n",
    "#    src = os.path.join(original_dataset_dir, fname)\n",
    "    src = os.path.join(original_dataset_dir, 'Dog', fname)\n",
    "    dst = os.path.join(validation_dogs_dir, fname)\n",
    "    shutil.copyfile(src, dst)\n",
    "\n",
    "#fnames = ['dog.{}.jpg'.format(i) for i in range(1500, 2000)]\n",
    "fnames = ['{}.jpg'.format(i) for i in range(1500, 2000)]\n",
    "for fname in fnames:\n",
    "#    src = os.path.join(original_dataset_dir, fname)\n",
    "    src = os.path.join(original_dataset_dir, 'Dog', fname)\n",
    "    dst = os.path.join(test_dogs_dir, fname)\n",
    "    shutil.copyfile(src, dst)\n"
   ]
  },
  {
   "cell_type": "code",
   "execution_count": 32,
   "id": "62a6040c",
   "metadata": {},
   "outputs": [
    {
     "name": "stdout",
     "output_type": "stream",
     "text": [
      "total training cat images:  1000\n",
      "total training dog images:  1000\n",
      "total validation cat images:  500\n",
      "total validation dog images:  500\n",
      "total test cat images:  500\n",
      "total test dog images:  500\n"
     ]
    }
   ],
   "source": [
    "# check copy status\n",
    "\n",
    "print('total training cat images: ', len(os.listdir(train_cats_dir)))\n",
    "print('total training dog images: ', len(os.listdir(train_dogs_dir)))\n",
    "print('total validation cat images: ', len(os.listdir(validation_cats_dir)))\n",
    "print('total validation dog images: ', len(os.listdir(validation_dogs_dir)))\n",
    "print('total test cat images: ', len(os.listdir(test_cats_dir)))\n",
    "print('total test dog images: ', len(os.listdir(test_dogs_dir)))\n"
   ]
  },
  {
   "cell_type": "code",
   "execution_count": 33,
   "id": "b8d7ef7a",
   "metadata": {},
   "outputs": [],
   "source": [
    "# Listing 5.5 Instantiating a small convnet for dogs vs. cats classification\n",
    "\n",
    "from keras import layers\n",
    "from keras import models\n",
    "\n",
    "model = models.Sequential()\n",
    "# param = (3 * 3 * 3 + 1) * 32 = 896\n",
    "model.add(layers.Conv2D(32, (3, 3), activation='relu', input_shape=(150, 150, 3)))\n",
    "model.add(layers.MaxPooling2D((2, 2)))\n",
    "# param = (32 * 3 * 3 + 1) * 64 = 18496\n",
    "model.add(layers.Conv2D(64, (3, 3), activation='relu'))\n",
    "model.add(layers.MaxPooling2D((2, 2)))\n",
    "# param = (64 * 3 * 3 + 1) * 128 = 73856\n",
    "model.add(layers.Conv2D(128, (3, 3), activation='relu'))\n",
    "model.add(layers.MaxPooling2D((2, 2)))\n",
    "# param = (128 * 3 * 3 + 1) * 128 = 147584\n",
    "model.add(layers.Conv2D(128, (3, 3), activation='relu'))\n",
    "model.add(layers.MaxPooling2D((2, 2)))\n",
    "\n",
    "model.add(layers.Flatten())\n",
    "# ??\n",
    "model.add(layers.Dense(512, activation='relu'))\n",
    "model.add(layers.Dense(1, activation='sigmoid'))\n"
   ]
  },
  {
   "cell_type": "code",
   "execution_count": 34,
   "id": "3cd9155d",
   "metadata": {},
   "outputs": [
    {
     "name": "stdout",
     "output_type": "stream",
     "text": [
      "Model: \"sequential_3\"\n",
      "_________________________________________________________________\n",
      "Layer (type)                 Output Shape              Param #   \n",
      "=================================================================\n",
      "conv2d_10 (Conv2D)           (None, 148, 148, 32)      896       \n",
      "_________________________________________________________________\n",
      "max_pooling2d_8 (MaxPooling2 (None, 74, 74, 32)        0         \n",
      "_________________________________________________________________\n",
      "conv2d_11 (Conv2D)           (None, 72, 72, 64)        18496     \n",
      "_________________________________________________________________\n",
      "max_pooling2d_9 (MaxPooling2 (None, 36, 36, 64)        0         \n",
      "_________________________________________________________________\n",
      "conv2d_12 (Conv2D)           (None, 34, 34, 128)       73856     \n",
      "_________________________________________________________________\n",
      "max_pooling2d_10 (MaxPooling (None, 17, 17, 128)       0         \n",
      "_________________________________________________________________\n",
      "conv2d_13 (Conv2D)           (None, 15, 15, 128)       147584    \n",
      "_________________________________________________________________\n",
      "max_pooling2d_11 (MaxPooling (None, 7, 7, 128)         0         \n",
      "_________________________________________________________________\n",
      "flatten_3 (Flatten)          (None, 6272)              0         \n",
      "_________________________________________________________________\n",
      "dense_6 (Dense)              (None, 512)               3211776   \n",
      "_________________________________________________________________\n",
      "dense_7 (Dense)              (None, 1)                 513       \n",
      "=================================================================\n",
      "Total params: 3,453,121\n",
      "Trainable params: 3,453,121\n",
      "Non-trainable params: 0\n",
      "_________________________________________________________________\n"
     ]
    }
   ],
   "source": [
    "model.summary()\n"
   ]
  },
  {
   "cell_type": "code",
   "execution_count": 35,
   "id": "9adfe5f7",
   "metadata": {},
   "outputs": [],
   "source": [
    "# Listing 5.6 Configuring the model for training\n",
    "\n",
    "from keras import optimizers\n",
    "\n",
    "model.compile(loss='binary_crossentropy',\n",
    "              optimizer=optimizers.RMSprop(lr=1e-4),\n",
    "              metrics=['acc'])\n"
   ]
  },
  {
   "cell_type": "code",
   "execution_count": 36,
   "id": "c20a052a",
   "metadata": {},
   "outputs": [
    {
     "name": "stdout",
     "output_type": "stream",
     "text": [
      "Found 2000 images belonging to 2 classes.\n",
      "Found 1000 images belonging to 2 classes.\n"
     ]
    }
   ],
   "source": [
    "# § Listing 5.7 Using ImageDataGenerator to read images from directories\n",
    "\n",
    "from keras.preprocessing.image import ImageDataGenerator\n",
    "\n",
    "train_datagen = ImageDataGenerator(rescale=1./255)\n",
    "test_datagen = ImageDataGenerator(rescale=1./255)\n",
    "\n",
    "train_generator = train_datagen.flow_from_directory(\n",
    "    train_dir,\n",
    "    target_size=(150, 150),\n",
    "    batch_size=20,\n",
    "    class_mode='binary')\n",
    "\n",
    "validation_generator = test_datagen.flow_from_directory(\n",
    "    validation_dir,\n",
    "    target_size=(150, 150),\n",
    "    batch_size=20,\n",
    "    class_mode='binary')\n"
   ]
  },
  {
   "cell_type": "code",
   "execution_count": 37,
   "id": "baf18161",
   "metadata": {},
   "outputs": [
    {
     "name": "stdout",
     "output_type": "stream",
     "text": [
      "data batch shape: (20, 150, 150, 3)\n",
      "labels batch shape: (20,)\n"
     ]
    }
   ],
   "source": [
    "#=== FOR TEST ===#\n",
    "for data_batch, labels_batch in train_generator:\n",
    "    print('data batch shape:', data_batch.shape)\n",
    "    print('labels batch shape:', labels_batch.shape)\n",
    "    break\n"
   ]
  },
  {
   "cell_type": "code",
   "execution_count": 38,
   "id": "897240fe",
   "metadata": {
    "scrolled": true
   },
   "outputs": [
    {
     "name": "stdout",
     "output_type": "stream",
     "text": [
      "Epoch 1/30\n",
      "100/100 [==============================] - 52s 470ms/step - loss: 0.6926 - acc: 0.5355 - val_loss: 0.6710 - val_acc: 0.6140\n",
      "Epoch 2/30\n",
      "100/100 [==============================] - 74s 745ms/step - loss: 0.6683 - acc: 0.5865 - val_loss: 0.6342 - val_acc: 0.6270\n",
      "Epoch 3/30\n",
      "100/100 [==============================] - 80s 798ms/step - loss: 0.6307 - acc: 0.6480 - val_loss: 0.6300 - val_acc: 0.6240\n",
      "Epoch 4/30\n",
      "100/100 [==============================] - 80s 797ms/step - loss: 0.5811 - acc: 0.6924 - val_loss: 0.5909 - val_acc: 0.6750\n",
      "Epoch 5/30\n",
      "100/100 [==============================] - 78s 781ms/step - loss: 0.5650 - acc: 0.7083 - val_loss: 0.5647 - val_acc: 0.7020\n",
      "Epoch 6/30\n",
      "100/100 [==============================] - 79s 421ms/step - loss: 0.5205 - acc: 0.7454 - val_loss: 0.6251 - val_acc: 0.6520\n",
      "Epoch 7/30\n",
      "100/100 [==============================] - 84s 840ms/step - loss: 0.4868 - acc: 0.7634 - val_loss: 0.5851 - val_acc: 0.6790\n",
      "Epoch 8/30\n",
      "100/100 [==============================] - 89s 884ms/step - loss: 0.4670 - acc: 0.7848 - val_loss: 0.5366 - val_acc: 0.7270\n",
      "Epoch 9/30\n",
      "100/100 [==============================] - 82s 821ms/step - loss: 0.4128 - acc: 0.8214 - val_loss: 0.5690 - val_acc: 0.7050\n",
      "Epoch 10/30\n",
      "100/100 [==============================] - 80s 798ms/step - loss: 0.3902 - acc: 0.8252 - val_loss: 0.5479 - val_acc: 0.7330\n",
      "Epoch 11/30\n",
      "100/100 [==============================] - 78s 778ms/step - loss: 0.3802 - acc: 0.8298 - val_loss: 0.5399 - val_acc: 0.7300\n",
      "Epoch 12/30\n",
      "100/100 [==============================] - 81s 810ms/step - loss: 0.3566 - acc: 0.8465 - val_loss: 0.6005 - val_acc: 0.7240\n",
      "Epoch 13/30\n",
      "100/100 [==============================] - 78s 778ms/step - loss: 0.3371 - acc: 0.8549 - val_loss: 0.5612 - val_acc: 0.7400\n",
      "Epoch 14/30\n",
      "100/100 [==============================] - 77s 770ms/step - loss: 0.3078 - acc: 0.8703 - val_loss: 0.5381 - val_acc: 0.7530\n",
      "Epoch 15/30\n",
      "100/100 [==============================] - 81s 810ms/step - loss: 0.2814 - acc: 0.8940 - val_loss: 0.6284 - val_acc: 0.7190\n",
      "Epoch 16/30\n",
      "100/100 [==============================] - 78s 783ms/step - loss: 0.2539 - acc: 0.8965 - val_loss: 0.5569 - val_acc: 0.7420\n",
      "Epoch 17/30\n",
      "100/100 [==============================] - 77s 769ms/step - loss: 0.2515 - acc: 0.9028 - val_loss: 0.5885 - val_acc: 0.7400\n",
      "Epoch 18/30\n",
      "100/100 [==============================] - 80s 800ms/step - loss: 0.2090 - acc: 0.9248 - val_loss: 0.6163 - val_acc: 0.7320\n",
      "Epoch 19/30\n",
      "100/100 [==============================] - 81s 805ms/step - loss: 0.1783 - acc: 0.9413 - val_loss: 0.6395 - val_acc: 0.7410\n",
      "Epoch 20/30\n",
      "100/100 [==============================] - 79s 793ms/step - loss: 0.2012 - acc: 0.9256 - val_loss: 0.6374 - val_acc: 0.7510\n",
      "Epoch 21/30\n",
      "100/100 [==============================] - 80s 803ms/step - loss: 0.1496 - acc: 0.9483 - val_loss: 0.6547 - val_acc: 0.7340\n",
      "Epoch 22/30\n",
      "100/100 [==============================] - 79s 787ms/step - loss: 0.1507 - acc: 0.9558 - val_loss: 0.6657 - val_acc: 0.7410\n",
      "Epoch 23/30\n",
      "100/100 [==============================] - 76s 764ms/step - loss: 0.1254 - acc: 0.9633 - val_loss: 0.7430 - val_acc: 0.7440\n",
      "Epoch 24/30\n",
      "100/100 [==============================] - 78s 783ms/step - loss: 0.1098 - acc: 0.9648 - val_loss: 0.7719 - val_acc: 0.7270\n",
      "Epoch 25/30\n",
      "100/100 [==============================] - 80s 800ms/step - loss: 0.0935 - acc: 0.9749 - val_loss: 0.9312 - val_acc: 0.7210\n",
      "Epoch 26/30\n",
      "100/100 [==============================] - 77s 766ms/step - loss: 0.0834 - acc: 0.9774 - val_loss: 0.7943 - val_acc: 0.7330\n",
      "Epoch 27/30\n",
      "100/100 [==============================] - 79s 790ms/step - loss: 0.0741 - acc: 0.9804 - val_loss: 0.8172 - val_acc: 0.7380\n",
      "Epoch 28/30\n",
      "100/100 [==============================] - 80s 804ms/step - loss: 0.0602 - acc: 0.9848 - val_loss: 0.8818 - val_acc: 0.7370\n",
      "Epoch 29/30\n",
      "100/100 [==============================] - 77s 771ms/step - loss: 0.0541 - acc: 0.9875 - val_loss: 1.0553 - val_acc: 0.7180\n",
      "Epoch 30/30\n",
      "100/100 [==============================] - 79s 787ms/step - loss: 0.0475 - acc: 0.9894 - val_loss: 0.9340 - val_acc: 0.7410\n"
     ]
    }
   ],
   "source": [
    "# Listing 5.8 Fitting the model using a batch generator\n",
    "\n",
    "history = model.fit_generator(\n",
    "    train_generator,\n",
    "    steps_per_epoch=100,\n",
    "    epochs=30,\n",
    "    validation_data=validation_generator,\n",
    "    validation_steps=50)\n"
   ]
  },
  {
   "cell_type": "code",
   "execution_count": 39,
   "id": "cf8b40e7",
   "metadata": {},
   "outputs": [],
   "source": [
    "# Listing 5.9 Saving the model\n",
    "\n",
    "model.save('cats_and_dogs_small_1.h5')\n"
   ]
  },
  {
   "cell_type": "code",
   "execution_count": 40,
   "id": "80a7e799",
   "metadata": {},
   "outputs": [
    {
     "data": {
      "image/png": "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",
      "text/plain": [
       "<Figure size 640x480 with 1 Axes>"
      ]
     },
     "metadata": {},
     "output_type": "display_data"
    },
    {
     "data": {
      "image/png": "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",
      "text/plain": [
       "<Figure size 640x480 with 1 Axes>"
      ]
     },
     "metadata": {},
     "output_type": "display_data"
    }
   ],
   "source": [
    "# Listing 5.10 Displaying curves of loss and accuracy during training\n",
    "\n",
    "import matplotlib.pyplot as plt\n",
    "\n",
    "acc = history.history['acc']\n",
    "val_acc = history.history['val_acc']\n",
    "loss = history.history['loss']\n",
    "val_loss = history.history['val_loss']\n",
    "\n",
    "epochs = range(1, len(acc) + 1)\n",
    "\n",
    "plt.plot(epochs, acc, 'bo', label='Training loss')\n",
    "plt.plot(epochs, val_acc, 'b', label='Validation acc')\n",
    "plt.title('Training and validation accuracy')\n",
    "plt.legend()\n",
    "\n",
    "plt.figure()\n",
    "\n",
    "plt.plot(epochs, loss, 'bo', label='Training loss')\n",
    "plt.plot(epochs, val_loss, 'b', label='Validation loss')\n",
    "plt.title('Training and validation loss')\n",
    "plt.legend()\n",
    "\n",
    "plt.show()\n"
   ]
  },
  {
   "cell_type": "code",
   "execution_count": null,
   "id": "a823a79a",
   "metadata": {},
   "outputs": [],
   "source": [
    "#=== CH05的後半段，再找時機做 ===#\n"
   ]
  }
 ],
 "metadata": {
  "kernelspec": {
   "display_name": "Python 3 (ipykernel)",
   "language": "python",
   "name": "python3"
  },
  "language_info": {
   "codemirror_mode": {
    "name": "ipython",
    "version": 3
   },
   "file_extension": ".py",
   "mimetype": "text/x-python",
   "name": "python",
   "nbconvert_exporter": "python",
   "pygments_lexer": "ipython3",
<<<<<<< HEAD
   "version": "3.9.16"
=======
   "version": "3.11.5"
>>>>>>> 03ee5e033c555480b6168834bbe57e5cbc91685b
  }
 },
 "nbformat": 4,
 "nbformat_minor": 5
}
