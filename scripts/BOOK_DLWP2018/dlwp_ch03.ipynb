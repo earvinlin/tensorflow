{
 "cells": [
  {
   "cell_type": "code",
   "execution_count": 1,
   "id": "1416c439",
   "metadata": {},
   "outputs": [
    {
     "name": "stderr",
     "output_type": "stream",
     "text": [
      "2024-07-14 15:21:38.977663: I tensorflow/core/platform/cpu_feature_guard.cc:182] This TensorFlow binary is optimized to use available CPU instructions in performance-critical operations.\n",
      "To enable the following instructions: SSE4.1 SSE4.2 AVX AVX2 FMA, in other operations, rebuild TensorFlow with the appropriate compiler flags.\n"
     ]
    }
   ],
   "source": [
    "import os\n",
    "import numpy as np\n",
    "import pandas as pd\n",
    "import tensorflow as tf\n",
    "import matplotlib.pyplot as plt\n",
    "from tensorflow import keras\n",
    "from tensorflow.keras import layers"
   ]
  },
  {
   "cell_type": "code",
   "execution_count": 2,
   "id": "d683dcda",
   "metadata": {},
   "outputs": [
    {
     "data": {
      "text/plain": [
       "'2.12.0'"
      ]
     },
     "execution_count": 2,
     "metadata": {},
     "output_type": "execute_result"
    }
   ],
   "source": [
    "tf.__version__"
   ]
  },
  {
   "cell_type": "code",
   "execution_count": 3,
   "id": "832bc144",
   "metadata": {},
   "outputs": [],
   "source": [
    "# Listing 3.1 Loading the IMDB dataset\n",
    "\n",
    "from keras.datasets import imdb\n",
    "(train_data, train_labels), (test_data, test_labels) = imdb.load_data(\n",
    "num_words=10000)"
   ]
  },
  {
   "cell_type": "code",
   "execution_count": 4,
   "id": "9c7e1bf5",
   "metadata": {},
   "outputs": [
    {
     "data": {
      "text/plain": [
       "[1,\n",
       " 14,\n",
       " 22,\n",
       " 16,\n",
       " 43,\n",
       " 530,\n",
       " 973,\n",
       " 1622,\n",
       " 1385,\n",
       " 65,\n",
       " 458,\n",
       " 4468,\n",
       " 66,\n",
       " 3941,\n",
       " 4,\n",
       " 173,\n",
       " 36,\n",
       " 256,\n",
       " 5,\n",
       " 25,\n",
       " 100,\n",
       " 43,\n",
       " 838,\n",
       " 112,\n",
       " 50,\n",
       " 670,\n",
       " 2,\n",
       " 9,\n",
       " 35,\n",
       " 480,\n",
       " 284,\n",
       " 5,\n",
       " 150,\n",
       " 4,\n",
       " 172,\n",
       " 112,\n",
       " 167,\n",
       " 2,\n",
       " 336,\n",
       " 385,\n",
       " 39,\n",
       " 4,\n",
       " 172,\n",
       " 4536,\n",
       " 1111,\n",
       " 17,\n",
       " 546,\n",
       " 38,\n",
       " 13,\n",
       " 447,\n",
       " 4,\n",
       " 192,\n",
       " 50,\n",
       " 16,\n",
       " 6,\n",
       " 147,\n",
       " 2025,\n",
       " 19,\n",
       " 14,\n",
       " 22,\n",
       " 4,\n",
       " 1920,\n",
       " 4613,\n",
       " 469,\n",
       " 4,\n",
       " 22,\n",
       " 71,\n",
       " 87,\n",
       " 12,\n",
       " 16,\n",
       " 43,\n",
       " 530,\n",
       " 38,\n",
       " 76,\n",
       " 15,\n",
       " 13,\n",
       " 1247,\n",
       " 4,\n",
       " 22,\n",
       " 17,\n",
       " 515,\n",
       " 17,\n",
       " 12,\n",
       " 16,\n",
       " 626,\n",
       " 18,\n",
       " 2,\n",
       " 5,\n",
       " 62,\n",
       " 386,\n",
       " 12,\n",
       " 8,\n",
       " 316,\n",
       " 8,\n",
       " 106,\n",
       " 5,\n",
       " 4,\n",
       " 2223,\n",
       " 5244,\n",
       " 16,\n",
       " 480,\n",
       " 66,\n",
       " 3785,\n",
       " 33,\n",
       " 4,\n",
       " 130,\n",
       " 12,\n",
       " 16,\n",
       " 38,\n",
       " 619,\n",
       " 5,\n",
       " 25,\n",
       " 124,\n",
       " 51,\n",
       " 36,\n",
       " 135,\n",
       " 48,\n",
       " 25,\n",
       " 1415,\n",
       " 33,\n",
       " 6,\n",
       " 22,\n",
       " 12,\n",
       " 215,\n",
       " 28,\n",
       " 77,\n",
       " 52,\n",
       " 5,\n",
       " 14,\n",
       " 407,\n",
       " 16,\n",
       " 82,\n",
       " 2,\n",
       " 8,\n",
       " 4,\n",
       " 107,\n",
       " 117,\n",
       " 5952,\n",
       " 15,\n",
       " 256,\n",
       " 4,\n",
       " 2,\n",
       " 7,\n",
       " 3766,\n",
       " 5,\n",
       " 723,\n",
       " 36,\n",
       " 71,\n",
       " 43,\n",
       " 530,\n",
       " 476,\n",
       " 26,\n",
       " 400,\n",
       " 317,\n",
       " 46,\n",
       " 7,\n",
       " 4,\n",
       " 2,\n",
       " 1029,\n",
       " 13,\n",
       " 104,\n",
       " 88,\n",
       " 4,\n",
       " 381,\n",
       " 15,\n",
       " 297,\n",
       " 98,\n",
       " 32,\n",
       " 2071,\n",
       " 56,\n",
       " 26,\n",
       " 141,\n",
       " 6,\n",
       " 194,\n",
       " 7486,\n",
       " 18,\n",
       " 4,\n",
       " 226,\n",
       " 22,\n",
       " 21,\n",
       " 134,\n",
       " 476,\n",
       " 26,\n",
       " 480,\n",
       " 5,\n",
       " 144,\n",
       " 30,\n",
       " 5535,\n",
       " 18,\n",
       " 51,\n",
       " 36,\n",
       " 28,\n",
       " 224,\n",
       " 92,\n",
       " 25,\n",
       " 104,\n",
       " 4,\n",
       " 226,\n",
       " 65,\n",
       " 16,\n",
       " 38,\n",
       " 1334,\n",
       " 88,\n",
       " 12,\n",
       " 16,\n",
       " 283,\n",
       " 5,\n",
       " 16,\n",
       " 4472,\n",
       " 113,\n",
       " 103,\n",
       " 32,\n",
       " 15,\n",
       " 16,\n",
       " 5345,\n",
       " 19,\n",
       " 178,\n",
       " 32]"
      ]
     },
     "execution_count": 4,
     "metadata": {},
     "output_type": "execute_result"
    }
   ],
   "source": [
    "train_data[0]"
   ]
  },
  {
   "cell_type": "code",
   "execution_count": 5,
   "id": "5bee384c",
   "metadata": {},
   "outputs": [
    {
     "data": {
      "text/plain": [
       "1"
      ]
     },
     "execution_count": 5,
     "metadata": {},
     "output_type": "execute_result"
    }
   ],
   "source": [
    "train_labels[0]"
   ]
  },
  {
   "cell_type": "code",
   "execution_count": 6,
   "id": "b047fcc9",
   "metadata": {},
   "outputs": [
    {
     "data": {
      "text/plain": [
       "9999"
      ]
     },
     "execution_count": 6,
     "metadata": {},
     "output_type": "execute_result"
    }
   ],
   "source": [
    "max([max(sequence) for sequence in train_data])"
   ]
  },
  {
   "cell_type": "code",
   "execution_count": 7,
   "id": "d2b93dcf",
   "metadata": {},
   "outputs": [],
   "source": [
    "word_index = imdb.get_word_index()\n",
    "reverse_word_index = dict(\n",
    "[(value, key) for (key, value) in word_index.items()])\n",
    "decoded_review = ' '.join(\n",
    "[reverse_word_index.get(i - 3, '?') for i in train_data[0]])"
   ]
  },
  {
   "cell_type": "code",
   "execution_count": 8,
   "id": "55e851ce",
   "metadata": {},
   "outputs": [],
   "source": [
    "# Listing 3.2 Encoding the integer sequences into a binary matrix\n",
    "\n",
    "import numpy as np\n",
    "def vectorize_sequences(sequences, dimension=10000):\n",
    "    results = np.zeros((len(sequences), dimension))\n",
    "    for i, sequence in enumerate(sequences):\n",
    "        results[i, sequence] = 1.\n",
    "    return results\n",
    "x_train = vectorize_sequences(train_data)\n",
    "x_test = vectorize_sequences(test_data)\n",
    "\n",
    "y_train = np.asarray(train_labels).astype('float32')\n",
    "y_test = np.asarray(test_labels).astype('float32')"
   ]
  },
  {
   "cell_type": "code",
   "execution_count": 9,
   "id": "51a2e003",
   "metadata": {},
   "outputs": [
    {
     "name": "stdout",
     "output_type": "stream",
     "text": [
      "[0. 1. 1. 0. 1. 1. 1. 1. 1. 1.]\n"
     ]
    }
   ],
   "source": [
    "print(x_train[1][:10])"
   ]
  },
  {
   "cell_type": "code",
   "execution_count": 10,
   "id": "651cce22",
   "metadata": {},
   "outputs": [
    {
     "name": "stderr",
     "output_type": "stream",
     "text": [
      "2024-07-14 15:21:57.446273: I tensorflow/core/common_runtime/process_util.cc:146] Creating new thread pool with default inter op setting: 2. Tune using inter_op_parallelism_threads for best performance.\n"
     ]
    }
   ],
   "source": [
    "# Listing 3.3 The model definition\n",
    "\n",
    "from keras import models\n",
    "from keras import layers\n",
    "\n",
    "model = models.Sequential()\n",
    "model.add(layers.Dense(16, activation='relu', input_shape=(10000,)))\n",
    "model.add(layers.Dense(16, activation='relu'))\n",
    "model.add(layers.Dense(1, activation='sigmoid'))\n"
   ]
  },
  {
   "cell_type": "code",
   "execution_count": 11,
   "id": "605342a0-f087-449a-9dcb-084924ee7953",
   "metadata": {},
   "outputs": [],
   "source": [
    "# Listing 3.4 Compiling the model\n",
    "\n",
    "model.compile(optimizer='rmsprop',\n",
    "loss='binary_crossentropy',\n",
    "metrics=['accuracy'])\n"
   ]
  },
  {
   "cell_type": "code",
   "execution_count": 12,
   "id": "c81679f9-aff0-489b-8e6d-5f5247a4fae5",
   "metadata": {},
   "outputs": [
    {
     "name": "stderr",
     "output_type": "stream",
     "text": [
      "/home/earvin/anaconda3/envs/tf/lib/python3.11/site-packages/keras/optimizers/legacy/rmsprop.py:143: UserWarning: The `lr` argument is deprecated, use `learning_rate` instead.\n",
      "  super().__init__(name, **kwargs)\n"
     ]
    }
   ],
   "source": [
    "# Listing 3.5 Configuring the optimizer\n",
    "\n",
    "from keras import optimizers\n",
    "\n",
    "model.compile(optimizer=optimizers.RMSprop(lr=0.001),\n",
    "loss='binary_crossentropy',\n",
    "metrics=['accuracy'])\n"
   ]
  },
  {
   "cell_type": "code",
   "execution_count": 13,
   "id": "47b6b4ad-7c09-4d39-897a-200aacb24925",
   "metadata": {},
   "outputs": [],
   "source": [
    "# Listing 3.6 Using custom losses and metrics\n",
    "\n",
    "from keras import losses\n",
    "from keras import metrics\n",
    "\n",
    "model.compile(optimizer=optimizers.RMSprop(lr=0.001),\n",
    "loss=losses.binary_crossentropy,\n",
    "metrics=[metrics.binary_accuracy])\n"
   ]
  },
  {
   "cell_type": "code",
   "execution_count": 14,
   "id": "436da9c1-6cca-41f0-928f-b7c964cdae02",
   "metadata": {},
   "outputs": [],
   "source": [
    "# Listing 3.7 Setting aside a validation set\n",
    "\n",
    "x_val = x_train[:10000]\n",
    "partial_x_train = x_train[10000:]\n",
    "\n",
    "y_val = y_train[:10000]\n",
    "partial_y_train = y_train[10000:]"
   ]
  },
  {
   "cell_type": "code",
   "execution_count": 15,
   "id": "2c041de6-a478-45b1-bbf2-7e45705a1c1d",
   "metadata": {},
   "outputs": [
    {
     "name": "stdout",
     "output_type": "stream",
     "text": [
      "Epoch 1/20\n",
      "30/30 [==============================] - 7s 201ms/step - loss: 0.5285 - acc: 0.7753 - val_loss: 0.4267 - val_acc: 0.8228\n",
      "Epoch 2/20\n",
      "30/30 [==============================] - 1s 17ms/step - loss: 0.3218 - acc: 0.8977 - val_loss: 0.3130 - val_acc: 0.8832\n",
      "Epoch 3/20\n",
      "30/30 [==============================] - 1s 46ms/step - loss: 0.2429 - acc: 0.9197 - val_loss: 0.2844 - val_acc: 0.8866\n",
      "Epoch 4/20\n",
      "30/30 [==============================] - 1s 22ms/step - loss: 0.1977 - acc: 0.9327 - val_loss: 0.2835 - val_acc: 0.8868\n",
      "Epoch 5/20\n",
      "30/30 [==============================] - 1s 30ms/step - loss: 0.1654 - acc: 0.9461 - val_loss: 0.2841 - val_acc: 0.8849\n",
      "Epoch 6/20\n",
      "30/30 [==============================] - 1s 24ms/step - loss: 0.1421 - acc: 0.9549 - val_loss: 0.3103 - val_acc: 0.8757\n",
      "Epoch 7/20\n",
      "30/30 [==============================] - 1s 23ms/step - loss: 0.1219 - acc: 0.9623 - val_loss: 0.3271 - val_acc: 0.8778\n",
      "Epoch 8/20\n",
      "30/30 [==============================] - 1s 17ms/step - loss: 0.1047 - acc: 0.9681 - val_loss: 0.3063 - val_acc: 0.8851\n",
      "Epoch 9/20\n",
      "30/30 [==============================] - 0s 17ms/step - loss: 0.0939 - acc: 0.9717 - val_loss: 0.3218 - val_acc: 0.8831\n",
      "Epoch 10/20\n",
      "30/30 [==============================] - 1s 17ms/step - loss: 0.0794 - acc: 0.9776 - val_loss: 0.3737 - val_acc: 0.8755\n",
      "Epoch 11/20\n",
      "30/30 [==============================] - 1s 20ms/step - loss: 0.0678 - acc: 0.9820 - val_loss: 0.3608 - val_acc: 0.8810\n",
      "Epoch 12/20\n",
      "30/30 [==============================] - 1s 26ms/step - loss: 0.0570 - acc: 0.9863 - val_loss: 0.4023 - val_acc: 0.8752\n",
      "Epoch 13/20\n",
      "30/30 [==============================] - 1s 24ms/step - loss: 0.0500 - acc: 0.9891 - val_loss: 0.4172 - val_acc: 0.8751\n",
      "Epoch 14/20\n",
      "30/30 [==============================] - 1s 32ms/step - loss: 0.0434 - acc: 0.9899 - val_loss: 0.4275 - val_acc: 0.8764\n",
      "Epoch 15/20\n",
      "30/30 [==============================] - 0s 16ms/step - loss: 0.0359 - acc: 0.9926 - val_loss: 0.4521 - val_acc: 0.8723\n",
      "Epoch 16/20\n",
      "30/30 [==============================] - 1s 17ms/step - loss: 0.0298 - acc: 0.9953 - val_loss: 0.4911 - val_acc: 0.8723\n",
      "Epoch 17/20\n",
      "30/30 [==============================] - 1s 37ms/step - loss: 0.0278 - acc: 0.9945 - val_loss: 0.5330 - val_acc: 0.8623\n",
      "Epoch 18/20\n",
      "30/30 [==============================] - 1s 25ms/step - loss: 0.0223 - acc: 0.9967 - val_loss: 0.5360 - val_acc: 0.8706\n",
      "Epoch 19/20\n",
      "30/30 [==============================] - 1s 25ms/step - loss: 0.0215 - acc: 0.9963 - val_loss: 0.5617 - val_acc: 0.8710\n",
      "Epoch 20/20\n",
      "30/30 [==============================] - 1s 23ms/step - loss: 0.0156 - acc: 0.9981 - val_loss: 0.5819 - val_acc: 0.8702\n"
     ]
    }
   ],
   "source": [
    "# Listing 3.8 Training your model\n",
    "\n",
    "model.compile(optimizer='rmsprop',\n",
    "loss='binary_crossentropy',\n",
    "metrics=['acc'])\n",
    "\n",
    "history = model.fit(partial_x_train,\n",
    "partial_y_train,\n",
    "epochs=20,\n",
    "batch_size=512,\n",
    "validation_data=(x_val, y_val))\n"
   ]
  },
  {
   "cell_type": "code",
   "execution_count": 16,
   "id": "ba00817a-6961-40d5-824d-e52d8f222f0c",
   "metadata": {},
   "outputs": [
    {
     "data": {
      "text/plain": [
       "dict_keys(['loss', 'acc', 'val_loss', 'val_acc'])"
      ]
     },
     "execution_count": 16,
     "metadata": {},
     "output_type": "execute_result"
    }
   ],
   "source": [
    "history_dict = history.history\n",
    "history_dict.keys()\n",
    "# [u'acc', u'loss', u'val_acc', u'val_loss']"
   ]
  },
  {
   "cell_type": "code",
   "execution_count": 17,
   "id": "ce1794e1-b64f-4648-916a-ccd02495ac92",
   "metadata": {},
   "outputs": [
    {
     "data": {
      "image/png": "[encoded data removed]",
      "text/plain": [
       "<Figure size 640x480 with 1 Axes>"
      ]
     },
     "metadata": {},
     "output_type": "display_data"
    }
   ],
   "source": [
    "# Listing 3.9 Plotting the training and validation loss\n",
    "\n",
    "import matplotlib.pyplot as plt\n",
    "\n",
    "history_dict = history.history\n",
    "loss_values = history_dict['loss']\n",
    "val_loss_values = history_dict['val_loss']\n",
    "#epochs = range(1, len(acc) + 1)\n",
    "epochs = range(1, len(loss_values) + 1)\n",
    "plt.plot(epochs, loss_values, 'bo', label='Training loss')\n",
    "plt.plot(epochs, val_loss_values, 'b', label='Validation loss')\n",
    "plt.title('Training and validation loss')\n",
    "plt.xlabel('Epochs')\n",
    "plt.ylabel('Loss')\n",
    "plt.legend()\n",
    "\n",
    "plt.show()\n"
   ]
  },
  {
   "cell_type": "code",
   "execution_count": 18,
   "id": "4a54d738-5a38-4cfc-a355-de0e71f8fd72",
   "metadata": {},
   "outputs": [
    {
     "data": {
      "image/png": "[encoded data removed]",
      "text/plain": [
       "<Figure size 640x480 with 1 Axes>"
      ]
     },
     "metadata": {},
     "output_type": "display_data"
    }
   ],
   "source": [
    "# Listing 3.10 Plotting the training and validation accuracy\n",
    "\n",
    "plt.clf()\n",
    "acc = history_dict['acc']\n",
    "val_acc = history_dict['val_acc']\n",
    "plt.plot(epochs, acc, 'bo', label='Training acc')\n",
    "plt.plot(epochs, val_acc, 'b', label='Validation acc')\n",
    "plt.title('Training and validation accuracy')\n",
    "plt.xlabel('Epochs')\n",
    "plt.ylabel('Loss')\n",
    "plt.legend()\n",
    "\n",
    "plt.show()"
   ]
  },
  {
   "cell_type": "code",
   "execution_count": 19,
   "id": "bd5ab43a-02e6-48bb-b6a1-61f34204ed96",
   "metadata": {},
   "outputs": [
    {
     "name": "stdout",
     "output_type": "stream",
     "text": [
      "Epoch 1/4\n",
      "49/49 [==============================] - 2s 19ms/step - loss: 0.4901 - accuracy: 0.8069\n",
      "Epoch 2/4\n",
      "49/49 [==============================] - 1s 19ms/step - loss: 0.2899 - accuracy: 0.9013\n",
      "Epoch 3/4\n",
      "49/49 [==============================] - 1s 18ms/step - loss: 0.2225 - accuracy: 0.9227\n",
      "Epoch 4/4\n",
      "49/49 [==============================] - 1s 17ms/step - loss: 0.1917 - accuracy: 0.9308\n"
     ]
    },
    {
     "data": {
      "text/plain": [
       "<keras.callbacks.History at 0x7f0cb3b74490>"
      ]
     },
     "execution_count": 19,
     "metadata": {},
     "output_type": "execute_result"
    }
   ],
   "source": [
    "# Listing 3.11 Retraining a model from scratch\n",
    "\n",
    "model = models.Sequential()\n",
    "model.add(layers.Dense(16, activation='relu', input_shape=(10000,)))\n",
    "model.add(layers.Dense(16, activation='relu'))\n",
    "model.add(layers.Dense(1, activation='sigmoid'))\n",
    "model.compile(optimizer='rmsprop',\n",
    "loss='binary_crossentropy',\n",
    "metrics=['accuracy'])\n",
    "model.fit(x_train, y_train, epochs=4, batch_size=512)\n",
    "\n",
    "#results = model.evaluate(x_test, y_test)"
   ]
  },
  {
   "cell_type": "code",
   "execution_count": null,
   "id": "0296e575-f035-4358-91ca-6ffdce1356e2",
   "metadata": {},
   "outputs": [],
   "source": [
    "# vivopc's vmDebian64在這行指令會一直死掉，不知為何？ -- 2023.10.12 16:44 --\n",
    "# It seems that frozen modules are being used, \n",
    "# which may It seems that frozen modules are being used, which may\n",
    "# make the debugger miss breakpoints. Please pass -Xfrozen_modules=off\n",
    "# to python to disable frozen modules.\n",
    "results = model.evaluate(x_test, y_test)\n",
    "\n",
    "results"
   ]
  },
  {
   "cell_type": "code",
   "execution_count": null,
   "id": "0037b4a1-d8d4-4bfa-b34d-3ec9dc7a3929",
   "metadata": {},
   "outputs": [],
   "source": [
    "model.predict(x_test)"
   ]
  },
  {
   "cell_type": "code",
   "execution_count": null,
   "id": "f4cf40f3-0938-4d05-a9f9-a66adbc600da",
   "metadata": {},
   "outputs": [],
   "source": [
    "########\n",
    "###  ###\n",
    "########"
   ]
  },
  {
   "cell_type": "code",
   "execution_count": 2,
   "id": "82d945af-6370-4564-b230-d98ce6fffe65",
   "metadata": {},
   "outputs": [],
   "source": [
    "# Listing 3.12 Loading the Reuters dataset\n",
    "\n",
    "from keras.datasets import reuters\n",
    "\n",
    "(train_data, train_labels), (test_data, test_labels) = reuters.load_data(\n",
    "num_words=10000)"
   ]
  },
  {
   "cell_type": "code",
   "execution_count": 3,
   "id": "b8495e51-14ea-48bc-b889-9aa4830814ce",
   "metadata": {},
   "outputs": [],
   "source": [
    "# Listing 3.13 Decoding newswires back to text\n",
    "\n",
    "word_index = reuters.get_word_index()\n",
    "reverse_word_index = dict([(value, key) for (key, value) in word_index.items()])\n",
    "decoded_newswire = ' '.join([reverse_word_index.get(i - 3, '?') for i in\n",
    "train_data[0]])\n"
   ]
  },
  {
   "cell_type": "code",
   "execution_count": 4,
   "id": "5d0bad25-3b22-41e3-b0a8-1bee2d1eaad0",
   "metadata": {},
   "outputs": [
    {
     "data": {
      "text/plain": [
       "3"
      ]
     },
     "execution_count": 4,
     "metadata": {},
     "output_type": "execute_result"
    }
   ],
   "source": [
    "train_labels[10]"
   ]
  },
  {
   "cell_type": "code",
   "execution_count": 5,
   "id": "c275c99f-780d-4ba7-bc8c-fc02e973e8eb",
   "metadata": {},
   "outputs": [],
   "source": [
    "# Listing 3.14 Encoding the data\n",
    "\n",
    "import numpy as np\n",
    "\n",
    "def vectorize_sequences(sequences, dimension=10000):\n",
    "    results = np.zeros((len(sequences), dimension))\n",
    "    for i, sequence in enumerate(sequences):\n",
    "        results[i, sequence] = 1.\n",
    "    return results\n",
    "\n",
    "x_train = vectorize_sequences(train_data)\n",
    "x_test = vectorize_sequences(test_data)\n"
   ]
  },
  {
   "cell_type": "code",
   "execution_count": 6,
   "id": "6aa861e4-fa27-4c70-90ed-9a651f5aaf33",
   "metadata": {},
   "outputs": [],
   "source": [
    "def to_one_hot(labels, dimension=46):\n",
    "    results = np.zeros((len(labels), dimension))\n",
    "    for i, label in enumerate(labels):\n",
    "        results[i, label] = 1.\n",
    "    return results\n",
    "\n",
    "one_hot_train_labels = to_one_hot(train_labels)\n",
    "one_hot_test_labels = to_one_hot(test_labels)\n"
   ]
  },
  {
   "cell_type": "code",
   "execution_count": 7,
   "id": "f78d3284-e5b7-4f6b-87c9-b9c2344502fd",
   "metadata": {},
   "outputs": [],
   "source": [
    "from keras.utils.np_utils import to_categorical\n",
    "\n",
    "one_hot_train_labels = to_categorical(train_labels)\n",
    "one_hot_test_labels = to_categorical(test_labels)"
   ]
  },
  {
   "cell_type": "code",
   "execution_count": 8,
   "id": "2022432a-9a0f-4f7d-b977-6d2f226462b4",
   "metadata": {},
   "outputs": [
    {
     "name": "stderr",
     "output_type": "stream",
     "text": [
      "2023-10-12 17:00:37.968645: I tensorflow/core/common_runtime/process_util.cc:146] Creating new thread pool with default inter op setting: 2. Tune using inter_op_parallelism_threads for best performance.\n"
     ]
    }
   ],
   "source": [
    "# Listing 3.15 Model definition\n",
    "\n",
    "from keras import models\n",
    "from keras import layers\n",
    "\n",
    "model = models.Sequential()\n",
    "model.add(layers.Dense(64, activation='relu', input_shape=(10000,)))\n",
    "model.add(layers.Dense(64, activation='relu'))\n",
    "model.add(layers.Dense(46, activation='softmax'))"
   ]
  },
  {
   "cell_type": "code",
   "execution_count": 9,
   "id": "0de5a686-bd4b-4044-9025-f2ba98d72114",
   "metadata": {},
   "outputs": [],
   "source": [
    "# Listing 3.16 Compiling the model\n",
    "\n",
    "model.compile(optimizer='rmsprop',\n",
    "loss='categorical_crossentropy',\n",
    "metrics=['accuracy'])\n"
   ]
  },
  {
   "cell_type": "code",
   "execution_count": 10,
   "id": "fee7c694-dd0a-481b-9420-65e0605c605d",
   "metadata": {},
   "outputs": [],
   "source": [
    "# Listing 3.17 Setting aside a validation set\n",
    "\n",
    "x_val = x_train[:1000]\n",
    "partial_x_train = x_train[1000:]\n",
    "y_val = one_hot_train_labels[:1000]\n",
    "partial_y_train = one_hot_train_labels[1000:]"
   ]
  },
  {
   "cell_type": "code",
   "execution_count": 11,
   "id": "a066f1d4-214e-40c5-9858-77e8d5e7e832",
   "metadata": {},
   "outputs": [
    {
     "name": "stdout",
     "output_type": "stream",
     "text": [
      "Epoch 1/20\n",
      "16/16 [==============================] - 2s 91ms/step - loss: 2.7846 - accuracy: 0.4721 - val_loss: 1.9204 - val_accuracy: 0.5980\n",
      "Epoch 2/20\n",
      "16/16 [==============================] - 1s 61ms/step - loss: 1.6190 - accuracy: 0.6681 - val_loss: 1.4172 - val_accuracy: 0.6810\n",
      "Epoch 3/20\n",
      "16/16 [==============================] - 1s 60ms/step - loss: 1.2208 - accuracy: 0.7374 - val_loss: 1.2115 - val_accuracy: 0.7320\n",
      "Epoch 4/20\n",
      "16/16 [==============================] - 1s 49ms/step - loss: 0.9982 - accuracy: 0.7813 - val_loss: 1.0887 - val_accuracy: 0.7570\n",
      "Epoch 5/20\n",
      "16/16 [==============================] - 1s 46ms/step - loss: 0.8275 - accuracy: 0.8166 - val_loss: 1.0037 - val_accuracy: 0.7820\n",
      "Epoch 6/20\n",
      "16/16 [==============================] - 1s 47ms/step - loss: 0.6947 - accuracy: 0.8500 - val_loss: 0.9431 - val_accuracy: 0.7960\n",
      "Epoch 7/20\n",
      "16/16 [==============================] - 1s 49ms/step - loss: 0.5762 - accuracy: 0.8748 - val_loss: 0.9104 - val_accuracy: 0.8060\n",
      "Epoch 8/20\n",
      "16/16 [==============================] - 1s 47ms/step - loss: 0.4842 - accuracy: 0.8956 - val_loss: 0.8862 - val_accuracy: 0.8130\n",
      "Epoch 9/20\n",
      "16/16 [==============================] - 1s 50ms/step - loss: 0.4071 - accuracy: 0.9137 - val_loss: 0.8714 - val_accuracy: 0.8150\n",
      "Epoch 10/20\n",
      "16/16 [==============================] - 1s 45ms/step - loss: 0.3480 - accuracy: 0.9275 - val_loss: 0.8724 - val_accuracy: 0.8110\n",
      "Epoch 11/20\n",
      "16/16 [==============================] - 1s 56ms/step - loss: 0.2940 - accuracy: 0.9372 - val_loss: 0.8540 - val_accuracy: 0.8180\n",
      "Epoch 12/20\n",
      "16/16 [==============================] - 1s 55ms/step - loss: 0.2594 - accuracy: 0.9430 - val_loss: 0.8573 - val_accuracy: 0.8150\n",
      "Epoch 13/20\n",
      "16/16 [==============================] - 1s 67ms/step - loss: 0.2263 - accuracy: 0.9483 - val_loss: 0.8658 - val_accuracy: 0.8210\n",
      "Epoch 14/20\n",
      "16/16 [==============================] - 1s 64ms/step - loss: 0.2022 - accuracy: 0.9504 - val_loss: 0.8787 - val_accuracy: 0.8150\n",
      "Epoch 15/20\n",
      "16/16 [==============================] - 1s 44ms/step - loss: 0.1855 - accuracy: 0.9531 - val_loss: 0.8786 - val_accuracy: 0.8160\n",
      "Epoch 16/20\n",
      "16/16 [==============================] - 1s 58ms/step - loss: 0.1699 - accuracy: 0.9534 - val_loss: 0.9157 - val_accuracy: 0.8180\n",
      "Epoch 17/20\n",
      "16/16 [==============================] - 1s 55ms/step - loss: 0.1566 - accuracy: 0.9539 - val_loss: 0.9088 - val_accuracy: 0.8050\n",
      "Epoch 18/20\n",
      "16/16 [==============================] - 1s 63ms/step - loss: 0.1485 - accuracy: 0.9553 - val_loss: 0.9101 - val_accuracy: 0.8200\n",
      "Epoch 19/20\n",
      "16/16 [==============================] - 1s 41ms/step - loss: 0.1351 - accuracy: 0.9562 - val_loss: 0.9696 - val_accuracy: 0.8060\n",
      "Epoch 20/20\n",
      "16/16 [==============================] - 1s 48ms/step - loss: 0.1342 - accuracy: 0.9568 - val_loss: 0.9526 - val_accuracy: 0.8100\n"
     ]
    }
   ],
   "source": [
    "# Listing 3.18 Training the model\n",
    "\n",
    "history = model.fit(partial_x_train,\n",
    "partial_y_train,\n",
    "epochs=20,\n",
    "batch_size=512,\n",
    "validation_data=(x_val, y_val))"
   ]
  },
  {
   "cell_type": "code",
   "execution_count": 12,
   "id": "ecf26681-17f7-47c2-8f7f-11485224fe28",
   "metadata": {},
   "outputs": [
    {
     "data": {
      "image/png": "[encoded data removed]",
      "text/plain": [
       "<Figure size 640x480 with 1 Axes>"
      ]
     },
     "metadata": {},
     "output_type": "display_data"
    }
   ],
   "source": [
    "#Listing 3.19 Plotting the training and validation loss\n",
    "\n",
    "import matplotlib.pyplot as plt\n",
    "\n",
    "loss = history.history['loss']\n",
    "val_loss = history.history['val_loss']\n",
    "epochs = range(1, len(loss) + 1)\n",
    "plt.plot(epochs, loss, 'bo', label='Training loss')\n",
    "plt.plot(epochs, val_loss, 'b', label='Validation loss')\n",
    "plt.title('Training and validation loss')\n",
    "plt.xlabel('Epochs')\n",
    "plt.ylabel('Loss')\n",
    "plt.legend()\n",
    "plt.show()"
   ]
  },
  {
   "cell_type": "code",
   "execution_count": 14,
   "id": "3bed864d-fa31-4a1a-9e23-f88e5171a653",
   "metadata": {},
   "outputs": [
    {
     "data": {
      "image/png": "[encoded data removed]",
      "text/plain": [
       "<Figure size 640x480 with 1 Axes>"
      ]
     },
     "metadata": {},
     "output_type": "display_data"
    }
   ],
   "source": [
    "#Listing 3.20 Plotting the training and validation accuracy\n",
    "\n",
    "plt.clf()\n",
    "\n",
    "#acc = history.history['acc']\n",
    "#val_acc = history.history['val_acc']\n",
    "acc = history.history['accuracy']\n",
    "val_acc = history.history['val_accuracy']\n",
    "plt.plot(epochs, acc, 'bo', label='Training acc')\n",
    "plt.plot(epochs, val_acc, 'b', label='Validation acc')\n",
    "plt.title('Training and validation accuracy')\n",
    "plt.xlabel('Epochs')\n",
    "plt.ylabel('Loss')\n",
    "plt.legend()\n",
    "plt.show()"
   ]
  },
  {
   "cell_type": "code",
   "execution_count": 15,
   "id": "c623793e-628c-4656-9caa-7af9dd389d62",
   "metadata": {},
   "outputs": [
    {
     "name": "stdout",
     "output_type": "stream",
     "text": [
      "Epoch 1/9\n",
      "16/16 [==============================] - 1s 55ms/step - loss: 2.7419 - accuracy: 0.5210 - val_loss: 1.8058 - val_accuracy: 0.5900\n",
      "Epoch 2/9\n",
      "16/16 [==============================] - 1s 62ms/step - loss: 1.5205 - accuracy: 0.6649 - val_loss: 1.3748 - val_accuracy: 0.6870\n",
      "Epoch 3/9\n",
      "16/16 [==============================] - 1s 91ms/step - loss: 1.1673 - accuracy: 0.7482 - val_loss: 1.2095 - val_accuracy: 0.7430\n",
      "Epoch 4/9\n",
      "16/16 [==============================] - 1s 76ms/step - loss: 0.9569 - accuracy: 0.7914 - val_loss: 1.1010 - val_accuracy: 0.7500\n",
      "Epoch 5/9\n",
      "16/16 [==============================] - 2s 105ms/step - loss: 0.7841 - accuracy: 0.8269 - val_loss: 1.0354 - val_accuracy: 0.7780\n",
      "Epoch 6/9\n",
      "16/16 [==============================] - 1s 60ms/step - loss: 0.6566 - accuracy: 0.8554 - val_loss: 0.9458 - val_accuracy: 0.7980\n",
      "Epoch 7/9\n",
      "16/16 [==============================] - 1s 50ms/step - loss: 0.5454 - accuracy: 0.8802 - val_loss: 0.9173 - val_accuracy: 0.8030\n",
      "Epoch 8/9\n",
      "16/16 [==============================] - 1s 56ms/step - loss: 0.4560 - accuracy: 0.9028 - val_loss: 0.9168 - val_accuracy: 0.7980\n",
      "Epoch 9/9\n",
      "16/16 [==============================] - 1s 88ms/step - loss: 0.3892 - accuracy: 0.9146 - val_loss: 0.8913 - val_accuracy: 0.8090\n",
      "71/71 [==============================] - 0s 3ms/step - loss: 0.9471 - accuracy: 0.7890\n"
     ]
    }
   ],
   "source": [
    "#Listing 3.21 Retraining a model from scratch\n",
    "\n",
    "model = models.Sequential()\n",
    "model.add(layers.Dense(64, activation='relu', input_shape=(10000,)))\n",
    "model.add(layers.Dense(64, activation='relu'))\n",
    "model.add(layers.Dense(46, activation='softmax'))\n",
    "\n",
    "model.compile(optimizer='rmsprop',\n",
    "loss='categorical_crossentropy',\n",
    "metrics=['accuracy'])\n",
    "\n",
    "model.fit(partial_x_train,\n",
    "partial_y_train,\n",
    "epochs=9,\n",
    "batch_size=512,\n",
    "validation_data=(x_val, y_val))\n",
    "results = model.evaluate(x_test, one_hot_test_labels)"
   ]
  },
  {
   "cell_type": "code",
   "execution_count": 16,
   "id": "2e825399-439a-4c3b-b473-b410728fed6a",
   "metadata": {},
   "outputs": [
    {
     "data": {
      "text/plain": [
       "[0.9470919370651245, 0.7889581322669983]"
      ]
     },
     "execution_count": 16,
     "metadata": {},
     "output_type": "execute_result"
    }
   ],
   "source": [
    "results"
   ]
  },
  {
   "cell_type": "code",
   "execution_count": 20,
   "id": "92583ebb-951b-4d2b-b9b3-b888721a56d2",
   "metadata": {},
   "outputs": [
    {
     "name": "stdout",
     "output_type": "stream",
     "text": [
      "0.19278717720391808\n"
     ]
    }
   ],
   "source": [
    "import copy\n",
    "test_labels_copy = copy.copy(test_labels)\n",
    "np.random.shuffle(test_labels_copy)\n",
    "hits_array = np.array(test_labels) == np.array(test_labels_copy)\n",
    "\n",
    "print(float(np.sum(hits_array)) / len(test_labels))\n"
   ]
  },
  {
   "cell_type": "code",
   "execution_count": 21,
   "id": "58d6ae4c-ba03-450c-a6af-2b46b894f454",
   "metadata": {},
   "outputs": [
    {
     "name": "stdout",
     "output_type": "stream",
     "text": [
      "71/71 [==============================] - 0s 2ms/step\n"
     ]
    }
   ],
   "source": [
    "# Listing 3.22 Generating predictions for new data\n",
    "predictions = model.predict(x_test)"
   ]
  },
  {
   "cell_type": "code",
   "execution_count": 22,
   "id": "734efdc9-b164-4495-b7eb-8e8afbd37715",
   "metadata": {},
   "outputs": [
    {
     "data": {
      "text/plain": [
       "(46,)"
      ]
     },
     "execution_count": 22,
     "metadata": {},
     "output_type": "execute_result"
    }
   ],
   "source": [
    "predictions[0].shape"
   ]
  },
  {
   "cell_type": "code",
   "execution_count": 23,
   "id": "82b5577c-f143-48c6-92bc-1fef9b3421c4",
   "metadata": {},
   "outputs": [
    {
     "data": {
      "text/plain": [
       "0.9999999"
      ]
     },
     "execution_count": 23,
     "metadata": {},
     "output_type": "execute_result"
    }
   ],
   "source": [
    "np.sum(predictions[0])"
   ]
  },
  {
   "cell_type": "code",
   "execution_count": 24,
   "id": "56aa4196-ca79-4f54-8822-b37830163e77",
   "metadata": {},
   "outputs": [
    {
     "name": "stdout",
     "output_type": "stream",
     "text": [
      "Epoch 1/20\n",
      "63/63 [==============================] - 3s 25ms/step - loss: 3.3885 - accuracy: 0.1299 - val_loss: 2.8774 - val_accuracy: 0.4100\n",
      "Epoch 2/20\n",
      "63/63 [==============================] - 1s 17ms/step - loss: 2.3980 - accuracy: 0.4236 - val_loss: 2.1396 - val_accuracy: 0.4700\n",
      "Epoch 3/20\n",
      "63/63 [==============================] - 1s 23ms/step - loss: 1.8226 - accuracy: 0.4873 - val_loss: 1.7328 - val_accuracy: 0.4830\n",
      "Epoch 4/20\n",
      "63/63 [==============================] - 2s 26ms/step - loss: 1.3893 - accuracy: 0.6470 - val_loss: 1.4236 - val_accuracy: 0.6860\n",
      "Epoch 5/20\n",
      "63/63 [==============================] - 1s 17ms/step - loss: 1.1470 - accuracy: 0.7425 - val_loss: 1.3573 - val_accuracy: 0.7000\n",
      "Epoch 6/20\n",
      "63/63 [==============================] - 1s 18ms/step - loss: 1.0249 - accuracy: 0.7632 - val_loss: 1.3062 - val_accuracy: 0.7030\n",
      "Epoch 7/20\n",
      "63/63 [==============================] - 1s 17ms/step - loss: 0.9368 - accuracy: 0.7791 - val_loss: 1.2738 - val_accuracy: 0.7070\n",
      "Epoch 8/20\n",
      "63/63 [==============================] - 1s 17ms/step - loss: 0.8681 - accuracy: 0.7894 - val_loss: 1.2712 - val_accuracy: 0.7090\n",
      "Epoch 9/20\n",
      "63/63 [==============================] - 1s 18ms/step - loss: 0.8095 - accuracy: 0.8042 - val_loss: 1.2727 - val_accuracy: 0.7110\n",
      "Epoch 10/20\n",
      "63/63 [==============================] - 1s 19ms/step - loss: 0.7572 - accuracy: 0.8118 - val_loss: 1.2878 - val_accuracy: 0.7170\n",
      "Epoch 11/20\n",
      "63/63 [==============================] - 1s 22ms/step - loss: 0.7102 - accuracy: 0.8200 - val_loss: 1.3494 - val_accuracy: 0.7160\n",
      "Epoch 12/20\n",
      "63/63 [==============================] - 1s 16ms/step - loss: 0.6735 - accuracy: 0.8232 - val_loss: 1.3796 - val_accuracy: 0.7090\n",
      "Epoch 13/20\n",
      "63/63 [==============================] - 1s 17ms/step - loss: 0.6354 - accuracy: 0.8271 - val_loss: 1.3453 - val_accuracy: 0.7100\n",
      "Epoch 14/20\n",
      "63/63 [==============================] - 1s 16ms/step - loss: 0.6052 - accuracy: 0.8287 - val_loss: 1.3681 - val_accuracy: 0.7140\n",
      "Epoch 15/20\n",
      "63/63 [==============================] - 1s 18ms/step - loss: 0.5788 - accuracy: 0.8331 - val_loss: 1.4012 - val_accuracy: 0.7170\n",
      "Epoch 16/20\n",
      "63/63 [==============================] - 1s 17ms/step - loss: 0.5512 - accuracy: 0.8420 - val_loss: 1.4071 - val_accuracy: 0.7120\n",
      "Epoch 17/20\n",
      "63/63 [==============================] - 1s 18ms/step - loss: 0.5295 - accuracy: 0.8505 - val_loss: 1.4748 - val_accuracy: 0.7150\n",
      "Epoch 18/20\n",
      "63/63 [==============================] - 1s 20ms/step - loss: 0.5083 - accuracy: 0.8601 - val_loss: 1.5053 - val_accuracy: 0.7140\n",
      "Epoch 19/20\n",
      "63/63 [==============================] - 1s 17ms/step - loss: 0.4906 - accuracy: 0.8661 - val_loss: 1.5414 - val_accuracy: 0.7170\n",
      "Epoch 20/20\n",
      "63/63 [==============================] - 1s 22ms/step - loss: 0.4718 - accuracy: 0.8707 - val_loss: 1.5443 - val_accuracy: 0.7130\n"
     ]
    },
    {
     "data": {
      "text/plain": [
       "<keras.callbacks.History at 0x7f595650e810>"
      ]
     },
     "execution_count": 24,
     "metadata": {},
     "output_type": "execute_result"
    }
   ],
   "source": [
    "# Listing 3.23 A model with an information bottleneck\n",
    "\n",
    "model = models.Sequential()\n",
    "model.add(layers.Dense(64, activation='relu', input_shape=(10000,)))\n",
    "model.add(layers.Dense(4, activation='relu'))\n",
    "model.add(layers.Dense(46, activation='softmax'))\n",
    "\n",
    "model.compile(optimizer='rmsprop',\n",
    "loss='categorical_crossentropy',\n",
    "metrics=['accuracy'])\n",
    "\n",
    "model.fit(partial_x_train,\n",
    "partial_y_train,\n",
    "epochs=20,\n",
    "batch_size=128,\n",
    "validation_data=(x_val, y_val))"
   ]
  },
  {
   "cell_type": "code",
   "execution_count": null,
   "id": "0ce6c79c-6687-4b3d-bf55-2ed7a6420960",
   "metadata": {},
   "outputs": [],
   "source": [
    "#######################\n",
    "### 預測房價：回歸問題 ###\n",
    "#######################"
   ]
  },
  {
   "cell_type": "code",
   "execution_count": 25,
   "id": "30ba5da5-55fb-40ac-8296-d73d1c3bae7c",
   "metadata": {},
   "outputs": [
    {
     "name": "stdout",
     "output_type": "stream",
     "text": [
      "Downloading data from https://storage.googleapis.com/tensorflow/tf-keras-datasets/boston_housing.npz\n",
      "57026/57026 [==============================] - 0s 1us/step\n"
     ]
    }
   ],
   "source": [
    "# Listing 3.24 Loading the Boston housing dataset\n",
    "\n",
    "from keras.datasets import boston_housing\n",
    "\n",
    "(train_data, train_targets), (test_data, test_targets) = boston_housing.load_data()"
   ]
  },
  {
   "cell_type": "code",
   "execution_count": 26,
   "id": "19576273-b7a5-4616-b9cc-5a0ebfa24969",
   "metadata": {},
   "outputs": [],
   "source": [
    "# isting 3.25 Normalizing the data\n",
    "\n",
    "mean = train_data.mean(axis=0)\n",
    "train_data -= mean\n",
    "std = train_data.std(axis=0)\n",
    "train_data /= std\n",
    "test_data -= mean\n",
    "test_data /= std"
   ]
  },
  {
   "cell_type": "code",
   "execution_count": 27,
   "id": "3c73cbd0-320b-44be-8c5e-48384db4b129",
   "metadata": {},
   "outputs": [],
   "source": [
    "# Listing 3.26 Model definition\n",
    "from keras import models\n",
    "from keras import layers\n",
    "\n",
    "def build_model():\n",
    "    model = models.Sequential()\n",
    "    model.add(layers.Dense(64, activation='relu',\n",
    "    input_shape=(train_data.shape[1],)))\n",
    "    model.add(layers.Dense(64, activation='relu'))\n",
    "    model.add(layers.Dense(1))\n",
    "    model.compile(optimizer='rmsprop', loss='mse', metrics=['mae'])\n",
    "    return model"
   ]
  },
  {
   "cell_type": "code",
   "execution_count": 28,
   "id": "bfcc1cef-e60a-425d-826b-cfb7b1b8c397",
   "metadata": {},
   "outputs": [
    {
     "name": "stdout",
     "output_type": "stream",
     "text": [
      "processing fold # 0\n",
      "processing fold # 1\n",
      "processing fold # 2\n",
      "processing fold # 3\n"
     ]
    }
   ],
   "source": [
    "# Listing 3.27 K-fold validation\n",
    "\n",
    "import numpy as np\n",
    "\n",
    "k = 4\n",
    "num_val_samples = len(train_data) // k\n",
    "num_epochs = 100\n",
    "all_scores = []\n",
    "\n",
    "for i in range(k):\n",
    "    print('processing fold #', i)\n",
    "    val_data = train_data[i * num_val_samples: (i + 1) * num_val_samples]\n",
    "    val_targets = train_targets[i * num_val_samples: (i + 1) * num_val_samples]\n",
    "\n",
    "    partial_train_data = np.concatenate(\n",
    "        [train_data[:i * num_val_samples],\n",
    "        train_data[(i + 1) * num_val_samples:]],\n",
    "        axis=0)\n",
    "    partial_train_targets = np.concatenate(\n",
    "        [train_targets[:i * num_val_samples],\n",
    "        train_targets[(i + 1) * num_val_samples:]],\n",
    "        axis=0)\n",
    "    \n",
    "    model = build_model()\n",
    "    model.fit(partial_train_data, partial_train_targets,\n",
    "        epochs=num_epochs, batch_size=1, verbose=0)\n",
    "    val_mse, val_mae = model.evaluate(val_data, val_targets, verbose=0)\n",
    "    all_scores.append(val_mae)"
   ]
  },
  {
   "cell_type": "code",
   "execution_count": 29,
   "id": "f67b36da-f5c1-46b8-93f1-52e929a7d6cf",
   "metadata": {},
   "outputs": [
    {
     "data": {
      "text/plain": [
       "[2.2541964054107666, 2.4576733112335205, 2.8147900104522705, 2.414104700088501]"
      ]
     },
     "execution_count": 29,
     "metadata": {},
     "output_type": "execute_result"
    }
   ],
   "source": [
    "all_scores"
   ]
  },
  {
   "cell_type": "code",
   "execution_count": 30,
   "id": "20d1f149-0abf-4b01-9164-11c83a58313a",
   "metadata": {},
   "outputs": [
    {
     "data": {
      "text/plain": [
       "2.4851911067962646"
      ]
     },
     "execution_count": 30,
     "metadata": {},
     "output_type": "execute_result"
    }
   ],
   "source": [
    "np.mean(all_scores)"
   ]
  },
  {
   "cell_type": "code",
   "execution_count": 31,
   "id": "ad074ab2-fa25-46b2-a531-fe725baa915f",
   "metadata": {},
   "outputs": [
    {
     "name": "stdout",
     "output_type": "stream",
     "text": [
      "processing fold # 0\n"
     ]
    },
    {
     "ename": "KeyError",
     "evalue": "'val_mean_absolute_error'",
     "output_type": "error",
     "traceback": [
      "\u001b[0;31m---------------------------------------------------------------------------\u001b[0m",
      "\u001b[0;31mKeyError\u001b[0m                                  Traceback (most recent call last)",
      "Cell \u001b[0;32mIn[31], line 23\u001b[0m\n\u001b[1;32m     19\u001b[0m model \u001b[38;5;241m=\u001b[39m build_model()\n\u001b[1;32m     20\u001b[0m history \u001b[38;5;241m=\u001b[39m model\u001b[38;5;241m.\u001b[39mfit(partial_train_data, partial_train_targets,\n\u001b[1;32m     21\u001b[0m                     validation_data\u001b[38;5;241m=\u001b[39m(val_data, val_targets),\n\u001b[1;32m     22\u001b[0m                     epochs\u001b[38;5;241m=\u001b[39mnum_epochs, batch_size\u001b[38;5;241m=\u001b[39m\u001b[38;5;241m1\u001b[39m, verbose\u001b[38;5;241m=\u001b[39m\u001b[38;5;241m0\u001b[39m)\n\u001b[0;32m---> 23\u001b[0m mae_history \u001b[38;5;241m=\u001b[39m \u001b[43mhistory\u001b[49m\u001b[38;5;241;43m.\u001b[39;49m\u001b[43mhistory\u001b[49m\u001b[43m[\u001b[49m\u001b[38;5;124;43m'\u001b[39;49m\u001b[38;5;124;43mval_mean_absolute_error\u001b[39;49m\u001b[38;5;124;43m'\u001b[39;49m\u001b[43m]\u001b[49m\n\u001b[1;32m     24\u001b[0m all_mae_histories\u001b[38;5;241m.\u001b[39mappend(mae_history)    \n",
      "\u001b[0;31mKeyError\u001b[0m: 'val_mean_absolute_error'"
     ]
    }
   ],
   "source": [
    "# Listing 3.28 Saving the validation logs at each fold\n",
    "\n",
    "num_epochs = 500\n",
    "all_mae_histories = []\n",
    "\n",
    "for i in range(k):\n",
    "    print('processing fold #', i)\n",
    "    val_data = train_data[i * num_val_samples: (i + 1) * num_val_samples]\n",
    "    val_targets = train_targets[i * num_val_samples: (i + 1) * num_val_samples]\n",
    "    partial_train_data = np.concatenate(\n",
    "        [train_data[:i * num_val_samples],\n",
    "        train_data[(i + 1) * num_val_samples:]],\n",
    "        axis=0)\n",
    "    partial_train_targets = np.concatenate(\n",
    "        [train_targets[:i * num_val_samples],\n",
    "        train_targets[(i + 1) * num_val_samples:]],\n",
    "        axis=0)\n",
    "\n",
    "    model = build_model()\n",
    "    history = model.fit(partial_train_data, partial_train_targets,\n",
    "                        validation_data=(val_data, val_targets),\n",
    "                        epochs=num_epochs, batch_size=1, verbose=0)\n",
    "    mae_history = history.history['val_mean_absolute_error']\n",
    "    all_mae_histories.append(mae_history)    "
   ]
  },
  {
   "cell_type": "code",
   "execution_count": null,
   "id": "251312f1-4d10-474e-a7ee-74e731dc7709",
   "metadata": {},
   "outputs": [],
   "source": [
    "# Listing 3.29 Building the history of successive mean K-fold validation scores\n",
    "average_mae_history = [\n",
    "np.mean([x[i] for x in all_mae_histories]) for i in range(num_epochs)]"
   ]
  },
  {
   "cell_type": "code",
   "execution_count": null,
   "id": "a7c36296-de12-41ca-87f1-59007b1e4cdb",
   "metadata": {},
   "outputs": [],
   "source": [
    "# Listing 3.30 Plotting validation scores\n",
    "import matplotlib.pyplot as plt\n",
    "plt.plot(range(1, len(average_mae_history) + 1), average_mae_history)\n",
    "plt.xlabel('Epochs')\n",
    "plt.ylabel('Validation MAE')\n",
    "plt.show()"
   ]
  },
  {
   "cell_type": "code",
   "execution_count": null,
   "id": "1e8bbf0b-139c-438f-bcf2-4ef505ce38a9",
   "metadata": {},
   "outputs": [],
   "source": [
    "# Listing 3.31 Plotting validation scores, excluding the first 10 data points\n",
    "def smooth_curve(points, factor=0.9):\n",
    "    smoothed_points = []\n",
    "    for point in points:\n",
    "        if smoothed_points:\n",
    "            previous = smoothed_points[-1]\n",
    "            smoothed_points.append(previous * factor + point * (1 - factor))\n",
    "        else:\n",
    "            smoothed_points.append(point)\n",
    "    return smoothed_points\n",
    "    \n",
    "smooth_mae_history = smooth_curve(average_mae_history[10:])\n",
    "plt.plot(range(1, len(smooth_mae_history) + 1), smooth_mae_history)\n",
    "plt.xlabel('Epochs')\n",
    "plt.ylabel('Validation MAE')\n",
    "plt.show()"
   ]
  },
  {
   "cell_type": "code",
   "execution_count": null,
   "id": "f895f515-24a7-49a8-ae52-ba4154831711",
   "metadata": {},
   "outputs": [],
   "source": [
    "# Listing 3.32 Training the final model\n",
    "\n",
    "model = build_model()\n",
    "model.fit(train_data, train_targets,\n",
    "            epochs=80, batch_size=16, verbose=0)\n",
    "test_mse_score, test_mae_score = model.evaluate(test_data, test_targets)"
   ]
  },
  {
   "cell_type": "code",
   "execution_count": null,
   "id": "439c136a-6ce7-4466-8e4a-5237d9538b3a",
   "metadata": {},
   "outputs": [],
   "source": [
    "test_mae_score"
   ]
  },
  {
   "cell_type": "code",
   "execution_count": null,
   "id": "e58e4fe4-725c-427a-9de5-901548a3d342",
   "metadata": {},
   "outputs": [],
   "source": []
  },
  {
   "cell_type": "code",
   "execution_count": null,
   "id": "ec985df6-bd3e-42a1-bc1d-375218b8b252",
   "metadata": {},
   "outputs": [],
   "source": []
  },
  {
   "cell_type": "code",
   "execution_count": null,
   "id": "e8c1d2d1-5dc6-4f8e-8113-f6073758b7bd",
   "metadata": {},
   "outputs": [],
   "source": []
  },
  {
   "cell_type": "code",
   "execution_count": 6,
   "id": "7fabb988",
   "metadata": {},
   "outputs": [
    {
     "name": "stdout",
     "output_type": "stream",
     "text": [
      "Downloading data from https://storage.googleapis.com/tensorflow/tf-keras-datasets/reuters.npz\n",
      "2113536/2110848 [==============================] - 0s 0us/step\n"
     ]
    },
    {
     "name": "stderr",
     "output_type": "stream",
     "text": [
      "/home/earvin/anaconda3/envs/tf2/lib/python3.8/site-packages/tensorflow/python/keras/datasets/reuters.py:148: VisibleDeprecationWarning: Creating an ndarray from ragged nested sequences (which is a list-or-tuple of lists-or-tuples-or ndarrays with different lengths or shapes) is deprecated. If you meant to do this, you must specify 'dtype=object' when creating the ndarray.\n",
      "  x_train, y_train = np.array(xs[:idx]), np.array(labels[:idx])\n",
      "/home/earvin/anaconda3/envs/tf2/lib/python3.8/site-packages/tensorflow/python/keras/datasets/reuters.py:149: VisibleDeprecationWarning: Creating an ndarray from ragged nested sequences (which is a list-or-tuple of lists-or-tuples-or ndarrays with different lengths or shapes) is deprecated. If you meant to do this, you must specify 'dtype=object' when creating the ndarray.\n",
      "  x_test, y_test = np.array(xs[idx:]), np.array(labels[idx:])\n"
     ]
    }
   ],
   "source": [
    "# 3.5 新聞分類：多分類問題\n",
    "# §代碼清單 3-12\n",
    "\n",
    "from keras.datasets import reuters\n",
    "\n",
    "(train_data, train_labels), (test_data, test_labels) = reuters.load_data(num_words = 10000)"
   ]
  },
  {
   "cell_type": "code",
   "execution_count": 7,
   "id": "3033d42f",
   "metadata": {},
   "outputs": [
    {
     "name": "stdout",
     "output_type": "stream",
     "text": [
      "train records :  8982\n",
      "test  records :  2246\n",
      "\n",
      "\n",
      "train_data[10] :\n",
      "[1, 245, 273, 207, 156, 53, 74, 160, 26, 14, 46, 296, 26, 39, 74, 2979, 3554, 14, 46, 4689, 4329, 86, 61, 3499, 4795, 14, 61, 451, 4329, 17, 12]\n"
     ]
    }
   ],
   "source": [
    "# === FOR CHECK ===\n",
    "print('train records : ', len(train_data))\n",
    "print('test  records : ', len(test_data))\n",
    "print('\\n')\n",
    "print('train_data[10] :')\n",
    "print(train_data[10])"
   ]
  },
  {
   "cell_type": "code",
   "execution_count": 8,
   "id": "9dabb609",
   "metadata": {},
   "outputs": [
    {
     "name": "stdout",
     "output_type": "stream",
     "text": [
      "Downloading data from https://storage.googleapis.com/tensorflow/tf-keras-datasets/reuters_word_index.json\n",
      "557056/550378 [==============================] - 0s 0us/step\n",
      "? period ended december 31 shr profit 11 cts vs loss 24 cts net profit 224 271 vs loss 511 349 revs 7 258 688 vs 7 200 349 reuter 3\n"
     ]
    }
   ],
   "source": [
    "# §代碼清單 3-13 將索引解碼為新聞文本\n",
    "\n",
    "word_index = reuters.get_word_index()\n",
    "reverse_word_index = dict([(value, key) for (key, value) in word_index.items()])\n",
    "decoded_newswire = ' '.join([reverse_word_index.get(i - 3, '?') for i in train_data[10]])\n",
    "\n",
    "print(decoded_newswire)"
   ]
  },
  {
   "cell_type": "code",
   "execution_count": 9,
   "id": "262c9aad",
   "metadata": {},
   "outputs": [
    {
     "name": "stdout",
     "output_type": "stream",
     "text": [
      "3\n"
     ]
    }
   ],
   "source": [
    "print(train_labels[10])"
   ]
  },
  {
   "cell_type": "code",
   "execution_count": 10,
   "id": "33bcd04c",
   "metadata": {},
   "outputs": [],
   "source": [
    "# §代碼清單 3-14 數據編碼\n",
    "\n",
    "import numpy as np\n",
    "\n",
    "def vectorize_sequences(sequences, dimension = 10000) :\n",
    "    results = np.zeros((len(sequences), dimension))\n",
    "    for i, sequence in enumerate(sequences) :\n",
    "        results[i, sequence] = 1.\n",
    "    return results\n",
    "\n",
    "x_train = vectorize_sequences(train_data)\n",
    "x_test = vectorize_sequences(test_data)"
   ]
  },
  {
   "cell_type": "code",
   "execution_count": 11,
   "id": "1d33e289",
   "metadata": {},
   "outputs": [],
   "source": [
    "# §代碼清單 3-14 數據編碼 continue ...\n",
    "\n",
    "def to_one_hot(labels, dimension = 46) :\n",
    "    results = np.zeros((len(labels), dimension))\n",
    "    for i, label in enumerate(labels) :\n",
    "        results[i, label] = 1.\n",
    "    return results\n",
    "\n",
    "one_hot_train_labels = to_one_hot(train_labels)\n",
    "one_hot_test_labels = to_one_hot(test_labels)\n",
    "\n",
    "# built-in metho in keras\n",
    "#from keras.utils.np_utils import to_categorical\n",
    "#one_hot_train_labels = to_categorical(train_labels)\n",
    "#one_hot_test_labels = to_categorical(test_labels)\n",
    "\n"
   ]
  },
  {
   "cell_type": "code",
   "execution_count": 12,
   "id": "6f46a2c7",
   "metadata": {},
   "outputs": [
    {
     "name": "stderr",
     "output_type": "stream",
     "text": [
      "2023-09-08 10:15:02.079851: I tensorflow/compiler/jit/xla_cpu_device.cc:41] Not creating XLA devices, tf_xla_enable_xla_devices not set\n",
      "2023-09-08 10:15:02.097923: W tensorflow/stream_executor/platform/default/dso_loader.cc:60] Could not load dynamic library 'libcuda.so.1'; dlerror: libcuda.so.1: cannot open shared object file: No such file or directory\n",
      "2023-09-08 10:15:02.108258: W tensorflow/stream_executor/cuda/cuda_driver.cc:326] failed call to cuInit: UNKNOWN ERROR (303)\n",
      "2023-09-08 10:15:02.109659: I tensorflow/stream_executor/cuda/cuda_diagnostics.cc:156] kernel driver does not appear to be running on this host (VMDebianVIVO): /proc/driver/nvidia/version does not exist\n",
      "2023-09-08 10:15:02.156830: I tensorflow/core/platform/cpu_feature_guard.cc:142] This TensorFlow binary is optimized with oneAPI Deep Neural Network Library (oneDNN) to use the following CPU instructions in performance-critical operations:  SSE4.1 SSE4.2 AVX AVX2 FMA\n",
      "To enable them in other operations, rebuild TensorFlow with the appropriate compiler flags.\n",
      "2023-09-08 10:15:02.157620: I tensorflow/compiler/jit/xla_gpu_device.cc:99] Not creating XLA devices, tf_xla_enable_xla_devices not set\n"
     ]
    }
   ],
   "source": [
    "# §代碼清單 3-15 模型定義\n",
    "\n",
    "from keras import models\n",
    "from keras import layers\n",
    "\n",
    "model = models.Sequential()\n",
    "model.add(layers.Dense(64, activation = 'relu', input_shape = (10000,)))\n",
    "model.add(layers.Dense(64, activation = 'relu'))\n",
    "model.add(layers.Dense(46, activation = 'softmax'))\n"
   ]
  },
  {
   "cell_type": "code",
   "execution_count": 13,
   "id": "111fbd41",
   "metadata": {},
   "outputs": [],
   "source": [
    "# §代碼清單 3-16 編譯模型\n",
    "\n",
    "model.compile(optimizer = 'rmsprop',\n",
    "             loss = 'categorical_crossentropy',\n",
    "             metrics = ['accuracy'])\n"
   ]
  },
  {
   "cell_type": "code",
   "execution_count": 14,
   "id": "cad46a6b",
   "metadata": {},
   "outputs": [],
   "source": [
    "# §代碼清單 3-17 留出驗證集\n",
    "\n",
    "x_val = x_train[:1000]\n",
    "partial_x_train = x_train[1000:]\n",
    "\n",
    "y_val = one_hot_train_labels[:1000]\n",
    "partial_y_train = one_hot_train_labels[1000:]"
   ]
  },
  {
   "cell_type": "code",
   "execution_count": 15,
   "id": "266bc715",
   "metadata": {},
   "outputs": [
    {
     "name": "stderr",
     "output_type": "stream",
     "text": [
      "2023-09-08 10:15:23.693654: W tensorflow/core/framework/cpu_allocator_impl.cc:80] Allocation of 319280000 exceeds 10% of free system memory.\n",
      "2023-09-08 10:15:30.697713: I tensorflow/compiler/mlir/mlir_graph_optimization_pass.cc:116] None of the MLIR optimization passes are enabled (registered 2)\n",
      "2023-09-08 10:15:30.761129: I tensorflow/core/platform/profile_utils/cpu_utils.cc:112] CPU Frequency: 1992000000 Hz\n"
     ]
    },
    {
     "name": "stdout",
     "output_type": "stream",
     "text": [
      "Epoch 1/20\n"
     ]
    },
    {
     "name": "stderr",
     "output_type": "stream",
     "text": [
      "2023-09-08 10:15:32.448700: W tensorflow/core/framework/cpu_allocator_impl.cc:80] Allocation of 20480000 exceeds 10% of free system memory.\n"
     ]
    },
    {
     "name": "stdout",
     "output_type": "stream",
     "text": [
      " 3/16 [====>.........................] - ETA: 1s - loss: 3.7183 - accuracy: 0.1584"
     ]
    },
    {
     "name": "stderr",
     "output_type": "stream",
     "text": [
      "2023-09-08 10:15:32.766213: W tensorflow/core/framework/cpu_allocator_impl.cc:80] Allocation of 20480000 exceeds 10% of free system memory.\n",
      "2023-09-08 10:15:32.878110: W tensorflow/core/framework/cpu_allocator_impl.cc:80] Allocation of 20480000 exceeds 10% of free system memory.\n",
      "2023-09-08 10:15:32.959780: W tensorflow/core/framework/cpu_allocator_impl.cc:80] Allocation of 20480000 exceeds 10% of free system memory.\n"
     ]
    },
    {
     "name": "stdout",
     "output_type": "stream",
     "text": [
      "16/16 [==============================] - 4s 179ms/step - loss: 3.0712 - accuracy: 0.3994 - val_loss: 1.7095 - val_accuracy: 0.6560\n",
      "Epoch 2/20\n",
      "16/16 [==============================] - 3s 165ms/step - loss: 1.4677 - accuracy: 0.7053 - val_loss: 1.2886 - val_accuracy: 0.7340\n",
      "Epoch 3/20\n",
      "16/16 [==============================] - 3s 168ms/step - loss: 1.0502 - accuracy: 0.7772 - val_loss: 1.1222 - val_accuracy: 0.7520\n",
      "Epoch 4/20\n",
      "16/16 [==============================] - 2s 143ms/step - loss: 0.8339 - accuracy: 0.8187 - val_loss: 1.0187 - val_accuracy: 0.7830\n",
      "Epoch 5/20\n",
      "16/16 [==============================] - 2s 111ms/step - loss: 0.6464 - accuracy: 0.8581 - val_loss: 0.9960 - val_accuracy: 0.7710\n",
      "Epoch 6/20\n",
      "16/16 [==============================] - 3s 224ms/step - loss: 0.5341 - accuracy: 0.8836 - val_loss: 0.9194 - val_accuracy: 0.8060\n",
      "Epoch 7/20\n",
      "16/16 [==============================] - 3s 212ms/step - loss: 0.4110 - accuracy: 0.9138 - val_loss: 0.8981 - val_accuracy: 0.8050\n",
      "Epoch 8/20\n",
      "16/16 [==============================] - 2s 107ms/step - loss: 0.3366 - accuracy: 0.9320 - val_loss: 0.8759 - val_accuracy: 0.8260\n",
      "Epoch 9/20\n",
      "16/16 [==============================] - 3s 182ms/step - loss: 0.2796 - accuracy: 0.9420 - val_loss: 0.9308 - val_accuracy: 0.8110\n",
      "Epoch 10/20\n",
      "16/16 [==============================] - 2s 143ms/step - loss: 0.2371 - accuracy: 0.9490 - val_loss: 0.9080 - val_accuracy: 0.8140\n",
      "Epoch 11/20\n",
      "16/16 [==============================] - 2s 120ms/step - loss: 0.1973 - accuracy: 0.9536 - val_loss: 0.9462 - val_accuracy: 0.8010\n",
      "Epoch 12/20\n",
      "16/16 [==============================] - 2s 126ms/step - loss: 0.1794 - accuracy: 0.9576 - val_loss: 0.9579 - val_accuracy: 0.8020\n",
      "Epoch 13/20\n",
      "16/16 [==============================] - 2s 150ms/step - loss: 0.1520 - accuracy: 0.9590 - val_loss: 0.9716 - val_accuracy: 0.8080\n",
      "Epoch 14/20\n",
      "16/16 [==============================] - 2s 131ms/step - loss: 0.1439 - accuracy: 0.9587 - val_loss: 0.9540 - val_accuracy: 0.8130\n",
      "Epoch 15/20\n",
      "16/16 [==============================] - 2s 132ms/step - loss: 0.1397 - accuracy: 0.9570 - val_loss: 0.9867 - val_accuracy: 0.8120\n",
      "Epoch 16/20\n",
      "16/16 [==============================] - 2s 139ms/step - loss: 0.1201 - accuracy: 0.9657 - val_loss: 0.9905 - val_accuracy: 0.8040\n",
      "Epoch 17/20\n",
      "16/16 [==============================] - 2s 141ms/step - loss: 0.1185 - accuracy: 0.9598 - val_loss: 1.0428 - val_accuracy: 0.8050\n",
      "Epoch 18/20\n",
      "16/16 [==============================] - 2s 125ms/step - loss: 0.1150 - accuracy: 0.9646 - val_loss: 1.0844 - val_accuracy: 0.7920\n",
      "Epoch 19/20\n",
      "16/16 [==============================] - 2s 149ms/step - loss: 0.1086 - accuracy: 0.9616 - val_loss: 1.0435 - val_accuracy: 0.7960\n",
      "Epoch 20/20\n",
      "16/16 [==============================] - 2s 131ms/step - loss: 0.1001 - accuracy: 0.9625 - val_loss: 1.0555 - val_accuracy: 0.8050\n"
     ]
    }
   ],
   "source": [
    "# §代碼清單 3-18 訓練模型\n",
    "\n",
    "history = model.fit(partial_x_train,\n",
    "                   partial_y_train,\n",
    "                   epochs = 20,\n",
    "                   batch_size = 512,\n",
    "                   validation_data = (x_val, y_val))\n"
   ]
  },
  {
   "cell_type": "code",
   "execution_count": 17,
   "id": "3222cf48",
   "metadata": {},
   "outputs": [
    {
     "data": {
      "image/png": "[encoded data removed]",
      "text/plain": [
       "<Figure size 640x480 with 1 Axes>"
      ]
     },
     "metadata": {},
     "output_type": "display_data"
    }
   ],
   "source": [
    "# §代碼清單 3-19 繪製訓練損失和驗證損失\n",
    "\n",
    "import matplotlib.pyplot as plt\n",
    "\n",
    "loss = history.history['loss']\n",
    "val_loss = history.history['val_loss']\n",
    "\n",
    "epochs = range(1, len(loss) + 1)\n",
    "\n",
    "plt.plot(epochs, loss, 'bo', label = 'Training loss')\n",
    "plt.plot(epochs, val_loss, 'b', label = 'Validation loss')\n",
    "plt.title('Training and validation loss')\n",
    "plt.xlabel('Epochs')\n",
    "plt.ylabel('Loss')\n",
    "plt.legend()\n",
    "\n",
    "plt.show()\n"
   ]
  },
  {
   "cell_type": "code",
   "execution_count": 18,
   "id": "b89a4459",
   "metadata": {},
   "outputs": [
    {
     "data": {
      "image/png": "[encoded data removed]",
      "text/plain": [
       "<Figure size 640x480 with 1 Axes>"
      ]
     },
     "metadata": {},
     "output_type": "display_data"
    }
   ],
   "source": [
    "# §代碼清單 3-20 繪製訓練精度和驗證精度\n",
    "\n",
    "plt.clf()\n",
    "acc = history.history['accuracy']\n",
    "val_acc = history.history['val_accuracy']\n",
    "\n",
    "plt.plot(epochs, acc, 'bo', label = 'Training acc')\n",
    "plt.plot(epochs, val_acc, 'b', label = 'Validation acc')\n",
    "plt.title('Training and validation accuracy')\n",
    "plt.xlabel('Epochs')\n",
    "plt.ylabel('Accuracy')\n",
    "plt.legend()\n",
    "\n",
    "plt.show()\n"
   ]
  },
  {
   "cell_type": "code",
   "execution_count": 19,
   "id": "34094a81",
   "metadata": {},
   "outputs": [
    {
     "name": "stdout",
     "output_type": "stream",
     "text": [
      "Epoch 1/9\n",
      "16/16 [==============================] - 3s 133ms/step - loss: 3.0544 - accuracy: 0.4347 - val_loss: 1.6807 - val_accuracy: 0.6520\n",
      "Epoch 2/9\n",
      "16/16 [==============================] - 2s 117ms/step - loss: 1.4885 - accuracy: 0.6929 - val_loss: 1.3065 - val_accuracy: 0.7180\n",
      "Epoch 3/9\n",
      "16/16 [==============================] - 2s 113ms/step - loss: 1.1162 - accuracy: 0.7632 - val_loss: 1.1598 - val_accuracy: 0.7520\n",
      "Epoch 4/9\n",
      "16/16 [==============================] - 2s 105ms/step - loss: 0.8557 - accuracy: 0.8238 - val_loss: 1.0582 - val_accuracy: 0.7730\n",
      "Epoch 5/9\n",
      "16/16 [==============================] - 2s 115ms/step - loss: 0.6798 - accuracy: 0.8585 - val_loss: 0.9871 - val_accuracy: 0.8000\n",
      "Epoch 6/9\n",
      "16/16 [==============================] - 2s 121ms/step - loss: 0.5415 - accuracy: 0.8878 - val_loss: 0.9667 - val_accuracy: 0.8030\n",
      "Epoch 7/9\n",
      "16/16 [==============================] - 2s 141ms/step - loss: 0.4417 - accuracy: 0.9123 - val_loss: 0.9757 - val_accuracy: 0.7940\n",
      "Epoch 8/9\n",
      "16/16 [==============================] - 2s 130ms/step - loss: 0.3585 - accuracy: 0.9278 - val_loss: 0.9113 - val_accuracy: 0.8160\n",
      "Epoch 9/9\n",
      "16/16 [==============================] - 2s 114ms/step - loss: 0.2897 - accuracy: 0.9431 - val_loss: 0.8908 - val_accuracy: 0.8200\n",
      "71/71 [==============================] - 1s 8ms/step - loss: 1.0024 - accuracy: 0.7792\n"
     ]
    }
   ],
   "source": [
    "# §代碼清單 3-21 從頭開始重新訓練一個模型\n",
    "\n",
    "model = models.Sequential()\n",
    "model = models.Sequential()\n",
    "\n",
    "model.add(layers.Dense(64, activation = 'relu', input_shape = (10000,)))\n",
    "model.add(layers.Dense(64, activation = 'relu'))\n",
    "model.add(layers.Dense(46, activation = 'softmax'))\n",
    "\n",
    "model.compile(optimizer = 'rmsprop',\n",
    "             loss = 'categorical_crossentropy',\n",
    "             metrics = ['accuracy'])\n",
    "model.fit(partial_x_train,\n",
    "         partial_y_train,\n",
    "         epochs = 9,\n",
    "         batch_size = 512,\n",
    "         validation_data = (x_val, y_val))\n",
    "results = model.evaluate(x_test, one_hot_test_labels)"
   ]
  },
  {
   "cell_type": "code",
   "execution_count": 20,
   "id": "69995202",
   "metadata": {},
   "outputs": [
    {
     "name": "stdout",
     "output_type": "stream",
     "text": [
      "[1.0024073123931885, 0.7791629433631897]\n"
     ]
    }
   ],
   "source": [
    "# === FOR CHECK (p.64, pdf.81) ===\n",
    "print(results)"
   ]
  },
  {
   "cell_type": "code",
   "execution_count": 21,
   "id": "c7f0b731",
   "metadata": {},
   "outputs": [],
   "source": [
    "# §代碼清單 3-22 在新數據上生成預測結果\n",
    "\n",
    "predictions = model.predict(x_test)\n",
    "\n",
    "#print(predictions[0].shape)\n",
    "#print(np.argmax(predictions[0]))\n",
    "\n",
    "#y_train = np.array(train_labels)\n",
    "#y_test = np.array(test_labels)\n",
    "\n",
    "#model.compile(optimizer = 'rmsprop',\n",
    "#             loss = 'sparse_categorical_crossentropy',\n",
    "#             metric = ['accuracy'])\n",
    "\n"
   ]
  },
  {
   "cell_type": "code",
   "execution_count": 22,
   "id": "90e4b958",
   "metadata": {},
   "outputs": [
    {
     "name": "stdout",
     "output_type": "stream",
     "text": [
      "Epoch 1/20\n",
      "63/63 [==============================] - 4s 48ms/step - loss: 3.3192 - accuracy: 0.1389 - val_loss: 2.2893 - val_accuracy: 0.4340\n",
      "Epoch 2/20\n",
      "63/63 [==============================] - 3s 46ms/step - loss: 2.0113 - accuracy: 0.4711 - val_loss: 1.6323 - val_accuracy: 0.6200\n",
      "Epoch 3/20\n",
      "63/63 [==============================] - 3s 51ms/step - loss: 1.3662 - accuracy: 0.6772 - val_loss: 1.3882 - val_accuracy: 0.6680\n",
      "Epoch 4/20\n",
      "63/63 [==============================] - 3s 47ms/step - loss: 1.1039 - accuracy: 0.7340 - val_loss: 1.3228 - val_accuracy: 0.6940\n",
      "Epoch 5/20\n",
      "63/63 [==============================] - 3s 50ms/step - loss: 1.0221 - accuracy: 0.7561 - val_loss: 1.3103 - val_accuracy: 0.7060\n",
      "Epoch 6/20\n",
      "63/63 [==============================] - 3s 45ms/step - loss: 0.8873 - accuracy: 0.7778 - val_loss: 1.3040 - val_accuracy: 0.7040\n",
      "Epoch 7/20\n",
      "63/63 [==============================] - 3s 46ms/step - loss: 0.8250 - accuracy: 0.7865 - val_loss: 1.3178 - val_accuracy: 0.7130\n",
      "Epoch 8/20\n",
      "63/63 [==============================] - 3s 44ms/step - loss: 0.7487 - accuracy: 0.8028 - val_loss: 1.3375 - val_accuracy: 0.7090\n",
      "Epoch 9/20\n",
      "63/63 [==============================] - 3s 50ms/step - loss: 0.7220 - accuracy: 0.8069 - val_loss: 1.3677 - val_accuracy: 0.7120\n",
      "Epoch 10/20\n",
      "63/63 [==============================] - 3s 47ms/step - loss: 0.6637 - accuracy: 0.8141 - val_loss: 1.3818 - val_accuracy: 0.7150\n",
      "Epoch 11/20\n",
      "63/63 [==============================] - 4s 55ms/step - loss: 0.6437 - accuracy: 0.8293 - val_loss: 1.4546 - val_accuracy: 0.7060\n",
      "Epoch 12/20\n",
      "63/63 [==============================] - 4s 65ms/step - loss: 0.5822 - accuracy: 0.8411 - val_loss: 1.4791 - val_accuracy: 0.7060\n",
      "Epoch 13/20\n",
      "63/63 [==============================] - 3s 55ms/step - loss: 0.5403 - accuracy: 0.8531 - val_loss: 1.5025 - val_accuracy: 0.7160\n",
      "Epoch 14/20\n",
      "63/63 [==============================] - 4s 60ms/step - loss: 0.5231 - accuracy: 0.8583 - val_loss: 1.5519 - val_accuracy: 0.7150\n",
      "Epoch 15/20\n",
      "63/63 [==============================] - 4s 57ms/step - loss: 0.5021 - accuracy: 0.8634 - val_loss: 1.6048 - val_accuracy: 0.7140\n",
      "Epoch 16/20\n",
      "63/63 [==============================] - 3s 45ms/step - loss: 0.4637 - accuracy: 0.8745 - val_loss: 1.6993 - val_accuracy: 0.7160\n",
      "Epoch 17/20\n",
      "63/63 [==============================] - 3s 47ms/step - loss: 0.4365 - accuracy: 0.8804 - val_loss: 1.6908 - val_accuracy: 0.7170\n",
      "Epoch 18/20\n",
      "63/63 [==============================] - 3s 44ms/step - loss: 0.4180 - accuracy: 0.8866 - val_loss: 1.7418 - val_accuracy: 0.7110\n",
      "Epoch 19/20\n",
      "63/63 [==============================] - 3s 45ms/step - loss: 0.4137 - accuracy: 0.8814 - val_loss: 1.8303 - val_accuracy: 0.7140\n",
      "Epoch 20/20\n",
      "63/63 [==============================] - 3s 46ms/step - loss: 0.4016 - accuracy: 0.8828 - val_loss: 1.8258 - val_accuracy: 0.7080\n"
     ]
    },
    {
     "data": {
      "text/plain": [
       "<tensorflow.python.keras.callbacks.History at 0x7f6754521700>"
      ]
     },
     "execution_count": 22,
     "metadata": {},
     "output_type": "execute_result"
    }
   ],
   "source": [
    "# §代碼清單 3-23 具有信息瓶頸的模型\n",
    "\n",
    "model = models.Sequential()\n",
    "model.add(layers.Dense(64, activation = 'relu', input_shape = (10000,)))\n",
    "model.add(layers.Dense(4, activation = 'relu'))\n",
    "model.add(layers.Dense(46, activation = 'softmax'))\n",
    "\n",
    "model.compile(optimizer = 'rmsprop',\n",
    "             loss = 'categorical_crossentropy',\n",
    "             metrics = ['accuracy'])\n",
    "model.fit(partial_x_train,\n",
    "         partial_y_train,\n",
    "         epochs = 20,\n",
    "         batch_size = 128,\n",
    "         validation_data = (x_val, y_val))\n"
   ]
  },
  {
   "cell_type": "code",
   "execution_count": null,
   "id": "d33c9dee",
   "metadata": {},
   "outputs": [],
   "source": [
    "# === FOR CHECK (p.64, pdf.81) ===\n",
    "\n",
    "results = model.evaluate(x_test, one_hot_test_labels)\n",
    "print(results)\n"
   ]
  }
 ],
 "metadata": {
  "kernelspec": {
   "display_name": "Python 3 (ipykernel)",
   "language": "python",
   "name": "python3"
  },
  "language_info": {
   "codemirror_mode": {
    "name": "ipython",
    "version": 3
   },
   "file_extension": ".py",
   "mimetype": "text/x-python",
   "name": "python",
   "nbconvert_exporter": "python",
   "pygments_lexer": "ipython3",
   "version": "3.11.5"
  }
 },
 "nbformat": 4,
 "nbformat_minor": 5
}
