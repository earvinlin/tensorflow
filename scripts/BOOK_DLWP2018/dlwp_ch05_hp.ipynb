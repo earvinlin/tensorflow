{
 "cells": [
  {
   "cell_type": "code",
   "execution_count": 1,
   "id": "1416c439",
   "metadata": {},
   "outputs": [],
   "source": [
    "import os\n",
    "import numpy as np\n",
    "import pandas as pd\n",
    "import tensorflow as tf\n",
    "import matplotlib.pyplot as plt\n",
    "from tensorflow import keras\n",
    "from tensorflow.keras import layers"
   ]
  },
  {
   "cell_type": "code",
   "execution_count": 2,
   "id": "d683dcda",
   "metadata": {},
   "outputs": [
    {
     "data": {
      "text/plain": [
       "'2.13.0'"
      ]
     },
     "execution_count": 2,
     "metadata": {},
     "output_type": "execute_result"
    }
   ],
   "source": [
    "tf.__version__"
   ]
  },
  {
   "cell_type": "code",
   "execution_count": 3,
   "id": "ce45b159",
   "metadata": {},
   "outputs": [],
   "source": [
    "# § 代碼清單 5-1 實例化一個小型的卷積神經網路\n",
    "\n",
    "from keras import layers\n",
    "from keras import models\n",
    "\n",
    "model = models.Sequential()\n",
    "model.add(layers.Conv2D(32, (3, 3), activation='relu', input_shape=(28, 28, 1)))\n",
    "model.add(layers.MaxPooling2D((2, 2)))\n",
    "model.add(layers.Conv2D(64, (3, 3), activation='relu'))\n",
    "model.add(layers.MaxPooling2D((2, 2)))\n",
    "model.add(layers.Conv2D(64, (3, 3), activation='relu'))\n"
   ]
  },
  {
   "cell_type": "code",
   "execution_count": 4,
   "id": "15b87d83",
   "metadata": {},
   "outputs": [
    {
     "name": "stdout",
     "output_type": "stream",
     "text": [
      "Model: \"sequential\"\n",
      "_________________________________________________________________\n",
      " Layer (type)                Output Shape              Param #   \n",
      "=================================================================\n",
      " conv2d (Conv2D)             (None, 26, 26, 32)        320       \n",
      "                                                                 \n",
      " max_pooling2d (MaxPooling2  (None, 13, 13, 32)        0         \n",
      " D)                                                              \n",
      "                                                                 \n",
      " conv2d_1 (Conv2D)           (None, 11, 11, 64)        18496     \n",
      "                                                                 \n",
      " max_pooling2d_1 (MaxPoolin  (None, 5, 5, 64)          0         \n",
      " g2D)                                                            \n",
      "                                                                 \n",
      " conv2d_2 (Conv2D)           (None, 3, 3, 64)          36928     \n",
      "                                                                 \n",
      "=================================================================\n",
      "Total params: 55744 (217.75 KB)\n",
      "Trainable params: 55744 (217.75 KB)\n",
      "Non-trainable params: 0 (0.00 Byte)\n",
      "_________________________________________________________________\n"
     ]
    }
   ],
   "source": [
    "model.summary()"
   ]
  },
  {
   "cell_type": "code",
   "execution_count": 5,
   "id": "db825641",
   "metadata": {},
   "outputs": [],
   "source": [
    "# § 代碼清單 5-2 在卷積神經網路上添加分類器\n",
    "\n",
    "model.add(layers.Flatten())\n",
    "model.add(layers.Dense(64, activation='relu'))\n",
    "model.add(layers.Dense(10, activation='softmax'))\n"
   ]
  },
  {
   "cell_type": "code",
   "execution_count": 6,
   "id": "f11a0067",
   "metadata": {},
   "outputs": [
    {
     "name": "stdout",
     "output_type": "stream",
     "text": [
      "Model: \"sequential\"\n",
      "_________________________________________________________________\n",
      " Layer (type)                Output Shape              Param #   \n",
      "=================================================================\n",
      " conv2d (Conv2D)             (None, 26, 26, 32)        320       \n",
      "                                                                 \n",
      " max_pooling2d (MaxPooling2  (None, 13, 13, 32)        0         \n",
      " D)                                                              \n",
      "                                                                 \n",
      " conv2d_1 (Conv2D)           (None, 11, 11, 64)        18496     \n",
      "                                                                 \n",
      " max_pooling2d_1 (MaxPoolin  (None, 5, 5, 64)          0         \n",
      " g2D)                                                            \n",
      "                                                                 \n",
      " conv2d_2 (Conv2D)           (None, 3, 3, 64)          36928     \n",
      "                                                                 \n",
      " flatten (Flatten)           (None, 576)               0         \n",
      "                                                                 \n",
      " dense (Dense)               (None, 64)                36928     \n",
      "                                                                 \n",
      " dense_1 (Dense)             (None, 10)                650       \n",
      "                                                                 \n",
      "=================================================================\n",
      "Total params: 93322 (364.54 KB)\n",
      "Trainable params: 93322 (364.54 KB)\n",
      "Non-trainable params: 0 (0.00 Byte)\n",
      "_________________________________________________________________\n"
     ]
    }
   ],
   "source": [
    "model.summary()"
   ]
  },
  {
   "cell_type": "code",
   "execution_count": 7,
   "id": "51bb77af",
   "metadata": {},
   "outputs": [
    {
     "name": "stdout",
     "output_type": "stream",
     "text": [
      "Downloading data from https://storage.googleapis.com/tensorflow/tf-keras-datasets/mnist.npz\n",
      "11490434/11490434 [==============================] - 16s 1us/step\n",
      "Epoch 1/5\n",
      "938/938 [==============================] - 75s 77ms/step - loss: 0.1801 - accuracy: 0.9439\n",
      "Epoch 2/5\n",
      "938/938 [==============================] - 66s 71ms/step - loss: 0.0478 - accuracy: 0.9856\n",
      "Epoch 3/5\n",
      "938/938 [==============================] - 66s 70ms/step - loss: 0.0321 - accuracy: 0.9898\n",
      "Epoch 4/5\n",
      "938/938 [==============================] - 65s 69ms/step - loss: 0.0249 - accuracy: 0.9923\n",
      "Epoch 5/5\n",
      "938/938 [==============================] - 64s 68ms/step - loss: 0.0192 - accuracy: 0.9946\n"
     ]
    },
    {
     "data": {
      "text/plain": [
       "<keras.src.callbacks.History at 0x293717cfb10>"
      ]
     },
     "execution_count": 7,
     "metadata": {},
     "output_type": "execute_result"
    }
   ],
   "source": [
    "# § 代碼清單 5-3 在MNIST圖像上訓練卷積神經網路\n",
    "\n",
    "from keras.datasets import mnist\n",
    "from keras.utils import to_categorical\n",
    "\n",
    "(train_images, train_labels), (test_images, test_labels) = mnist.load_data()\n",
    "\n",
    "train_images = train_images.reshape((60000, 28, 28, 1))\n",
    "train_images = train_images.astype('float32') / 255\n",
    "\n",
    "test_images = test_images.reshape((10000, 28, 28, 1))\n",
    "test_images = test_images.astype('float32') / 255\n",
    "\n",
    "train_labels = to_categorical(train_labels)\n",
    "test_labels = to_categorical(test_labels)\n",
    "\n",
    "model.compile(optimizer='rmsprop',\n",
    "             loss='categorical_crossentropy',\n",
    "             metrics=['accuracy'])\n",
    "model.fit(train_images, train_labels, epochs=5, batch_size=64)\n"
   ]
  },
  {
   "cell_type": "code",
   "execution_count": 8,
   "id": "bed6c245",
   "metadata": {},
   "outputs": [
    {
     "name": "stdout",
     "output_type": "stream",
     "text": [
      "313/313 [==============================] - 4s 13ms/step - loss: 0.0235 - accuracy: 0.9926\n",
      "loss=  0.02351948618888855 acc=  0.9926000237464905\n"
     ]
    }
   ],
   "source": [
    "test_loss, test_acc = model.evaluate(test_images, test_labels)\n",
    "print(\"loss= \", test_loss, \"acc= \", test_acc)\n"
   ]
  },
  {
   "cell_type": "code",
   "execution_count": 11,
   "id": "fefa3b4e",
   "metadata": {},
   "outputs": [],
   "source": [
    "# Listing 5.4 Copying images to training, validation, and test directories\n",
    "\n",
    "import os, shutil\n",
    "\n",
    "#=== Windows Settings (FOR HPNB Base) ===#\n",
    "#original_dataset_dir = 'C:\\WORKSPACES\\Datasets\\kaggle_original_data'\n",
    "#base_dir = 'C:\\WORKSPACES\\Datasets\\cats_and_dogs_small'\n",
    "\n",
    "#=== Windows Settings (FOR SGO3NB Base) ===#\n",
    "original_dataset_dir = 'D:\\WORKSPACES\\Datasets\\kaggle_original_data'\n",
    "base_dir = 'D:\\WORKSPACES\\Datasets\\cats_and_dogs_small'\n",
    "os.mkdir(base_dir)\n",
    "\n",
    "train_dir = os.path.join(base_dir, 'train')\n",
    "os.mkdir(train_dir)\n",
    "validation_dir = os.path.join(base_dir, 'validation')\n",
    "os.mkdir(validation_dir)\n",
    "test_dir = os.path.join(base_dir, 'test')\n",
    "os.mkdir(test_dir)\n",
    "\n",
    "train_cats_dir = os.path.join(train_dir, 'cats')\n",
    "os.mkdir(train_cats_dir)\n",
    "train_dogs_dir = os.path.join(train_dir, 'dogs')\n",
    "os.mkdir(train_dogs_dir)\n",
    "validation_cats_dir = os.path.join(validation_dir, 'cats')\n",
    "os.mkdir(validation_cats_dir)\n",
    "validation_dogs_dir = os.path.join(validation_dir, 'dogs')\n",
    "os.mkdir(validation_dogs_dir)\n",
    "test_cats_dir = os.path.join(test_dir, 'cats')\n",
    "os.mkdir(test_cats_dir)\n",
    "test_dogs_dir = os.path.join(test_dir, 'dogs')\n",
    "os.mkdir(test_dogs_dir)\n"
   ]
  },
  {
   "cell_type": "code",
   "execution_count": 12,
   "id": "913d9c13",
   "metadata": {
    "scrolled": true
   },
   "outputs": [],
   "source": [
    "# Listing 5.4 Copying images to training, validation, and test directories\n",
    "\n",
    "fnames = ['{}.jpg'.format(i) for i in range(1000)]\n",
    "for fname in fnames:\n",
    "    src = os.path.join(original_dataset_dir, 'Cat', fname)\n",
    "    dst = os.path.join(train_cats_dir, fname)\n",
    "    shutil.copyfile(src, dst)\n",
    "\n",
    "fnames = ['{}.jpg'.format(i) for i in range(1000, 1500)]\n",
    "for fname in fnames:\n",
    "    src = os.path.join(original_dataset_dir, 'Cat', fname)\n",
    "    dst = os.path.join(validation_cats_dir, fname)\n",
    "    shutil.copyfile(src, dst)\n",
    "\n",
    "fnames = ['{}.jpg'.format(i) for i in range(1500, 2000)]\n",
    "for fname in fnames:\n",
    "    src = os.path.join(original_dataset_dir, 'Cat', fname)\n",
    "    dst = os.path.join(test_cats_dir, fname)\n",
    "    shutil.copyfile(src, dst)\n",
    "\n",
    "fnames = ['{}.jpg'.format(i) for i in range(1000)]\n",
    "for fname in fnames:\n",
    "    src = os.path.join(original_dataset_dir, 'Dog', fname)\n",
    "    dst = os.path.join(train_dogs_dir, fname)\n",
    "    shutil.copyfile(src, dst)\n",
    "\n",
    "fnames = ['{}.jpg'.format(i) for i in range(1000, 1500)]\n",
    "for fname in fnames:\n",
    "    src = os.path.join(original_dataset_dir, 'Dog', fname)\n",
    "    dst = os.path.join(validation_dogs_dir, fname)\n",
    "    shutil.copyfile(src, dst)\n",
    "\n",
    "fnames = ['{}.jpg'.format(i) for i in range(1500, 2000)]\n",
    "for fname in fnames:\n",
    "    src = os.path.join(original_dataset_dir, 'Dog', fname)\n",
    "    dst = os.path.join(test_dogs_dir, fname)\n",
    "    shutil.copyfile(src, dst)\n"
   ]
  },
  {
   "cell_type": "code",
   "execution_count": 13,
   "id": "53268e05",
   "metadata": {},
   "outputs": [
    {
     "ename": "FileNotFoundError",
     "evalue": "[Errno 2] No such file or directory: 'D:\\\\WORKSPACES\\\\Datasets\\\\kaggle_original_data\\\\Cat\\\\cat.0.jpg'",
     "output_type": "error",
     "traceback": [
      "\u001b[1;31m---------------------------------------------------------------------------\u001b[0m",
      "\u001b[1;31mFileNotFoundError\u001b[0m                         Traceback (most recent call last)",
      "Cell \u001b[1;32mIn[13], line 6\u001b[0m\n\u001b[0;32m      4\u001b[0m src \u001b[38;5;241m=\u001b[39m os\u001b[38;5;241m.\u001b[39mpath\u001b[38;5;241m.\u001b[39mjoin(original_dataset_dir, \u001b[38;5;124m'\u001b[39m\u001b[38;5;124mCat\u001b[39m\u001b[38;5;124m'\u001b[39m, fname)\n\u001b[0;32m      5\u001b[0m dst \u001b[38;5;241m=\u001b[39m os\u001b[38;5;241m.\u001b[39mpath\u001b[38;5;241m.\u001b[39mjoin(train_cats_dir, fname)\n\u001b[1;32m----> 6\u001b[0m shutil\u001b[38;5;241m.\u001b[39mcopyfile(src, dst)\n",
      "File \u001b[1;32m~\\anaconda3\\Lib\\shutil.py:256\u001b[0m, in \u001b[0;36mcopyfile\u001b[1;34m(src, dst, follow_symlinks)\u001b[0m\n\u001b[0;32m    254\u001b[0m     os\u001b[38;5;241m.\u001b[39msymlink(os\u001b[38;5;241m.\u001b[39mreadlink(src), dst)\n\u001b[0;32m    255\u001b[0m \u001b[38;5;28;01melse\u001b[39;00m:\n\u001b[1;32m--> 256\u001b[0m     \u001b[38;5;28;01mwith\u001b[39;00m \u001b[38;5;28mopen\u001b[39m(src, \u001b[38;5;124m'\u001b[39m\u001b[38;5;124mrb\u001b[39m\u001b[38;5;124m'\u001b[39m) \u001b[38;5;28;01mas\u001b[39;00m fsrc:\n\u001b[0;32m    257\u001b[0m         \u001b[38;5;28;01mtry\u001b[39;00m:\n\u001b[0;32m    258\u001b[0m             \u001b[38;5;28;01mwith\u001b[39;00m \u001b[38;5;28mopen\u001b[39m(dst, \u001b[38;5;124m'\u001b[39m\u001b[38;5;124mwb\u001b[39m\u001b[38;5;124m'\u001b[39m) \u001b[38;5;28;01mas\u001b[39;00m fdst:\n\u001b[0;32m    259\u001b[0m                 \u001b[38;5;66;03m# macOS\u001b[39;00m\n",
      "\u001b[1;31mFileNotFoundError\u001b[0m: [Errno 2] No such file or directory: 'D:\\\\WORKSPACES\\\\Datasets\\\\kaggle_original_data\\\\Cat\\\\cat.0.jpg'"
     ]
    }
   ],
   "source": [
    "#== FOR TEST ==\n",
    "fnames = ['cat.{}.jpg'.format(i) for i in range(1000)]\n",
    "for fname in fnames:\n",
    "    src = os.path.join(original_dataset_dir, 'Cat', fname)\n",
    "    dst = os.path.join(train_cats_dir, fname)\n",
    "    shutil.copyfile(src, dst)"
   ]
  },
  {
   "cell_type": "code",
   "execution_count": 14,
   "id": "fc673a7a",
   "metadata": {},
   "outputs": [],
   "source": [
    "# Listing 5.5 Instantiating a small convnet for dogs vs. cats classification\n",
    "\n",
    "from keras import layers\n",
    "from keras import models\n",
    "\n",
    "model = models.Sequential()\n",
    "\n",
    "model.add(layers.Conv2D(32, (3, 3), activation='relu', input_shape=(150, 150, 3)))\n",
    "model.add(layers.MaxPooling2D((2, 2)))\n",
    "model.add(layers.Conv2D(64, (3, 3), activation='relu'))\n",
    "model.add(layers.MaxPooling2D((2, 2)))\n",
    "model.add(layers.Conv2D(128, (3, 3), activation='relu'))\n",
    "model.add(layers.MaxPooling2D((2, 2)))\n",
    "model.add(layers.Conv2D(128, (3, 3), activation='relu'))\n",
    "model.add(layers.MaxPooling2D((2, 2)))\n",
    "\n",
    "model.add(layers.Flatten())\n",
    "model.add(layers.Dense(512, activation='relu'))\n",
    "model.add(layers.Dense(1, activation='sigmoid'))\n"
   ]
  },
  {
   "cell_type": "code",
   "execution_count": 15,
   "id": "2093a6ee",
   "metadata": {},
   "outputs": [
    {
     "name": "stdout",
     "output_type": "stream",
     "text": [
      "Model: \"sequential_1\"\n",
      "_________________________________________________________________\n",
      " Layer (type)                Output Shape              Param #   \n",
      "=================================================================\n",
      " conv2d_3 (Conv2D)           (None, 148, 148, 32)      896       \n",
      "                                                                 \n",
      " max_pooling2d_2 (MaxPoolin  (None, 74, 74, 32)        0         \n",
      " g2D)                                                            \n",
      "                                                                 \n",
      " conv2d_4 (Conv2D)           (None, 72, 72, 64)        18496     \n",
      "                                                                 \n",
      " max_pooling2d_3 (MaxPoolin  (None, 36, 36, 64)        0         \n",
      " g2D)                                                            \n",
      "                                                                 \n",
      " conv2d_5 (Conv2D)           (None, 34, 34, 128)       73856     \n",
      "                                                                 \n",
      " max_pooling2d_4 (MaxPoolin  (None, 17, 17, 128)       0         \n",
      " g2D)                                                            \n",
      "                                                                 \n",
      " conv2d_6 (Conv2D)           (None, 15, 15, 128)       147584    \n",
      "                                                                 \n",
      " max_pooling2d_5 (MaxPoolin  (None, 7, 7, 128)         0         \n",
      " g2D)                                                            \n",
      "                                                                 \n",
      " flatten_1 (Flatten)         (None, 6272)              0         \n",
      "                                                                 \n",
      " dense_2 (Dense)             (None, 512)               3211776   \n",
      "                                                                 \n",
      " dense_3 (Dense)             (None, 1)                 513       \n",
      "                                                                 \n",
      "=================================================================\n",
      "Total params: 3453121 (13.17 MB)\n",
      "Trainable params: 3453121 (13.17 MB)\n",
      "Non-trainable params: 0 (0.00 Byte)\n",
      "_________________________________________________________________\n"
     ]
    }
   ],
   "source": [
    "model.summary()\n"
   ]
  },
  {
   "cell_type": "code",
   "execution_count": 16,
   "id": "b7425e22",
   "metadata": {},
   "outputs": [
    {
     "name": "stderr",
     "output_type": "stream",
     "text": [
      "WARNING:absl:`lr` is deprecated in Keras optimizer, please use `learning_rate` or use the legacy optimizer, e.g.,tf.keras.optimizers.legacy.RMSprop.\n"
     ]
    }
   ],
   "source": [
    "# Listing 5.6 Configuring the model for training\n",
    "\n",
    "from keras import optimizers\n",
    "\n",
    "model.compile(loss='binary_crossentropy', \n",
    "              optimizer=optimizers.RMSprop(lr=1e-4),\n",
    "              metrics=['acc'])\n"
   ]
  },
  {
   "cell_type": "code",
   "execution_count": 17,
   "id": "d79f59bf",
   "metadata": {},
   "outputs": [
    {
     "name": "stdout",
     "output_type": "stream",
     "text": [
      "Found 2000 images belonging to 2 classes.\n",
      "Found 1000 images belonging to 2 classes.\n"
     ]
    }
   ],
   "source": [
    "# Listing 5.7 Using ImageDataGenerator to read images from directories\n",
    "\n",
    "from keras.preprocessing.image import ImageDataGenerator\n",
    "\n",
    "train_datagen = ImageDataGenerator(rescale=1./255)\n",
    "test_datagen = ImageDataGenerator(rescale=1./255)\n",
    "train_generator = train_datagen.flow_from_directory(\n",
    "    train_dir,\n",
    "    target_size=(150, 150),\n",
    "    batch_size=20,\n",
    "    class_mode='binary')\n",
    "\n",
    "validation_generator = test_datagen.flow_from_directory(\n",
    "    validation_dir,\n",
    "    target_size=(150, 150),\n",
    "    batch_size=20,\n",
    "    class_mode='binary')\n"
   ]
  },
  {
   "cell_type": "code",
   "execution_count": 18,
   "id": "feaba550",
   "metadata": {},
   "outputs": [
    {
     "name": "stdout",
     "output_type": "stream",
     "text": [
      "data batch shape: (20, 150, 150, 3)\n",
      "labels batch shape: (20,)\n"
     ]
    }
   ],
   "source": [
    "for data_batch, labels_batch in train_generator:\n",
    "    print('data batch shape:', data_batch.shape)\n",
    "    print('labels batch shape:', labels_batch.shape)\n",
    "    break\n"
   ]
  },
  {
   "cell_type": "code",
   "execution_count": 19,
   "id": "fd3b2965",
   "metadata": {},
   "outputs": [
    {
     "name": "stdout",
     "output_type": "stream",
     "text": [
      "Epoch 1/30\n",
      "100/100 [==============================] - 128s 1s/step - loss: 0.7269 - acc: 0.4950 - val_loss: 0.6920 - val_acc: 0.5400\n",
      "Epoch 2/30\n",
      "100/100 [==============================] - 117s 1s/step - loss: 0.6898 - acc: 0.5510 - val_loss: 0.6637 - val_acc: 0.6150\n",
      "Epoch 3/30\n",
      "100/100 [==============================] - 113s 1s/step - loss: 0.6673 - acc: 0.6185 - val_loss: 0.6485 - val_acc: 0.6300\n",
      "Epoch 4/30\n",
      "100/100 [==============================] - 119s 1s/step - loss: 0.6387 - acc: 0.6545 - val_loss: 0.6037 - val_acc: 0.6820\n",
      "Epoch 5/30\n",
      "100/100 [==============================] - 115s 1s/step - loss: 0.5852 - acc: 0.6870 - val_loss: 0.5621 - val_acc: 0.7150\n",
      "Epoch 6/30\n",
      "100/100 [==============================] - 109s 1s/step - loss: 0.5278 - acc: 0.7420 - val_loss: 0.5836 - val_acc: 0.6960\n",
      "Epoch 7/30\n",
      "100/100 [==============================] - 114s 1s/step - loss: 0.4638 - acc: 0.7705 - val_loss: 0.6085 - val_acc: 0.7070\n",
      "Epoch 8/30\n",
      "100/100 [==============================] - 109s 1s/step - loss: 0.4060 - acc: 0.8120 - val_loss: 0.6255 - val_acc: 0.6730\n",
      "Epoch 9/30\n",
      "100/100 [==============================] - 109s 1s/step - loss: 0.3464 - acc: 0.8540 - val_loss: 0.7112 - val_acc: 0.7240\n",
      "Epoch 10/30\n",
      "100/100 [==============================] - 111s 1s/step - loss: 0.2644 - acc: 0.8875 - val_loss: 0.7229 - val_acc: 0.7360\n",
      "Epoch 11/30\n",
      "100/100 [==============================] - 108s 1s/step - loss: 0.1912 - acc: 0.9180 - val_loss: 1.1188 - val_acc: 0.6770\n",
      "Epoch 12/30\n",
      "100/100 [==============================] - 109s 1s/step - loss: 0.1510 - acc: 0.9410 - val_loss: 1.1676 - val_acc: 0.7220\n",
      "Epoch 13/30\n",
      "100/100 [==============================] - 110s 1s/step - loss: 0.1143 - acc: 0.9635 - val_loss: 1.2953 - val_acc: 0.7040\n",
      "Epoch 14/30\n",
      "100/100 [==============================] - 109s 1s/step - loss: 0.0829 - acc: 0.9705 - val_loss: 1.2937 - val_acc: 0.7230\n",
      "Epoch 15/30\n",
      "100/100 [==============================] - 109s 1s/step - loss: 0.0681 - acc: 0.9775 - val_loss: 1.6016 - val_acc: 0.7190\n",
      "Epoch 16/30\n",
      "100/100 [==============================] - 110s 1s/step - loss: 0.0477 - acc: 0.9855 - val_loss: 1.7765 - val_acc: 0.6970\n",
      "Epoch 17/30\n",
      "100/100 [==============================] - 109s 1s/step - loss: 0.0408 - acc: 0.9835 - val_loss: 2.8150 - val_acc: 0.6620\n",
      "Epoch 18/30\n",
      "100/100 [==============================] - 109s 1s/step - loss: 0.0656 - acc: 0.9790 - val_loss: 2.2143 - val_acc: 0.7050\n",
      "Epoch 19/30\n",
      "100/100 [==============================] - 111s 1s/step - loss: 0.0662 - acc: 0.9855 - val_loss: 1.8383 - val_acc: 0.6960\n",
      "Epoch 20/30\n",
      "100/100 [==============================] - 120s 1s/step - loss: 0.0413 - acc: 0.9880 - val_loss: 1.9929 - val_acc: 0.7370\n",
      "Epoch 21/30\n",
      "100/100 [==============================] - 120s 1s/step - loss: 0.0254 - acc: 0.9930 - val_loss: 2.6610 - val_acc: 0.7030\n",
      "Epoch 22/30\n",
      "100/100 [==============================] - 109s 1s/step - loss: 0.0593 - acc: 0.9890 - val_loss: 2.4567 - val_acc: 0.7140\n",
      "Epoch 23/30\n",
      "100/100 [==============================] - 108s 1s/step - loss: 0.0482 - acc: 0.9860 - val_loss: 2.5215 - val_acc: 0.7240\n",
      "Epoch 24/30\n",
      "100/100 [==============================] - 110s 1s/step - loss: 0.0440 - acc: 0.9890 - val_loss: 2.5579 - val_acc: 0.7000\n",
      "Epoch 25/30\n",
      "100/100 [==============================] - 112s 1s/step - loss: 0.0440 - acc: 0.9870 - val_loss: 2.5053 - val_acc: 0.7040\n",
      "Epoch 26/30\n",
      "100/100 [==============================] - 110s 1s/step - loss: 0.0422 - acc: 0.9915 - val_loss: 2.3834 - val_acc: 0.7080\n",
      "Epoch 27/30\n",
      "100/100 [==============================] - 112s 1s/step - loss: 0.0134 - acc: 0.9955 - val_loss: 3.3425 - val_acc: 0.7110\n",
      "Epoch 28/30\n",
      "100/100 [==============================] - 109s 1s/step - loss: 0.0439 - acc: 0.9885 - val_loss: 2.5498 - val_acc: 0.7360\n",
      "Epoch 29/30\n",
      "100/100 [==============================] - 108s 1s/step - loss: 0.0056 - acc: 0.9985 - val_loss: 2.9083 - val_acc: 0.7240\n",
      "Epoch 30/30\n",
      "100/100 [==============================] - 110s 1s/step - loss: 0.0059 - acc: 0.9980 - val_loss: 3.9113 - val_acc: 0.6980\n"
     ]
    },
    {
     "data": {
      "text/plain": [
       "'\\nhistory = model.fit(\\n    train_generator,\\n    steps_per_epoch=100,\\n    epochs=30,\\n    validation_data=validation_generator,\\n    validation_steps=50)\\n\\nhistory = model.fit_generator(\\n    train_generator,\\n    steps_per_epoch=100,\\n    epochs=30,\\n    validation_data=validation_generator,\\n    validation_steps=50)\\n'"
      ]
     },
     "execution_count": 19,
     "metadata": {},
     "output_type": "execute_result"
    }
   ],
   "source": [
    "# Listing 5.8 Fitting the model using a batch generator\n",
    "\n",
    "history = model.fit(\n",
    "      train_generator,\n",
    "      steps_per_epoch=100,\n",
    "      epochs=30,\n",
    "      validation_data=validation_generator,\n",
    "      validation_steps=50)\n",
    "\n",
    "\"\"\"\n",
    "history = model.fit(\n",
    "    train_generator,\n",
    "    steps_per_epoch=100,\n",
    "    epochs=30,\n",
    "    validation_data=validation_generator,\n",
    "    validation_steps=50)\n",
    "\n",
    "history = model.fit_generator(\n",
    "    train_generator,\n",
    "    steps_per_epoch=100,\n",
    "    epochs=30,\n",
    "    validation_data=validation_generator,\n",
    "    validation_steps=50)\n",
    "\"\"\""
   ]
  },
  {
   "cell_type": "code",
   "execution_count": 20,
   "id": "567bb6e9",
   "metadata": {},
   "outputs": [
    {
     "name": "stderr",
     "output_type": "stream",
     "text": [
      "C:\\Users\\linea\\anaconda3\\Lib\\site-packages\\keras\\src\\engine\\training.py:3000: UserWarning: You are saving your model as an HDF5 file via `model.save()`. This file format is considered legacy. We recommend using instead the native Keras format, e.g. `model.save('my_model.keras')`.\n",
      "  saving_api.save_model(\n"
     ]
    }
   ],
   "source": [
    "# Listing 5.9 Saving the model\n",
    "model.save('cats_and_dogs_small_1.h5')\n"
   ]
  },
  {
   "cell_type": "code",
   "execution_count": 21,
   "id": "123113f9",
   "metadata": {},
   "outputs": [
    {
     "data": {
      "image/png": "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",
      "text/plain": [
       "<Figure size 640x480 with 1 Axes>"
      ]
     },
     "metadata": {},
     "output_type": "display_data"
    },
    {
     "data": {
      "image/png": "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",
      "text/plain": [
       "<Figure size 640x480 with 1 Axes>"
      ]
     },
     "metadata": {},
     "output_type": "display_data"
    }
   ],
   "source": [
    "# Listing 5.10 Displaying curves of loss and accuracy during training\n",
    "import matplotlib.pyplot as plt\n",
    "acc = history.history['acc']\n",
    "val_acc = history.history['val_acc']\n",
    "loss = history.history['loss']\n",
    "val_loss = history.history['val_loss']\n",
    "epochs = range(1, len(acc) + 1)\n",
    "plt.plot(epochs, acc, 'bo', label='Training acc')\n",
    "plt.plot(epochs, val_acc, 'b', label='Validation acc')\n",
    "plt.title('Training and validation accuracy')\n",
    "plt.legend()\n",
    "plt.figure()\n",
    "plt.plot(epochs, loss, 'bo', label='Training loss')\n",
    "plt.plot(epochs, val_loss, 'b', label='Validation loss')\n",
    "plt.title('Training and validation loss')\n",
    "plt.legend()\n",
    "plt.show()"
   ]
  },
  {
   "cell_type": "code",
   "execution_count": null,
   "id": "e8a91a44",
   "metadata": {},
   "outputs": [],
   "source": []
  }
 ],
 "metadata": {
  "kernelspec": {
   "display_name": "Python 3 (ipykernel)",
   "language": "python",
   "name": "python3"
  },
  "language_info": {
   "codemirror_mode": {
    "name": "ipython",
    "version": 3
   },
   "file_extension": ".py",
   "mimetype": "text/x-python",
   "name": "python",
   "nbconvert_exporter": "python",
   "pygments_lexer": "ipython3",
<<<<<<< HEAD
   "version": "3.9.18"
=======
<<<<<<< HEAD
   "version": "3.11.4"
=======
   "version": "3.8.16"
>>>>>>> 39f839440ab8802068890f078e47e74f7f618206
>>>>>>> 3d87b030f3bf891436145e98e81e8c1da243e1ab
  }
 },
 "nbformat": 4,
 "nbformat_minor": 5
}
