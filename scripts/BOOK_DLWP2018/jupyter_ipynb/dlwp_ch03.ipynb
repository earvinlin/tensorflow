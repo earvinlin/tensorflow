{
 "cells": [
  {
   "cell_type": "code",
   "execution_count": 1,
   "id": "1416c439",
   "metadata": {},
<<<<<<< HEAD
   "outputs": [],
=======
   "outputs": [
    {
     "name": "stderr",
     "output_type": "stream",
     "text": [
      "2024-07-14 15:21:38.977663: I tensorflow/core/platform/cpu_feature_guard.cc:182] This TensorFlow binary is optimized to use available CPU instructions in performance-critical operations.\n",
      "To enable the following instructions: SSE4.1 SSE4.2 AVX AVX2 FMA, in other operations, rebuild TensorFlow with the appropriate compiler flags.\n"
     ]
    }
   ],
>>>>>>> d69b236febf94df2dd6ee667e8b1736d80925de7
   "source": [
    "import os\n",
    "import numpy as np\n",
    "import pandas as pd\n",
    "import tensorflow as tf\n",
    "import matplotlib.pyplot as plt\n",
    "from tensorflow import keras\n",
    "from tensorflow.keras import layers"
   ]
  },
  {
   "cell_type": "code",
   "execution_count": 2,
   "id": "d683dcda",
   "metadata": {},
   "outputs": [
    {
     "data": {
      "text/plain": [
       "'2.12.0'"
      ]
     },
     "execution_count": 2,
     "metadata": {},
     "output_type": "execute_result"
    }
   ],
   "source": [
    "tf.__version__"
   ]
  },
  {
   "cell_type": "code",
   "execution_count": 3,
   "id": "832bc144",
   "metadata": {},
   "outputs": [
    {
     "name": "stdout",
     "output_type": "stream",
     "text": [
      "Downloading data from https://storage.googleapis.com/tensorflow/tf-keras-datasets/imdb.npz\n",
      "17464789/17464789 [==============================] - 7s 0us/step\n"
     ]
    }
   ],
   "source": [
    "# Listing 3.1 Loading the IMDB dataset\n",
    "\n",
    "from keras.datasets import imdb\n",
    "(train_data, train_labels), (test_data, test_labels) = imdb.load_data(\n",
    "num_words=10000)"
   ]
  },
  {
   "cell_type": "code",
   "execution_count": 4,
   "id": "9c7e1bf5",
   "metadata": {},
   "outputs": [
    {
     "data": {
      "text/plain": [
       "[1,\n",
       " 14,\n",
       " 22,\n",
       " 16,\n",
       " 43,\n",
       " 530,\n",
       " 973,\n",
       " 1622,\n",
       " 1385,\n",
       " 65,\n",
       " 458,\n",
       " 4468,\n",
       " 66,\n",
       " 3941,\n",
       " 4,\n",
       " 173,\n",
       " 36,\n",
       " 256,\n",
       " 5,\n",
       " 25,\n",
       " 100,\n",
       " 43,\n",
       " 838,\n",
       " 112,\n",
       " 50,\n",
       " 670,\n",
       " 2,\n",
       " 9,\n",
       " 35,\n",
       " 480,\n",
       " 284,\n",
       " 5,\n",
       " 150,\n",
       " 4,\n",
       " 172,\n",
       " 112,\n",
       " 167,\n",
       " 2,\n",
       " 336,\n",
       " 385,\n",
       " 39,\n",
       " 4,\n",
       " 172,\n",
       " 4536,\n",
       " 1111,\n",
       " 17,\n",
       " 546,\n",
       " 38,\n",
       " 13,\n",
       " 447,\n",
       " 4,\n",
       " 192,\n",
       " 50,\n",
       " 16,\n",
       " 6,\n",
       " 147,\n",
       " 2025,\n",
       " 19,\n",
       " 14,\n",
       " 22,\n",
       " 4,\n",
       " 1920,\n",
       " 4613,\n",
       " 469,\n",
       " 4,\n",
       " 22,\n",
       " 71,\n",
       " 87,\n",
       " 12,\n",
       " 16,\n",
       " 43,\n",
       " 530,\n",
       " 38,\n",
       " 76,\n",
       " 15,\n",
       " 13,\n",
       " 1247,\n",
       " 4,\n",
       " 22,\n",
       " 17,\n",
       " 515,\n",
       " 17,\n",
       " 12,\n",
       " 16,\n",
       " 626,\n",
       " 18,\n",
       " 2,\n",
       " 5,\n",
       " 62,\n",
       " 386,\n",
       " 12,\n",
       " 8,\n",
       " 316,\n",
       " 8,\n",
       " 106,\n",
       " 5,\n",
       " 4,\n",
       " 2223,\n",
       " 5244,\n",
       " 16,\n",
       " 480,\n",
       " 66,\n",
       " 3785,\n",
       " 33,\n",
       " 4,\n",
       " 130,\n",
       " 12,\n",
       " 16,\n",
       " 38,\n",
       " 619,\n",
       " 5,\n",
       " 25,\n",
       " 124,\n",
       " 51,\n",
       " 36,\n",
       " 135,\n",
       " 48,\n",
       " 25,\n",
       " 1415,\n",
       " 33,\n",
       " 6,\n",
       " 22,\n",
       " 12,\n",
       " 215,\n",
       " 28,\n",
       " 77,\n",
       " 52,\n",
       " 5,\n",
       " 14,\n",
       " 407,\n",
       " 16,\n",
       " 82,\n",
       " 2,\n",
       " 8,\n",
       " 4,\n",
       " 107,\n",
       " 117,\n",
       " 5952,\n",
       " 15,\n",
       " 256,\n",
       " 4,\n",
       " 2,\n",
       " 7,\n",
       " 3766,\n",
       " 5,\n",
       " 723,\n",
       " 36,\n",
       " 71,\n",
       " 43,\n",
       " 530,\n",
       " 476,\n",
       " 26,\n",
       " 400,\n",
       " 317,\n",
       " 46,\n",
       " 7,\n",
       " 4,\n",
       " 2,\n",
       " 1029,\n",
       " 13,\n",
       " 104,\n",
       " 88,\n",
       " 4,\n",
       " 381,\n",
       " 15,\n",
       " 297,\n",
       " 98,\n",
       " 32,\n",
       " 2071,\n",
       " 56,\n",
       " 26,\n",
       " 141,\n",
       " 6,\n",
       " 194,\n",
       " 7486,\n",
       " 18,\n",
       " 4,\n",
       " 226,\n",
       " 22,\n",
       " 21,\n",
       " 134,\n",
       " 476,\n",
       " 26,\n",
       " 480,\n",
       " 5,\n",
       " 144,\n",
       " 30,\n",
       " 5535,\n",
       " 18,\n",
       " 51,\n",
       " 36,\n",
       " 28,\n",
       " 224,\n",
       " 92,\n",
       " 25,\n",
       " 104,\n",
       " 4,\n",
       " 226,\n",
       " 65,\n",
       " 16,\n",
       " 38,\n",
       " 1334,\n",
       " 88,\n",
       " 12,\n",
       " 16,\n",
       " 283,\n",
       " 5,\n",
       " 16,\n",
       " 4472,\n",
       " 113,\n",
       " 103,\n",
       " 32,\n",
       " 15,\n",
       " 16,\n",
       " 5345,\n",
       " 19,\n",
       " 178,\n",
       " 32]"
      ]
     },
     "execution_count": 4,
     "metadata": {},
     "output_type": "execute_result"
    }
   ],
   "source": [
    "train_data[0]"
   ]
  },
  {
   "cell_type": "code",
   "execution_count": 5,
   "id": "5bee384c",
   "metadata": {},
   "outputs": [
    {
     "data": {
      "text/plain": [
       "1"
      ]
     },
     "execution_count": 5,
     "metadata": {},
     "output_type": "execute_result"
    }
   ],
   "source": [
    "train_labels[0]"
   ]
  },
  {
   "cell_type": "code",
   "execution_count": 6,
   "id": "b047fcc9",
   "metadata": {},
   "outputs": [
    {
     "data": {
      "text/plain": [
       "9999"
      ]
     },
     "execution_count": 6,
     "metadata": {},
     "output_type": "execute_result"
    }
   ],
   "source": [
    "max([max(sequence) for sequence in train_data])"
   ]
  },
  {
   "cell_type": "code",
   "execution_count": 7,
   "id": "d2b93dcf",
   "metadata": {},
   "outputs": [],
   "source": [
    "word_index = imdb.get_word_index()\n",
    "reverse_word_index = dict(\n",
    "[(value, key) for (key, value) in word_index.items()])\n",
    "decoded_review = ' '.join(\n",
    "[reverse_word_index.get(i - 3, '?') for i in train_data[0]])"
   ]
  },
  {
   "cell_type": "code",
   "execution_count": 8,
   "id": "55e851ce",
   "metadata": {},
   "outputs": [],
   "source": [
    "# Listing 3.2 Encoding the integer sequences into a binary matrix\n",
    "\n",
    "import numpy as np\n",
    "def vectorize_sequences(sequences, dimension=10000):\n",
    "    results = np.zeros((len(sequences), dimension))\n",
    "    for i, sequence in enumerate(sequences):\n",
    "        results[i, sequence] = 1.\n",
    "    return results\n",
    "x_train = vectorize_sequences(train_data)\n",
    "x_test = vectorize_sequences(test_data)\n",
    "\n",
    "y_train = np.asarray(train_labels).astype('float32')\n",
    "y_test = np.asarray(test_labels).astype('float32')"
   ]
  },
  {
   "cell_type": "code",
   "execution_count": 9,
   "id": "51a2e003",
   "metadata": {},
   "outputs": [
    {
     "name": "stdout",
     "output_type": "stream",
     "text": [
      "[0. 1. 1. 0. 1. 1. 1. 1. 1. 1.]\n"
     ]
    }
   ],
   "source": [
    "print(x_train[1][:10])"
   ]
  },
  {
   "cell_type": "code",
   "execution_count": 10,
   "id": "651cce22",
   "metadata": {},
<<<<<<< HEAD
   "outputs": [],
=======
   "outputs": [
    {
     "name": "stderr",
     "output_type": "stream",
     "text": [
      "2024-07-14 15:21:57.446273: I tensorflow/core/common_runtime/process_util.cc:146] Creating new thread pool with default inter op setting: 2. Tune using inter_op_parallelism_threads for best performance.\n"
     ]
    }
   ],
>>>>>>> d69b236febf94df2dd6ee667e8b1736d80925de7
   "source": [
    "# Listing 3.3 The model definition\n",
    "\n",
    "from keras import models\n",
    "from keras import layers\n",
    "\n",
    "model = models.Sequential()\n",
    "model.add(layers.Dense(16, activation='relu', input_shape=(10000,)))\n",
    "model.add(layers.Dense(16, activation='relu'))\n",
    "model.add(layers.Dense(1, activation='sigmoid'))\n"
   ]
  },
  {
   "cell_type": "code",
   "execution_count": 11,
   "id": "605342a0-f087-449a-9dcb-084924ee7953",
   "metadata": {},
   "outputs": [],
   "source": [
    "# Listing 3.4 Compiling the model\n",
    "\n",
    "model.compile(optimizer='rmsprop',\n",
    "loss='binary_crossentropy',\n",
    "metrics=['accuracy'])\n"
   ]
  },
  {
   "cell_type": "code",
   "execution_count": 12,
   "id": "c81679f9-aff0-489b-8e6d-5f5247a4fae5",
   "metadata": {},
   "outputs": [
    {
     "name": "stderr",
     "output_type": "stream",
     "text": [
      "/opt/anaconda3/envs/tf2/lib/python3.11/site-packages/keras/optimizers/legacy/rmsprop.py:143: UserWarning: The `lr` argument is deprecated, use `learning_rate` instead.\n",
      "  super().__init__(name, **kwargs)\n"
     ]
    }
   ],
   "source": [
    "# Listing 3.5 Configuring the optimizer\n",
    "\n",
    "from keras import optimizers\n",
    "\n",
    "model.compile(optimizer=optimizers.RMSprop(lr=0.001),\n",
    "loss='binary_crossentropy',\n",
    "metrics=['accuracy'])\n"
   ]
  },
  {
   "cell_type": "code",
   "execution_count": 13,
   "id": "47b6b4ad-7c09-4d39-897a-200aacb24925",
   "metadata": {},
   "outputs": [],
   "source": [
    "# Listing 3.6 Using custom losses and metrics\n",
    "\n",
    "from keras import losses\n",
    "from keras import metrics\n",
    "\n",
    "model.compile(optimizer=optimizers.RMSprop(lr=0.001),\n",
    "loss=losses.binary_crossentropy,\n",
    "metrics=[metrics.binary_accuracy])\n"
   ]
  },
  {
   "cell_type": "code",
   "execution_count": 14,
   "id": "436da9c1-6cca-41f0-928f-b7c964cdae02",
   "metadata": {},
   "outputs": [],
   "source": [
    "# Listing 3.7 Setting aside a validation set\n",
    "\n",
    "x_val = x_train[:10000]\n",
    "partial_x_train = x_train[10000:]\n",
    "\n",
    "y_val = y_train[:10000]\n",
    "partial_y_train = y_train[10000:]"
   ]
  },
  {
   "cell_type": "code",
   "execution_count": 15,
   "id": "2c041de6-a478-45b1-bbf2-7e45705a1c1d",
   "metadata": {},
   "outputs": [
    {
     "name": "stdout",
     "output_type": "stream",
     "text": [
<<<<<<< HEAD
      "Epoch 1/20\n"
     ]
    },
    {
     "name": "stderr",
     "output_type": "stream",
     "text": [
      "2024-07-15 07:45:38.678970: W tensorflow/tsl/platform/profile_utils/cpu_utils.cc:128] Failed to get CPU frequency: 0 Hz\n"
     ]
    },
    {
     "name": "stdout",
     "output_type": "stream",
     "text": [
      "30/30 [==============================] - 1s 19ms/step - loss: 0.5132 - acc: 0.7897 - val_loss: 0.3859 - val_acc: 0.8650\n",
      "Epoch 2/20\n",
      "30/30 [==============================] - 0s 5ms/step - loss: 0.3018 - acc: 0.9049 - val_loss: 0.3005 - val_acc: 0.8886\n",
      "Epoch 3/20\n",
      "30/30 [==============================] - 0s 4ms/step - loss: 0.2269 - acc: 0.9235 - val_loss: 0.2780 - val_acc: 0.8916\n",
      "Epoch 4/20\n",
      "30/30 [==============================] - 0s 4ms/step - loss: 0.1737 - acc: 0.9437 - val_loss: 0.2820 - val_acc: 0.8871\n",
      "Epoch 5/20\n",
      "30/30 [==============================] - 0s 4ms/step - loss: 0.1459 - acc: 0.9521 - val_loss: 0.2797 - val_acc: 0.8874\n",
      "Epoch 6/20\n",
      "30/30 [==============================] - 0s 4ms/step - loss: 0.1178 - acc: 0.9637 - val_loss: 0.3163 - val_acc: 0.8758\n",
      "Epoch 7/20\n",
      "30/30 [==============================] - 0s 4ms/step - loss: 0.0999 - acc: 0.9708 - val_loss: 0.3073 - val_acc: 0.8862\n",
      "Epoch 8/20\n",
      "30/30 [==============================] - 0s 5ms/step - loss: 0.0816 - acc: 0.9761 - val_loss: 0.3443 - val_acc: 0.8741\n",
      "Epoch 9/20\n",
      "30/30 [==============================] - 0s 4ms/step - loss: 0.0716 - acc: 0.9792 - val_loss: 0.3501 - val_acc: 0.8819\n",
      "Epoch 10/20\n",
      "30/30 [==============================] - 0s 4ms/step - loss: 0.0532 - acc: 0.9871 - val_loss: 0.3750 - val_acc: 0.8789\n",
      "Epoch 11/20\n",
      "30/30 [==============================] - 0s 4ms/step - loss: 0.0460 - acc: 0.9885 - val_loss: 0.4063 - val_acc: 0.8777\n",
      "Epoch 12/20\n",
      "30/30 [==============================] - 0s 4ms/step - loss: 0.0365 - acc: 0.9918 - val_loss: 0.4359 - val_acc: 0.8745\n",
      "Epoch 13/20\n",
      "30/30 [==============================] - 0s 4ms/step - loss: 0.0297 - acc: 0.9943 - val_loss: 0.4710 - val_acc: 0.8744\n",
      "Epoch 14/20\n",
      "30/30 [==============================] - 0s 4ms/step - loss: 0.0235 - acc: 0.9952 - val_loss: 0.4994 - val_acc: 0.8720\n",
      "Epoch 15/20\n",
      "30/30 [==============================] - 0s 4ms/step - loss: 0.0183 - acc: 0.9974 - val_loss: 0.5313 - val_acc: 0.8717\n",
      "Epoch 16/20\n",
      "30/30 [==============================] - 0s 5ms/step - loss: 0.0154 - acc: 0.9979 - val_loss: 0.5679 - val_acc: 0.8708\n",
      "Epoch 17/20\n",
      "30/30 [==============================] - 0s 4ms/step - loss: 0.0118 - acc: 0.9983 - val_loss: 0.6721 - val_acc: 0.8567\n",
      "Epoch 18/20\n",
      "30/30 [==============================] - 0s 5ms/step - loss: 0.0070 - acc: 0.9997 - val_loss: 0.6344 - val_acc: 0.8662\n",
      "Epoch 19/20\n",
      "30/30 [==============================] - 0s 5ms/step - loss: 0.0107 - acc: 0.9979 - val_loss: 0.6709 - val_acc: 0.8658\n",
      "Epoch 20/20\n",
      "30/30 [==============================] - 0s 5ms/step - loss: 0.0039 - acc: 0.9998 - val_loss: 0.7023 - val_acc: 0.8649\n"
=======
      "Epoch 1/20\n",
      "30/30 [==============================] - 7s 201ms/step - loss: 0.5285 - acc: 0.7753 - val_loss: 0.4267 - val_acc: 0.8228\n",
      "Epoch 2/20\n",
      "30/30 [==============================] - 1s 17ms/step - loss: 0.3218 - acc: 0.8977 - val_loss: 0.3130 - val_acc: 0.8832\n",
      "Epoch 3/20\n",
      "30/30 [==============================] - 1s 46ms/step - loss: 0.2429 - acc: 0.9197 - val_loss: 0.2844 - val_acc: 0.8866\n",
      "Epoch 4/20\n",
      "30/30 [==============================] - 1s 22ms/step - loss: 0.1977 - acc: 0.9327 - val_loss: 0.2835 - val_acc: 0.8868\n",
      "Epoch 5/20\n",
      "30/30 [==============================] - 1s 30ms/step - loss: 0.1654 - acc: 0.9461 - val_loss: 0.2841 - val_acc: 0.8849\n",
      "Epoch 6/20\n",
      "30/30 [==============================] - 1s 24ms/step - loss: 0.1421 - acc: 0.9549 - val_loss: 0.3103 - val_acc: 0.8757\n",
      "Epoch 7/20\n",
      "30/30 [==============================] - 1s 23ms/step - loss: 0.1219 - acc: 0.9623 - val_loss: 0.3271 - val_acc: 0.8778\n",
      "Epoch 8/20\n",
      "30/30 [==============================] - 1s 17ms/step - loss: 0.1047 - acc: 0.9681 - val_loss: 0.3063 - val_acc: 0.8851\n",
      "Epoch 9/20\n",
      "30/30 [==============================] - 0s 17ms/step - loss: 0.0939 - acc: 0.9717 - val_loss: 0.3218 - val_acc: 0.8831\n",
      "Epoch 10/20\n",
      "30/30 [==============================] - 1s 17ms/step - loss: 0.0794 - acc: 0.9776 - val_loss: 0.3737 - val_acc: 0.8755\n",
      "Epoch 11/20\n",
      "30/30 [==============================] - 1s 20ms/step - loss: 0.0678 - acc: 0.9820 - val_loss: 0.3608 - val_acc: 0.8810\n",
      "Epoch 12/20\n",
      "30/30 [==============================] - 1s 26ms/step - loss: 0.0570 - acc: 0.9863 - val_loss: 0.4023 - val_acc: 0.8752\n",
      "Epoch 13/20\n",
      "30/30 [==============================] - 1s 24ms/step - loss: 0.0500 - acc: 0.9891 - val_loss: 0.4172 - val_acc: 0.8751\n",
      "Epoch 14/20\n",
      "30/30 [==============================] - 1s 32ms/step - loss: 0.0434 - acc: 0.9899 - val_loss: 0.4275 - val_acc: 0.8764\n",
      "Epoch 15/20\n",
      "30/30 [==============================] - 0s 16ms/step - loss: 0.0359 - acc: 0.9926 - val_loss: 0.4521 - val_acc: 0.8723\n",
      "Epoch 16/20\n",
      "30/30 [==============================] - 1s 17ms/step - loss: 0.0298 - acc: 0.9953 - val_loss: 0.4911 - val_acc: 0.8723\n",
      "Epoch 17/20\n",
      "30/30 [==============================] - 1s 37ms/step - loss: 0.0278 - acc: 0.9945 - val_loss: 0.5330 - val_acc: 0.8623\n",
      "Epoch 18/20\n",
      "30/30 [==============================] - 1s 25ms/step - loss: 0.0223 - acc: 0.9967 - val_loss: 0.5360 - val_acc: 0.8706\n",
      "Epoch 19/20\n",
      "30/30 [==============================] - 1s 25ms/step - loss: 0.0215 - acc: 0.9963 - val_loss: 0.5617 - val_acc: 0.8710\n",
      "Epoch 20/20\n",
      "30/30 [==============================] - 1s 23ms/step - loss: 0.0156 - acc: 0.9981 - val_loss: 0.5819 - val_acc: 0.8702\n"
>>>>>>> d69b236febf94df2dd6ee667e8b1736d80925de7
     ]
    }
   ],
   "source": [
    "# Listing 3.8 Training your model\n",
    "\n",
    "model.compile(optimizer='rmsprop',\n",
    "loss='binary_crossentropy',\n",
    "metrics=['acc'])\n",
    "\n",
    "history = model.fit(partial_x_train,\n",
    "partial_y_train,\n",
    "epochs=20,\n",
    "batch_size=512,\n",
    "validation_data=(x_val, y_val))\n"
   ]
  },
  {
   "cell_type": "code",
   "execution_count": 16,
   "id": "ba00817a-6961-40d5-824d-e52d8f222f0c",
   "metadata": {},
   "outputs": [
    {
     "data": {
      "text/plain": [
       "dict_keys(['loss', 'acc', 'val_loss', 'val_acc'])"
      ]
     },
     "execution_count": 16,
     "metadata": {},
     "output_type": "execute_result"
    }
   ],
   "source": [
    "history_dict = history.history\n",
    "history_dict.keys()\n",
    "# [u'acc', u'loss', u'val_acc', u'val_loss']"
   ]
  },
  {
   "cell_type": "code",
   "execution_count": 17,
   "id": "ce1794e1-b64f-4648-916a-ccd02495ac92",
   "metadata": {},
   "outputs": [
    {
     "data": {
<<<<<<< HEAD
      "image/png": "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",
=======
      "image/png": "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",
>>>>>>> d69b236febf94df2dd6ee667e8b1736d80925de7
      "text/plain": [
       "<Figure size 640x480 with 1 Axes>"
      ]
     },
     "metadata": {},
     "output_type": "display_data"
    }
   ],
   "source": [
    "# Listing 3.9 Plotting the training and validation loss\n",
    "\n",
    "import matplotlib.pyplot as plt\n",
    "\n",
    "history_dict = history.history\n",
    "loss_values = history_dict['loss']\n",
    "val_loss_values = history_dict['val_loss']\n",
    "#epochs = range(1, len(acc) + 1)\n",
    "epochs = range(1, len(loss_values) + 1)\n",
    "plt.plot(epochs, loss_values, 'bo', label='Training loss')\n",
    "plt.plot(epochs, val_loss_values, 'b', label='Validation loss')\n",
    "plt.title('Training and validation loss')\n",
    "plt.xlabel('Epochs')\n",
    "plt.ylabel('Loss')\n",
    "plt.legend()\n",
    "\n",
    "plt.show()\n"
   ]
  },
  {
   "cell_type": "code",
   "execution_count": 18,
   "id": "4a54d738-5a38-4cfc-a355-de0e71f8fd72",
   "metadata": {},
   "outputs": [
    {
     "data": {
<<<<<<< HEAD
      "image/png": "iVBORw0KGgoAAAANSUhEUgAAAkAAAAHFCAYAAAAaD0bAAAAAOXRFWHRTb2Z0d2FyZQBNYXRwbG90bGliIHZlcnNpb24zLjguNCwgaHR0cHM6Ly9tYXRwbG90bGliLm9yZy8fJSN1AAAACXBIWXMAAA9hAAAPYQGoP6dpAABe+UlEQVR4nO3deVhU1eMG8HfYQQHNhUUQMHPBBXcFQ1HL3TD0G7kglmtqSVqWmbtltqhlilmuZWommuWKaxjugWkqmqGgQqYmuIEs5/fH+TE6zLAzG/f9PM88OnfOvXPuzMC8nHsWlRBCgIiIiEhBLIxdASIiIiJDYwAiIiIixWEAIiIiIsVhACIiIiLFYQAiIiIixWEAIiIiIsVhACIiIiLFYQAiIiIixWEAIiIiIsVhAKIKS6VSFet24MCBMj3PjBkzoFKpSrXvgQMHyqUOpm7o0KHw9vY2ief19vbG0KFDi9y3LO9NbGwsZsyYgTt37mg9FhQUhKCgoBIfk4jKl5WxK0CkL4cPH9a4P3v2bOzfvx/79u3T2O7r61um5xk+fDi6d+9eqn1btGiBw4cPl7kOVHybN2+Gk5OTXp8jNjYWM2fOxNChQ1GlShWNx5YsWaLX5yai4mEAogqrXbt2Gvdr1KgBCwsLre35PXjwAA4ODsV+Hg8PD3h4eJSqjk5OTkXWh8pX8+bNjfr8DLvFk5WVBZVKBSsrfk2RfvASGClaUFAQGjdujF9//RUBAQFwcHDAq6++CgDYsGEDunbtCjc3N9jb26Nhw4Z49913cf/+fY1j6LoE5u3tjd69e2Pnzp1o0aIF7O3t0aBBA6xYsUKjnK7LLEOHDkXlypXx119/oWfPnqhcuTI8PT0xceJEZGZmaux/9epV9O/fH46OjqhSpQoGDRqE48ePQ6VSYdWqVYWe+7///osxY8bA19cXlStXRs2aNdG5c2fExMRolLt8+TJUKhU+/fRTzJ8/Hz4+PqhcuTL8/f1x5MgRreOuWrUK9evXh62tLRo2bIg1a9YUWo88ffv2hZeXF3Jzc7Uea9u2LVq0aKG+v3jxYnTo0AE1a9ZEpUqV0KRJE3z88cfIysoq8nl0XQI7f/48unfvDgcHB1SvXh2jR4/G3bt3tfaNjo5GcHAwPDw8YGdnh7p162LUqFG4efOmusyMGTPw9ttvAwB8fHy0LrXqugR2+/ZtjBkzBrVq1YKNjQ3q1KmDKVOmaL3fKpUK48aNw7fffouGDRvCwcEBfn5++OWXX4o874yMDEycOBHNmjWDs7MznnrqKfj7++Onn37SKpubm4tFixahWbNmsLe3R5UqVdCuXTts3bpVo9z3338Pf39/VK5cGZUrV0azZs2wfPnyQl9rXa9B3s/Bt99+i4kTJ6JWrVqwtbXFX3/9VezPKQBkZmZi1qxZaNiwIezs7FCtWjV06tQJsbGxAIAuXbqgQYMGyL8GuBACdevWRa9evYp8HaniYLQmxUtJScHgwYMxadIkfPjhh7CwkH8XXLx4ET179kRERAQqVaqE8+fPY968eTh27JjWZTRdTp06hYkTJ+Ldd9+Fi4sLvvnmGwwbNgx169ZFhw4dCt03KysLL7zwAoYNG4aJEyfi119/xezZs+Hs7Ixp06YBAO7fv49OnTrh9u3bmDdvHurWrYudO3ciNDS0WOd9+/ZtAMD06dPh6uqKe/fuYfPmzQgKCsLevXu1vqQXL16MBg0aYOHChQCAqVOnomfPnkhMTISzszMAGX5eeeUVBAcH47PPPkNaWhpmzJiBzMxM9etakFdffRXBwcHYt28fnnvuOfX28+fP49ixY/jiiy/U2y5duoSBAwfCx8cHNjY2OHXqFD744AOcP39eK2QW5Z9//kHHjh1hbW2NJUuWwMXFBWvXrsW4ceO0yl66dAn+/v4YPnw4nJ2dcfnyZcyfPx/PPvssTp8+DWtrawwfPhy3b9/GokWLEBUVBTc3NwAFt/xkZGSgU6dOuHTpEmbOnImmTZsiJiYGc+fORXx8PLZt26ZRftu2bTh+/DhmzZqFypUr4+OPP8aLL76IhIQE1KlTp8DzzMzMxO3bt/HWW2+hVq1aePToEfbs2YOQkBCsXLkSQ4YMUZcdOnQovvvuOwwbNgyzZs2CjY0Nfv/9d1y+fFldZtq0aZg9ezZCQkIwceJEODs748yZM7hy5UpJXn4NkydPhr+/P5YuXQoLCwvUrFkT//77L4CiP6fZ2dno0aMHYmJiEBERgc6dOyM7OxtHjhxBUlISAgICMH78eAQHB2Pv3r0an7EdO3bg0qVLGp8xUgBBpBDh4eGiUqVKGts6duwoAIi9e/cWum9ubq7IysoSBw8eFADEqVOn1I9Nnz5d5P9R8vLyEnZ2duLKlSvqbQ8fPhRPPfWUGDVqlHrb/v37BQCxf/9+jXoCED/88IPGMXv27Cnq16+vvr948WIBQOzYsUOj3KhRowQAsXLlykLPKb/s7GyRlZUlunTpIl588UX19sTERAFANGnSRGRnZ6u3Hzt2TAAQ69atE0IIkZOTI9zd3UWLFi1Ebm6uutzly5eFtbW18PLyKvT5s7KyhIuLixg4cKDG9kmTJgkbGxtx8+ZNnfvl5OSIrKwssWbNGmFpaSlu376tfiw8PFzreb28vER4eLj6/jvvvCNUKpWIj4/XKPf8889rvTdPyvtMXLlyRQAQP/30k/qxTz75RAAQiYmJWvt17NhRdOzYUX1/6dKlOt/vefPmCQBi9+7d6m0AhIuLi0hPT1dvS01NFRYWFmLu3Lk661mQvPd72LBhonnz5urtv/76qwAgpkyZUuC+f//9t7C0tBSDBg0q9Dnyv9Z58r8GeT8HHTp0KHa9839O16xZIwCIr7/+usB9c3JyRJ06dURwcLDG9h49eoinn35a43NLFR8vgZHiVa1aFZ07d9ba/vfff2PgwIFwdXWFpaUlrK2t0bFjRwDAuXPnijxus2bNULt2bfV9Ozs71KtXr1h/IatUKvTp00djW9OmTTX2PXjwIBwdHbU6YA8YMKDI4+dZunQpWrRoATs7O1hZWcHa2hp79+7VeX69evWCpaWlRn0AqOuUkJCA69evY+DAgRqXBL28vBAQEFBkXaysrDB48GBERUUhLS0NAJCTk4Nvv/0WwcHBqFatmrpsXFwcXnjhBVSrVk393gwZMgQ5OTm4cOFCsc8fAPbv349GjRrBz89PY/vAgQO1yt64cQOjR4+Gp6en+vXy8vICULzPhC779u1DpUqV0L9/f43teZeO9u7dq7G9U6dOcHR0VN93cXFBzZo1i/W52rhxI9q3b4/KlSur6798+XKNuu/YsQMAMHbs2AKPEx0djZycnELLlEa/fv10bi/O53THjh2ws7NTX8LWxcLCAuPGjcMvv/yCpKQkALJVb+fOnRgzZkypR3OSeWIAIsXLu0TxpHv37iEwMBBHjx7FnDlzcODAARw/fhxRUVEAgIcPHxZ53Ce/sPPY2toWa18HBwfY2dlp7ZuRkaG+f+vWLbi4uGjtq2ubLvPnz8drr72Gtm3bYtOmTThy5AiOHz+O7t2766xj/vOxtbUF8Pi1uHXrFgDA1dVVa19d23R59dVXkZGRgfXr1wMAdu3ahZSUFLzyyivqMklJSQgMDMS1a9fw+eefIyYmBsePH8fixYs16lNct27dKladc3Nz0bVrV0RFRWHSpEnYu3cvjh07pu4HVdLnzf/8+b98a9asCSsrK/Xrmqe0n6uoqCi89NJLqFWrFr777jscPnwYx48fV7/mef79919YWloW+p7lXZYqbef/guj6WSzu5/Tff/+Fu7t7sS612tvbY+nSpQDkpV17e/tCgxNVTOwDRIqn66++ffv24fr16zhw4IC61QeAznldjKVatWo4duyY1vbU1NRi7f/dd98hKCgIkZGRGtt1df4tbn0Kev7i1snX1xdt2rTBypUrMWrUKKxcuRLu7u7o2rWrusyWLVtw//59REVFqVtfACA+Pr7U9S5Onc+cOYNTp05h1apVCA8PV2//66+/SvW8Tz7/0aNHIYTQ+CzeuHED2dnZqF69epmOn+e7776Dj48PNmzYoPE8+Tta16hRAzk5OUhNTdUZSPLKALITvqenZ4HPaWdnp3V8ALh586bO89L1s1jcz2mNGjVw6NAh5ObmFhqCnJ2dER4ejm+++QZvvfUWVq5ciYEDB2pNV0AVH1uAiHTI+0Wc18qR56uvvjJGdXTq2LEj7t69q75kkSev9aQoKpVK6/z++OMPrfmTiqt+/fpwc3PDunXrNEbZXLlyRT0KpzheeeUVHD16FIcOHcLPP/+M8PBwjUtvut4bIQS+/vrrUtW7U6dO+PPPP3Hq1CmN7d9//73G/ZJ8JvK3jhWmS5cuuHfvHrZs2aKxPW/0XJcuXYo8RnGoVCrY2NhohIzU1FStUWA9evQAAK3A8aSuXbvC0tKy0DKAHAX2xx9/aGy7cOECEhISSlTv4nxOe/TogYyMjCJHPwLAG2+8gZs3b6J///64c+eOzg7vVPGxBYhIh4CAAFStWhWjR4/G9OnTYW1tjbVr12p9SRpTeHg4FixYgMGDB2POnDmoW7cuduzYgV27dgFAkZcCevfujdmzZ2P69Ono2LEjEhISMGvWLPj4+CA7O7vE9bGwsMDs2bMxfPhwvPjiixgxYgTu3LmDGTNmFPsSGCD7ME2YMAEDBgxAZmam1jDq559/HjY2NhgwYAAmTZqEjIwMREZG4r///itxnQEgIiICK1asQK9evTBnzhz1KLDz589rlGvQoAGefvppvPvuuxBC4KmnnsLPP/+M6OhorWM2adIEAPD5558jPDwc1tbWqF+/vkbfnTxDhgzB4sWLER4ejsuXL6NJkyY4dOgQPvzwQ/Ts2VNjtFJZ9O7dG1FRURgzZgz69++P5ORkzJ49G25ubrh48aK6XGBgIMLCwjBnzhz8888/6N27N2xtbREXFwcHBwe8/vrr8Pb2xnvvvYfZs2fj4cOHGDBgAJydnXH27FncvHkTM2fOBACEhYVh8ODBGDNmDPr164crV67g448/VrcgFbfexfmcDhgwACtXrsTo0aORkJCATp06ITc3F0ePHkXDhg3x8ssvq8vWq1cP3bt3x44dO/Dss89q9f8ihTBuH2wiwyloFFijRo10lo+NjRX+/v7CwcFB1KhRQwwfPlz8/vvvWiOsChoF1qtXL61jFjT6Jf8osPz1LOh5kpKSREhIiKhcubJwdHQU/fr1E9u3b9calaRLZmameOutt0StWrWEnZ2daNGihdiyZYvWyKm8UWCffPKJ1jEAiOnTp2ts++abb8QzzzwjbGxsRL169cSKFSt0jsYqzMCBAwUA0b59e52P//zzz8LPz0/Y2dmJWrVqibffflvs2LFD52tZ1CgwIYQ4e/aseP7554WdnZ146qmnxLBhw8RPP/2kdby8co6OjqJq1arif//7n0hKStL5OkyePFm4u7sLCwsLjePk/wwIIcStW7fE6NGjhZubm7CyshJeXl5i8uTJIiMjQ6McADF27Fit16Og0Vb5ffTRR8Lb21vY2tqKhg0biq+//lrn5yonJ0csWLBANG7cWNjY2AhnZ2fh7+8vfv75Z41ya9asEa1btxZ2dnaicuXKonnz5ho/G7m5ueLjjz8WderUEXZ2dqJVq1Zi3759Bf4cbNy4UavOxf2cCiFHWk6bNk39+atWrZro3LmziI2N1TruqlWrBACxfv36Il83qphUQuSbEYqIzNqHH36I999/H0lJSeXeSZWooujXrx+OHDmCy5cvw9ra2tjVISPgJTAiM/bll18CkJdnsrKysG/fPnzxxRcYPHgwww9RPpmZmfj9999x7NgxbN68GfPnz2f4UTAGICIz5uDggAULFuDy5cvIzMxE7dq18c477+D99983dtWITE5KSgoCAgLg5OSEUaNG4fXXXzd2lciIeAmMiIiIFIfD4ImIiEhxGICIiIhIcRiAiIiISHHYCVqH3NxcXL9+HY6Ojlwcj4iIyEwIIXD37t1irQvHAKTD9evXC13fhoiIiExXcnJykVOBMADpkDddfXJyMpycnIxcGyIiIiqO9PR0eHp66lx2Jj8GIB3yLns5OTkxABEREZmZ4nRfYSdoIiIiUhwGICIiIlIcBiAiIiJSHPYBKoOcnBxkZWUZuxpkpmxsbIocpklERPrBAFQKQgikpqbizp07xq4KmTELCwv4+PjAxsbG2FUhIlIcBqBSyAs/NWvWhIODAydLpBLLm2wzJSUFtWvX5meIiMjAGIBKKCcnRx1+qlWrZuzqkBmrUaMGrl+/juzsbFhbWxu7OkREisIOCCWU1+fHwcHByDUhc5d36SsnJ8fINSEiUh4GoFLiJQsqK36GiIiMx6gB6Ndff0WfPn3g7u4OlUqFLVu2FLnPwYMH0bJlS9jZ2aFOnTpYunSpVplNmzbB19cXtra28PX1xebNm/VQeyIiIsPLyQEOHADWrZP/mlsjsqnU36gB6P79+/Dz88OXX35ZrPKJiYno2bMnAgMDERcXh/feew9vvPEGNm3apC5z+PBhhIaGIiwsDKdOnUJYWBheeuklHD16VF+noWhBQUGIiIgodvnLly9DpVIhPj5eb3UiIqqooqIAb2+gUydg4ED5r7e33G4OTKn+KiGEMPzTalOpVNi8eTP69u1bYJl33nkHW7duxblz59TbRo8ejVOnTuHw4cMAgNDQUKSnp2PHjh3qMt27d0fVqlWxbt26YtUlPT0dzs7OSEtL01oLLCMjA4mJifDx8YGdnV0JzlBbTg4QEwOkpABubkBgIGBpWaZDFqioyy3h4eFYtWpViY97+/ZtWFtbF2vhOUD2d/n3339RvXp1WFkpuw9+eX6WiMi06OP3e1QU0L8/kP9bO+/X+48/AiEhZXsOfTJE/Qv7/s7PrPoAHT58GF27dtXY1q1bN5w4cULdObmgMrGxsQarZ3EYOgWnpKSobwsXLoSTk5PGts8//1yjfHEneHzqqaeKHX4AwNLSEq6urooPP0RkXPq8DKOP3+85OcD48drhAXi8LSKifM5DH6+NIetfXGYVgFJTU+Hi4qKxzcXFBdnZ2bh582ahZVJTUws8bmZmJtLT0zVu+pSXgq9e1dx+7Zrcro8Q5Orqqr45OztDpVKp72dkZKBKlSr44YcfEBQUBDs7O3z33Xe4desWBgwYAA8PDzg4OKBJkyZarWj5L4F5e3vjww8/xKuvvgpHR0fUrl0by5YtUz+e/xLYgQMHoFKpsHfvXrRq1QoODg4ICAhAQkKCxvPMmTMHNWvWhKOjI4YPH453330XzZo1K/B8c3JyMGzYMPj4+MDe3h7169fXCnkAsGLFCjRq1Ai2trZwc3PDuHHj1I/duXMHI0eOhIuLC+zs7NC4cWP88ssvJXjViai0zC2gPHlsffx+j4nRPuaThACSk2W5stDXa2Oo+peEWQUgQPtSTt4VvCe36ypT2CWguXPnwtnZWX3z9PQsxxprMsUUnOedd97BG2+8gXPnzqFbt27IyMhAy5Yt8csvv+DMmTMYOXIkwsLCiuxP9dlnn6FVq1aIi4vDmDFj8Nprr+H8+fOF7jNlyhR89tlnOHHiBKysrPDqq6+qH1u7di0++OADzJs3DydPnkTt2rURGRlZ6PFyc3Ph4eGBH374AWfPnsW0adPw3nvv4YcfflCXiYyMxNixYzFy5EicPn0aW7duRd26ddX79+jRA7Gxsfjuu+9w9uxZfPTRR7DU1zVKIlIzx4AC6Pf3e0pK+ZbTRZ+vjSHqX2LCRAAQmzdvLrRMYGCgeOONNzS2RUVFCSsrK/Ho0SMhhBCenp5i/vz5GmXmz58vateuXeBxMzIyRFpamvqWnJwsAIi0tDStsg8fPhRnz54VDx8+LOaZadq/Xwj5o1D4bf/+Uh2+WFauXCmcnZ3V9xMTEwUAsXDhwiL37dmzp5g4caL6fseOHcX48ePV9728vMTgwYPV93Nzc0XNmjVFZGSkxnPFxcUJIYTYv3+/ACD27Nmj3mfbtm0CgPo1btu2rRg7dqxGPdq3by/8/PyKe8pCCCHGjBkj+vXrp77v7u4upkyZorPsrl27hIWFhUhISCjRc5REWT9LRBXRpk1CqFTavxNVKnnbtKn0x87OFsLDo+DfuyqVEJ6eslxp6PP3u76/O8z5tXlSWlpagd/f+ZlVC5C/vz+io6M1tu3evRutWrVSz6RbUJmAgIACj2trawsnJyeNm76YZAr+f61atdK4n5OTgw8++ABNmzZFtWrVULlyZezevRtJSUmFHqdp06bq/+ddartx40ax93FzcwMA9T4JCQlo06aNRvn893VZunQpWrVqhRo1aqBy5cr4+uuv1XW/ceMGrl+/ji5duujcNz4+Hh4eHqhXr16Rz0OkRObYT0Tfl2H0+fs9MBDw8HjcYTg/lQrw9JTlSkPfr42+618aRg1A9+7dQ3x8vLo/SGJiIuLj49VfUpMnT8aQIUPU5UePHo0rV65gwoQJOHfuHFasWIHly5fjrbfeUpcZP348du/ejXnz5uH8+fOYN28e9uzZU6Kh2vr0/9/t5VauPFWqVEnj/meffYYFCxZg0qRJ2LdvH+Lj49GtWzc8evSo0OPkX9ZBpVIhNze32PvkXa58cp+CLn0W5IcffsCbb76JV199Fbt370Z8fDxeeeUVdd3t7e0L3b+ox4mUzFz7iej7D1B9/n63tATyujHmDxF59xcuLP1IM32/Nvquf2kYNQCdOHECzZs3R/PmzQEAEyZMQPPmzTFt2jQAcuTSk60NPj4+2L59Ow4cOIBmzZph9uzZ+OKLL9CvXz91mYCAAKxfvx4rV65E06ZNsWrVKmzYsAFt27Y17MkVwBRTcEFiYmIQHByMwYMHw8/PD3Xq1MHFixcNXo/69evj2LFjGttOnDhR6D4xMTEICAjAmDFj0Lx5c9StWxeXLl1SP+7o6Ahvb2/s3btX5/5NmzbF1atXceHChbKfAJGR6KOVxpz7iej7D1B9/34PCZFDxWvV0tzu4VH2IeSG+ONcn/UvDaOORQ4KCir0L3ld89J07NgRv//+e6HH7d+/P/r371/W6ulFXgru31/+MDx5+sZKwQWpW7cuNm3ahNjYWFStWhXz589HamoqGjZsaNB6vP766xgxYgRatWqFgIAAbNiwAX/88Qfq1KlT4D5169bFmjVrsGvXLvj4+ODbb7/F8ePH4ePjoy4zY8YMjB49GjVr1kSPHj1w9+5d/Pbbb3j99dfRsWNHdOjQAf369cP8+fNRt25dnD9/HiqVCt27dzfEaROVSVSUvJz0ZFDx8JC/f0r7RVPUJSqVSl6iCg4u3e8wQwWUa9d0n4NKJR8vbUAxxO/3kBD5+pb3HEP6fm3y6Kv+pWFWfYAqClNLwQWZOnUqWrRogW7duiEoKAiurq6FTlSpL4MGDcLkyZPx1ltvoUWLFkhMTMTQoUMLnTxw9OjRCAkJQWhoKNq2bYtbt25hzJgxGmXCw8OxcOFCLFmyBI0aNULv3r01Wrg2bdqE1q1bY8CAAfD19cWkSZO4cCmZBXMdiq3vFhRDXIYxxO93S0sgKAgYMED+Wx7hwZCXqPRR/9IwmZmgTUlFnAm6onn++efh6uqKb7/91thVKTXOBE36kJMj++MUFFTy/pJPTCz575t162Sfn6J8/738ciuNvPAG6G5BKY8Qoat1zNNTfsGX1x+g5vr73RCvjT6VZCZoTsdrRHkpmAr34MEDLF26FN26dYOlpSXWrVuHPXv2aI32IzI3+viSLEkrTUl//xiyn4iuy3fl9SVsiMsw5vr73ZQuUekbAxCZPJVKhe3bt2POnDnIzMxE/fr1sWnTJjz33HPGrhpRqemjjw5gmKHYFaGfiLkGFENQymvDAEQmz97eHnv27DF2NYjKTUGLQub10SnLZR5DDMU2xCAOpXwJk/GwEzQRkQHpe7I/cx6KTWRIDEBERAak75FUhhrpdPkysH+/7PC8f7/sVM3wQ+aEl8CIiAqgj07KhlgOxxAdiXmJiswdAxARkQ766qRsqOVwlDSah6g0GICIyGzpa64VfXZSNtRIKoCtNESFYR8gIjJL+lqQU9+dlE1xUUgiJWIAohIJCgpCRESE+r63tzcWLlxY6D4qlQpbtmwp83OX13HI/OlzQU59d1IGOJKKyBQwAClEnz59Cpw48PDhw1CpVEUuMqvL8ePHMXLkyLJWT8OMGTPQrFkzre0pKSno0aNHuT4XmR99t9AYopMywJFURMbGPkAKMWzYMISEhODKlSvw8vLSeGzFihVo1qwZWrRoUeLj1qhRo7yqWCRXV1eDPReZLn0u9QAYrpMywD46RMbEFiCF6N27N2rWrIlVq1ZpbH/w4AE2bNiAYcOG4datWxgwYAA8PDzg4OCAJk2aYN26dYUeN/8lsIsXL6JDhw6ws7ODr6+vzvW63nnnHdSrVw8ODg6oU6cOpk6diqysLADAqlWrMHPmTJw6dQoqlQoqlUpd5/yXwE6fPo3OnTvD3t4e1apVw8iRI3Hv3j3140OHDkXfvn3x6aefws3NDdWqVcPYsWPVz6XLpUuXEBwcDBcXF1SuXBmtW7fWmoU6MzMTkyZNgqenJ2xtbfHMM89g+fLl6sf//PNP9OrVC05OTnB0dERgYCAuXbpU6OtIxafvFhp9TyRIRKaBLUDlQAjgwQPjPLeDQ8G/qJ9kZWWFIUOGYNWqVZg2bRpU/7/Txo0b8ejRIwwaNAgPHjxAy5Yt8c4778DJyQnbtm1DWFgY6tSpg7Zt2xb5HLm5uQgJCUH16tVx5MgRpKena/QXyuPo6IhVq1bB3d0dp0+fxogRI+Do6IhJkyYhNDQUZ86cwc6dO9XBw9nZWesYDx48QPfu3dGuXTscP34cN27cwPDhwzFu3DiNkLd//364ublh//79+OuvvxAaGopmzZphxIgROs/h3r176NmzJ+bMmQM7OzusXr0affr0QUJCAmrXrg0AGDJkCA4fPowvvvgCfn5+SExMxM2bNwEA165dQ4cOHRAUFIR9+/bByckJv/32G7Kzs4t8/ah49N1CY8jlHojIiARpSUtLEwBEWlqa1mMPHz4UZ8+eFQ8fPlRvu3dPCPlr0vC3e/eKf17nzp0TAMS+ffvU2zp06CAGDBhQ4D49e/YUEydOVN/v2LGjGD9+vPq+l5eXWLBggRBCiF27dglLS0uRnJysfnzHjh0CgNi8eXOBz/Hxxx+Lli1bqu9Pnz5d+Pn5aZV78jjLli0TVatWFfeeeAG2bdsmLCwsRGpqqhBCiPDwcOHl5SWys7PVZf73v/+J0NDQAuuii6+vr1i0aJEQQoiEhAQBQERHR+ssO3nyZOHj4yMePXpU5HF1fZaoaNnZQnh4CKFS6f6ZUKmE8PSU5cpi0yb5PE8e29NTbici01TY93d+bAFSkAYNGiAgIAArVqxAp06dcOnSJcTExGD37t0AgJycHHz00UfYsGEDrl27hszMTGRmZqJSpUrFOv65c+dQu3ZteHh4qLf5+/trlfvxxx+xcOFC/PXXX7h37x6ys7Ph5ORUonM5d+4c/Pz8NOrWvn175ObmIiEhAS4uLgCARo0awfKJP9Xd3Nxw+vTpAo97//59zJw5E7/88guuX7+O7OxsPHz4EElJSQCA+Ph4WFpaomPHjjr3j4+PR2BgIKytrUt0PlR8hmqh4USCRBUbA1A5cHAAnuh6YvDnLolhw4Zh3LhxWLx4MVauXAkvLy906dIFAPDZZ59hwYIFWLhwIZo0aYJKlSohIiICjx49KtaxhY5hOap81+eOHDmCl19+GTNnzkS3bt3g7OyM9evX47PPPivReQghtI6t6znzBxGVSoXc3NwCj/v2229j165d+PTTT1G3bl3Y29ujf//+6tfA3t6+0HoV9TiVD0Ms9QCwkzJRRcYAVA5UKqCYjSRG99JLL2H8+PH4/vvvsXr1aowYMUIdGGJiYhAcHIzBgwcDkH16Ll68iIYNGxbr2L6+vkhKSsL169fh7u4OQA6xf9Jvv/0GLy8vTJkyRb3typUrGmVsbGyQU8QYZl9fX6xevRr3799XtwL99ttvsLCwQL169YpVX11iYmIwdOhQvPjiiwBkn6DLly+rH2/SpAlyc3Nx8OBBndMKNG3aFKtXr0ZWVhZbgfSMLTREVBYcBaYwlStXRmhoKN577z1cv34dQ4cOVT9Wt25dREdHIzY2FufOncOoUaOQmppa7GM/99xzqF+/PoYMGYJTp04hJiZGI+jkPUdSUhLWr1+PS5cu4YsvvsDmzZs1ynh7eyMxMRHx8fG4efMmMjMztZ5r0KBBsLOzQ3h4OM6cOYP9+/fj9ddfR1hYmPryV2nUrVsXUVFRiI+Px6lTpzBw4ECNFiNvb2+Eh4fj1VdfxZYtW5CYmIgDBw7ghx9+AACMGzcO6enpePnll3HixAlcvHgR3377LRISEkpdJypYXgvNgAHyX4YfIiouBiAFGjZsGP777z8899xz6pFNADB16lS0aNEC3bp1Q1BQEFxdXdG3b99iH9fCwgKbN29GZmYm2rRpg+HDh+ODDz7QKBMcHIw333wT48aNQ7NmzRAbG4upU6dqlOnXrx+6d++OTp06oUaNGjqH4js4OGDXrl24ffs2Wrdujf79+6NLly748ssvS/Zi5LNgwQJUrVoVAQEB6NOnD7p166Y1P1JkZCT69++PMWPGoEGDBhgxYgTu378PAKhWrRr27duHe/fuoWPHjmjZsiW+/vprtgYREZkYldDVcUPh0tPT4ezsjLS0NK3OuRkZGUhMTISPjw/s7OyMVEOqCJTyWdLXgqVERPkV9v2dH/sAEZHeREXp7qj8+edc8oGIjIuXwIhIL/S5YCkRUVkxABFRudP3gqVERGXFAERE5a4kC5YSERkD+wCVEvuOU1mZymdIH52U9b1gKRFRWbEFqITyhjM/MNbqp1Rh5M0ubWnEIVFRUYC3N9CpEzBwoPzX27vs/XP0vWApEVFZsQWohCwtLVGlShXcuHEDgJyPpqAlGYgKkpubi3///RcODg6wsjLOj2FeJ+X8DVF5nZR//LH0I7UCA+Vor2vXdPcDUqnk44GBpTs+EVFZMQCVgqurKwCoQxBRaVhYWKB27dpGCdBFdVJWqWQn5eDg0l0OM9SCpUREpcUAVAoqlQpubm6oWbMmsrKyjF0dMlM2NjawsDDOVeiSdFIu7WKghlqwlIioNBiAysDS0tKo/TeISstQnZS5YCkRmSoGICIFMmQn5bwFS4mITAlHgREpUF4n5YK6H6lUgKcnOykTUcXFAERk4nJygAMHgHXr5L/lMXtyXidlQDsEsZMyESkBAxCRCdPXPD3A407KtWppbvfwKNsQeCIic6ASpjIdrQlJT0+Hs7Mz0tLS4OTkZOzqkEIVNE9PXgtNeYUUfcwETURkDCX5/mYA0oEBiIwtJ0e29BQ0VD1vIsHERIYVIqI8Jfn+5iUwIhPExUSJiPSLAYjIBHExUSIi/WIAIjJBXEyUiEi/GICITBDn6SEi0i8GICITxHl6iIj0iwGIyERxnh4iIv3hWmBEJoyLiRIR6QcDEJGJ42KiRETljwGIqIw4kzIRkflhACIqg6goYPx4zUkLPTxkB2b20SEiMl3sBE1USnlrdeWfsfnaNbm9PBYsJSIi/WAAIiqFnBzZ8qNrJb28bRERshwREZkeBiCiUuBaXURE5o0BiKgUuFYXEZF5YwAiKgWu1UVEZN4YgIhKgWt1ERGZNwYgolLgWl1EROaNAYiolLhWFxGR+eJEiERlwLW6iIjMEwMQURlxrS4iIvPDS2BERESkOAxAREREpDgMQERERKQ4DEBERESkOAxAREREpDgMQERERKQ4HAZPipCTw7l6iIjoMQYgqvCiooDx44GrVx9v8/CQS1lwtmYiImXiJTCq0KKigP79NcMPAFy7JrdHRRmnXkREZFwMQFRh5eTIlh8htB/L2xYRIcsREZGyGD0ALVmyBD4+PrCzs0PLli0RExNTaPnFixejYcOGsLe3R/369bFmzRqNx1etWgWVSqV1y8jI0OdpkAmKidFu+XmSEEBysixHRETKYtQ+QBs2bEBERASWLFmC9u3b46uvvkKPHj1w9uxZ1K5dW6t8ZGQkJk+ejK+//hqtW7fGsWPHMGLECFStWhV9+vRRl3NyckJCQoLGvnZ2dno/HzItKSnlW46IiCoOowag+fPnY9iwYRg+fDgAYOHChdi1axciIyMxd+5crfLffvstRo0ahdDQUABAnTp1cOTIEcybN08jAKlUKri6uhrmJMhkubmVbzkiIqo4jHYJ7NGjRzh58iS6du2qsb1r166IjY3VuU9mZqZWS469vT2OHTuGrKws9bZ79+7By8sLHh4e6N27N+Li4sr/BMjkBQbK0V4qle7HVSrA01OWIyIiZTFaALp58yZycnLg4uKisd3FxQWpqak69+nWrRu++eYbnDx5EkIInDhxAitWrEBWVhZu3rwJAGjQoAFWrVqFrVu3Yt26dbCzs0P79u1x8eLFAuuSmZmJ9PR0jRuZP0tLOdQd0A5BefcXLuR8QERESmT0TtCqfN9MQgitbXmmTp2KHj16oF27drC2tkZwcDCGDh0KALD8/2+xdu3aYfDgwfDz80NgYCB++OEH1KtXD4sWLSqwDnPnzoWzs7P65unpWT4nR0YXEgL8+CNQq5bmdg8PuZ3zABERKZPRAlD16tVhaWmp1dpz48YNrVahPPb29lixYgUePHiAy5cvIykpCd7e3nB0dET16tV17mNhYYHWrVsX2gI0efJkpKWlqW/JycmlPzEyOSEhwOXLwP79wPffy38TExl+iIiUzGidoG1sbNCyZUtER0fjxRdfVG+Pjo5GcHBwoftaW1vDw8MDALB+/Xr07t0bFha6s5wQAvHx8WjSpEmBx7O1tYWtrW0pzoLMhaUlEBRk7FoQEZGpMOoosAkTJiAsLAytWrWCv78/li1bhqSkJIwePRqAbJm5du2aeq6fCxcu4NixY2jbti3+++8/zJ8/H2fOnMHq1avVx5w5cybatWuHZ555Bunp6fjiiy8QHx+PxYsXG+UciYiIyPQYNQCFhobi1q1bmDVrFlJSUtC4cWNs374dXl5eAICUlBQkJSWpy+fk5OCzzz5DQkICrK2t0alTJ8TGxsLb21td5s6dOxg5ciRSU1Ph7OyM5s2b49dff0WbNm0MfXpERERkolRC6FooQNnS09Ph7OyMtLQ0ODk5Gbs6isDV2omIqKxK8v3N1eDJ6LhaOxERGZrRh8GTsnG1diIiMgYGIDIartZORETGwgBERsPV2omIyFgYgMhouFo7EREZCwMQGQ1XayciImNhACKj4WrtRERkLAxAZDRcrZ2IiIyFAYiMiqu1ExGRMXAiRDK6kBAgOJgzQRMRkeEwAJFJ4GrtRERkSLwERkRERIrDAERERESKwwBEREREisMARERERIrDAERERESKwwBEREREisMARERERIrDAERERESKwwBEREREisMARERERIrDAERERESKwwBEREREisMARERERIrDAERERESKwwBEREREisMARERERIrDAERERESKwwBEREREisMARERERIrDAERERESKY2XsCpB5yMkBYmKAlBTAzQ0IDAQsLY1dKyIiotJhAKIiRUUB48cDV68+3ubhAXz+ORASYrx6ERERlRYvgVGhoqKA/v01ww8AXLsmt0dFGadeREREZcEARAXKyZEtP0JoP5a3LSJCliMiIjInDEBUoJgY7ZafJwkBJCfLckREROaEAYgKlJJSvuWIiIhMBQMQFcjNrXzLERERmQoGICpQYKAc7aVS6X5cpQI8PWU5IiIic8IARAWytJRD3QHtEJR3f+FCzgdERETmhwGIChUSAvz4I1CrluZ2Dw+5nfMAERGROeJEiFSkkBAgOJgzQRMRUcXBAETFYmkJBAUZuxZERETlg5fAiIiISHEYgIiIiEhxGICIiIhIcRiAiIiISHEYgIiIiEhxGICIiIhIcRiAiIiISHEYgIiIiEhxGICIiIhIcRiAiIiISHEYgIiIiEhxGICIiIhIcRiAiIiISHEYgIiIiEhxGICIiIhIcRiAiIiISHEYgIiIiEhxGICIiIhIcayMXQEqPzk5QEwMkJICuLkBgYGApaWxa0VERGR6GIAqiKgoYPx44OrVx9s8PIDPPwdCQoxXLyIiIlPES2AVQFQU0L+/ZvgBgGvX5PaoKOPUi4iIyFQxAJm5nBzZ8iOE9mN52yIiZDkiIiKSGIDMXEyMdsvPk4QAkpNlOSIiIpIYgMxcSkr5liMiIlICBiAz5+ZWvuWIiIiUgAHIzAUGytFeKpXux1UqwNNTliMiIiLJ6AFoyZIl8PHxgZ2dHVq2bImYIjqrLF68GA0bNoS9vT3q16+PNWvWaJXZtGkTfH19YWtrC19fX2zevFlf1Tc6S0s51B3QDkF59xcu5HxARERETypVAEpOTsbVJ3reHjt2DBEREVi2bFmJjrNhwwZERERgypQpiIuLQ2BgIHr06IGkpCSd5SMjIzF58mTMmDEDf/75J2bOnImxY8fi559/Vpc5fPgwQkNDERYWhlOnTiEsLAwvvfQSjh49WppTNQshIcCPPwK1amlu9/CQ2zkPEBERkSaVELoGUBcuMDAQI0eORFhYGFJTU1G/fn00atQIFy5cwBtvvIFp06YV6zht27ZFixYtEBkZqd7WsGFD9O3bF3PnztUqHxAQgPbt2+OTTz5Rb4uIiMCJEydw6NAhAEBoaCjS09OxY8cOdZnu3bujatWqWLduXbHqlZ6eDmdnZ6SlpcHJyalY+5gCzgRNRERKVpLv71K1AJ05cwZt2rQBAPzwww9o3LgxYmNj8f3332PVqlXFOsajR49w8uRJdO3aVWN7165dERsbq3OfzMxM2NnZaWyzt7fHsWPHkJWVBUC2AOU/Zrdu3Qo8ZkViaQkEBQEDBsh/GX6IiIh0K1UAysrKgq2tLQBgz549eOGFFwAADRo0QEoxx1vfvHkTOTk5cHFx0dju4uKC1NRUnft069YN33zzDU6ePAkhBE6cOIEVK1YgKysLN2/eBACkpqaW6JiADFbp6ekaNyIiIqq4ShWAGjVqhKVLlyImJgbR0dHo3r07AOD69euoVq1aiY6lytdzVwihtS3P1KlT0aNHD7Rr1w7W1tYIDg7G0KFDAQCWTzR3lOSYADB37lw4Ozurb56eniU6ByIiIjIvpQpA8+bNw1dffYWgoCAMGDAAfn5+AICtW7eqL40VpXr16rC0tNRqmblx44ZWC04ee3t7rFixAg8ePMDly5eRlJQEb29vODo6onr16gAAV1fXEh0TACZPnoy0tDT1LTk5uVjnQEREROapVKvBBwUF4ebNm0hPT0fVqlXV20eOHAkHB4diHcPGxgYtW7ZEdHQ0XnzxRfX26OhoBAcHF7qvtbU1PDw8AADr169H7969YWEhs5y/vz+io6Px5ptvqsvv3r0bAQEBBR7P1tZWfUmPiIiIKr5SBaCHDx9CCKEOP1euXMHmzZvRsGFDdOvWrdjHmTBhAsLCwtCqVSv4+/tj2bJlSEpKwujRowHIlplr166p5/q5cOECjh07hrZt2+K///7D/PnzcebMGaxevVp9zPHjx6NDhw6YN28egoOD8dNPP2HPnj3qUWJEREREpQpAwcHBCAkJwejRo3Hnzh20bdsW1tbWuHnzJubPn4/XXnutWMcJDQ3FrVu3MGvWLKSkpKBx48bYvn07vLy8AAApKSkacwLl5OTgs88+Q0JCAqytrdGpUyfExsbC29tbXSYgIADr16/H+++/j6lTp+Lpp5/Ghg0b0LZt29KcKhEREVVApZoHqHr16jh48CAaNWqEb775BosWLUJcXBw2bdqEadOm4dy5c/qoq8GY6zxARERESqb3eYAePHgAR0dHALJ/TUhICCwsLNCuXTtcuXKlNIckIiIiMphSBaC6detiy5YtSE5Oxq5du9QTD964cYMtJkRERGTyShWApk2bhrfeegve3t5o06YN/P39AcjWoObNm5drBYmIiIjKW6n6AAFyxuWUlBT4+fmph6AfO3YMTk5OaNCgQblW0tDYB4iIiMj8lOT7u1SjwAA54aCrqyuuXr0KlUqFWrVqFXsSRCIiIiJjKtUlsNzcXMyaNQvOzs7w8vJC7dq1UaVKFcyePRu5ubnlXUcyEdnZAJdJIyKiiqBULUBTpkzB8uXL8dFHH6F9+/YQQuC3337DjBkzkJGRgQ8++KC860kGlpMDnD8PnDwJnDghb/HxwMOHQKtWwAsvAH36AH5+QCHLrBEREZmkUvUBcnd3x9KlS9WrwOf56aefMGbMGFy7dq3cKmgMSusDlJsLXLggQ05e4ImLA+7fL3pfT8/HYSgoCOCKIkREZCx67wN0+/ZtnR2dGzRogNu3b5fmkGQgubnApUuPW3Xyws7du9plK1UCWrSQLT4tW8p/nZyA7duBn38Gdu8GkpOBxYvlrXJloHt3GYZ69gT+f31aIiIik1OqFqC2bduibdu2+OKLLzS2v/766zh27BiOHj1abhU0horSAiQE8Pffmpexfv8dSEvTLmtvDzRvLkNO3q1ePcDSsuDjP3wI7N0rw9DPPwMpKY8fs7AAAgJk69ALLwD165f/+RERET2pJN/fpQpABw8eRK9evVC7dm34+/tDpVIhNjYWycnJ2L59OwIDA0tdeVNgrgFICGDbNuC33x5fzvrvP+1ydnZAs2aPW3VatQIaNACsSj0mULYsnTwpg9DWrcCpU5qPP/PM40tl7duX7bmIiIh00XsAAoDr169j8eLFOH/+PIQQ8PX1xciRIzFjxgysWLGiVBU3FeYagN57D5g7V3ObjY3sqJwXdFq2BHx9AWtr/dblyhXgl19kGNq/H8jKevxY1apAr14yDHXvLi+rERERlZVBApAup06dQosWLZCTk1NehzQKcwxAp07JcJOTAwwZAjz7rLzfuLEMQcaUni77C23dKluonuwmZm0tO0/36SNv3t6a++bmAo8eyQCV/1aS7Y8eyRay556THbeJiKjiYQAqI3MLQDk5sr/NsWNAv37Ajz8au0YFy84GDh+WYejnn4GEBM3Hq1SRZfKCS3lPK+XoCKxZA/TtW77HJSIi4zPITNBkOiIjZfhxcgLy9Us3OVZWQGCgvH3yiQxAeZ2oDx0C7twp+hjW1o9vNjaa9wvaZm0NXLsGnD4NvPgi8O67wOzZ5tMXKS4O+PNP4OWXzafORESmjL9Kzdy1a7LvDyD7/7i7G7c+JVW/vry99ZbssJ2aWniosbQs/cSLWVnAO+8ACxYAH30EHD8OrFsH1KhRvudUnrKyZFD74APZGvbtt8D69bIfFRERlV6JLoGFhIQU+vidO3dw8OBBXgIzoJAQYPNmoF07OfrLolSLmyjLhg3AsGFyokdPT3nJ0BSXsbtwARg8WAY1QLb8ZGcDdevKS4gNGxq3fkREpqYk398l+rp0dnYu9Obl5YUhQ4aUqfJUfD/9JMOPlRWwbBnDT3GFhgJHj8p5jpKT5eW4ZctkJ2lTIASwdKmcl+n4cdkvav16+f/atYG//gLatpWj7IiIqHTKtRN0RWEOLUB378rh7Fevyv4s+Ye/U9HS04GhQ2WIBIBXXpEzWtvbG69O//wjW6e2bZP3u3QBVq0CPDzk/X//Bfr3B379VV4KnDMHmDyZ67EREQF6bAEi0/H++zL81KkDTJtm7NqYJycnYNMmYN482Xq2cqWcpDEx0Tj12boVaNJEhh9bW2D+fDl9QF74AWR/pehoYPRo2VI0ZQowYADw4IFx6kxEZK4YgMzQ8ePAokXy/0uXGrfFwtypVMCkSTJU1KghR1u1bAns2GG4Oty7B4wcCQQHyxaepk3lTN5vvqn7sqaNjRz5FxkpL39u2CDnfUpKMlydiYjMHQOQmcnOll+WQgCDBgHPP2/sGlUMnTvLpTzatJGj0Xr1AmbNKv95iPI7ckT29fn6axnG3npLTmnQuHHR+44eLddiq15dBrdWrYCYGP3WtzT++ku2WH7yiZwVXNdadEREhsY+QDqYch+gTz8F3n4beOop4Nw5oGZNY9eoYsnMlC0vkZHyfq9ecuh5eQ87z86W/XfmzJETWXp6AqtXA506lfxYV67I1qNTp+RUAV9+KUOysV27JofwL18uz/dJzzyjufBu8+ZykkoiorIw2kzQFYWpBqDLl4FGjWR/j+XLgVdfNXaNKq7Vq2ULS0aG7Ge1aZNcQLY8XLwoh7cfOybvDxwoO19XqVL6Y96/Lztxb9wo748ZAyxcqP8133S5dUvOs/Tll/L1A4CuXWWfqxMn5Oc4P5VKzgf1ZChq1gyoVMmQNScic8cAVEamGICEkK0RO3YAHTvKSwkc+aNf8fFynqXERMDODvjqK7nOWmkJIS91vfmmDLHOzrKlacCA8qmvEMCHH8rLTYD8nGzcaLiJHu/elZNMfvqp/D8g+yZ9+KGcaiDPzZvA77/LMJR3S07WPp6FhZzrKG8R31at5MK+Dg6GOR8iMj8MQGVkigFowwa5DIKNDfDHH/KvZdK///6TrTXbt8v7Y8bIL/mSLjB74wYwfLhc8gOQl7pWr9bPwqxbt8r+YffuAV5ecr4oP7/yf548GRkyyH34oQw3gGy9+fBDoHv34gX1GzdkH6wnQ9H169rlLC1lK2heIGrVSnYat7Mr11MiIjPFAFRGphaA/vtP/iX8zz/AjBnA9OnGrpGy5ObKviwzZ8pWlnbtZMvKk8PTC/PLL3Junxs3ZHD68MOCR3iVlz//lP2CLl2SLSZr1siFcstTdraco2jmTDklAyD79syeDfzvf2U/v5QU7VD0zz/a5ays5M+Hu7vsEF6jhrw9+f+8+1WrcsJQooqMAaiMTC0AjRolZypu0EBelrG1NXaNlGnHDtmy8t9/8gt1w4bCOy3fvw9MnCgvnQFyZNfatbLFwhBu35azXu/ZI+9PnSoDdFkDQG6uXD5k6lS5XAcgw+D06XJiSX0t1iqEbBV6MhCdOPG41ak4LC2BatV0h6OC/l/S1j4iMh4GoDIypQB06NDj/hMHDwIdOhi1Oor399+yJSU+XgaJjz6SQ9fzX+Y5dkxeOrt4Ud6fMEEuaGroSzXZ2XLU4MKF8n7fvrI1qDQjroQAdu6Uky/Gxclt1avLxXhfe804l6GEkP2HzpyRcyjl3W7e1P5/aYffOznJJUhat5ZLkLRtK8OsvoIeEZUeA1AZmUoAevRIDg8+e1ZeQvnmG6NVhZ7w8KH8wl+9Wt4PCZGzSDs5ycDx4YdyDqGcHKBWLVmuSxfj1nnVKtmS+OiR7EPz00/A008Xf/9Dh+SSG4cOyfuOjjL4vfmm+Qxff/RIjlArKijl3W7dku+hLg4Osv9RXiBq27b4l0SJSH8YgMrIVALQnDnyMkPNmnLOn6eeMlpVKB8h5GXJ118HsrJkp/T582X/lyNHZJnQUNk5uLznECqtI0eAF18EUlPlZ+mHH4oOZnFxssUnb2ZsOztg3DjgnXdk609FlpsL3Lkjw9CFC3IB3aNHZeteerp2eXd32T8sLxC1asVh/ESGxgBURqYQgC5ckH1FMjNlv5GBA41SDSrC0aNycdK8TsCAHN6+eLF8z0xtqoJr12QIOn5c9oeZP1+GuPz1vHBBrjG3YYO8b2kpR7FNnSpbtZQsNxc4f/5xIDp6VI7MzD9ruIWFvFT2ZChq2JCdsIn0iQGojIwdgISQf5nv3y8nkNu50/S+SOmxf/+VUxTs2yfn3lmzRvYZMVUZGXKm6G+/lfdffRVYskR2rk9OlpfvVq6Ul39UKjlP0cyZQN26xq23Kbt/X45YezIUPRmK8zg6Pu5LlBeMXFwMX1+iiooBqIyMHYBWr5ajaeztZefOOnUMXgUqodxc2WpSr555/IUvhGz9mTRJ1t3fX34ZR0bKVkcA6N1bdtw21Ki1iubaNc1AdOKEDEr5eXnJ/kMWFvKmUj3+f0nv63rMyko+h6+vbIF6+mnjzBBOZAgMQGVkzAB086Yc7p63nMA77xj06Ulhdu2SfZWeHCHVsaPsyB0QYLx6VUTZ2XJAw5Ejj0PR2bMyjBqStbWcr6lhw8ehyNdXhnd7e8PWhai8MQCVkTEDUHi4vITStKn8i5F/qZG+XbgAhIXJloLp04Hnn+clV0NJT5eXzv77Twah3NzHt5LcL+yxzEw5IebZs7Lvkq5WKEC+53XqyED0ZDhq2FCOcCQyBwxAZWSsALR3L/Dcc/IX0eHD8pIEEVF5yc2V/bzOnZO3s2cf//vffwXvV6uWZiDK+7+h1pkjKi4GoDIyRgB6+FC2+vz1FzB2rFxJm4jIEISQS7XkD0XnzsklSQpSvbrsU2RvL1urdd1sbEq2Pf9j9vZAlSpydGXev5wNnwpSku9vzmVqIj74QIYfd3fZ/4KIyFBUKjkazcUFCArSfOzOHe0Wo3PngMuXZZ/FkixFUl7s7LRDUUn+rVzZPAYrkH6xBUgHQ7cA/fmnXD07OxvYtEnOLExEZMoePAASEoArV+Qs21lZ8vbk/wvbVtyy9+/LTvppabonoCwNCwvZr6lKFbm+36xZDEQVBS+BlZEhA1BurlzrKzYWeOEFYMsWdkAlItIlJwe4e1e2SqWlle7fR4+0jztkCLB8Odd3qwh4CcyMfP21DD+VKgGLFjH8EBEVxNJSttpUqVL6Y2RkPA5EBw8CY8bIkbf37wPffy/7H5EysNHPiFJSHs/zM2eOac8eTERUEdjZAa6ucv2+kSNltwMbG/lv375yQAopAwOQEUVEyL9CWraU6zEREZFhBQcDv/wCODjIRX979JCX2ajiYwAyku3b5WrcFhZyVXFLS2PXiIhImZ5/Xs6K7uQkL4s99xxw+7axa0X6xgBkBPfvy+vOgGwFatHCqNUhIlK8Z5+VCxpXqwYcOwZ06gT884+xa0X6xE7QRjB9uhw6Wru2XGWbiIiMr2XLxy1Af/wBdOgA7NkDeHoau2baTp4Edu6UVw9sbYu+2dgU/rgSpwFgADKwuDhg4UL5/yVL5IRcRERkGho1AmJigC5d5Dp5gYFymaKnnzZ2zaR794D33we++KJ8F9K1stIOSpUq6Z5IsqjJJh0czGNEMwOQAeXkyFEHOTnA//4H9Opl7BoREVF+desChw7JEHTxogxBe/bINdCMaccOYPRoIClJ3u/VS67HlplZ8O3Ro4K3Pyk7W94KWiy3JKysip6Nu0oVwMtLjrwzFgYgA1q9Wq7w7uwMfP65sWtDREQF8fQEfv0V6NoVOH1aXg7bvds4fTb//Rd4801g7Vp538sL+OoroFu30h9TiMfhqKCQdP9+ySebzMmRQerWLXkrTJs2DECKMWgQcPWqXFnZzc3YtSEiosK4ugIHDgDduwPHj8uO0du3A+3bG+b5hQC++06Gn1u3ZD+d8ePl0h1l7T6hUj2+1FVehHi8dElxApOxLytyKQwdjLEaPBERmab0dKBPH9ki5OAA/PST7CitT4mJ8nLX7t3yftOmwDffAK1b6/d5zV1Jvr8V2O+biIio+JycZP+b7t3lIrC9egFbt+rnuXJygAULgMaNZfixtQU+/FB2n2D4KV8MQEREREVwcJCLVYeEyD4zISHAunXl+xynTgH+/sCECTJodewoh+NPngxYW5fvcxEDEBERUbHY2gIbNgBhYbKlZtAgeVmqrB4+BN57D2jVSvY1cnaWKwTs2wfUq1f245Nu7ARNRERUTFZWwKpVco6cpUuBESPk3DwREaU73sGD8hgXL8r7/foBixZxoIwhsAWIiIioBCws5ES2b78t77/5JjBnTskmJrxzR84LFxQkw4+bGxAVBfz4I8OPoTAAERERlZBKBcybJ4ekA8DUqcC77xYvBEVFAQ0bAl9/Le+PGgWcPQu8+KL+6kvaGICIiIhKQaWSwWf+fHn/44+BceOA3Fzd5a9dkyGnXz8gNVX27zl4UF5Kq1LFYNWm/8cAREREVAZvvik7LatU8tLYK6/I2ZDz5ObKmZt9feVIMisruZ7XqVNyhmkyDnaCJiIiKqMRI2TH6CFDgDVr5IzI338vJzQcMUIusArI5R+++QZo0sS49SUGICIionIxcKAMQS+9BGzaBLRrB/z5p5w3qFIl4IMP5CUyS0tj15QAXgIjIiIqN8HBwC+/yIkT4+Jk+OneHThzRq7jxfBjOhiAiIiIytHzzwPR0cALL8jFTLdvB7y9jV0ryo+XwIiIiMpZQIBcNJVMF1uAiIiISHEYgIiIiEhxGICIiIhIcRiAiIiISHGMHoCWLFkCHx8f2NnZoWXLlojJmy2qAGvXroWfnx8cHBzg5uaGV155Bbdu3VI/vmrVKqhUKq1bRkaGvk+FiIiIzIRRA9CGDRsQERGBKVOmIC4uDoGBgejRoweSkpJ0lj906BCGDBmCYcOG4c8//8TGjRtx/PhxDB8+XKOck5MTUlJSNG52dnaGOCUiIiIyA0YNQPPnz8ewYcMwfPhwNGzYEAsXLoSnpyciIyN1lj9y5Ai8vb3xxhtvwMfHB88++yxGjRqFEydOaJRTqVRwdXXVuBERERHlMVoAevToEU6ePImuXbtqbO/atStiY2N17hMQEICrV69i+/btEELgn3/+wY8//ohevXpplLt37x68vLzg4eGB3r17Iy4urtC6ZGZmIj09XeNGREREFZfRAtDNmzeRk5MDFxcXje0uLi5ITU3VuU9AQADWrl2L0NBQ2NjYwNXVFVWqVMGiRYvUZRo0aIBVq1Zh69atWLduHezs7NC+fXtcvHixwLrMnTsXzs7O6punp2f5nCQRERGZJKN3glapVBr3hRBa2/KcPXsWb7zxBqZNm4aTJ09i586dSExMxOjRo9Vl2rVrh8GDB8PPzw+BgYH44YcfUK9ePY2QlN/kyZORlpamviUnJ5fPyREREZFJMtpSGNWrV4elpaVWa8+NGze0WoXyzJ07F+3bt8fbb78NAGjatCkqVaqEwMBAzJkzB25ublr7WFhYoHXr1oW2ANna2sLW1rYMZ0NERETmxGgtQDY2NmjZsiWio6M1tkdHRyMgIEDnPg8ePICFhWaVLf9/aV0hhM59hBCIj4/XGY6IiIhImYy6GOqECRMQFhaGVq1awd/fH8uWLUNSUpL6ktbkyZNx7do1rFmzBgDQp08fjBgxApGRkejWrRtSUlIQERGBNm3awN3dHQAwc+ZMtGvXDs888wzS09PxxRdfID4+HosXLzbaeRIREZFpMWoACg0Nxa1btzBr1iykpKSgcePG2L59O7y8vAAAKSkpGnMCDR06FHfv3sWXX36JiRMnokqVKujcuTPmzZunLnPnzh2MHDkSqampcHZ2RvPmzfHrr7+iTZs2Bj8/IiIiMk0qUdC1IwVLT0+Hs7Mz0tLS4OTkZOzqEBERUTGU5Pvb6KPAiIiIiAyNAYiIiIgUhwGIiIiIFIcBiIiIiBSHAYiIiIgUhwGIiIiIFIcBiIiIiBSHAYiIiIgUhwGIiIiIFIcBiIiIiBSHAYiIiIgUhwGIiIiIFIcBiIiIiBSHAYiIiIgUhwGIiIiIFIcBiIiIiBSHAYiIiIgUhwGIiIiIFIcBiIiIiBSHAYiIiIgUhwGIiIiIFIcBiIiIiBSHAYiIiIgUhwGIiIiIFIcBiIiIiBSHAYiIiIgUhwGIiIiIFIcBiIiIiBSHAYiIiIgUhwGIiIiIFIcBiIiIiBSHAYiIiIgUhwGIiIiIFIcBiIiIiBSHAYiIiIgUhwGIiIiIFIcBiIiIiBSHAYiIiIgUhwGIiIiIFIcBiIiIiBSHAYiIiIgUhwGIiIiIFIcBiIiIiBSHAYiIiIgUhwGIiIiIFIcBiIiIiBSHAYiIiIgUhwGIiIiIFIcBiIiIiBSHAYiIiIgUhwGIiIiIFIcBiIiIiBSHAYiIiIgUhwGIiIiIFIcBiIiIiBSHAYiIiIgUhwGIiIiIFIcBiIiIiBSHAYiIiIgUhwGIiIiIFIcBiIiIiBSHAYiIiIgUhwGIiIiIFIcBiIiIiBSHAYiIiIgUhwGIiIiIFIcBiIiIiBSHAYiIiIgUhwGIiIiIFMfoAWjJkiXw8fGBnZ0dWrZsiZiYmELLr127Fn5+fnBwcICbmxteeeUV3Lp1S6PMpk2b4OvrC1tbW/j6+mLz5s36PAUiIiIyM0YNQBs2bEBERASmTJmCuLg4BAYGokePHkhKStJZ/tChQxgyZAiGDRuGP//8Exs3bsTx48cxfPhwdZnDhw8jNDQUYWFhOHXqFMLCwvDSSy/h6NGjhjotIiIiMnEqIYQw1pO3bdsWLVq0QGRkpHpbw4YN0bdvX8ydO1er/KefforIyEhcunRJvW3RokX4+OOPkZycDAAIDQ1Feno6duzYoS7TvXt3VK1aFevWrStWvdLT0+Hs7Iy0tDQ4OTmV9vSIiIjIgEry/W20FqBHjx7h5MmT6Nq1q8b2rl27IjY2Vuc+AQEBuHr1KrZv3w4hBP755x/8+OOP6NWrl7rM4cOHtY7ZrVu3Ao8JAJmZmUhPT9e4ERERUcVltAB08+ZN5OTkwMXFRWO7i4sLUlNTde4TEBCAtWvXIjQ0FDY2NnB1dUWVKlWwaNEidZnU1NQSHRMA5s6dC2dnZ/XN09OzDGdGREREps7onaBVKpXGfSGE1rY8Z8+exRtvvIFp06bh5MmT2LlzJxITEzF69OhSHxMAJk+ejLS0NPUt73IaERERVUxWxnri6tWrw9LSUqtl5saNG1otOHnmzp2L9u3b4+233wYANG3aFJUqVUJgYCDmzJkDNzc3uLq6luiYAGBrawtbW9synhERERGZC6O1ANnY2KBly5aIjo7W2B4dHY2AgACd+zx48AAWFppVtrS0BCBbeQDA399f65i7d+8u8JhERESkPEZrAQKACRMmICwsDK1atYK/vz+WLVuGpKQk9SWtyZMn49q1a1izZg0AoE+fPhgxYgQiIyPRrVs3pKSkICIiAm3atIG7uzsAYPz48ejQoQPmzZuH4OBg/PTTT9izZw8OHTpktPMkIiIi02LUABQaGopbt25h1qxZSElJQePGjbF9+3Z4eXkBAFJSUjTmBBo6dCju3r2LL7/8EhMnTkSVKlXQuXNnzJs3T10mICAA69evx/vvv4+pU6fi6aefxoYNG9C2bVuDnx8RERGZJqPOA2SqOA8QERGR+TGLeYCIiIiIjIUBiIiIiBSHAYiIiIgUhwGIiIiIFIcBiIiIiBTHqMPglSYnB4iJAVJSADc3IDAQ+P95HImIiMiAGIAMJCoKGD8euHr18TYPD+Dzz4GQEOPVi4iISIl4CcwAoqKA/v01ww8AXLsmt0dFGadeRERESsUApGc5ObLlR9d0k3nbIiJkOSIiIjIMBiA9i4nRbvl5khBAcrIsR0RERIbBAKRnKSnlW46IiIjKjgFIz9zcyrccERERlR0DkJ4FBsrRXiqV7sdVKsDTU5YjIiIiw2AA0jNLSznUHdAOQXn3Fy7kfEBERESGxABkACEhwI8/ArVqaW738JDbOQ8QERGRYXEiRAMJCQGCgzkTNBERkSlgADIgS0sgKMjYtSAiIiJeAiMiIiLFYQAiIiIixWEAIiIiIsVhACIiIiLFYQAiIiIixWEAIiIiIsVhACIiIiLFYQAiIiIixWEAIiIiIsXhTNA6CCEAAOnp6UauCRERERVX3vd23vd4YRiAdLh79y4AwNPT08g1ISIiopK6e/cunJ2dCy2jEsWJSQqTm5uL69evw9HRESqVytjV0Zv09HR4enoiOTkZTk5Oxq6O3inpfHmuFZeSzpfnWnHp63yFELh79y7c3d1hYVF4Lx+2AOlgYWEBDw8PY1fDYJycnBTxA5dHSefLc624lHS+PNeKSx/nW1TLTx52giYiIiLFYQAiIiIixWEAUjBbW1tMnz4dtra2xq6KQSjpfHmuFZeSzpfnWnGZwvmyEzQREREpDluAiIiISHEYgIiIiEhxGICIiIhIcRiAiIiISHEYgCqouXPnonXr1nB0dETNmjXRt29fJCQkFLrPgQMHoFKptG7nz583UK1Lb8aMGVr1dnV1LXSfgwcPomXLlrCzs0OdOnWwdOlSA9W2bLy9vXW+T2PHjtVZ3pze119//RV9+vSBu7s7VCoVtmzZovG4EAIzZsyAu7s77O3tERQUhD///LPI427atAm+vr6wtbWFr68vNm/erKczKJnCzjcrKwvvvPMOmjRpgkqVKsHd3R1DhgzB9evXCz3mqlWrdL7fGRkZej6bwhX13g4dOlSrzu3atSvyuKb43hZ1rrreH5VKhU8++aTAY5rq+1qc7xpT/bllAKqgDh48iLFjx+LIkSOIjo5GdnY2unbtivv37xe5b0JCAlJSUtS3Z555xgA1LrtGjRpp1Pv06dMFlk1MTETPnj0RGBiIuLg4vPfee3jjjTewadMmA9a4dI4fP65xntHR0QCA//3vf4XuZw7v6/379+Hn54cvv/xS5+Mff/wx5s+fjy+//BLHjx+Hq6srnn/+efX6fbocPnwYoaGhCAsLw6lTpxAWFoaXXnoJR48e1ddpFFth5/vgwQP8/vvvmDp1Kn7//XdERUXhwoULeOGFF4o8rpOTk8Z7nZKSAjs7O32cQrEV9d4CQPfu3TXqvH379kKPaarvbVHnmv+9WbFiBVQqFfr161focU3xfS3Od43J/twKUoQbN24IAOLgwYMFltm/f78AIP777z/DVaycTJ8+Xfj5+RW7/KRJk0SDBg00to0aNUq0a9eunGumf+PHjxdPP/20yM3N1fm4ub6vAMTmzZvV93Nzc4Wrq6v46KOP1NsyMjKEs7OzWLp0aYHHeemll0T37t01tnXr1k28/PLL5V7nssh/vrocO3ZMABBXrlwpsMzKlSuFs7Nz+VaunOk61/DwcBEcHFyi45jDe1uc9zU4OFh07ty50DLm8L4Kof1dY8o/t2wBUoi0tDQAwFNPPVVk2ebNm8PNzQ1dunTB/v379V21cnPx4kW4u7vDx8cHL7/8Mv7+++8Cyx4+fBhdu3bV2NatWzecOHECWVlZ+q5quXn06BG+++47vPrqq0Uu3Guu72uexMREpKamarxvtra26NixI2JjYwvcr6D3urB9TFVaWhpUKhWqVKlSaLl79+7By8sLHh4e6N27N+Li4gxTwTI6cOAAatasiXr16mHEiBG4ceNGoeUrwnv7zz//YNu2bRg2bFiRZc3hfc3/XWPKP7cMQAoghMCECRPw7LPPonHjxgWWc3Nzw7Jly7Bp0yZERUWhfv366NKlC3799VcD1rZ02rZtizVr1mDXrl34+uuvkZqaioCAANy6dUtn+dTUVLi4uGhsc3FxQXZ2Nm7evGmIKpeLLVu24M6dOxg6dGiBZcz5fX1SamoqAOh83/IeK2i/ku5jijIyMvDuu+9i4MCBhS4e2aBBA6xatQpbt27FunXrYGdnh/bt2+PixYsGrG3J9ejRA2vXrsW+ffvw2Wef4fjx4+jcuTMyMzML3KcivLerV6+Go6MjQkJCCi1nDu+rru8aU/655WrwCjBu3Dj88ccfOHToUKHl6tevj/r166vv+/v7Izk5GZ9++ik6dOig72qWSY8ePdT/b9KkCfz9/fH0009j9erVmDBhgs598reYiP+fFL2olhRTsnz5cvTo0QPu7u4FljHn91UXXe9bUe9ZafYxJVlZWXj55ZeRm5uLJUuWFFq2Xbt2Gp2H27dvjxYtWmDRokX44osv9F3VUgsNDVX/v3HjxmjVqhW8vLywbdu2QsOBub+3K1aswKBBg4rsy2MO72th3zWm+HPLFqAK7vXXX8fWrVuxf/9+eHh4lHj/du3amdRfGMVVqVIlNGnSpMC6u7q6av0lcePGDVhZWaFatWqGqGKZXblyBXv27MHw4cNLvK85vq95o/p0vW/5/1LMv19J9zElWVlZeOmll5CYmIjo6OhCW390sbCwQOvWrc3u/XZzc4OXl1eh9Tb39zYmJgYJCQml+hk2tfe1oO8aU/65ZQCqoIQQGDduHKKiorBv3z74+PiU6jhxcXFwc3Mr59rpX2ZmJs6dO1dg3f39/dWjp/Ls3r0brVq1grW1tSGqWGYrV65EzZo10atXrxLva47vq4+PD1xdXTXet0ePHuHgwYMICAgocL+C3uvC9jEVeeHn4sWL2LNnT6nCuRAC8fHxZvd+37p1C8nJyYXW25zfW0C24LZs2RJ+fn4l3tdU3teivmtM+ue23LpTk0l57bXXhLOzszhw4IBISUlR3x48eKAu8+6774qwsDD1/QULFojNmzeLCxcuiDNnzoh3331XABCbNm0yximUyMSJE8WBAwfE33//LY4cOSJ69+4tHB0dxeXLl4UQ2uf6999/CwcHB/Hmm2+Ks2fPiuXLlwtra2vx448/GusUSiQnJ0fUrl1bvPPOO1qPmfP7evfuXREXFyfi4uIEADF//nwRFxenHvX00UcfCWdnZxEVFSVOnz4tBgwYINzc3ER6err6GGFhYeLdd99V3//tt9+EpaWl+Oijj8S5c+fERx99JKysrMSRI0cMfn75FXa+WVlZ4oUXXhAeHh4iPj5e4+c4MzNTfYz85ztjxgyxc+dOcenSJREXFydeeeUVYWVlJY4ePWqMU1Qr7Fzv3r0rJk6cKGJjY0ViYqLYv3+/8Pf3F7Vq1TLL97aoz7EQQqSlpQkHBwcRGRmp8xjm8r4W57vGVH9uGYAqKAA6bytXrlSXCQ8PFx07dlTfnzdvnnj66aeFnZ2dqFq1qnj22WfFtm3bDF/5UggNDRVubm7C2tpauLu7i5CQEPHnn3+qH89/rkIIceDAAdG8eXNhY2MjvL29C/xFZIp27dolAIiEhAStx8z5fc0bsp//Fh4eLoSQQ2qnT58uXF1dha2trejQoYM4ffq0xjE6duyoLp9n48aNon79+sLa2lo0aNDAZMJfYeebmJhY4M/x/v371cfIf74RERGidu3awsbGRtSoUUN07dpVxMbGGv7k8insXB88eCC6du0qatSoIaytrUXt2rVFeHi4SEpK0jiGuby3RX2OhRDiq6++Evb29uLOnTs6j2Eu72txvmtM9edW9f8nQERERKQY7ANEREREisMARERERIrDAERERESKwwBEREREisMARERERIrDAERERESKwwBEREREisMARERUAJVKhS1bthi7GkSkBwxARGSShg4dCpVKpXXr3r27satGRBWAlbErQERUkO7du2PlypUa22xtbY1UGyKqSNgCREQmy9bWFq6urhq3qlWrApCXpyIjI9GjRw/Y29vDx8cHGzdu1Nj/9OnT6Ny5M+zt7VGtWjWMHDkS9+7d0yizYsUKNGrUCLa2tnBzc8O4ceM0Hr958yZefPFFODg44JlnnsHWrVvVj/33338YNGgQatSoAXt7ezzzzDNagY2ITBMDEBGZralTp6Jfv344deoUBg8ejAEDBuDcuXMAgAcPHqB79+6oWrUqjh8/jo0bN2LPnj0aAScyMhJjx47FyJEjcfr0aWzduhV169bVeI6ZM2fipZdewh9//IGePXti0KBBuH37tvr5z549ix07duDcuXOIjIxE9erVDfcCEFHplevSqkRE5SQ8PFxYWlqKSpUqadxmzZolhJCrUI8ePVpjn7Zt24rXXntNCCHEsmXLRNWqVcW9e/fUj2/btk1YWFiI1NRUIYQQ7u7uYsqUKQXWAYB4//331ffv3bsnVCqV2LFjhxBCiD59+ohXXnmlfE6YiAyKfYCIyGR16tQJkZGRGtueeuop9f/9/f01HvP390d8fDwA4Ny5c/Dz80OlSpXUj7dv3x65ublISEiASqXC9evX0aVLl0Lr0LRpU/X/K1WqBEdHR9y4cQMA8Nprr6Ffv374/fff0bVrV/Tt2xcBAQGlOlciMiwGICIyWZUqVdK6JFUUlUoFABBCqP+vq4y9vX2xjmdtba21b25uLgCgR48euHLlCrZt24Y9e/agS5cuGDt2LD799NMS1ZmIDI99gIjIbB05ckTrfoMGDQAAvr6+iI+Px/3799WP//bbb7CwsEC9evXg6OgIb29v7N27t0x1qFGjBoYOHYrvvvsOCxcuxLJly8p0PCIyDLYAEZHJyszMRGpqqsY2KysrdUfjjRs3olWrVnj22Wexdu1aHDt2DMuXLwcADBo0CNOnT0d4eDhmzJiBf//9F6+//jrCwsLg4uICAJgxYwZGjx6NmjVrokePHrh79y5+++03vP7668Wq37Rp09CyZUs0atQImZmZ+OWXX9CwYcNyfAWISF8YgIjIZO3cuRNubm4a2+rXr4/z588DkCO01q9fjzFjxsDV1RVr166Fr68vAMDBwQG7du3C+PHj0bp1azg4OKBfv36YP3+++ljh4eHIyMjAggUL8NZbb6F69ero379/setnY2ODyZMn4/Lly7C3t0dgYCDWr19fDmdORPqmEkIIY1eCiKikVCoVNm/ejL59+xq7KkRkhtgHiIiIiBSHAYiIiIgUh32AiMgs8eo9EZUFW4CIiIhIcRiAiIiISHEYgIiIiEhxGICIiIhIcRiAiIiISHEYgIiIiEhxGICIiIhIcRiAiIiISHEYgIiIiEhx/g/Cvf8VHzmK3QAAAABJRU5ErkJggg==",
=======
      "image/png": "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",
>>>>>>> d69b236febf94df2dd6ee667e8b1736d80925de7
      "text/plain": [
       "<Figure size 640x480 with 1 Axes>"
      ]
     },
     "metadata": {},
     "output_type": "display_data"
    }
   ],
   "source": [
    "# Listing 3.10 Plotting the training and validation accuracy\n",
    "\n",
    "plt.clf()\n",
    "acc = history_dict['acc']\n",
    "val_acc = history_dict['val_acc']\n",
    "plt.plot(epochs, acc, 'bo', label='Training acc')\n",
    "plt.plot(epochs, val_acc, 'b', label='Validation acc')\n",
    "plt.title('Training and validation accuracy')\n",
    "plt.xlabel('Epochs')\n",
    "plt.ylabel('Loss')\n",
    "plt.legend()\n",
    "\n",
    "plt.show()"
   ]
  },
  {
   "cell_type": "code",
   "execution_count": 19,
   "id": "bd5ab43a-02e6-48bb-b6a1-61f34204ed96",
   "metadata": {},
   "outputs": [
    {
     "name": "stdout",
     "output_type": "stream",
     "text": [
      "Epoch 1/4\n",
<<<<<<< HEAD
      "49/49 [==============================] - 0s 3ms/step - loss: 0.4494 - accuracy: 0.8280\n",
      "Epoch 2/4\n",
      "49/49 [==============================] - 0s 3ms/step - loss: 0.2598 - accuracy: 0.9083\n",
      "Epoch 3/4\n",
      "49/49 [==============================] - 0s 3ms/step - loss: 0.1996 - accuracy: 0.9302\n",
      "Epoch 4/4\n",
      "49/49 [==============================] - 0s 3ms/step - loss: 0.1678 - accuracy: 0.9401\n"
=======
      "49/49 [==============================] - 2s 19ms/step - loss: 0.4901 - accuracy: 0.8069\n",
      "Epoch 2/4\n",
      "49/49 [==============================] - 1s 19ms/step - loss: 0.2899 - accuracy: 0.9013\n",
      "Epoch 3/4\n",
      "49/49 [==============================] - 1s 18ms/step - loss: 0.2225 - accuracy: 0.9227\n",
      "Epoch 4/4\n",
      "49/49 [==============================] - 1s 17ms/step - loss: 0.1917 - accuracy: 0.9308\n"
>>>>>>> d69b236febf94df2dd6ee667e8b1736d80925de7
     ]
    },
    {
     "data": {
      "text/plain": [
<<<<<<< HEAD
       "<keras.callbacks.History at 0x2971260d0>"
=======
       "<keras.callbacks.History at 0x7f0cb3b74490>"
>>>>>>> d69b236febf94df2dd6ee667e8b1736d80925de7
      ]
     },
     "execution_count": 19,
     "metadata": {},
     "output_type": "execute_result"
    }
   ],
   "source": [
    "# Listing 3.11 Retraining a model from scratch\n",
    "\n",
    "model = models.Sequential()\n",
    "model.add(layers.Dense(16, activation='relu', input_shape=(10000,)))\n",
    "model.add(layers.Dense(16, activation='relu'))\n",
    "model.add(layers.Dense(1, activation='sigmoid'))\n",
    "model.compile(optimizer='rmsprop',\n",
    "loss='binary_crossentropy',\n",
    "metrics=['accuracy'])\n",
    "model.fit(x_train, y_train, epochs=4, batch_size=512)\n",
    "\n",
    "#results = model.evaluate(x_test, y_test)"
   ]
  },
  {
   "cell_type": "code",
   "execution_count": 20,
   "id": "0296e575-f035-4358-91ca-6ffdce1356e2",
   "metadata": {},
   "outputs": [
    {
     "name": "stdout",
     "output_type": "stream",
     "text": [
      "782/782 [==============================] - 0s 336us/step - loss: 0.3004 - accuracy: 0.8799\n"
     ]
    },
    {
     "data": {
      "text/plain": [
       "[0.3003731071949005, 0.8798800110816956]"
      ]
     },
     "execution_count": 20,
     "metadata": {},
     "output_type": "execute_result"
    }
   ],
   "source": [
    "# vivopc's vmDebian64在這行指令會一直死掉，不知為何？ -- 2023.10.12 16:44 --\n",
    "# iMacM2 run ok, -- 2024.07.15 07:46 --\n",
    "# It seems that frozen modules are being used, \n",
    "# which may It seems that frozen modules are being used, which may\n",
    "# make the debugger miss breakpoints. Please pass -Xfrozen_modules=off\n",
    "# to python to disable frozen modules.\n",
    "results = model.evaluate(x_test, y_test)\n",
    "\n",
    "results"
   ]
  },
  {
   "cell_type": "code",
   "execution_count": 22,
   "id": "0037b4a1-d8d4-4bfa-b34d-3ec9dc7a3929",
   "metadata": {},
   "outputs": [
    {
     "name": "stdout",
     "output_type": "stream",
     "text": [
      "782/782 [==============================] - 0s 349us/step\n"
     ]
    },
    {
     "data": {
      "text/plain": [
       "array([[0.18602988],\n",
       "       [0.99993944],\n",
       "       [0.6362506 ],\n",
       "       ...,\n",
       "       [0.08913497],\n",
       "       [0.05998782],\n",
       "       [0.50163615]], dtype=float32)"
      ]
     },
     "execution_count": 22,
     "metadata": {},
     "output_type": "execute_result"
    }
   ],
   "source": [
    "model.predict(x_test)"
   ]
  },
  {
   "cell_type": "code",
   "execution_count": 23,
   "id": "f4cf40f3-0938-4d05-a9f9-a66adbc600da",
   "metadata": {},
   "outputs": [],
   "source": [
    "########\n",
    "###  ###\n",
    "########"
   ]
  },
  {
   "cell_type": "code",
   "execution_count": 24,
   "id": "82d945af-6370-4564-b230-d98ce6fffe65",
   "metadata": {},
   "outputs": [
    {
     "name": "stdout",
     "output_type": "stream",
     "text": [
      "Downloading data from https://storage.googleapis.com/tensorflow/tf-keras-datasets/reuters.npz\n",
      "2110848/2110848 [==============================] - 1s 0us/step\n"
     ]
    }
   ],
   "source": [
    "# Listing 3.12 Loading the Reuters dataset\n",
    "\n",
    "from keras.datasets import reuters\n",
    "\n",
    "(train_data, train_labels), (test_data, test_labels) = reuters.load_data(\n",
    "num_words=10000)"
   ]
  },
  {
   "cell_type": "code",
   "execution_count": 25,
   "id": "b8495e51-14ea-48bc-b889-9aa4830814ce",
   "metadata": {},
   "outputs": [
    {
     "name": "stdout",
     "output_type": "stream",
     "text": [
      "Downloading data from https://storage.googleapis.com/tensorflow/tf-keras-datasets/reuters_word_index.json\n",
      "550378/550378 [==============================] - 0s 1us/step\n"
     ]
    }
   ],
   "source": [
    "# Listing 3.13 Decoding newswires back to text\n",
    "\n",
    "word_index = reuters.get_word_index()\n",
    "reverse_word_index = dict([(value, key) for (key, value) in word_index.items()])\n",
    "decoded_newswire = ' '.join([reverse_word_index.get(i - 3, '?') for i in\n",
    "train_data[0]])\n"
   ]
  },
  {
   "cell_type": "code",
   "execution_count": 26,
   "id": "5d0bad25-3b22-41e3-b0a8-1bee2d1eaad0",
   "metadata": {},
   "outputs": [
    {
     "data": {
      "text/plain": [
       "3"
      ]
     },
     "execution_count": 26,
     "metadata": {},
     "output_type": "execute_result"
    }
   ],
   "source": [
    "train_labels[10]"
   ]
  },
  {
   "cell_type": "code",
   "execution_count": 27,
   "id": "c275c99f-780d-4ba7-bc8c-fc02e973e8eb",
   "metadata": {},
   "outputs": [],
   "source": [
    "# Listing 3.14 Encoding the data\n",
    "\n",
    "import numpy as np\n",
    "\n",
    "def vectorize_sequences(sequences, dimension=10000):\n",
    "    results = np.zeros((len(sequences), dimension))\n",
    "    for i, sequence in enumerate(sequences):\n",
    "        results[i, sequence] = 1.\n",
    "    return results\n",
    "\n",
    "x_train = vectorize_sequences(train_data)\n",
    "x_test = vectorize_sequences(test_data)\n"
   ]
  },
  {
   "cell_type": "code",
   "execution_count": 28,
   "id": "6aa861e4-fa27-4c70-90ed-9a651f5aaf33",
   "metadata": {},
   "outputs": [],
   "source": [
    "def to_one_hot(labels, dimension=46):\n",
    "    results = np.zeros((len(labels), dimension))\n",
    "    for i, label in enumerate(labels):\n",
    "        results[i, label] = 1.\n",
    "    return results\n",
    "\n",
    "one_hot_train_labels = to_one_hot(train_labels)\n",
    "one_hot_test_labels = to_one_hot(test_labels)\n"
   ]
  },
  {
   "cell_type": "code",
   "execution_count": 29,
   "id": "f78d3284-e5b7-4f6b-87c9-b9c2344502fd",
   "metadata": {},
   "outputs": [],
   "source": [
    "from keras.utils.np_utils import to_categorical\n",
    "\n",
    "one_hot_train_labels = to_categorical(train_labels)\n",
    "one_hot_test_labels = to_categorical(test_labels)"
   ]
  },
  {
   "cell_type": "code",
   "execution_count": 30,
   "id": "2022432a-9a0f-4f7d-b977-6d2f226462b4",
   "metadata": {},
   "outputs": [],
   "source": [
    "# Listing 3.15 Model definition\n",
    "\n",
    "from keras import models\n",
    "from keras import layers\n",
    "\n",
    "model = models.Sequential()\n",
    "model.add(layers.Dense(64, activation='relu', input_shape=(10000,)))\n",
    "model.add(layers.Dense(64, activation='relu'))\n",
    "model.add(layers.Dense(46, activation='softmax'))"
   ]
  },
  {
   "cell_type": "code",
   "execution_count": 31,
   "id": "0de5a686-bd4b-4044-9025-f2ba98d72114",
   "metadata": {},
   "outputs": [],
   "source": [
    "# Listing 3.16 Compiling the model\n",
    "\n",
    "model.compile(optimizer='rmsprop',\n",
    "loss='categorical_crossentropy',\n",
    "metrics=['accuracy'])\n"
   ]
  },
  {
   "cell_type": "code",
   "execution_count": 32,
   "id": "fee7c694-dd0a-481b-9420-65e0605c605d",
   "metadata": {},
   "outputs": [],
   "source": [
    "# Listing 3.17 Setting aside a validation set\n",
    "\n",
    "x_val = x_train[:1000]\n",
    "partial_x_train = x_train[1000:]\n",
    "y_val = one_hot_train_labels[:1000]\n",
    "partial_y_train = one_hot_train_labels[1000:]"
   ]
  },
  {
   "cell_type": "code",
   "execution_count": 33,
   "id": "a066f1d4-214e-40c5-9858-77e8d5e7e832",
   "metadata": {},
   "outputs": [
    {
     "name": "stdout",
     "output_type": "stream",
     "text": [
      "Epoch 1/20\n",
      "16/16 [==============================] - 0s 11ms/step - loss: 2.6744 - accuracy: 0.5100 - val_loss: 1.8113 - val_accuracy: 0.6380\n",
      "Epoch 2/20\n",
      "16/16 [==============================] - 0s 8ms/step - loss: 1.4905 - accuracy: 0.6909 - val_loss: 1.3575 - val_accuracy: 0.6870\n",
      "Epoch 3/20\n",
      "16/16 [==============================] - 0s 8ms/step - loss: 1.0875 - accuracy: 0.7705 - val_loss: 1.1450 - val_accuracy: 0.7510\n",
      "Epoch 4/20\n",
      "16/16 [==============================] - 0s 7ms/step - loss: 0.8502 - accuracy: 0.8239 - val_loss: 1.0373 - val_accuracy: 0.7830\n",
      "Epoch 5/20\n",
      "16/16 [==============================] - 0s 8ms/step - loss: 0.6767 - accuracy: 0.8612 - val_loss: 0.9626 - val_accuracy: 0.8020\n",
      "Epoch 6/20\n",
      "16/16 [==============================] - 0s 8ms/step - loss: 0.5468 - accuracy: 0.8895 - val_loss: 0.9297 - val_accuracy: 0.8050\n",
      "Epoch 7/20\n",
      "16/16 [==============================] - 0s 8ms/step - loss: 0.4403 - accuracy: 0.9107 - val_loss: 0.8885 - val_accuracy: 0.8150\n",
      "Epoch 8/20\n",
      "16/16 [==============================] - 0s 8ms/step - loss: 0.3592 - accuracy: 0.9275 - val_loss: 0.9027 - val_accuracy: 0.8180\n",
      "Epoch 9/20\n",
      "16/16 [==============================] - 0s 8ms/step - loss: 0.2987 - accuracy: 0.9376 - val_loss: 0.8998 - val_accuracy: 0.8160\n",
      "Epoch 10/20\n",
      "16/16 [==============================] - 0s 8ms/step - loss: 0.2480 - accuracy: 0.9448 - val_loss: 0.8945 - val_accuracy: 0.8230\n",
      "Epoch 11/20\n",
      "16/16 [==============================] - 0s 8ms/step - loss: 0.2143 - accuracy: 0.9500 - val_loss: 0.9526 - val_accuracy: 0.8100\n",
      "Epoch 12/20\n",
      "16/16 [==============================] - 0s 8ms/step - loss: 0.1883 - accuracy: 0.9495 - val_loss: 0.9179 - val_accuracy: 0.8210\n",
      "Epoch 13/20\n",
      "16/16 [==============================] - 0s 8ms/step - loss: 0.1712 - accuracy: 0.9516 - val_loss: 0.9482 - val_accuracy: 0.8140\n",
      "Epoch 14/20\n",
      "16/16 [==============================] - 0s 8ms/step - loss: 0.1573 - accuracy: 0.9539 - val_loss: 0.9876 - val_accuracy: 0.8100\n",
      "Epoch 15/20\n",
      "16/16 [==============================] - 0s 8ms/step - loss: 0.1454 - accuracy: 0.9546 - val_loss: 0.9987 - val_accuracy: 0.8090\n",
      "Epoch 16/20\n",
      "16/16 [==============================] - 0s 9ms/step - loss: 0.1345 - accuracy: 0.9557 - val_loss: 1.0338 - val_accuracy: 0.8060\n",
      "Epoch 17/20\n",
      "16/16 [==============================] - 0s 8ms/step - loss: 0.1309 - accuracy: 0.9550 - val_loss: 1.0147 - val_accuracy: 0.8130\n",
      "Epoch 18/20\n",
      "16/16 [==============================] - 0s 8ms/step - loss: 0.1251 - accuracy: 0.9563 - val_loss: 1.0482 - val_accuracy: 0.8120\n",
      "Epoch 19/20\n",
      "16/16 [==============================] - 0s 8ms/step - loss: 0.1162 - accuracy: 0.9574 - val_loss: 1.0437 - val_accuracy: 0.8150\n",
      "Epoch 20/20\n",
      "16/16 [==============================] - 0s 8ms/step - loss: 0.1136 - accuracy: 0.9583 - val_loss: 1.1470 - val_accuracy: 0.8050\n"
     ]
    }
   ],
   "source": [
    "# Listing 3.18 Training the model\n",
    "\n",
    "history = model.fit(partial_x_train,\n",
    "partial_y_train,\n",
    "epochs=20,\n",
    "batch_size=512,\n",
    "validation_data=(x_val, y_val))"
   ]
  },
  {
   "cell_type": "code",
   "execution_count": 34,
   "id": "ecf26681-17f7-47c2-8f7f-11485224fe28",
   "metadata": {},
   "outputs": [
    {
     "data": {
      "image/png": "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",
      "text/plain": [
       "<Figure size 640x480 with 1 Axes>"
      ]
     },
     "metadata": {},
     "output_type": "display_data"
    }
   ],
   "source": [
    "#Listing 3.19 Plotting the training and validation loss\n",
    "\n",
    "import matplotlib.pyplot as plt\n",
    "\n",
    "loss = history.history['loss']\n",
    "val_loss = history.history['val_loss']\n",
    "epochs = range(1, len(loss) + 1)\n",
    "plt.plot(epochs, loss, 'bo', label='Training loss')\n",
    "plt.plot(epochs, val_loss, 'b', label='Validation loss')\n",
    "plt.title('Training and validation loss')\n",
    "plt.xlabel('Epochs')\n",
    "plt.ylabel('Loss')\n",
    "plt.legend()\n",
    "plt.show()"
   ]
  },
  {
   "cell_type": "code",
   "execution_count": 35,
   "id": "3bed864d-fa31-4a1a-9e23-f88e5171a653",
   "metadata": {},
   "outputs": [
    {
     "data": {
      "image/png": "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",
      "text/plain": [
       "<Figure size 640x480 with 1 Axes>"
      ]
     },
     "metadata": {},
     "output_type": "display_data"
    }
   ],
   "source": [
    "#Listing 3.20 Plotting the training and validation accuracy\n",
    "\n",
    "plt.clf()\n",
    "\n",
    "#acc = history.history['acc']\n",
    "#val_acc = history.history['val_acc']\n",
    "acc = history.history['accuracy']\n",
    "val_acc = history.history['val_accuracy']\n",
    "plt.plot(epochs, acc, 'bo', label='Training acc')\n",
    "plt.plot(epochs, val_acc, 'b', label='Validation acc')\n",
    "plt.title('Training and validation accuracy')\n",
    "plt.xlabel('Epochs')\n",
    "plt.ylabel('Loss')\n",
    "plt.legend()\n",
    "plt.show()"
   ]
  },
  {
   "cell_type": "code",
   "execution_count": 36,
   "id": "c623793e-628c-4656-9caa-7af9dd389d62",
   "metadata": {},
   "outputs": [
    {
     "name": "stdout",
     "output_type": "stream",
     "text": [
      "Epoch 1/9\n",
      "16/16 [==============================] - 0s 11ms/step - loss: 2.6041 - accuracy: 0.5064 - val_loss: 1.7427 - val_accuracy: 0.6340\n",
      "Epoch 2/9\n",
      "16/16 [==============================] - 0s 8ms/step - loss: 1.4057 - accuracy: 0.7072 - val_loss: 1.3038 - val_accuracy: 0.7080\n",
      "Epoch 3/9\n",
      "16/16 [==============================] - 0s 8ms/step - loss: 1.0429 - accuracy: 0.7756 - val_loss: 1.1403 - val_accuracy: 0.7390\n",
      "Epoch 4/9\n",
      "16/16 [==============================] - 0s 8ms/step - loss: 0.8309 - accuracy: 0.8183 - val_loss: 1.0517 - val_accuracy: 0.7580\n",
      "Epoch 5/9\n",
      "16/16 [==============================] - 0s 8ms/step - loss: 0.6678 - accuracy: 0.8577 - val_loss: 0.9682 - val_accuracy: 0.8020\n",
      "Epoch 6/9\n",
      "16/16 [==============================] - 0s 8ms/step - loss: 0.5358 - accuracy: 0.8864 - val_loss: 0.9162 - val_accuracy: 0.8070\n",
      "Epoch 7/9\n",
      "16/16 [==============================] - 0s 8ms/step - loss: 0.4310 - accuracy: 0.9093 - val_loss: 0.8956 - val_accuracy: 0.8120\n",
      "Epoch 8/9\n",
      "16/16 [==============================] - 0s 8ms/step - loss: 0.3479 - accuracy: 0.9280 - val_loss: 0.8874 - val_accuracy: 0.8120\n",
      "Epoch 9/9\n",
      "16/16 [==============================] - 0s 8ms/step - loss: 0.2850 - accuracy: 0.9395 - val_loss: 0.8800 - val_accuracy: 0.8220\n",
      "71/71 [==============================] - 0s 520us/step - loss: 0.9462 - accuracy: 0.7974\n"
     ]
    }
   ],
   "source": [
    "#Listing 3.21 Retraining a model from scratch\n",
    "\n",
    "model = models.Sequential()\n",
    "model.add(layers.Dense(64, activation='relu', input_shape=(10000,)))\n",
    "model.add(layers.Dense(64, activation='relu'))\n",
    "model.add(layers.Dense(46, activation='softmax'))\n",
    "\n",
    "model.compile(optimizer='rmsprop',\n",
    "loss='categorical_crossentropy',\n",
    "metrics=['accuracy'])\n",
    "\n",
    "model.fit(partial_x_train,\n",
    "partial_y_train,\n",
    "epochs=9,\n",
    "batch_size=512,\n",
    "validation_data=(x_val, y_val))\n",
    "results = model.evaluate(x_test, one_hot_test_labels)"
   ]
  },
  {
   "cell_type": "code",
   "execution_count": 37,
   "id": "2e825399-439a-4c3b-b473-b410728fed6a",
   "metadata": {},
   "outputs": [
    {
     "data": {
      "text/plain": [
       "[0.9461991786956787, 0.7974176406860352]"
      ]
     },
     "execution_count": 37,
     "metadata": {},
     "output_type": "execute_result"
    }
   ],
   "source": [
    "results"
   ]
  },
  {
   "cell_type": "code",
   "execution_count": 38,
   "id": "92583ebb-951b-4d2b-b9b3-b888721a56d2",
   "metadata": {},
   "outputs": [
    {
     "name": "stdout",
     "output_type": "stream",
     "text": [
      "0.18432769367764915\n"
     ]
    }
   ],
   "source": [
    "import copy\n",
    "test_labels_copy = copy.copy(test_labels)\n",
    "np.random.shuffle(test_labels_copy)\n",
    "hits_array = np.array(test_labels) == np.array(test_labels_copy)\n",
    "\n",
    "print(float(np.sum(hits_array)) / len(test_labels))\n"
   ]
  },
  {
   "cell_type": "code",
   "execution_count": 39,
   "id": "58d6ae4c-ba03-450c-a6af-2b46b894f454",
   "metadata": {},
   "outputs": [
    {
     "name": "stdout",
     "output_type": "stream",
     "text": [
      "71/71 [==============================] - 0s 490us/step\n"
     ]
    }
   ],
   "source": [
    "# Listing 3.22 Generating predictions for new data\n",
    "predictions = model.predict(x_test)"
   ]
  },
  {
   "cell_type": "code",
   "execution_count": 40,
   "id": "734efdc9-b164-4495-b7eb-8e8afbd37715",
   "metadata": {},
   "outputs": [
    {
     "data": {
      "text/plain": [
       "(46,)"
      ]
     },
     "execution_count": 40,
     "metadata": {},
     "output_type": "execute_result"
    }
   ],
   "source": [
    "predictions[0].shape"
   ]
  },
  {
   "cell_type": "code",
   "execution_count": 41,
   "id": "82b5577c-f143-48c6-92bc-1fef9b3421c4",
   "metadata": {},
   "outputs": [
    {
     "data": {
      "text/plain": [
       "1.0000001"
      ]
     },
     "execution_count": 41,
     "metadata": {},
     "output_type": "execute_result"
    }
   ],
   "source": [
    "np.sum(predictions[0])"
   ]
  },
  {
   "cell_type": "code",
   "execution_count": 42,
   "id": "56aa4196-ca79-4f54-8822-b37830163e77",
   "metadata": {},
   "outputs": [
    {
     "name": "stdout",
     "output_type": "stream",
     "text": [
      "Epoch 1/20\n",
      "63/63 [==============================] - 0s 4ms/step - loss: 3.3464 - accuracy: 0.0535 - val_loss: 2.8583 - val_accuracy: 0.0770\n",
      "Epoch 2/20\n",
      "63/63 [==============================] - 0s 3ms/step - loss: 2.2304 - accuracy: 0.4514 - val_loss: 1.7821 - val_accuracy: 0.5800\n",
      "Epoch 3/20\n",
      "63/63 [==============================] - 0s 3ms/step - loss: 1.5539 - accuracy: 0.5883 - val_loss: 1.5346 - val_accuracy: 0.5930\n",
      "Epoch 4/20\n",
      "63/63 [==============================] - 0s 3ms/step - loss: 1.3574 - accuracy: 0.6002 - val_loss: 1.4691 - val_accuracy: 0.5940\n",
      "Epoch 5/20\n",
      "63/63 [==============================] - 0s 3ms/step - loss: 1.2329 - accuracy: 0.6353 - val_loss: 1.4184 - val_accuracy: 0.6260\n",
      "Epoch 6/20\n",
      "63/63 [==============================] - 0s 3ms/step - loss: 1.1326 - accuracy: 0.6691 - val_loss: 1.4121 - val_accuracy: 0.6650\n",
      "Epoch 7/20\n",
      "63/63 [==============================] - 0s 3ms/step - loss: 1.0493 - accuracy: 0.7326 - val_loss: 1.4042 - val_accuracy: 0.6750\n",
      "Epoch 8/20\n",
      "63/63 [==============================] - 0s 3ms/step - loss: 0.9813 - accuracy: 0.7424 - val_loss: 1.4161 - val_accuracy: 0.6770\n",
      "Epoch 9/20\n",
      "63/63 [==============================] - 0s 3ms/step - loss: 0.9256 - accuracy: 0.7481 - val_loss: 1.4463 - val_accuracy: 0.6730\n",
      "Epoch 10/20\n",
      "63/63 [==============================] - 0s 3ms/step - loss: 0.8788 - accuracy: 0.7544 - val_loss: 1.4491 - val_accuracy: 0.6820\n",
      "Epoch 11/20\n",
      "63/63 [==============================] - 0s 3ms/step - loss: 0.8387 - accuracy: 0.7583 - val_loss: 1.4705 - val_accuracy: 0.6760\n",
      "Epoch 12/20\n",
      "63/63 [==============================] - 0s 3ms/step - loss: 0.8040 - accuracy: 0.7641 - val_loss: 1.4924 - val_accuracy: 0.6840\n",
      "Epoch 13/20\n",
      "63/63 [==============================] - 0s 3ms/step - loss: 0.7707 - accuracy: 0.7702 - val_loss: 1.5401 - val_accuracy: 0.6790\n",
      "Epoch 14/20\n",
      "63/63 [==============================] - 0s 3ms/step - loss: 0.7437 - accuracy: 0.7780 - val_loss: 1.5744 - val_accuracy: 0.6810\n",
      "Epoch 15/20\n",
      "63/63 [==============================] - 0s 3ms/step - loss: 0.7131 - accuracy: 0.7836 - val_loss: 1.6335 - val_accuracy: 0.6720\n",
      "Epoch 16/20\n",
      "63/63 [==============================] - 0s 3ms/step - loss: 0.6930 - accuracy: 0.7924 - val_loss: 1.6983 - val_accuracy: 0.6730\n",
      "Epoch 17/20\n",
      "63/63 [==============================] - 0s 3ms/step - loss: 0.6698 - accuracy: 0.8013 - val_loss: 1.6458 - val_accuracy: 0.6790\n",
      "Epoch 18/20\n",
      "63/63 [==============================] - 0s 3ms/step - loss: 0.6517 - accuracy: 0.8083 - val_loss: 1.7140 - val_accuracy: 0.6830\n",
      "Epoch 19/20\n",
      "63/63 [==============================] - 0s 3ms/step - loss: 0.6316 - accuracy: 0.8145 - val_loss: 1.7713 - val_accuracy: 0.6820\n",
      "Epoch 20/20\n",
      "63/63 [==============================] - 0s 3ms/step - loss: 0.6151 - accuracy: 0.8188 - val_loss: 1.8502 - val_accuracy: 0.6750\n"
     ]
    },
    {
     "data": {
      "text/plain": [
       "<keras.callbacks.History at 0x2947caa90>"
      ]
     },
     "execution_count": 42,
     "metadata": {},
     "output_type": "execute_result"
    }
   ],
   "source": [
    "# Listing 3.23 A model with an information bottleneck\n",
    "\n",
    "model = models.Sequential()\n",
    "model.add(layers.Dense(64, activation='relu', input_shape=(10000,)))\n",
    "model.add(layers.Dense(4, activation='relu'))\n",
    "model.add(layers.Dense(46, activation='softmax'))\n",
    "\n",
    "model.compile(optimizer='rmsprop',\n",
    "loss='categorical_crossentropy',\n",
    "metrics=['accuracy'])\n",
    "\n",
    "model.fit(partial_x_train,\n",
    "partial_y_train,\n",
    "epochs=20,\n",
    "batch_size=128,\n",
    "validation_data=(x_val, y_val))"
   ]
  },
  {
   "cell_type": "code",
   "execution_count": 43,
   "id": "0ce6c79c-6687-4b3d-bf55-2ed7a6420960",
   "metadata": {},
   "outputs": [],
   "source": [
    "#######################\n",
    "### 預測房價：回歸問題 ###\n",
    "#######################"
   ]
  },
  {
   "cell_type": "code",
   "execution_count": 44,
   "id": "30ba5da5-55fb-40ac-8296-d73d1c3bae7c",
   "metadata": {},
   "outputs": [
    {
     "name": "stdout",
     "output_type": "stream",
     "text": [
      "Downloading data from https://storage.googleapis.com/tensorflow/tf-keras-datasets/boston_housing.npz\n",
      "57026/57026 [==============================] - 0s 3us/step\n"
     ]
    }
   ],
   "source": [
    "# Listing 3.24 Loading the Boston housing dataset\n",
    "\n",
    "from keras.datasets import boston_housing\n",
    "\n",
    "(train_data, train_targets), (test_data, test_targets) = boston_housing.load_data()"
   ]
  },
  {
   "cell_type": "code",
   "execution_count": 45,
   "id": "19576273-b7a5-4616-b9cc-5a0ebfa24969",
   "metadata": {},
   "outputs": [],
   "source": [
    "# isting 3.25 Normalizing the data\n",
    "\n",
    "mean = train_data.mean(axis=0)\n",
    "train_data -= mean\n",
    "std = train_data.std(axis=0)\n",
    "train_data /= std\n",
    "test_data -= mean\n",
    "test_data /= std"
   ]
  },
  {
   "cell_type": "code",
   "execution_count": 46,
   "id": "3c73cbd0-320b-44be-8c5e-48384db4b129",
   "metadata": {},
   "outputs": [],
   "source": [
    "# Listing 3.26 Model definition\n",
    "from keras import models\n",
    "from keras import layers\n",
    "\n",
    "def build_model():\n",
    "    model = models.Sequential()\n",
    "    model.add(layers.Dense(64, activation='relu',\n",
    "    input_shape=(train_data.shape[1],)))\n",
    "    model.add(layers.Dense(64, activation='relu'))\n",
    "    model.add(layers.Dense(1))\n",
    "    model.compile(optimizer='rmsprop', loss='mse', metrics=['mae'])\n",
    "    return model"
   ]
  },
  {
   "cell_type": "code",
   "execution_count": 47,
   "id": "bfcc1cef-e60a-425d-826b-cfb7b1b8c397",
   "metadata": {},
   "outputs": [
    {
     "name": "stdout",
     "output_type": "stream",
     "text": [
      "processing fold # 0\n",
      "processing fold # 1\n",
      "processing fold # 2\n",
      "processing fold # 3\n"
     ]
    }
   ],
   "source": [
    "# Listing 3.27 K-fold validation\n",
    "\n",
    "import numpy as np\n",
    "\n",
    "k = 4\n",
    "num_val_samples = len(train_data) // k\n",
    "num_epochs = 100\n",
    "all_scores = []\n",
    "\n",
    "for i in range(k):\n",
    "    print('processing fold #', i)\n",
    "    val_data = train_data[i * num_val_samples: (i + 1) * num_val_samples]\n",
    "    val_targets = train_targets[i * num_val_samples: (i + 1) * num_val_samples]\n",
    "\n",
    "    partial_train_data = np.concatenate(\n",
    "        [train_data[:i * num_val_samples],\n",
    "        train_data[(i + 1) * num_val_samples:]],\n",
    "        axis=0)\n",
    "    partial_train_targets = np.concatenate(\n",
    "        [train_targets[:i * num_val_samples],\n",
    "        train_targets[(i + 1) * num_val_samples:]],\n",
    "        axis=0)\n",
    "    \n",
    "    model = build_model()\n",
    "    model.fit(partial_train_data, partial_train_targets,\n",
    "        epochs=num_epochs, batch_size=1, verbose=0)\n",
    "    val_mse, val_mae = model.evaluate(val_data, val_targets, verbose=0)\n",
    "    all_scores.append(val_mae)"
   ]
  },
  {
   "cell_type": "code",
   "execution_count": 48,
   "id": "f67b36da-f5c1-46b8-93f1-52e929a7d6cf",
   "metadata": {},
   "outputs": [
    {
     "data": {
      "text/plain": [
       "[2.1468563079833984, 2.5405523777008057, 2.617849826812744, 2.5019969940185547]"
      ]
     },
     "execution_count": 48,
     "metadata": {},
     "output_type": "execute_result"
    }
   ],
   "source": [
    "all_scores"
   ]
  },
  {
   "cell_type": "code",
   "execution_count": 49,
   "id": "20d1f149-0abf-4b01-9164-11c83a58313a",
   "metadata": {},
   "outputs": [
    {
     "data": {
      "text/plain": [
       "2.4518138766288757"
      ]
     },
     "execution_count": 49,
     "metadata": {},
     "output_type": "execute_result"
    }
   ],
   "source": [
    "np.mean(all_scores)"
   ]
  },
  {
   "cell_type": "code",
   "execution_count": 50,
   "id": "ad074ab2-fa25-46b2-a531-fe725baa915f",
   "metadata": {},
   "outputs": [
    {
     "name": "stdout",
     "output_type": "stream",
     "text": [
      "processing fold # 0\n"
     ]
    },
    {
     "ename": "KeyError",
     "evalue": "'val_mean_absolute_error'",
     "output_type": "error",
     "traceback": [
      "\u001b[0;31m---------------------------------------------------------------------------\u001b[0m",
      "\u001b[0;31mKeyError\u001b[0m                                  Traceback (most recent call last)",
      "Cell \u001b[0;32mIn[50], line 23\u001b[0m\n\u001b[1;32m     19\u001b[0m model \u001b[38;5;241m=\u001b[39m build_model()\n\u001b[1;32m     20\u001b[0m history \u001b[38;5;241m=\u001b[39m model\u001b[38;5;241m.\u001b[39mfit(partial_train_data, partial_train_targets,\n\u001b[1;32m     21\u001b[0m                     validation_data\u001b[38;5;241m=\u001b[39m(val_data, val_targets),\n\u001b[1;32m     22\u001b[0m                     epochs\u001b[38;5;241m=\u001b[39mnum_epochs, batch_size\u001b[38;5;241m=\u001b[39m\u001b[38;5;241m1\u001b[39m, verbose\u001b[38;5;241m=\u001b[39m\u001b[38;5;241m0\u001b[39m)\n\u001b[0;32m---> 23\u001b[0m mae_history \u001b[38;5;241m=\u001b[39m history\u001b[38;5;241m.\u001b[39mhistory[\u001b[38;5;124m'\u001b[39m\u001b[38;5;124mval_mean_absolute_error\u001b[39m\u001b[38;5;124m'\u001b[39m]\n\u001b[1;32m     24\u001b[0m all_mae_histories\u001b[38;5;241m.\u001b[39mappend(mae_history)\n",
      "\u001b[0;31mKeyError\u001b[0m: 'val_mean_absolute_error'"
     ]
    }
   ],
   "source": [
    "# Listing 3.28 Saving the validation logs at each fold\n",
    "\n",
    "num_epochs = 500\n",
    "all_mae_histories = []\n",
    "\n",
    "for i in range(k):\n",
    "    print('processing fold #', i)\n",
    "    val_data = train_data[i * num_val_samples: (i + 1) * num_val_samples]\n",
    "    val_targets = train_targets[i * num_val_samples: (i + 1) * num_val_samples]\n",
    "    partial_train_data = np.concatenate(\n",
    "        [train_data[:i * num_val_samples],\n",
    "        train_data[(i + 1) * num_val_samples:]],\n",
    "        axis=0)\n",
    "    partial_train_targets = np.concatenate(\n",
    "        [train_targets[:i * num_val_samples],\n",
    "        train_targets[(i + 1) * num_val_samples:]],\n",
    "        axis=0)\n",
    "\n",
    "    model = build_model()\n",
    "    history = model.fit(partial_train_data, partial_train_targets,\n",
    "                        validation_data=(val_data, val_targets),\n",
    "                        epochs=num_epochs, batch_size=1, verbose=0)\n",
    "    mae_history = history.history['val_mean_absolute_error']\n",
    "    all_mae_histories.append(mae_history)    "
   ]
  },
  {
   "cell_type": "code",
   "execution_count": null,
   "id": "251312f1-4d10-474e-a7ee-74e731dc7709",
   "metadata": {},
   "outputs": [],
   "source": [
    "# Listing 3.29 Building the history of successive mean K-fold validation scores\n",
    "average_mae_history = [\n",
    "np.mean([x[i] for x in all_mae_histories]) for i in range(num_epochs)]"
   ]
  },
  {
   "cell_type": "code",
   "execution_count": null,
   "id": "a7c36296-de12-41ca-87f1-59007b1e4cdb",
   "metadata": {},
   "outputs": [],
   "source": [
    "# Listing 3.30 Plotting validation scores\n",
    "import matplotlib.pyplot as plt\n",
    "plt.plot(range(1, len(average_mae_history) + 1), average_mae_history)\n",
    "plt.xlabel('Epochs')\n",
    "plt.ylabel('Validation MAE')\n",
    "plt.show()"
   ]
  },
  {
   "cell_type": "code",
   "execution_count": null,
   "id": "1e8bbf0b-139c-438f-bcf2-4ef505ce38a9",
   "metadata": {},
   "outputs": [],
   "source": [
    "# Listing 3.31 Plotting validation scores, excluding the first 10 data points\n",
    "def smooth_curve(points, factor=0.9):\n",
    "    smoothed_points = []\n",
    "    for point in points:\n",
    "        if smoothed_points:\n",
    "            previous = smoothed_points[-1]\n",
    "            smoothed_points.append(previous * factor + point * (1 - factor))\n",
    "        else:\n",
    "            smoothed_points.append(point)\n",
    "    return smoothed_points\n",
    "    \n",
    "smooth_mae_history = smooth_curve(average_mae_history[10:])\n",
    "plt.plot(range(1, len(smooth_mae_history) + 1), smooth_mae_history)\n",
    "plt.xlabel('Epochs')\n",
    "plt.ylabel('Validation MAE')\n",
    "plt.show()"
   ]
  },
  {
   "cell_type": "code",
   "execution_count": null,
   "id": "f895f515-24a7-49a8-ae52-ba4154831711",
   "metadata": {},
   "outputs": [],
   "source": [
    "# Listing 3.32 Training the final model\n",
    "\n",
    "model = build_model()\n",
    "model.fit(train_data, train_targets,\n",
    "            epochs=80, batch_size=16, verbose=0)\n",
    "test_mse_score, test_mae_score = model.evaluate(test_data, test_targets)"
   ]
  },
  {
   "cell_type": "code",
   "execution_count": null,
   "id": "439c136a-6ce7-4466-8e4a-5237d9538b3a",
   "metadata": {},
   "outputs": [],
   "source": [
    "test_mae_score"
   ]
  },
  {
   "cell_type": "code",
   "execution_count": null,
   "id": "e58e4fe4-725c-427a-9de5-901548a3d342",
   "metadata": {},
   "outputs": [],
   "source": []
  },
  {
   "cell_type": "code",
   "execution_count": null,
   "id": "ec985df6-bd3e-42a1-bc1d-375218b8b252",
   "metadata": {},
   "outputs": [],
   "source": []
  },
  {
   "cell_type": "code",
   "execution_count": null,
   "id": "e8c1d2d1-5dc6-4f8e-8113-f6073758b7bd",
   "metadata": {},
   "outputs": [],
   "source": []
  },
  {
   "cell_type": "code",
   "execution_count": 6,
   "id": "7fabb988",
   "metadata": {},
   "outputs": [
    {
     "name": "stdout",
     "output_type": "stream",
     "text": [
      "Downloading data from https://storage.googleapis.com/tensorflow/tf-keras-datasets/reuters.npz\n",
      "2113536/2110848 [==============================] - 0s 0us/step\n"
     ]
    },
    {
     "name": "stderr",
     "output_type": "stream",
     "text": [
      "/home/earvin/anaconda3/envs/tf2/lib/python3.8/site-packages/tensorflow/python/keras/datasets/reuters.py:148: VisibleDeprecationWarning: Creating an ndarray from ragged nested sequences (which is a list-or-tuple of lists-or-tuples-or ndarrays with different lengths or shapes) is deprecated. If you meant to do this, you must specify 'dtype=object' when creating the ndarray.\n",
      "  x_train, y_train = np.array(xs[:idx]), np.array(labels[:idx])\n",
      "/home/earvin/anaconda3/envs/tf2/lib/python3.8/site-packages/tensorflow/python/keras/datasets/reuters.py:149: VisibleDeprecationWarning: Creating an ndarray from ragged nested sequences (which is a list-or-tuple of lists-or-tuples-or ndarrays with different lengths or shapes) is deprecated. If you meant to do this, you must specify 'dtype=object' when creating the ndarray.\n",
      "  x_test, y_test = np.array(xs[idx:]), np.array(labels[idx:])\n"
     ]
    }
   ],
   "source": [
    "# 3.5 新聞分類：多分類問題\n",
    "# §代碼清單 3-12\n",
    "\n",
    "from keras.datasets import reuters\n",
    "\n",
    "(train_data, train_labels), (test_data, test_labels) = reuters.load_data(num_words = 10000)"
   ]
  },
  {
   "cell_type": "code",
   "execution_count": 7,
   "id": "3033d42f",
   "metadata": {},
   "outputs": [
    {
     "name": "stdout",
     "output_type": "stream",
     "text": [
      "train records :  8982\n",
      "test  records :  2246\n",
      "\n",
      "\n",
      "train_data[10] :\n",
      "[1, 245, 273, 207, 156, 53, 74, 160, 26, 14, 46, 296, 26, 39, 74, 2979, 3554, 14, 46, 4689, 4329, 86, 61, 3499, 4795, 14, 61, 451, 4329, 17, 12]\n"
     ]
    }
   ],
   "source": [
    "# === FOR CHECK ===\n",
    "print('train records : ', len(train_data))\n",
    "print('test  records : ', len(test_data))\n",
    "print('\\n')\n",
    "print('train_data[10] :')\n",
    "print(train_data[10])"
   ]
  },
  {
   "cell_type": "code",
   "execution_count": 8,
   "id": "9dabb609",
   "metadata": {},
   "outputs": [
    {
     "name": "stdout",
     "output_type": "stream",
     "text": [
      "Downloading data from https://storage.googleapis.com/tensorflow/tf-keras-datasets/reuters_word_index.json\n",
      "557056/550378 [==============================] - 0s 0us/step\n",
      "? period ended december 31 shr profit 11 cts vs loss 24 cts net profit 224 271 vs loss 511 349 revs 7 258 688 vs 7 200 349 reuter 3\n"
     ]
    }
   ],
   "source": [
    "# §代碼清單 3-13 將索引解碼為新聞文本\n",
    "\n",
    "word_index = reuters.get_word_index()\n",
    "reverse_word_index = dict([(value, key) for (key, value) in word_index.items()])\n",
    "decoded_newswire = ' '.join([reverse_word_index.get(i - 3, '?') for i in train_data[10]])\n",
    "\n",
    "print(decoded_newswire)"
   ]
  },
  {
   "cell_type": "code",
   "execution_count": 9,
   "id": "262c9aad",
   "metadata": {},
   "outputs": [
    {
     "name": "stdout",
     "output_type": "stream",
     "text": [
      "3\n"
     ]
    }
   ],
   "source": [
    "print(train_labels[10])"
   ]
  },
  {
   "cell_type": "code",
   "execution_count": 10,
   "id": "33bcd04c",
   "metadata": {},
   "outputs": [],
   "source": [
    "# §代碼清單 3-14 數據編碼\n",
    "\n",
    "import numpy as np\n",
    "\n",
    "def vectorize_sequences(sequences, dimension = 10000) :\n",
    "    results = np.zeros((len(sequences), dimension))\n",
    "    for i, sequence in enumerate(sequences) :\n",
    "        results[i, sequence] = 1.\n",
    "    return results\n",
    "\n",
    "x_train = vectorize_sequences(train_data)\n",
    "x_test = vectorize_sequences(test_data)"
   ]
  },
  {
   "cell_type": "code",
   "execution_count": 11,
   "id": "1d33e289",
   "metadata": {},
   "outputs": [],
   "source": [
    "# §代碼清單 3-14 數據編碼 continue ...\n",
    "\n",
    "def to_one_hot(labels, dimension = 46) :\n",
    "    results = np.zeros((len(labels), dimension))\n",
    "    for i, label in enumerate(labels) :\n",
    "        results[i, label] = 1.\n",
    "    return results\n",
    "\n",
    "one_hot_train_labels = to_one_hot(train_labels)\n",
    "one_hot_test_labels = to_one_hot(test_labels)\n",
    "\n",
    "# built-in metho in keras\n",
    "#from keras.utils.np_utils import to_categorical\n",
    "#one_hot_train_labels = to_categorical(train_labels)\n",
    "#one_hot_test_labels = to_categorical(test_labels)\n",
    "\n"
   ]
  },
  {
   "cell_type": "code",
   "execution_count": 12,
   "id": "6f46a2c7",
   "metadata": {},
   "outputs": [
    {
     "name": "stderr",
     "output_type": "stream",
     "text": [
      "2023-09-08 10:15:02.079851: I tensorflow/compiler/jit/xla_cpu_device.cc:41] Not creating XLA devices, tf_xla_enable_xla_devices not set\n",
      "2023-09-08 10:15:02.097923: W tensorflow/stream_executor/platform/default/dso_loader.cc:60] Could not load dynamic library 'libcuda.so.1'; dlerror: libcuda.so.1: cannot open shared object file: No such file or directory\n",
      "2023-09-08 10:15:02.108258: W tensorflow/stream_executor/cuda/cuda_driver.cc:326] failed call to cuInit: UNKNOWN ERROR (303)\n",
      "2023-09-08 10:15:02.109659: I tensorflow/stream_executor/cuda/cuda_diagnostics.cc:156] kernel driver does not appear to be running on this host (VMDebianVIVO): /proc/driver/nvidia/version does not exist\n",
      "2023-09-08 10:15:02.156830: I tensorflow/core/platform/cpu_feature_guard.cc:142] This TensorFlow binary is optimized with oneAPI Deep Neural Network Library (oneDNN) to use the following CPU instructions in performance-critical operations:  SSE4.1 SSE4.2 AVX AVX2 FMA\n",
      "To enable them in other operations, rebuild TensorFlow with the appropriate compiler flags.\n",
      "2023-09-08 10:15:02.157620: I tensorflow/compiler/jit/xla_gpu_device.cc:99] Not creating XLA devices, tf_xla_enable_xla_devices not set\n"
     ]
    }
   ],
   "source": [
    "# §代碼清單 3-15 模型定義\n",
    "\n",
    "from keras import models\n",
    "from keras import layers\n",
    "\n",
    "model = models.Sequential()\n",
    "model.add(layers.Dense(64, activation = 'relu', input_shape = (10000,)))\n",
    "model.add(layers.Dense(64, activation = 'relu'))\n",
    "model.add(layers.Dense(46, activation = 'softmax'))\n"
   ]
  },
  {
   "cell_type": "code",
   "execution_count": 13,
   "id": "111fbd41",
   "metadata": {},
   "outputs": [],
   "source": [
    "# §代碼清單 3-16 編譯模型\n",
    "\n",
    "model.compile(optimizer = 'rmsprop',\n",
    "             loss = 'categorical_crossentropy',\n",
    "             metrics = ['accuracy'])\n"
   ]
  },
  {
   "cell_type": "code",
   "execution_count": 14,
   "id": "cad46a6b",
   "metadata": {},
   "outputs": [],
   "source": [
    "# §代碼清單 3-17 留出驗證集\n",
    "\n",
    "x_val = x_train[:1000]\n",
    "partial_x_train = x_train[1000:]\n",
    "\n",
    "y_val = one_hot_train_labels[:1000]\n",
    "partial_y_train = one_hot_train_labels[1000:]"
   ]
  },
  {
   "cell_type": "code",
   "execution_count": 15,
   "id": "266bc715",
   "metadata": {},
   "outputs": [
    {
     "name": "stderr",
     "output_type": "stream",
     "text": [
      "2023-09-08 10:15:23.693654: W tensorflow/core/framework/cpu_allocator_impl.cc:80] Allocation of 319280000 exceeds 10% of free system memory.\n",
      "2023-09-08 10:15:30.697713: I tensorflow/compiler/mlir/mlir_graph_optimization_pass.cc:116] None of the MLIR optimization passes are enabled (registered 2)\n",
      "2023-09-08 10:15:30.761129: I tensorflow/core/platform/profile_utils/cpu_utils.cc:112] CPU Frequency: 1992000000 Hz\n"
     ]
    },
    {
     "name": "stdout",
     "output_type": "stream",
     "text": [
      "Epoch 1/20\n"
     ]
    },
    {
     "name": "stderr",
     "output_type": "stream",
     "text": [
      "2023-09-08 10:15:32.448700: W tensorflow/core/framework/cpu_allocator_impl.cc:80] Allocation of 20480000 exceeds 10% of free system memory.\n"
     ]
    },
    {
     "name": "stdout",
     "output_type": "stream",
     "text": [
      " 3/16 [====>.........................] - ETA: 1s - loss: 3.7183 - accuracy: 0.1584"
     ]
    },
    {
     "name": "stderr",
     "output_type": "stream",
     "text": [
      "2023-09-08 10:15:32.766213: W tensorflow/core/framework/cpu_allocator_impl.cc:80] Allocation of 20480000 exceeds 10% of free system memory.\n",
      "2023-09-08 10:15:32.878110: W tensorflow/core/framework/cpu_allocator_impl.cc:80] Allocation of 20480000 exceeds 10% of free system memory.\n",
      "2023-09-08 10:15:32.959780: W tensorflow/core/framework/cpu_allocator_impl.cc:80] Allocation of 20480000 exceeds 10% of free system memory.\n"
     ]
    },
    {
     "name": "stdout",
     "output_type": "stream",
     "text": [
      "16/16 [==============================] - 4s 179ms/step - loss: 3.0712 - accuracy: 0.3994 - val_loss: 1.7095 - val_accuracy: 0.6560\n",
      "Epoch 2/20\n",
      "16/16 [==============================] - 3s 165ms/step - loss: 1.4677 - accuracy: 0.7053 - val_loss: 1.2886 - val_accuracy: 0.7340\n",
      "Epoch 3/20\n",
      "16/16 [==============================] - 3s 168ms/step - loss: 1.0502 - accuracy: 0.7772 - val_loss: 1.1222 - val_accuracy: 0.7520\n",
      "Epoch 4/20\n",
      "16/16 [==============================] - 2s 143ms/step - loss: 0.8339 - accuracy: 0.8187 - val_loss: 1.0187 - val_accuracy: 0.7830\n",
      "Epoch 5/20\n",
      "16/16 [==============================] - 2s 111ms/step - loss: 0.6464 - accuracy: 0.8581 - val_loss: 0.9960 - val_accuracy: 0.7710\n",
      "Epoch 6/20\n",
      "16/16 [==============================] - 3s 224ms/step - loss: 0.5341 - accuracy: 0.8836 - val_loss: 0.9194 - val_accuracy: 0.8060\n",
      "Epoch 7/20\n",
      "16/16 [==============================] - 3s 212ms/step - loss: 0.4110 - accuracy: 0.9138 - val_loss: 0.8981 - val_accuracy: 0.8050\n",
      "Epoch 8/20\n",
      "16/16 [==============================] - 2s 107ms/step - loss: 0.3366 - accuracy: 0.9320 - val_loss: 0.8759 - val_accuracy: 0.8260\n",
      "Epoch 9/20\n",
      "16/16 [==============================] - 3s 182ms/step - loss: 0.2796 - accuracy: 0.9420 - val_loss: 0.9308 - val_accuracy: 0.8110\n",
      "Epoch 10/20\n",
      "16/16 [==============================] - 2s 143ms/step - loss: 0.2371 - accuracy: 0.9490 - val_loss: 0.9080 - val_accuracy: 0.8140\n",
      "Epoch 11/20\n",
      "16/16 [==============================] - 2s 120ms/step - loss: 0.1973 - accuracy: 0.9536 - val_loss: 0.9462 - val_accuracy: 0.8010\n",
      "Epoch 12/20\n",
      "16/16 [==============================] - 2s 126ms/step - loss: 0.1794 - accuracy: 0.9576 - val_loss: 0.9579 - val_accuracy: 0.8020\n",
      "Epoch 13/20\n",
      "16/16 [==============================] - 2s 150ms/step - loss: 0.1520 - accuracy: 0.9590 - val_loss: 0.9716 - val_accuracy: 0.8080\n",
      "Epoch 14/20\n",
      "16/16 [==============================] - 2s 131ms/step - loss: 0.1439 - accuracy: 0.9587 - val_loss: 0.9540 - val_accuracy: 0.8130\n",
      "Epoch 15/20\n",
      "16/16 [==============================] - 2s 132ms/step - loss: 0.1397 - accuracy: 0.9570 - val_loss: 0.9867 - val_accuracy: 0.8120\n",
      "Epoch 16/20\n",
      "16/16 [==============================] - 2s 139ms/step - loss: 0.1201 - accuracy: 0.9657 - val_loss: 0.9905 - val_accuracy: 0.8040\n",
      "Epoch 17/20\n",
      "16/16 [==============================] - 2s 141ms/step - loss: 0.1185 - accuracy: 0.9598 - val_loss: 1.0428 - val_accuracy: 0.8050\n",
      "Epoch 18/20\n",
      "16/16 [==============================] - 2s 125ms/step - loss: 0.1150 - accuracy: 0.9646 - val_loss: 1.0844 - val_accuracy: 0.7920\n",
      "Epoch 19/20\n",
      "16/16 [==============================] - 2s 149ms/step - loss: 0.1086 - accuracy: 0.9616 - val_loss: 1.0435 - val_accuracy: 0.7960\n",
      "Epoch 20/20\n",
      "16/16 [==============================] - 2s 131ms/step - loss: 0.1001 - accuracy: 0.9625 - val_loss: 1.0555 - val_accuracy: 0.8050\n"
     ]
    }
   ],
   "source": [
    "# §代碼清單 3-18 訓練模型\n",
    "\n",
    "history = model.fit(partial_x_train,\n",
    "                   partial_y_train,\n",
    "                   epochs = 20,\n",
    "                   batch_size = 512,\n",
    "                   validation_data = (x_val, y_val))\n"
   ]
  },
  {
   "cell_type": "code",
   "execution_count": 17,
   "id": "3222cf48",
   "metadata": {},
   "outputs": [
    {
     "data": {
      "image/png": "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\n",
      "text/plain": [
       "<Figure size 640x480 with 1 Axes>"
      ]
     },
     "metadata": {},
     "output_type": "display_data"
    }
   ],
   "source": [
    "# §代碼清單 3-19 繪製訓練損失和驗證損失\n",
    "\n",
    "import matplotlib.pyplot as plt\n",
    "\n",
    "loss = history.history['loss']\n",
    "val_loss = history.history['val_loss']\n",
    "\n",
    "epochs = range(1, len(loss) + 1)\n",
    "\n",
    "plt.plot(epochs, loss, 'bo', label = 'Training loss')\n",
    "plt.plot(epochs, val_loss, 'b', label = 'Validation loss')\n",
    "plt.title('Training and validation loss')\n",
    "plt.xlabel('Epochs')\n",
    "plt.ylabel('Loss')\n",
    "plt.legend()\n",
    "\n",
    "plt.show()\n"
   ]
  },
  {
   "cell_type": "code",
   "execution_count": 18,
   "id": "b89a4459",
   "metadata": {},
   "outputs": [
    {
     "data": {
      "image/png": "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\n",
      "text/plain": [
       "<Figure size 640x480 with 1 Axes>"
      ]
     },
     "metadata": {},
     "output_type": "display_data"
    }
   ],
   "source": [
    "# §代碼清單 3-20 繪製訓練精度和驗證精度\n",
    "\n",
    "plt.clf()\n",
    "acc = history.history['accuracy']\n",
    "val_acc = history.history['val_accuracy']\n",
    "\n",
    "plt.plot(epochs, acc, 'bo', label = 'Training acc')\n",
    "plt.plot(epochs, val_acc, 'b', label = 'Validation acc')\n",
    "plt.title('Training and validation accuracy')\n",
    "plt.xlabel('Epochs')\n",
    "plt.ylabel('Accuracy')\n",
    "plt.legend()\n",
    "\n",
    "plt.show()\n"
   ]
  },
  {
   "cell_type": "code",
   "execution_count": 19,
   "id": "34094a81",
   "metadata": {},
   "outputs": [
    {
     "name": "stdout",
     "output_type": "stream",
     "text": [
      "Epoch 1/9\n",
      "16/16 [==============================] - 3s 133ms/step - loss: 3.0544 - accuracy: 0.4347 - val_loss: 1.6807 - val_accuracy: 0.6520\n",
      "Epoch 2/9\n",
      "16/16 [==============================] - 2s 117ms/step - loss: 1.4885 - accuracy: 0.6929 - val_loss: 1.3065 - val_accuracy: 0.7180\n",
      "Epoch 3/9\n",
      "16/16 [==============================] - 2s 113ms/step - loss: 1.1162 - accuracy: 0.7632 - val_loss: 1.1598 - val_accuracy: 0.7520\n",
      "Epoch 4/9\n",
      "16/16 [==============================] - 2s 105ms/step - loss: 0.8557 - accuracy: 0.8238 - val_loss: 1.0582 - val_accuracy: 0.7730\n",
      "Epoch 5/9\n",
      "16/16 [==============================] - 2s 115ms/step - loss: 0.6798 - accuracy: 0.8585 - val_loss: 0.9871 - val_accuracy: 0.8000\n",
      "Epoch 6/9\n",
      "16/16 [==============================] - 2s 121ms/step - loss: 0.5415 - accuracy: 0.8878 - val_loss: 0.9667 - val_accuracy: 0.8030\n",
      "Epoch 7/9\n",
      "16/16 [==============================] - 2s 141ms/step - loss: 0.4417 - accuracy: 0.9123 - val_loss: 0.9757 - val_accuracy: 0.7940\n",
      "Epoch 8/9\n",
      "16/16 [==============================] - 2s 130ms/step - loss: 0.3585 - accuracy: 0.9278 - val_loss: 0.9113 - val_accuracy: 0.8160\n",
      "Epoch 9/9\n",
      "16/16 [==============================] - 2s 114ms/step - loss: 0.2897 - accuracy: 0.9431 - val_loss: 0.8908 - val_accuracy: 0.8200\n",
      "71/71 [==============================] - 1s 8ms/step - loss: 1.0024 - accuracy: 0.7792\n"
     ]
    }
   ],
   "source": [
    "# §代碼清單 3-21 從頭開始重新訓練一個模型\n",
    "\n",
    "model = models.Sequential()\n",
    "model = models.Sequential()\n",
    "\n",
    "model.add(layers.Dense(64, activation = 'relu', input_shape = (10000,)))\n",
    "model.add(layers.Dense(64, activation = 'relu'))\n",
    "model.add(layers.Dense(46, activation = 'softmax'))\n",
    "\n",
    "model.compile(optimizer = 'rmsprop',\n",
    "             loss = 'categorical_crossentropy',\n",
    "             metrics = ['accuracy'])\n",
    "model.fit(partial_x_train,\n",
    "         partial_y_train,\n",
    "         epochs = 9,\n",
    "         batch_size = 512,\n",
    "         validation_data = (x_val, y_val))\n",
    "results = model.evaluate(x_test, one_hot_test_labels)"
   ]
  },
  {
   "cell_type": "code",
   "execution_count": 20,
   "id": "69995202",
   "metadata": {},
   "outputs": [
    {
     "name": "stdout",
     "output_type": "stream",
     "text": [
      "[1.0024073123931885, 0.7791629433631897]\n"
     ]
    }
   ],
   "source": [
    "# === FOR CHECK (p.64, pdf.81) ===\n",
    "print(results)"
   ]
  },
  {
   "cell_type": "code",
   "execution_count": 21,
   "id": "c7f0b731",
   "metadata": {},
   "outputs": [],
   "source": [
    "# §代碼清單 3-22 在新數據上生成預測結果\n",
    "\n",
    "predictions = model.predict(x_test)\n",
    "\n",
    "#print(predictions[0].shape)\n",
    "#print(np.argmax(predictions[0]))\n",
    "\n",
    "#y_train = np.array(train_labels)\n",
    "#y_test = np.array(test_labels)\n",
    "\n",
    "#model.compile(optimizer = 'rmsprop',\n",
    "#             loss = 'sparse_categorical_crossentropy',\n",
    "#             metric = ['accuracy'])\n",
    "\n"
   ]
  },
  {
   "cell_type": "code",
   "execution_count": 22,
   "id": "90e4b958",
   "metadata": {},
   "outputs": [
    {
     "name": "stdout",
     "output_type": "stream",
     "text": [
      "Epoch 1/20\n",
      "63/63 [==============================] - 4s 48ms/step - loss: 3.3192 - accuracy: 0.1389 - val_loss: 2.2893 - val_accuracy: 0.4340\n",
      "Epoch 2/20\n",
      "63/63 [==============================] - 3s 46ms/step - loss: 2.0113 - accuracy: 0.4711 - val_loss: 1.6323 - val_accuracy: 0.6200\n",
      "Epoch 3/20\n",
      "63/63 [==============================] - 3s 51ms/step - loss: 1.3662 - accuracy: 0.6772 - val_loss: 1.3882 - val_accuracy: 0.6680\n",
      "Epoch 4/20\n",
      "63/63 [==============================] - 3s 47ms/step - loss: 1.1039 - accuracy: 0.7340 - val_loss: 1.3228 - val_accuracy: 0.6940\n",
      "Epoch 5/20\n",
      "63/63 [==============================] - 3s 50ms/step - loss: 1.0221 - accuracy: 0.7561 - val_loss: 1.3103 - val_accuracy: 0.7060\n",
      "Epoch 6/20\n",
      "63/63 [==============================] - 3s 45ms/step - loss: 0.8873 - accuracy: 0.7778 - val_loss: 1.3040 - val_accuracy: 0.7040\n",
      "Epoch 7/20\n",
      "63/63 [==============================] - 3s 46ms/step - loss: 0.8250 - accuracy: 0.7865 - val_loss: 1.3178 - val_accuracy: 0.7130\n",
      "Epoch 8/20\n",
      "63/63 [==============================] - 3s 44ms/step - loss: 0.7487 - accuracy: 0.8028 - val_loss: 1.3375 - val_accuracy: 0.7090\n",
      "Epoch 9/20\n",
      "63/63 [==============================] - 3s 50ms/step - loss: 0.7220 - accuracy: 0.8069 - val_loss: 1.3677 - val_accuracy: 0.7120\n",
      "Epoch 10/20\n",
      "63/63 [==============================] - 3s 47ms/step - loss: 0.6637 - accuracy: 0.8141 - val_loss: 1.3818 - val_accuracy: 0.7150\n",
      "Epoch 11/20\n",
      "63/63 [==============================] - 4s 55ms/step - loss: 0.6437 - accuracy: 0.8293 - val_loss: 1.4546 - val_accuracy: 0.7060\n",
      "Epoch 12/20\n",
      "63/63 [==============================] - 4s 65ms/step - loss: 0.5822 - accuracy: 0.8411 - val_loss: 1.4791 - val_accuracy: 0.7060\n",
      "Epoch 13/20\n",
      "63/63 [==============================] - 3s 55ms/step - loss: 0.5403 - accuracy: 0.8531 - val_loss: 1.5025 - val_accuracy: 0.7160\n",
      "Epoch 14/20\n",
      "63/63 [==============================] - 4s 60ms/step - loss: 0.5231 - accuracy: 0.8583 - val_loss: 1.5519 - val_accuracy: 0.7150\n",
      "Epoch 15/20\n",
      "63/63 [==============================] - 4s 57ms/step - loss: 0.5021 - accuracy: 0.8634 - val_loss: 1.6048 - val_accuracy: 0.7140\n",
      "Epoch 16/20\n",
      "63/63 [==============================] - 3s 45ms/step - loss: 0.4637 - accuracy: 0.8745 - val_loss: 1.6993 - val_accuracy: 0.7160\n",
      "Epoch 17/20\n",
      "63/63 [==============================] - 3s 47ms/step - loss: 0.4365 - accuracy: 0.8804 - val_loss: 1.6908 - val_accuracy: 0.7170\n",
      "Epoch 18/20\n",
      "63/63 [==============================] - 3s 44ms/step - loss: 0.4180 - accuracy: 0.8866 - val_loss: 1.7418 - val_accuracy: 0.7110\n",
      "Epoch 19/20\n",
      "63/63 [==============================] - 3s 45ms/step - loss: 0.4137 - accuracy: 0.8814 - val_loss: 1.8303 - val_accuracy: 0.7140\n",
      "Epoch 20/20\n",
      "63/63 [==============================] - 3s 46ms/step - loss: 0.4016 - accuracy: 0.8828 - val_loss: 1.8258 - val_accuracy: 0.7080\n"
     ]
    },
    {
     "data": {
      "text/plain": [
       "<tensorflow.python.keras.callbacks.History at 0x7f6754521700>"
      ]
     },
     "execution_count": 22,
     "metadata": {},
     "output_type": "execute_result"
    }
   ],
   "source": [
    "# §代碼清單 3-23 具有信息瓶頸的模型\n",
    "\n",
    "model = models.Sequential()\n",
    "model.add(layers.Dense(64, activation = 'relu', input_shape = (10000,)))\n",
    "model.add(layers.Dense(4, activation = 'relu'))\n",
    "model.add(layers.Dense(46, activation = 'softmax'))\n",
    "\n",
    "model.compile(optimizer = 'rmsprop',\n",
    "             loss = 'categorical_crossentropy',\n",
    "             metrics = ['accuracy'])\n",
    "model.fit(partial_x_train,\n",
    "         partial_y_train,\n",
    "         epochs = 20,\n",
    "         batch_size = 128,\n",
    "         validation_data = (x_val, y_val))\n"
   ]
  },
  {
   "cell_type": "code",
   "execution_count": null,
   "id": "d33c9dee",
   "metadata": {},
   "outputs": [],
   "source": [
    "# === FOR CHECK (p.64, pdf.81) ===\n",
    "\n",
    "results = model.evaluate(x_test, one_hot_test_labels)\n",
    "print(results)\n"
   ]
  }
 ],
 "metadata": {
  "kernelspec": {
   "display_name": "Python 3 (ipykernel)",
   "language": "python",
   "name": "python3"
  },
  "language_info": {
   "codemirror_mode": {
    "name": "ipython",
    "version": 3
   },
   "file_extension": ".py",
   "mimetype": "text/x-python",
   "name": "python",
   "nbconvert_exporter": "python",
   "pygments_lexer": "ipython3",
   "version": "3.11.5"
  }
 },
 "nbformat": 4,
 "nbformat_minor": 5
}
