{
 "cells": [
  {
   "cell_type": "code",
   "execution_count": 1,
   "id": "1416c439",
   "metadata": {},
   "outputs": [
    {
     "name": "stderr",
     "output_type": "stream",
     "text": [
      "2023-12-17 20:34:23.835473: I tensorflow/core/platform/cpu_feature_guard.cc:193] This TensorFlow binary is optimized with oneAPI Deep Neural Network Library (oneDNN) to use the following CPU instructions in performance-critical operations:  AVX2 AVX_VNNI FMA\n",
      "To enable them in other operations, rebuild TensorFlow with the appropriate compiler flags.\n",
      "2023-12-17 20:34:24.027531: I tensorflow/core/util/util.cc:169] oneDNN custom operations are on. You may see slightly different numerical results due to floating-point round-off errors from different computation orders. To turn them off, set the environment variable `TF_ENABLE_ONEDNN_OPTS=0`.\n",
      "2023-12-17 20:34:24.120344: E tensorflow/stream_executor/cuda/cuda_blas.cc:2981] Unable to register cuBLAS factory: Attempting to register factory for plugin cuBLAS when one has already been registered\n",
      "2023-12-17 20:34:24.701319: W tensorflow/stream_executor/platform/default/dso_loader.cc:64] Could not load dynamic library 'libnvinfer.so.7'; dlerror: libnvinfer.so.7: cannot open shared object file: No such file or directory; LD_LIBRARY_PATH: /usr/local/cuda-11.8/lib64::/usr/local/cuda-12.3/lib64\n",
      "2023-12-17 20:34:24.701373: W tensorflow/stream_executor/platform/default/dso_loader.cc:64] Could not load dynamic library 'libnvinfer_plugin.so.7'; dlerror: libnvinfer_plugin.so.7: cannot open shared object file: No such file or directory; LD_LIBRARY_PATH: /usr/local/cuda-11.8/lib64::/usr/local/cuda-12.3/lib64\n",
      "2023-12-17 20:34:24.701376: W tensorflow/compiler/tf2tensorrt/utils/py_utils.cc:38] TF-TRT Warning: Cannot dlopen some TensorRT libraries. If you would like to use Nvidia GPU with TensorRT, please make sure the missing libraries mentioned above are installed properly.\n"
     ]
    }
   ],
   "source": [
    "#===========================================#\n",
    "#=== Linux OS running OK                 ===#\n",
    "#=== Test iMac OS OK (needs modify path) ===#\n",
    "#===========================================#\n",
    "import os\n",
    "import numpy as np\n",
    "import pandas as pd\n",
    "import tensorflow as tf\n",
    "import matplotlib.pyplot as plt\n",
    "from tensorflow import keras\n",
    "from tensorflow.keras import layers"
   ]
  },
  {
   "cell_type": "code",
   "execution_count": 2,
   "id": "d683dcda",
   "metadata": {},
   "outputs": [
    {
     "name": "stdout",
     "output_type": "stream",
     "text": [
      "2.10.0\n",
      "2.10.0\n"
     ]
    }
   ],
   "source": [
    "print(tf.__version__)\n",
    "print(keras.__version__)"
   ]
  },
  {
   "cell_type": "code",
   "execution_count": 3,
   "id": "02cc3c26",
   "metadata": {},
   "outputs": [
    {
     "name": "stdout",
     "output_type": "stream",
     "text": [
      "/device:GPU:0\n"
     ]
    },
    {
     "name": "stderr",
     "output_type": "stream",
     "text": [
      "2023-12-17 20:34:32.011980: I tensorflow/core/platform/cpu_feature_guard.cc:193] This TensorFlow binary is optimized with oneAPI Deep Neural Network Library (oneDNN) to use the following CPU instructions in performance-critical operations:  AVX2 AVX_VNNI FMA\n",
      "To enable them in other operations, rebuild TensorFlow with the appropriate compiler flags.\n",
      "2023-12-17 20:34:32.085466: I tensorflow/stream_executor/cuda/cuda_gpu_executor.cc:980] successful NUMA node read from SysFS had negative value (-1), but there must be at least one NUMA node, so returning NUMA node zero\n",
      "2023-12-17 20:34:32.184345: I tensorflow/stream_executor/cuda/cuda_gpu_executor.cc:980] successful NUMA node read from SysFS had negative value (-1), but there must be at least one NUMA node, so returning NUMA node zero\n",
      "2023-12-17 20:34:32.184716: I tensorflow/stream_executor/cuda/cuda_gpu_executor.cc:980] successful NUMA node read from SysFS had negative value (-1), but there must be at least one NUMA node, so returning NUMA node zero\n",
      "2023-12-17 20:34:32.249269: I tensorflow/stream_executor/cuda/cuda_gpu_executor.cc:980] successful NUMA node read from SysFS had negative value (-1), but there must be at least one NUMA node, so returning NUMA node zero\n",
      "2023-12-17 20:34:32.249626: I tensorflow/stream_executor/cuda/cuda_gpu_executor.cc:980] successful NUMA node read from SysFS had negative value (-1), but there must be at least one NUMA node, so returning NUMA node zero\n",
      "2023-12-17 20:34:32.249687: I tensorflow/stream_executor/cuda/cuda_gpu_executor.cc:980] successful NUMA node read from SysFS had negative value (-1), but there must be at least one NUMA node, so returning NUMA node zero\n",
      "2023-12-17 20:34:32.249745: I tensorflow/core/common_runtime/gpu/gpu_device.cc:1616] Created device /device:GPU:0 with 6204 MB memory:  -> device: 0, name: NVIDIA GeForce RTX 4060 Ti, pci bus id: 0000:01:00.0, compute capability: 8.9\n"
     ]
    }
   ],
   "source": [
    "import tensorflow as tf\n",
    "gpu_device_name = tf.test.gpu_device_name()\n",
    "print(gpu_device_name)"
   ]
  },
  {
   "cell_type": "code",
   "execution_count": 4,
   "id": "65a6b594",
   "metadata": {},
   "outputs": [
    {
     "name": "stderr",
     "output_type": "stream",
     "text": [
      "2023-12-17 20:34:33.117173: I tensorflow/stream_executor/cuda/cuda_gpu_executor.cc:980] successful NUMA node read from SysFS had negative value (-1), but there must be at least one NUMA node, so returning NUMA node zero\n",
      "2023-12-17 20:34:33.117289: I tensorflow/stream_executor/cuda/cuda_gpu_executor.cc:980] successful NUMA node read from SysFS had negative value (-1), but there must be at least one NUMA node, so returning NUMA node zero\n",
      "2023-12-17 20:34:33.117340: I tensorflow/stream_executor/cuda/cuda_gpu_executor.cc:980] successful NUMA node read from SysFS had negative value (-1), but there must be at least one NUMA node, so returning NUMA node zero\n"
     ]
    },
    {
     "data": {
      "text/plain": [
       "[PhysicalDevice(name='/physical_device:GPU:0', device_type='GPU')]"
      ]
     },
     "execution_count": 4,
     "metadata": {},
     "output_type": "execute_result"
    }
   ],
   "source": [
    "#tf.test.is_gpu_available()\n",
    "tf.config.list_physical_devices('GPU')"
   ]
  },
  {
   "cell_type": "code",
   "execution_count": 5,
   "id": "ce45b159",
   "metadata": {},
   "outputs": [
    {
     "name": "stderr",
     "output_type": "stream",
     "text": [
      "2023-12-17 20:34:34.556505: I tensorflow/stream_executor/cuda/cuda_gpu_executor.cc:980] successful NUMA node read from SysFS had negative value (-1), but there must be at least one NUMA node, so returning NUMA node zero\n",
      "2023-12-17 20:34:34.556975: I tensorflow/stream_executor/cuda/cuda_gpu_executor.cc:980] successful NUMA node read from SysFS had negative value (-1), but there must be at least one NUMA node, so returning NUMA node zero\n",
      "2023-12-17 20:34:34.557238: I tensorflow/stream_executor/cuda/cuda_gpu_executor.cc:980] successful NUMA node read from SysFS had negative value (-1), but there must be at least one NUMA node, so returning NUMA node zero\n",
      "2023-12-17 20:34:34.557577: I tensorflow/stream_executor/cuda/cuda_gpu_executor.cc:980] successful NUMA node read from SysFS had negative value (-1), but there must be at least one NUMA node, so returning NUMA node zero\n",
      "2023-12-17 20:34:34.557825: I tensorflow/stream_executor/cuda/cuda_gpu_executor.cc:980] successful NUMA node read from SysFS had negative value (-1), but there must be at least one NUMA node, so returning NUMA node zero\n",
      "2023-12-17 20:34:34.558018: I tensorflow/core/common_runtime/gpu/gpu_device.cc:1616] Created device /job:localhost/replica:0/task:0/device:GPU:0 with 6204 MB memory:  -> device: 0, name: NVIDIA GeForce RTX 4060 Ti, pci bus id: 0000:01:00.0, compute capability: 8.9\n"
     ]
    }
   ],
   "source": [
    "# § 代碼清單 5-1 實例化一個小型的卷積神經網路\n",
    "from keras import layers\n",
    "from keras import models\n",
    "\n",
    "model = models.Sequential()\n",
    "model.add(layers.Conv2D(32, (3, 3), activation='relu', input_shape=(28, 28, 1)))\n",
    "model.add(layers.MaxPooling2D((2, 2)))\n",
    "model.add(layers.Conv2D(64, (3, 3), activation='relu'))\n",
    "model.add(layers.MaxPooling2D((2, 2)))\n",
    "model.add(layers.Conv2D(64, (3, 3), activation='relu'))\n"
   ]
  },
  {
   "cell_type": "code",
   "execution_count": 6,
   "id": "15b87d83",
   "metadata": {},
   "outputs": [
    {
     "name": "stdout",
     "output_type": "stream",
     "text": [
      "Model: \"sequential\"\n",
      "_________________________________________________________________\n",
      " Layer (type)                Output Shape              Param #   \n",
      "=================================================================\n",
      " conv2d (Conv2D)             (None, 26, 26, 32)        320       \n",
      "                                                                 \n",
      " max_pooling2d (MaxPooling2D  (None, 13, 13, 32)       0         \n",
      " )                                                               \n",
      "                                                                 \n",
      " conv2d_1 (Conv2D)           (None, 11, 11, 64)        18496     \n",
      "                                                                 \n",
      " max_pooling2d_1 (MaxPooling  (None, 5, 5, 64)         0         \n",
      " 2D)                                                             \n",
      "                                                                 \n",
      " conv2d_2 (Conv2D)           (None, 3, 3, 64)          36928     \n",
      "                                                                 \n",
      "=================================================================\n",
      "Total params: 55,744\n",
      "Trainable params: 55,744\n",
      "Non-trainable params: 0\n",
      "_________________________________________________________________\n"
     ]
    }
   ],
   "source": [
    "model.summary()"
   ]
  },
  {
   "cell_type": "code",
   "execution_count": 7,
   "id": "db825641",
   "metadata": {},
   "outputs": [],
   "source": [
    "# § 代碼清單 5-2 在卷積神經網路上添加分類器\n",
    "model.add(layers.Flatten())\n",
    "model.add(layers.Dense(64, activation='relu'))\n",
    "model.add(layers.Dense(10, activation='softmax'))\n"
   ]
  },
  {
   "cell_type": "code",
   "execution_count": 8,
   "id": "f11a0067",
   "metadata": {},
   "outputs": [
    {
     "name": "stdout",
     "output_type": "stream",
     "text": [
      "Model: \"sequential\"\n",
      "_________________________________________________________________\n",
      " Layer (type)                Output Shape              Param #   \n",
      "=================================================================\n",
      " conv2d (Conv2D)             (None, 26, 26, 32)        320       \n",
      "                                                                 \n",
      " max_pooling2d (MaxPooling2D  (None, 13, 13, 32)       0         \n",
      " )                                                               \n",
      "                                                                 \n",
      " conv2d_1 (Conv2D)           (None, 11, 11, 64)        18496     \n",
      "                                                                 \n",
      " max_pooling2d_1 (MaxPooling  (None, 5, 5, 64)         0         \n",
      " 2D)                                                             \n",
      "                                                                 \n",
      " conv2d_2 (Conv2D)           (None, 3, 3, 64)          36928     \n",
      "                                                                 \n",
      " flatten (Flatten)           (None, 576)               0         \n",
      "                                                                 \n",
      " dense (Dense)               (None, 64)                36928     \n",
      "                                                                 \n",
      " dense_1 (Dense)             (None, 10)                650       \n",
      "                                                                 \n",
      "=================================================================\n",
      "Total params: 93,322\n",
      "Trainable params: 93,322\n",
      "Non-trainable params: 0\n",
      "_________________________________________________________________\n"
     ]
    }
   ],
   "source": [
    "model.summary()"
   ]
  },
  {
   "cell_type": "code",
   "execution_count": 32,
   "id": "51bb77af",
   "metadata": {
    "scrolled": true
   },
   "outputs": [
    {
     "data": {
      "text/plain": [
       "<matplotlib.image.AxesImage at 0x7ff4703ba880>"
      ]
     },
     "execution_count": 32,
     "metadata": {},
     "output_type": "execute_result"
    },
    {
     "data": {
      "image/png": "[encoded data removed]",
      "text/plain": [
       "<Figure size 640x480 with 1 Axes>"
      ]
     },
     "metadata": {},
     "output_type": "display_data"
    }
   ],
   "source": [
    "# § 代碼清單 5-3 在MNIST圖像上訓練卷積神經網路\n",
    "from keras.datasets import mnist\n",
    "from keras.utils import to_categorical\n",
    "\n",
    "(train_images, train_labels), (test_images, test_labels) = mnist.load_data()\n",
    "\n",
    "\"\"\"\n",
    "\n",
    "train_images = train_images.reshape((60000, 28, 28, 1))\n",
    "train_images = train_images.astype('float32') / 255\n",
    "\n",
    "test_images = test_images.reshape((10000, 28, 28, 1))\n",
    "test_images = test_images.astype('float32') / 255\n",
    "\n",
    "train_labels = to_categorical(train_labels)\n",
    "test_labels = to_categorical(test_labels)\n",
    "\n",
    "model.compile(optimizer='rmsprop',\n",
    "             loss='categorical_crossentropy',\n",
    "             metrics=['accuracy'])\n",
    "model.fit(train_images, train_labels, epochs=5, batch_size=64)\n",
    "\n",
    "\"\"\"\n"
   ]
  },
  {
   "cell_type": "code",
   "execution_count": 39,
   "id": "3b7c32bc",
   "metadata": {},
   "outputs": [
    {
     "name": "stdout",
     "output_type": "stream",
     "text": [
      "[7 2 1 ... 4 5 6]\n"
     ]
    }
   ],
   "source": [
    "#=== For TEST Sec.1 ===#\n",
    "# show contents\n",
    "from matplotlib.pyplot import imshow\n",
    "#imshow(train_images[0])\n",
    "\n",
    "#print(type(train_images))\n",
    "#print(train_images[0].shape)\n",
    "#print(train_images[0])\n",
    "print(test_labels)\n"
   ]
  },
  {
   "cell_type": "code",
   "execution_count": null,
   "id": "fc749ffb",
   "metadata": {},
   "outputs": [],
   "source": [
    "#=== For TEST Sec.2 ===#\n",
    "train_images = train_images.reshape((60000, 28, 28, 1))\n",
    "train_images = train_images.astype('float32') / 255\n",
    "\n",
    "test_images = test_images.reshape((10000, 28, 28, 1))\n",
    "test_images = test_images.astype('float32') / 255\n",
    "\n",
    "train_labels = to_categorical(train_labels)\n",
    "test_labels = to_categorical(test_labels)\n"
   ]
  },
  {
   "cell_type": "code",
   "execution_count": null,
   "id": "a41192a3",
   "metadata": {},
   "outputs": [],
   "source": [
    "#=== For TEST Sec.2 ===#\n",
    "# Start learning\n",
    "model.compile(optimizer='rmsprop',\n",
    "             loss='categorical_crossentropy',\n",
    "             metrics=['accuracy'])\n",
    "model.fit(train_images, train_labels, epochs=5, batch_size=64)\n"
   ]
  },
  {
   "cell_type": "code",
   "execution_count": 10,
   "id": "bed6c245",
   "metadata": {},
   "outputs": [
    {
     "name": "stdout",
     "output_type": "stream",
     "text": [
      "313/313 [==============================] - 1s 1ms/step - loss: 0.0295 - accuracy: 0.9913\n",
      "loss=  0.02947808802127838 acc=  0.9912999868392944\n"
     ]
    }
   ],
   "source": [
    "test_loss, test_acc = model.evaluate(test_images, test_labels)\n",
    "print(\"loss= \", test_loss, \"acc= \", test_acc)\n"
   ]
  },
  {
   "cell_type": "code",
   "execution_count": 11,
   "id": "5ccc43c6",
   "metadata": {},
   "outputs": [
    {
     "ename": "NameError",
     "evalue": "name 'original_dataset_dir' is not defined",
     "output_type": "error",
     "traceback": [
      "\u001b[0;31m---------------------------------------------------------------------------\u001b[0m",
      "\u001b[0;31mNameError\u001b[0m                                 Traceback (most recent call last)",
      "Cell \u001b[0;32mIn[11], line 8\u001b[0m\n\u001b[1;32m      6\u001b[0m fnames \u001b[38;5;241m=\u001b[39m [\u001b[38;5;124m'\u001b[39m\u001b[38;5;132;01m{}\u001b[39;00m\u001b[38;5;124m.jpg\u001b[39m\u001b[38;5;124m'\u001b[39m\u001b[38;5;241m.\u001b[39mformat(i) \u001b[38;5;28;01mfor\u001b[39;00m i \u001b[38;5;129;01min\u001b[39;00m \u001b[38;5;28mrange\u001b[39m(\u001b[38;5;241m10\u001b[39m)]\n\u001b[1;32m      7\u001b[0m \u001b[38;5;28;01mfor\u001b[39;00m fname \u001b[38;5;129;01min\u001b[39;00m fnames:\n\u001b[0;32m----> 8\u001b[0m     src \u001b[38;5;241m=\u001b[39m os\u001b[38;5;241m.\u001b[39mpath\u001b[38;5;241m.\u001b[39mjoin(\u001b[43moriginal_dataset_dir\u001b[49m, \u001b[38;5;124m'\u001b[39m\u001b[38;5;124mCat\u001b[39m\u001b[38;5;124m'\u001b[39m, fname)\n\u001b[1;32m      9\u001b[0m     dst \u001b[38;5;241m=\u001b[39m os\u001b[38;5;241m.\u001b[39mpath\u001b[38;5;241m.\u001b[39mjoin(train_cats_dir, fname)\n\u001b[1;32m     10\u001b[0m     \u001b[38;5;28mprint\u001b[39m(src, dst)\n",
      "\u001b[0;31mNameError\u001b[0m: name 'original_dataset_dir' is not defined"
     ]
    }
   ],
   "source": [
    "# FOR TEST os\n",
    "#os.path\n",
    "#print(os.path.isdir(original_dataset_dir))\n",
    "#print(original_dataset_dir)\n",
    "\n",
    "fnames = ['{}.jpg'.format(i) for i in range(10)]\n",
    "for fname in fnames:\n",
    "    src = os.path.join(original_dataset_dir, 'Cat', fname)\n",
    "    dst = os.path.join(train_cats_dir, fname)\n",
    "    print(src, dst)\n",
    "    shutil.copyfile(src, dst)\n"
   ]
  },
  {
   "cell_type": "code",
   "execution_count": 12,
   "id": "fefa3b4e",
   "metadata": {},
   "outputs": [],
   "source": [
    "# § 代碼清單 5-4 將圖像複製到訓練、驗證和測試的目錄 (要依執行平台修正相對應的路徑)\n",
    "import os, shutil\n",
    "\n",
    "#--- FOR Linux Settings ---#\n",
    "original_dataset_dir = '/home/earvin/workspaces/datasets/kaggle_original_data'\n",
    "base_dir = '/home/earvin/workspaces/datasets/cats_and_dogs_small'\n",
    "#--- FOR iMac Settings ---#\n",
    "#original_dataset_dir = '/Users/earvin/workspaces/datasets/kaggle_original_data'\n",
    "#base_dir = '/Users/earvin/workspaces/datasets/cats_and_dogs_small'\n",
    "\n",
    "if not os.path.isdir(base_dir):\n",
    "    os.mkdir(base_dir)\n",
    "\n",
    "# 分別對應劃分後的訓練、驗證和測試的目錄\n",
    "train_dir = os.path.join(base_dir, 'train')\n",
    "if not os.path.isdir(train_dir):\n",
    "    os.mkdir(train_dir)\n",
    "validation_dir = os.path.join(base_dir, 'validation')\n",
    "if not os.path.isdir(validation_dir):\n",
    "    os.mkdir(validation_dir)\n",
    "test_dir = os.path.join(base_dir, 'test')\n",
    "if not os.path.isdir(test_dir):\n",
    "    os.mkdir(test_dir)\n",
    "\n",
    "# 貓、狗的訓練圖像目錄\n",
    "train_cats_dir = os.path.join(train_dir, 'cats')\n",
    "if not os.path.isdir(train_cats_dir):\n",
    "    os.mkdir(train_cats_dir)\n",
    "train_dogs_dir = os.path.join(train_dir, 'dogs')\n",
    "if not os.path.isdir(train_dogs_dir):\n",
    "    os.mkdir(train_dogs_dir)\n",
    "\n",
    "# 貓、狗的驗證圖像目錄\n",
    "validation_cats_dir = os.path.join(validation_dir, 'cats')\n",
    "if not os.path.isdir(validation_cats_dir):\n",
    "    os.mkdir(validation_cats_dir)\n",
    "validation_dogs_dir = os.path.join(validation_dir, 'dogs')\n",
    "if not os.path.isdir(validation_dogs_dir):\n",
    "    os.mkdir(validation_dogs_dir)\n",
    "\n",
    "# 貓、狗的測試圖像目錄\n",
    "test_cats_dir = os.path.join(test_dir, 'cats')\n",
    "if not os.path.isdir(test_cats_dir):\n",
    "    os.mkdir(test_cats_dir)\n",
    "test_dogs_dir = os.path.join(test_dir, 'dogs')\n",
    "if not os.path.isdir(test_dogs_dir):\n",
    "    os.mkdir(test_dogs_dir)\n"
   ]
  },
  {
   "cell_type": "code",
   "execution_count": 13,
   "id": "37f5650b",
   "metadata": {},
   "outputs": [],
   "source": [
    "# § 代碼清單 5-4 將圖像複製到訓練、驗證和測試的目錄 : 複製檔案 (要依執行平台修正相對應的路徑)\n",
    "\n",
    "# Cats\n",
    "#fnames = ['cat.{}.jpg'.format(i) for i in range(1000)]\n",
    "fnames = ['{}.jpg'.format(i) for i in range(1000)]\n",
    "for fname in fnames:\n",
    "#    src = os.path.join(original_dataset_dir, fname)\n",
    "    src = os.path.join(original_dataset_dir, 'Cat', fname)\n",
    "    dst = os.path.join(train_cats_dir, fname)\n",
    "    shutil.copyfile(src, dst)\n",
    "\n",
    "#fnames = ['cat.{}.jpg'.format(i) for i in range(1000, 1500)]\n",
    "fnames = ['{}.jpg'.format(i) for i in range(1000, 1500)]\n",
    "for fname in fnames:\n",
    "#    src = os.path.join(original_dataset_dir, fname)\n",
    "    src = os.path.join(original_dataset_dir, 'Cat', fname)\n",
    "    dst = os.path.join(validation_cats_dir, fname)\n",
    "    shutil.copyfile(src, dst)\n",
    "\n",
    "#fnames = ['cat.{}.jpg'.format(i) for i in range(1500, 2000)]\n",
    "fnames = ['{}.jpg'.format(i) for i in range(1500, 2000)]\n",
    "for fname in fnames:\n",
    "#    src = os.path.join(original_dataset_dir, fname)\n",
    "    src = os.path.join(original_dataset_dir, 'Cat', fname)\n",
    "    dst = os.path.join(test_cats_dir, fname)\n",
    "    shutil.copyfile(src, dst)\n",
    "\n",
    "# Dogs\n",
    "#fnames = ['dog.{}.jpg'.format(i) for i in range(1000)]\n",
    "fnames = ['{}.jpg'.format(i) for i in range(1000)]\n",
    "for fname in fnames:\n",
    "#    src = os.path.join(original_dataset_dir, fname)\n",
    "    src = os.path.join(original_dataset_dir, 'Dog', fname)\n",
    "    dst = os.path.join(train_dogs_dir, fname)\n",
    "    shutil.copyfile(src, dst)\n",
    "\n",
    "#fnames = ['dog.{}.jpg'.format(i) for i in range(1000, 1500)]\n",
    "fnames = ['{}.jpg'.format(i) for i in range(1000, 1500)]\n",
    "for fname in fnames:\n",
    "#    src = os.path.join(original_dataset_dir, fname)\n",
    "    src = os.path.join(original_dataset_dir, 'Dog', fname)\n",
    "    dst = os.path.join(validation_dogs_dir, fname)\n",
    "    shutil.copyfile(src, dst)\n",
    "\n",
    "#fnames = ['dog.{}.jpg'.format(i) for i in range(1500, 2000)]\n",
    "fnames = ['{}.jpg'.format(i) for i in range(1500, 2000)]\n",
    "for fname in fnames:\n",
    "#    src = os.path.join(original_dataset_dir, fname)\n",
    "    src = os.path.join(original_dataset_dir, 'Dog', fname)\n",
    "    dst = os.path.join(test_dogs_dir, fname)\n",
    "    shutil.copyfile(src, dst)\n"
   ]
  },
  {
   "cell_type": "code",
   "execution_count": 14,
   "id": "a5ba5a92",
   "metadata": {},
   "outputs": [
    {
     "name": "stdout",
     "output_type": "stream",
     "text": [
      "total training cat images:  1000\n",
      "total training dog images:  1000\n",
      "total validation cat images:  500\n",
      "total validation dog images:  500\n",
      "total test cat images:  500\n",
      "total test dog images:  500\n"
     ]
    }
   ],
   "source": [
    "# check copy status\n",
    "print('total training cat images: ', len(os.listdir(train_cats_dir)))\n",
    "print('total training dog images: ', len(os.listdir(train_dogs_dir)))\n",
    "print('total validation cat images: ', len(os.listdir(validation_cats_dir)))\n",
    "print('total validation dog images: ', len(os.listdir(validation_dogs_dir)))\n",
    "print('total test cat images: ', len(os.listdir(test_cats_dir)))\n",
    "print('total test dog images: ', len(os.listdir(test_dogs_dir)))\n"
   ]
  },
  {
   "cell_type": "code",
   "execution_count": 15,
   "id": "fc4b4e76",
   "metadata": {},
   "outputs": [],
   "source": [
    "# § 代碼清單 5-5 將貓狗分類的小型卷積神經網路實例化\n",
    "from keras import layers\n",
    "from keras import models\n",
    "\n",
    "model = models.Sequential()\n",
    "model.add(layers.Conv2D(32, (3, 3), activation='relu', input_shape=(150, 150, 3)))\n",
    "model.add(layers.MaxPooling2D((2, 2)))\n",
    "model.add(layers.Conv2D(64, (3, 3), activation='relu'))\n",
    "model.add(layers.MaxPooling2D((2, 2)))\n",
    "model.add(layers.Conv2D(128, (3, 3), activation='relu'))\n",
    "model.add(layers.MaxPooling2D((2, 2)))\n",
    "model.add(layers.Conv2D(128, (3, 3), activation='relu'))\n",
    "model.add(layers.MaxPooling2D((2, 2)))\n",
    "\n",
    "model.add(layers.Flatten())\n",
    "model.add(layers.Dense(512, activation='relu'))\n",
    "model.add(layers.Dense(1, activation='sigmoid'))\n"
   ]
  },
  {
   "cell_type": "code",
   "execution_count": 16,
   "id": "5b2355a8",
   "metadata": {},
   "outputs": [
    {
     "name": "stdout",
     "output_type": "stream",
     "text": [
      "Model: \"sequential_1\"\n",
      "_________________________________________________________________\n",
      " Layer (type)                Output Shape              Param #   \n",
      "=================================================================\n",
      " conv2d_3 (Conv2D)           (None, 148, 148, 32)      896       \n",
      "                                                                 \n",
      " max_pooling2d_2 (MaxPooling  (None, 74, 74, 32)       0         \n",
      " 2D)                                                             \n",
      "                                                                 \n",
      " conv2d_4 (Conv2D)           (None, 72, 72, 64)        18496     \n",
      "                                                                 \n",
      " max_pooling2d_3 (MaxPooling  (None, 36, 36, 64)       0         \n",
      " 2D)                                                             \n",
      "                                                                 \n",
      " conv2d_5 (Conv2D)           (None, 34, 34, 128)       73856     \n",
      "                                                                 \n",
      " max_pooling2d_4 (MaxPooling  (None, 17, 17, 128)      0         \n",
      " 2D)                                                             \n",
      "                                                                 \n",
      " conv2d_6 (Conv2D)           (None, 15, 15, 128)       147584    \n",
      "                                                                 \n",
      " max_pooling2d_5 (MaxPooling  (None, 7, 7, 128)        0         \n",
      " 2D)                                                             \n",
      "                                                                 \n",
      " flatten_1 (Flatten)         (None, 6272)              0         \n",
      "                                                                 \n",
      " dense_2 (Dense)             (None, 512)               3211776   \n",
      "                                                                 \n",
      " dense_3 (Dense)             (None, 1)                 513       \n",
      "                                                                 \n",
      "=================================================================\n",
      "Total params: 3,453,121\n",
      "Trainable params: 3,453,121\n",
      "Non-trainable params: 0\n",
      "_________________________________________________________________\n"
     ]
    }
   ],
   "source": [
    "model.summary()\n"
   ]
  },
  {
   "cell_type": "code",
   "execution_count": 17,
   "id": "f36a31bc",
   "metadata": {},
   "outputs": [
    {
     "name": "stderr",
     "output_type": "stream",
     "text": [
      "/home/earvin/anaconda3/envs/tf210/lib/python3.9/site-packages/keras/optimizers/optimizer_v2/rmsprop.py:140: UserWarning: The `lr` argument is deprecated, use `learning_rate` instead.\n",
      "  super().__init__(name, **kwargs)\n"
     ]
    }
   ],
   "source": [
    "# § 代碼清單 5-6 配置模型用於訓練\n",
    "from keras import optimizers\n",
    "\n",
    "model.compile(loss='binary_crossentropy',\n",
    "              optimizer=optimizers.RMSprop(lr=1e-4),\n",
    "              metrics=['acc'])\n"
   ]
  },
  {
   "cell_type": "code",
   "execution_count": 18,
   "id": "a31dc6b6",
   "metadata": {},
   "outputs": [
    {
     "name": "stdout",
     "output_type": "stream",
     "text": [
      "Found 2000 images belonging to 2 classes.\n",
      "Found 1000 images belonging to 2 classes.\n"
     ]
    }
   ],
   "source": [
    "# § 代碼清單 5-7 使用ImageDataGenerator從目錄中讀取圖像\n",
    "from keras.preprocessing.image import ImageDataGenerator\n",
    "\n",
    "train_datagen = ImageDataGenerator(rescale=1./255)\n",
    "test_datagen = ImageDataGenerator(rescale=1./255)\n",
    "\n",
    "train_generator = train_datagen.flow_from_directory(\n",
    "    train_dir,\n",
    "    target_size=(150, 150),\n",
    "    batch_size=20,\n",
    "    class_mode='binary')\n",
    "\n",
    "validation_generator = test_datagen.flow_from_directory(\n",
    "    validation_dir,\n",
    "    target_size=(150, 150),\n",
    "    batch_size=20,\n",
    "    class_mode='binary')\n"
   ]
  },
  {
   "cell_type": "code",
   "execution_count": 19,
   "id": "27234ef2",
   "metadata": {},
   "outputs": [
    {
     "name": "stdout",
     "output_type": "stream",
     "text": [
      "data batch shape: (20, 150, 150, 3)\n",
      "labels batch shape: (20,)\n"
     ]
    }
   ],
   "source": [
    "#=== FOR TEST ===#\n",
    "for data_batch, labels_batch in train_generator:\n",
    "    print('data batch shape:', data_batch.shape)\n",
    "    print('labels batch shape:', labels_batch.shape)\n",
    "    break\n"
   ]
  },
  {
   "cell_type": "code",
   "execution_count": 20,
   "id": "46af5988",
   "metadata": {},
   "outputs": [
    {
     "name": "stdout",
     "output_type": "stream",
     "text": [
      "Epoch 1/30\n"
     ]
    },
    {
     "name": "stderr",
     "output_type": "stream",
     "text": [
      "/tmp/ipykernel_27145/80143533.py:3: UserWarning: `Model.fit_generator` is deprecated and will be removed in a future version. Please use `Model.fit`, which supports generators.\n",
      "  history = model.fit_generator(\n"
     ]
    },
    {
     "name": "stdout",
     "output_type": "stream",
     "text": [
      "100/100 [==============================] - 5s 42ms/step - loss: 0.6856 - acc: 0.5410 - val_loss: 0.6847 - val_acc: 0.5370\n",
      "Epoch 2/30\n",
      "100/100 [==============================] - 4s 41ms/step - loss: 0.6522 - acc: 0.6115 - val_loss: 0.6404 - val_acc: 0.6210\n",
      "Epoch 3/30\n",
      "100/100 [==============================] - 4s 41ms/step - loss: 0.6085 - acc: 0.6670 - val_loss: 0.6284 - val_acc: 0.6500\n",
      "Epoch 4/30\n",
      "100/100 [==============================] - 4s 41ms/step - loss: 0.5645 - acc: 0.7020 - val_loss: 0.5907 - val_acc: 0.6840\n",
      "Epoch 5/30\n",
      "100/100 [==============================] - 4s 41ms/step - loss: 0.5354 - acc: 0.7295 - val_loss: 0.5815 - val_acc: 0.6940\n",
      "Epoch 6/30\n",
      "100/100 [==============================] - 4s 41ms/step - loss: 0.5064 - acc: 0.7490 - val_loss: 0.5672 - val_acc: 0.6930\n",
      "Epoch 7/30\n",
      "100/100 [==============================] - 4s 41ms/step - loss: 0.4876 - acc: 0.7550 - val_loss: 0.5566 - val_acc: 0.7070\n",
      "Epoch 8/30\n",
      "100/100 [==============================] - 4s 41ms/step - loss: 0.4582 - acc: 0.7890 - val_loss: 0.5658 - val_acc: 0.7120\n",
      "Epoch 9/30\n",
      "100/100 [==============================] - 4s 41ms/step - loss: 0.4390 - acc: 0.8025 - val_loss: 0.5414 - val_acc: 0.7200\n",
      "Epoch 10/30\n",
      "100/100 [==============================] - 4s 41ms/step - loss: 0.4144 - acc: 0.8195 - val_loss: 0.5684 - val_acc: 0.7060\n",
      "Epoch 11/30\n",
      "100/100 [==============================] - 4s 41ms/step - loss: 0.3969 - acc: 0.8135 - val_loss: 0.6013 - val_acc: 0.6850\n",
      "Epoch 12/30\n",
      "100/100 [==============================] - 4s 40ms/step - loss: 0.3699 - acc: 0.8350 - val_loss: 0.5393 - val_acc: 0.7310\n",
      "Epoch 13/30\n",
      "100/100 [==============================] - 4s 41ms/step - loss: 0.3508 - acc: 0.8470 - val_loss: 0.5304 - val_acc: 0.7390\n",
      "Epoch 14/30\n",
      "100/100 [==============================] - 4s 41ms/step - loss: 0.3281 - acc: 0.8625 - val_loss: 0.6064 - val_acc: 0.7240\n",
      "Epoch 15/30\n",
      "100/100 [==============================] - 4s 42ms/step - loss: 0.3016 - acc: 0.8690 - val_loss: 0.5651 - val_acc: 0.7190\n",
      "Epoch 16/30\n",
      "100/100 [==============================] - 4s 41ms/step - loss: 0.2822 - acc: 0.8830 - val_loss: 0.5726 - val_acc: 0.7410\n",
      "Epoch 17/30\n",
      "100/100 [==============================] - 4s 40ms/step - loss: 0.2678 - acc: 0.8870 - val_loss: 0.6344 - val_acc: 0.7190\n",
      "Epoch 18/30\n",
      "100/100 [==============================] - 4s 41ms/step - loss: 0.2426 - acc: 0.9055 - val_loss: 0.6062 - val_acc: 0.7480\n",
      "Epoch 19/30\n",
      "100/100 [==============================] - 4s 41ms/step - loss: 0.2253 - acc: 0.9055 - val_loss: 0.5814 - val_acc: 0.7510\n",
      "Epoch 20/30\n",
      "100/100 [==============================] - 4s 40ms/step - loss: 0.2001 - acc: 0.9245 - val_loss: 0.7096 - val_acc: 0.7170\n",
      "Epoch 21/30\n",
      "100/100 [==============================] - 4s 41ms/step - loss: 0.1846 - acc: 0.9400 - val_loss: 0.7155 - val_acc: 0.7010\n",
      "Epoch 22/30\n",
      "100/100 [==============================] - 4s 41ms/step - loss: 0.1681 - acc: 0.9430 - val_loss: 0.6905 - val_acc: 0.7340\n",
      "Epoch 23/30\n",
      "100/100 [==============================] - 4s 41ms/step - loss: 0.1490 - acc: 0.9520 - val_loss: 0.7574 - val_acc: 0.7210\n",
      "Epoch 24/30\n",
      "100/100 [==============================] - 4s 41ms/step - loss: 0.1347 - acc: 0.9515 - val_loss: 0.7705 - val_acc: 0.7190\n",
      "Epoch 25/30\n",
      "100/100 [==============================] - 4s 41ms/step - loss: 0.1101 - acc: 0.9670 - val_loss: 0.6968 - val_acc: 0.7480\n",
      "Epoch 26/30\n",
      "100/100 [==============================] - 4s 41ms/step - loss: 0.1065 - acc: 0.9680 - val_loss: 0.7435 - val_acc: 0.7360\n",
      "Epoch 27/30\n",
      "100/100 [==============================] - 4s 41ms/step - loss: 0.0939 - acc: 0.9705 - val_loss: 0.7330 - val_acc: 0.7380\n",
      "Epoch 28/30\n",
      "100/100 [==============================] - 4s 41ms/step - loss: 0.0778 - acc: 0.9795 - val_loss: 0.7712 - val_acc: 0.7400\n",
      "Epoch 29/30\n",
      "100/100 [==============================] - 4s 40ms/step - loss: 0.0706 - acc: 0.9800 - val_loss: 0.8700 - val_acc: 0.7350\n",
      "Epoch 30/30\n",
      "100/100 [==============================] - 4s 41ms/step - loss: 0.0617 - acc: 0.9840 - val_loss: 0.9138 - val_acc: 0.7350\n"
     ]
    },
    {
     "data": {
      "text/plain": [
       "'\\nhistory = model.fit_generator(\\n    train_generator,\\n    steps_per_epoch=100,\\n    epochs=30,\\n    validation_data=validation_generator,\\n    validation_steps=50)\\n'"
      ]
     },
     "execution_count": 20,
     "metadata": {},
     "output_type": "execute_result"
    }
   ],
   "source": [
    "# § 代碼清單 5-8 利用批量生成器儗合模型\n",
    "\n",
    "history = model.fit_generator(\n",
    "      train_generator,\n",
    "      steps_per_epoch=100,\n",
    "      epochs=30,\n",
    "      validation_data=validation_generator,\n",
    "      validation_steps=50)\n",
    "\n",
    "\"\"\"\n",
    "history = model.fit_generator(\n",
    "    train_generator,\n",
    "    steps_per_epoch=100,\n",
    "    epochs=30,\n",
    "    validation_data=validation_generator,\n",
    "    validation_steps=50)\n",
    "\"\"\""
   ]
  },
  {
   "cell_type": "code",
   "execution_count": 21,
   "id": "dee102a4",
   "metadata": {},
   "outputs": [],
   "source": [
    "# § 代碼清單 5-9 保存模型\n",
    "model.save('cats_and_dogs_small_1.h5')\n"
   ]
  },
  {
   "cell_type": "code",
   "execution_count": 22,
   "id": "ac82f7c8",
   "metadata": {},
   "outputs": [
    {
     "data": {
      "image/png": "[encoded data removed]",
      "text/plain": [
       "<Figure size 640x480 with 1 Axes>"
      ]
     },
     "metadata": {},
     "output_type": "display_data"
    },
    {
     "data": {
      "image/png": "[encoded data removed]",
      "text/plain": [
       "<Figure size 640x480 with 1 Axes>"
      ]
     },
     "metadata": {},
     "output_type": "display_data"
    }
   ],
   "source": [
    "# § 代碼清單 5-10 繪製訓練過程中的損失曲線和精度曲線\n",
    "import matplotlib.pyplot as plt\n",
    "\n",
    "acc = history.history['acc']\n",
    "val_acc = history.history['val_acc']\n",
    "loss = history.history['loss']\n",
    "val_loss = history.history['val_loss']\n",
    "\n",
    "epochs = range(1, len(acc) + 1)\n",
    "\n",
    "plt.plot(epochs, acc, 'bo', label='Training loss')\n",
    "plt.plot(epochs, val_acc, 'b', label='Validation acc')\n",
    "plt.title('Training and validation accuracy')\n",
    "plt.legend()\n",
    "\n",
    "plt.figure()\n",
    "\n",
    "plt.plot(epochs, loss, 'bo', label='Training loss')\n",
    "plt.plot(epochs, val_loss, 'b', label='Validation loss')\n",
    "plt.title('Training and validation loss')\n",
    "plt.legend()\n",
    "\n",
    "plt.show()\n"
   ]
  },
  {
   "cell_type": "code",
   "execution_count": 23,
   "id": "8d45ad53-e823-4e5c-a55d-64620aff0356",
   "metadata": {},
   "outputs": [
    {
     "name": "stdout",
     "output_type": "stream",
     "text": [
      "['model_weights', 'optimizer_weights']\n"
     ]
    }
   ],
   "source": [
    "#--- TEST h5 document --\n",
    "import h5py\n",
    "\n",
    "f = h5py.File('/home/earvin/workspaces/GithubProjects/tensorflow/scripts/cats_and_dogs_small_1.h5','r')\n",
    "f.keys() #可以查看所有的主键\n",
    "print([key for key in f.keys()])"
   ]
  },
  {
   "cell_type": "code",
   "execution_count": 24,
   "id": "05848f4b-9049-453f-97c6-15f981145a15",
   "metadata": {},
   "outputs": [],
   "source": [
    "from keras.models import load_model\n",
    "\n",
    "# 刪除既有模型變數\n",
    "#del model \n",
    "\n",
    "# 載入模型\n",
    "model = load_model('cats_and_dogs_small_1.h5')"
   ]
  },
  {
   "cell_type": "code",
   "execution_count": null,
   "id": "4fe9de0d-9875-46c6-ac7e-0c0843d36938",
   "metadata": {},
   "outputs": [],
   "source": []
  }
 ],
 "metadata": {
  "kernelspec": {
   "display_name": "Python 3 (ipykernel)",
   "language": "python",
   "name": "python3"
  },
  "language_info": {
   "codemirror_mode": {
    "name": "ipython",
    "version": 3
   },
   "file_extension": ".py",
   "mimetype": "text/x-python",
   "name": "python",
   "nbconvert_exporter": "python",
   "pygments_lexer": "ipython3",
   "version": "3.9.0"
  }
 },
 "nbformat": 4,
 "nbformat_minor": 5
}
