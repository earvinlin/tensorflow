{
 "cells": [
  {
   "cell_type": "code",
   "execution_count": 1,
   "id": "1416c439",
   "metadata": {},
   "outputs": [
    {
     "name": "stderr",
     "output_type": "stream",
     "text": [
      "2023-09-11 10:04:11.984203: I tensorflow/core/platform/cpu_feature_guard.cc:193] This TensorFlow binary is optimized with oneAPI Deep Neural Network Library (oneDNN) to use the following CPU instructions in performance-critical operations:  SSE4.1 SSE4.2 AVX AVX2 FMA\n",
      "To enable them in other operations, rebuild TensorFlow with the appropriate compiler flags.\n"
     ]
    }
   ],
   "source": [
    "import os\n",
    "import numpy as np\n",
    "import pandas as pd\n",
    "import tensorflow as tf\n",
    "import matplotlib.pyplot as plt\n",
    "from tensorflow import keras\n",
    "from tensorflow.keras import layers"
   ]
  },
  {
   "cell_type": "code",
   "execution_count": 2,
   "id": "d683dcda",
   "metadata": {},
   "outputs": [
    {
     "data": {
      "text/plain": [
       "'2.10.0'"
      ]
     },
     "execution_count": 2,
     "metadata": {},
     "output_type": "execute_result"
    }
   ],
   "source": [
    "tf.__version__"
   ]
  },
  {
   "cell_type": "code",
   "execution_count": 3,
   "id": "e33ba738",
   "metadata": {},
   "outputs": [],
   "source": [
    "# 3.5 新聞分類：多分類問題\n",
    "# §代碼清單 3-12\n",
    "\n",
    "from keras.datasets import reuters\n",
    "\n",
    "#(train_data, train_labels), (test_data, test_labels) = reuters.load_data(num_words = 10000,test_split=0.2)\n",
    "(train_data, train_labels), (test_data, test_labels) = reuters.load_data(num_words = 10000)\n"
   ]
  },
  {
   "cell_type": "code",
   "execution_count": 4,
   "id": "479f2968",
   "metadata": {},
   "outputs": [
    {
     "name": "stdout",
     "output_type": "stream",
     "text": [
      "train records :  8982\n",
      "test  records :  2246\n",
      "\n",
      "\n",
      "train_data[10] :\n",
      "[1, 245, 273, 207, 156, 53, 74, 160, 26, 14, 46, 296, 26, 39, 74, 2979, 3554, 14, 46, 4689, 4329, 86, 61, 3499, 4795, 14, 61, 451, 4329, 17, 12]\n"
     ]
    }
   ],
   "source": [
    "# === FOR CHECK ===\n",
    "print('train records : ', len(train_data))\n",
    "print('test  records : ', len(test_data))\n",
    "print('\\n')\n",
    "print('train_data[10] :')\n",
    "print(train_data[10])"
   ]
  },
  {
   "cell_type": "code",
   "execution_count": 5,
   "id": "716cf32b",
   "metadata": {},
   "outputs": [
    {
     "name": "stdout",
     "output_type": "stream",
     "text": [
      "? period ended december 31 shr profit 11 cts vs loss 24 cts net profit 224 271 vs loss 511 349 revs 7 258 688 vs 7 200 349 reuter 3\n"
     ]
    }
   ],
   "source": [
    "# §代碼清單 3-13\n",
    "\n",
    "word_index = reuters.get_word_index()\n",
    "reverse_word_index = dict([(value, key) for (key, value) in word_index.items()])\n",
    "decoded_newswire = ' '.join([reverse_word_index.get(i - 3, '?') for i in train_data[10]])\n",
    "\n",
    "print(decoded_newswire)"
   ]
  },
  {
   "cell_type": "code",
   "execution_count": 6,
   "id": "a8aa6c09",
   "metadata": {},
   "outputs": [
    {
     "name": "stdout",
     "output_type": "stream",
     "text": [
      "3\n"
     ]
    }
   ],
   "source": [
    "print(train_labels[10])"
   ]
  },
  {
   "cell_type": "code",
   "execution_count": 7,
   "id": "91fdd9f9",
   "metadata": {},
   "outputs": [],
   "source": [
    "# §代碼清單 3-14\n",
    "\n",
    "import numpy as np\n",
    "\n",
    "def vectorize_sequences(sequences, dimension = 10000) :\n",
    "    results = np.zeros((len(sequences), dimension))\n",
    "    for i, sequence in enumerate(sequences) :\n",
    "        results[i, sequence] = 1.\n",
    "    return results\n",
    "\n",
    "x_train = vectorize_sequences(train_data)\n",
    "x_test = vectorize_sequences(test_data)"
   ]
  },
  {
   "cell_type": "code",
   "execution_count": 8,
   "id": "61ad5a0d",
   "metadata": {},
   "outputs": [],
   "source": [
    "# §代碼清單 3-14 數據編碼 continue ...\n",
    "\n",
    "def to_one_hot(labels, dimension = 46) :\n",
    "    results = np.zeros((len(labels), dimension))\n",
    "    for i, label in enumerate(labels) :\n",
    "        results[i, label] = 1.\n",
    "    return results\n",
    "\n",
    "one_hot_train_labels = to_one_hot(train_labels)\n",
    "one_hot_test_labels = to_one_hot(test_labels)\n",
    "\n",
    "# built-in metho in keras\n",
    "#from keras.utils.np_utils import to_categorical\n",
    "#one_hot_train_labels = to_categorical(train_labels)\n",
    "#one_hot_test_labels = to_categorical(test_labels)\n"
   ]
  },
  {
   "cell_type": "code",
   "execution_count": 9,
   "id": "414f404b",
   "metadata": {},
   "outputs": [
    {
     "name": "stderr",
     "output_type": "stream",
     "text": [
      "2023-09-11 10:06:11.996331: I tensorflow/core/platform/cpu_feature_guard.cc:193] This TensorFlow binary is optimized with oneAPI Deep Neural Network Library (oneDNN) to use the following CPU instructions in performance-critical operations:  SSE4.1 SSE4.2 AVX AVX2 FMA\n",
      "To enable them in other operations, rebuild TensorFlow with the appropriate compiler flags.\n"
     ]
    }
   ],
   "source": [
    "# §代碼清單 3-15 模型定義\n",
    "\n",
    "from keras import models\n",
    "from keras import layers\n",
    "\n",
    "model = models.Sequential()\n",
    "model.add(layers.Dense(64, activation = 'relu', input_shape = (10000,)))\n",
    "model.add(layers.Dense(64, activation = 'relu'))\n",
    "model.add(layers.Dense(46, activation = 'softmax'))\n"
   ]
  },
  {
   "cell_type": "code",
   "execution_count": 10,
   "id": "e9bd7fa9",
   "metadata": {},
   "outputs": [],
   "source": [
    "# §代碼清單 3-16 編譯模型\n",
    "\n",
    "model.compile(optimizer = 'rmsprop',\n",
    "             loss = 'categorical_crossentropy',\n",
    "             metrics = ['accuracy'])\n"
   ]
  },
  {
   "cell_type": "code",
   "execution_count": 11,
   "id": "694b7f82",
   "metadata": {},
   "outputs": [],
   "source": [
    "# §代碼清單 3-17 留出驗證集\n",
    "\n",
    "x_val = x_train[:1000] # for verify (資料)\n",
    "partial_x_train = x_train[1000:]\n",
    "\n",
    "y_val = one_hot_train_labels[:1000] # for verify (標籤)\n",
    "partial_y_train = one_hot_train_labels[1000:]\n"
   ]
  },
  {
   "cell_type": "code",
   "execution_count": 12,
   "id": "3e66e93f",
   "metadata": {},
   "outputs": [
    {
     "name": "stdout",
     "output_type": "stream",
     "text": [
      "Epoch 1/20\n",
      "16/16 [==============================] - 1s 40ms/step - loss: 2.6912 - accuracy: 0.4672 - val_loss: 1.7548 - val_accuracy: 0.6130\n",
      "Epoch 2/20\n",
      "16/16 [==============================] - 0s 22ms/step - loss: 1.4589 - accuracy: 0.6963 - val_loss: 1.3502 - val_accuracy: 0.7070\n",
      "Epoch 3/20\n",
      "16/16 [==============================] - 0s 19ms/step - loss: 1.1020 - accuracy: 0.7689 - val_loss: 1.2116 - val_accuracy: 0.7320\n",
      "Epoch 4/20\n",
      "16/16 [==============================] - 0s 18ms/step - loss: 0.8795 - accuracy: 0.8176 - val_loss: 1.0736 - val_accuracy: 0.7760\n",
      "Epoch 5/20\n",
      "16/16 [==============================] - 0s 18ms/step - loss: 0.7060 - accuracy: 0.8520 - val_loss: 1.0086 - val_accuracy: 0.7900\n",
      "Epoch 6/20\n",
      "16/16 [==============================] - 0s 17ms/step - loss: 0.5705 - accuracy: 0.8821 - val_loss: 0.9539 - val_accuracy: 0.8080\n",
      "Epoch 7/20\n",
      "16/16 [==============================] - 0s 19ms/step - loss: 0.4668 - accuracy: 0.9022 - val_loss: 0.9583 - val_accuracy: 0.7990\n",
      "Epoch 8/20\n",
      "16/16 [==============================] - 0s 19ms/step - loss: 0.3799 - accuracy: 0.9193 - val_loss: 0.9417 - val_accuracy: 0.8040\n",
      "Epoch 9/20\n",
      "16/16 [==============================] - 0s 18ms/step - loss: 0.3127 - accuracy: 0.9312 - val_loss: 0.9271 - val_accuracy: 0.8120\n",
      "Epoch 10/20\n",
      "16/16 [==============================] - 0s 19ms/step - loss: 0.2642 - accuracy: 0.9404 - val_loss: 0.9405 - val_accuracy: 0.8080\n",
      "Epoch 11/20\n",
      "16/16 [==============================] - 0s 19ms/step - loss: 0.2316 - accuracy: 0.9451 - val_loss: 0.9695 - val_accuracy: 0.8070\n",
      "Epoch 12/20\n",
      "16/16 [==============================] - 0s 19ms/step - loss: 0.1964 - accuracy: 0.9506 - val_loss: 0.9609 - val_accuracy: 0.8130\n",
      "Epoch 13/20\n",
      "16/16 [==============================] - 0s 19ms/step - loss: 0.1766 - accuracy: 0.9539 - val_loss: 0.9972 - val_accuracy: 0.8210\n",
      "Epoch 14/20\n",
      "16/16 [==============================] - 0s 20ms/step - loss: 0.1617 - accuracy: 0.9534 - val_loss: 0.9870 - val_accuracy: 0.8180\n",
      "Epoch 15/20\n",
      "16/16 [==============================] - 0s 19ms/step - loss: 0.1485 - accuracy: 0.9554 - val_loss: 1.0202 - val_accuracy: 0.8090\n",
      "Epoch 16/20\n",
      "16/16 [==============================] - 0s 19ms/step - loss: 0.1378 - accuracy: 0.9580 - val_loss: 1.0122 - val_accuracy: 0.8090\n",
      "Epoch 17/20\n",
      "16/16 [==============================] - 0s 19ms/step - loss: 0.1310 - accuracy: 0.9584 - val_loss: 1.1201 - val_accuracy: 0.7980\n",
      "Epoch 18/20\n",
      "16/16 [==============================] - 0s 20ms/step - loss: 0.1273 - accuracy: 0.9555 - val_loss: 1.1018 - val_accuracy: 0.8090\n",
      "Epoch 19/20\n",
      "16/16 [==============================] - 0s 22ms/step - loss: 0.1193 - accuracy: 0.9580 - val_loss: 1.0648 - val_accuracy: 0.8070\n",
      "Epoch 20/20\n",
      "16/16 [==============================] - 0s 19ms/step - loss: 0.1150 - accuracy: 0.9585 - val_loss: 1.1102 - val_accuracy: 0.8090\n"
     ]
    }
   ],
   "source": [
    "# §代碼清單 3-18 訓練模型\n",
    "\n",
    "history = model.fit(partial_x_train,\n",
    "                   partial_y_train,\n",
    "                   epochs = 20,\n",
    "                   batch_size = 512,\n",
    "                   validation_data = (x_val, y_val))\n"
   ]
  },
  {
   "cell_type": "code",
   "execution_count": 13,
   "id": "68d78f0a",
   "metadata": {},
   "outputs": [
    {
     "data": {
      "image/png": "[encoded data removed]",
      "text/plain": [
       "<Figure size 640x480 with 1 Axes>"
      ]
     },
     "metadata": {},
     "output_type": "display_data"
    }
   ],
   "source": [
    "# §代碼清單 3-19 繪製訓練損失和驗證損失\n",
    "\n",
    "import matplotlib.pyplot as plt\n",
    "\n",
    "loss = history.history['loss']\n",
    "val_loss = history.history['val_loss']\n",
    "\n",
    "epochs = range(1, len(loss) + 1)\n",
    "\n",
    "plt.plot(epochs, loss, 'bo', label = 'Training loss')\n",
    "plt.plot(epochs, val_loss, 'b', label = 'Validation loss')\n",
    "plt.title('Training and validation loss')\n",
    "plt.xlabel('Epochs')\n",
    "plt.ylabel('Loss')\n",
    "plt.legend()\n",
    "\n",
    "plt.show()\n"
   ]
  },
  {
   "cell_type": "code",
   "execution_count": 14,
   "id": "f2fc74ac",
   "metadata": {},
   "outputs": [
    {
     "data": {
      "image/png": "[encoded data removed]",
      "text/plain": [
       "<Figure size 640x480 with 1 Axes>"
      ]
     },
     "metadata": {},
     "output_type": "display_data"
    }
   ],
   "source": [
    "# §代碼清單 3-20 繪製訓練精度和驗證精度\n",
    "\n",
    "plt.clf()\n",
    "acc = history.history['accuracy']\n",
    "val_acc = history.history['val_accuracy']\n",
    "\n",
    "plt.plot(epochs, acc, 'bo', label = 'Training acc')\n",
    "plt.plot(epochs, val_acc, 'b', label = 'Validation acc')\n",
    "plt.title('Training and validation accuracy')\n",
    "plt.xlabel('Epochs')\n",
    "plt.ylabel('Accuracy')\n",
    "plt.legend()\n",
    "\n",
    "plt.show()\n"
   ]
  },
  {
   "cell_type": "code",
   "execution_count": 15,
   "id": "ac2e79ee",
   "metadata": {},
   "outputs": [
    {
     "name": "stdout",
     "output_type": "stream",
     "text": [
      "Epoch 1/9\n",
      "16/16 [==============================] - 1s 35ms/step - loss: 2.6553 - accuracy: 0.5143 - val_loss: 1.7120 - val_accuracy: 0.6510\n",
      "Epoch 2/9\n",
      "16/16 [==============================] - 0s 17ms/step - loss: 1.3881 - accuracy: 0.7088 - val_loss: 1.2824 - val_accuracy: 0.7250\n",
      "Epoch 3/9\n",
      "16/16 [==============================] - 0s 19ms/step - loss: 1.0285 - accuracy: 0.7771 - val_loss: 1.1149 - val_accuracy: 0.7600\n",
      "Epoch 4/9\n",
      "16/16 [==============================] - 0s 17ms/step - loss: 0.8160 - accuracy: 0.8250 - val_loss: 1.0317 - val_accuracy: 0.7780\n",
      "Epoch 5/9\n",
      "16/16 [==============================] - 0s 21ms/step - loss: 0.6557 - accuracy: 0.8618 - val_loss: 0.9755 - val_accuracy: 0.7940\n",
      "Epoch 6/9\n",
      "16/16 [==============================] - 0s 22ms/step - loss: 0.5292 - accuracy: 0.8916 - val_loss: 0.9279 - val_accuracy: 0.8050\n",
      "Epoch 7/9\n",
      "16/16 [==============================] - 0s 21ms/step - loss: 0.4321 - accuracy: 0.9119 - val_loss: 0.9099 - val_accuracy: 0.8060\n",
      "Epoch 8/9\n",
      "16/16 [==============================] - 0s 23ms/step - loss: 0.3528 - accuracy: 0.9251 - val_loss: 0.9161 - val_accuracy: 0.8050\n",
      "Epoch 9/9\n",
      "16/16 [==============================] - 0s 19ms/step - loss: 0.2932 - accuracy: 0.9364 - val_loss: 0.8989 - val_accuracy: 0.8110\n",
      "71/71 [==============================] - 0s 2ms/step - loss: 1.0252 - accuracy: 0.7778\n"
     ]
    }
   ],
   "source": [
    "# §代碼清單 3-21 從頭開始重新訓練一個模型 (p.64)\n",
    "\n",
    "model = models.Sequential()\n",
    "\n",
    "model.add(layers.Dense(64, activation = 'relu', input_shape = (10000,)))\n",
    "model.add(layers.Dense(64, activation = 'relu'))\n",
    "model.add(layers.Dense(46, activation = 'softmax'))\n",
    "\n",
    "model.compile(optimizer = 'rmsprop',\n",
    "             loss = 'categorical_crossentropy',\n",
    "             metrics = ['accuracy'])\n",
    "model.fit(partial_x_train,\n",
    "         partial_y_train,\n",
    "         epochs = 9,\n",
    "         batch_size = 512,\n",
    "         validation_data = (x_val, y_val))\n",
    "# x_test, one_hot_test_labels : 一開始讀取資料時，將資料分為訓練資料與測試資料，此2變數即為測試資料\n",
    "results = model.evaluate(x_test, one_hot_test_labels)\n"
   ]
  },
  {
   "cell_type": "code",
   "execution_count": 16,
   "id": "7f3aef5a",
   "metadata": {},
   "outputs": [
    {
     "name": "stdout",
     "output_type": "stream",
     "text": [
      "[1.0252312421798706, 0.777827262878418]\n"
     ]
    }
   ],
   "source": [
    "# === FOR CHECK (p.64, pdf.81) ===\n",
    "print(results)"
   ]
  },
  {
   "cell_type": "code",
   "execution_count": 17,
   "id": "045ba0fc",
   "metadata": {},
   "outputs": [
    {
     "name": "stdout",
     "output_type": "stream",
     "text": [
      "[ 3 10  1 ...  3  3 24]\n",
      "[ 3  3  4 ... 16 18  3]\n",
      "[ True False False ... False False False]\n",
      "475\n",
      "2246\n"
     ]
    },
    {
     "data": {
      "text/plain": [
       "0.21148708815672307"
      ]
     },
     "execution_count": 17,
     "metadata": {},
     "output_type": "execute_result"
    }
   ],
   "source": [
    "# p.64 \n",
    "import copy \n",
    "test_labels_copy = copy.copy(test_labels)\n",
    "print(test_labels)\n",
    "np.random.shuffle(test_labels_copy)\n",
    "print(test_labels_copy)\n",
    "hits_array = np.array(test_labels) == np.array(test_labels_copy)\n",
    "print(hits_array)\n",
    "print(np.sum(hits_array))\n",
    "print(len(test_labels))\n",
    "float(np.sum(hits_array)) / len(test_labels)"
   ]
  },
  {
   "cell_type": "code",
   "execution_count": 18,
   "id": "d76f889f",
   "metadata": {},
   "outputs": [
    {
     "name": "stdout",
     "output_type": "stream",
     "text": [
      "71/71 [==============================] - 0s 2ms/step\n"
     ]
    }
   ],
   "source": [
    "# §代碼清單 3-22 在新數據上生成預測結果 (p.65)\n",
    "\n",
    "predictions = model.predict(x_test)\n",
    "\n",
    "#print(predictions[0].shape)\n",
    "#print(np.argmax(predictions[0]))\n",
    "\n",
    "#y_train = np.array(train_labels)\n",
    "#y_test = np.array(test_labels)\n",
    "\n",
    "#model.compile(optimizer = 'rmsprop',\n",
    "#             loss = 'sparse_categorical_crossentropy',\n",
    "#             metric = ['accuracy'])\n",
    "\n"
   ]
  },
  {
   "cell_type": "code",
   "execution_count": 27,
   "id": "541083cb",
   "metadata": {},
   "outputs": [
    {
     "name": "stdout",
     "output_type": "stream",
     "text": [
      "1 =  (46,)\n",
      "2 =  1.0\n",
      "3 =  [5.7906938e-05 1.8874751e-04 8.3045024e-06 8.8661063e-01 1.0180151e-01\n",
      " 4.0472059e-06 1.6252450e-05 7.0032125e-05 1.9751936e-03 1.9323468e-05\n",
      " 4.8811715e-05 1.8841714e-03 8.8897439e-05 1.2221708e-04 9.0007634e-05\n",
      " 3.3097185e-05 7.9351541e-04 8.8851841e-05 3.5802906e-05 1.5545512e-03\n",
      " 5.7877466e-04 1.2487054e-04 2.8542387e-05 4.6618814e-05 6.2502768e-06\n",
      " 1.1181694e-04 3.4998739e-06 4.2634204e-04 1.8060206e-04 7.0236169e-04\n",
      " 8.5398293e-05 1.2643667e-05 2.3339513e-05 5.1375366e-05 2.9274030e-05\n",
      " 1.0985532e-05 2.4661256e-04 1.4042364e-05 4.8727643e-06 1.5439554e-03\n",
      " 7.6118835e-05 1.2560459e-04 5.7407888e-05 2.2545482e-06 3.6473259e-06\n",
      " 1.0956738e-05]\n",
      "4 =  46\n",
      "5 =  3\n"
     ]
    }
   ],
   "source": [
    "# §代碼清單 3-22 continue\n",
    "\n",
    "print(\"1 = \", predictions[0].shape)\n",
    "print(\"2 = \", np.sum(predictions[0]))\n",
    "print(\"3 = \", predictions[0])\n",
    "print(\"4 = \", len(predictions[0]))\n",
    "print(\"5 = \", np.argmax(predictions[0])) # 最大的元素，就是預測類別，即概率最大的類別"
   ]
  },
  {
   "cell_type": "code",
   "execution_count": 28,
   "id": "a143d465",
   "metadata": {},
   "outputs": [
    {
     "name": "stdout",
     "output_type": "stream",
     "text": [
      "Epoch 1/20\n",
      "63/63 [==============================] - 1s 16ms/step - loss: 3.1977 - accuracy: 0.1312 - val_loss: 2.5006 - val_accuracy: 0.5630\n",
      "Epoch 2/20\n",
      "63/63 [==============================] - 1s 11ms/step - loss: 1.7958 - accuracy: 0.6604 - val_loss: 1.5035 - val_accuracy: 0.6800\n",
      "Epoch 3/20\n",
      "63/63 [==============================] - 1s 9ms/step - loss: 1.2609 - accuracy: 0.7182 - val_loss: 1.3537 - val_accuracy: 0.7050\n",
      "Epoch 4/20\n",
      "63/63 [==============================] - 1s 11ms/step - loss: 1.0965 - accuracy: 0.7402 - val_loss: 1.2917 - val_accuracy: 0.7100\n",
      "Epoch 5/20\n",
      "63/63 [==============================] - 1s 10ms/step - loss: 0.9906 - accuracy: 0.7503 - val_loss: 1.2870 - val_accuracy: 0.7050\n",
      "Epoch 6/20\n",
      "63/63 [==============================] - 1s 10ms/step - loss: 0.9078 - accuracy: 0.7551 - val_loss: 1.3019 - val_accuracy: 0.7090\n",
      "Epoch 7/20\n",
      "63/63 [==============================] - 1s 10ms/step - loss: 0.8367 - accuracy: 0.7600 - val_loss: 1.2952 - val_accuracy: 0.7110\n",
      "Epoch 8/20\n",
      "63/63 [==============================] - 1s 9ms/step - loss: 0.7729 - accuracy: 0.7761 - val_loss: 1.3025 - val_accuracy: 0.7210\n",
      "Epoch 9/20\n",
      "63/63 [==============================] - 1s 9ms/step - loss: 0.7152 - accuracy: 0.7992 - val_loss: 1.3346 - val_accuracy: 0.7280\n",
      "Epoch 10/20\n",
      "63/63 [==============================] - 1s 9ms/step - loss: 0.6646 - accuracy: 0.8156 - val_loss: 1.3556 - val_accuracy: 0.7380\n",
      "Epoch 11/20\n",
      "63/63 [==============================] - 1s 10ms/step - loss: 0.6210 - accuracy: 0.8242 - val_loss: 1.3904 - val_accuracy: 0.7360\n",
      "Epoch 12/20\n",
      "63/63 [==============================] - 1s 9ms/step - loss: 0.5811 - accuracy: 0.8338 - val_loss: 1.4438 - val_accuracy: 0.7330\n",
      "Epoch 13/20\n",
      "63/63 [==============================] - 1s 9ms/step - loss: 0.5473 - accuracy: 0.8434 - val_loss: 1.5102 - val_accuracy: 0.7370\n",
      "Epoch 14/20\n",
      "63/63 [==============================] - 1s 10ms/step - loss: 0.5168 - accuracy: 0.8532 - val_loss: 1.5544 - val_accuracy: 0.7390\n",
      "Epoch 15/20\n",
      "63/63 [==============================] - 1s 10ms/step - loss: 0.4894 - accuracy: 0.8647 - val_loss: 1.5899 - val_accuracy: 0.7290\n",
      "Epoch 16/20\n",
      "63/63 [==============================] - 1s 9ms/step - loss: 0.4614 - accuracy: 0.8736 - val_loss: 1.6494 - val_accuracy: 0.7420\n",
      "Epoch 17/20\n",
      "63/63 [==============================] - 1s 10ms/step - loss: 0.4385 - accuracy: 0.8800 - val_loss: 1.6743 - val_accuracy: 0.7360\n",
      "Epoch 18/20\n",
      "63/63 [==============================] - 1s 10ms/step - loss: 0.4175 - accuracy: 0.8861 - val_loss: 1.7810 - val_accuracy: 0.7240\n",
      "Epoch 19/20\n",
      "63/63 [==============================] - 1s 10ms/step - loss: 0.3979 - accuracy: 0.8889 - val_loss: 1.7927 - val_accuracy: 0.7340\n",
      "Epoch 20/20\n",
      "63/63 [==============================] - 1s 10ms/step - loss: 0.3819 - accuracy: 0.8933 - val_loss: 1.8992 - val_accuracy: 0.7280\n"
     ]
    },
    {
     "data": {
      "text/plain": [
       "<keras.callbacks.History at 0x7fbf4fb2de80>"
      ]
     },
     "execution_count": 28,
     "metadata": {},
     "output_type": "execute_result"
    }
   ],
   "source": [
    "# §代碼清單 3-23 具有信息瓶頸的模型\n",
    "\n",
    "model = models.Sequential()\n",
    "model.add(layers.Dense(64, activation = 'relu', input_shape = (10000,)))\n",
    "# 隱藏單元個數小於46太多，會降低驗證精確度；因為試圖將大量信息壓縮到維度很小的中間空間\n",
    "# 網絡(network)能將大部分必要信息(information)塞入這個四維表示中，但非全部訊息\n",
    "model.add(layers.Dense(4, activation = 'relu'))\n",
    "model.add(layers.Dense(46, activation = 'softmax'))\n",
    "\n",
    "model.compile(optimizer = 'rmsprop',\n",
    "             loss = 'categorical_crossentropy',\n",
    "             metrics = ['accuracy'])\n",
    "model.fit(partial_x_train,\n",
    "         partial_y_train,\n",
    "         epochs = 20,\n",
    "         batch_size = 128,\n",
    "         validation_data = (x_val, y_val))\n"
   ]
  },
  {
   "cell_type": "code",
   "execution_count": 29,
   "id": "219b23ed",
   "metadata": {},
   "outputs": [
    {
     "name": "stdout",
     "output_type": "stream",
     "text": [
      "71/71 [==============================] - 0s 2ms/step - loss: 2.0385 - accuracy: 0.7026\n",
      "[2.0384654998779297, 0.7025823593139648]\n"
     ]
    }
   ],
   "source": [
    "# === FOR CHECK (p.64, pdf.81) ===\n",
    "\n",
    "results = model.evaluate(x_test, one_hot_test_labels)\n",
    "print(results)\n"
   ]
  },
  {
   "cell_type": "code",
   "execution_count": 32,
   "id": "e2df5ee6",
   "metadata": {},
   "outputs": [
    {
     "name": "stdout",
     "output_type": "stream",
     "text": [
      "Downloading data from https://storage.googleapis.com/tensorflow/tf-keras-datasets/boston_housing.npz\n",
      "57026/57026 [==============================] - 0s 2us/step\n"
     ]
    }
   ],
   "source": [
    "# §代碼清單 3-24 加載波士頓房價數據\n",
    "\n",
    "from keras.datasets import boston_housing\n",
    "\n",
    "(train_data, train_targets), (test_data, test_targets) = boston_housing.load_data()\n"
   ]
  },
  {
   "cell_type": "code",
   "execution_count": 36,
   "id": "3bff2b5f",
   "metadata": {},
   "outputs": [
    {
     "name": "stdout",
     "output_type": "stream",
     "text": [
      "train_data :  (404, 13)\n",
      "test_data  :  (102, 13)\n",
      "train 房價 :  [15.2 42.3 50.  21.1 17.7 18.5 11.3 15.6 15.6 14.4 12.1 17.9 23.1 19.9\n",
      " 15.7  8.8 50.  22.5 24.1 27.5 10.9 30.8 32.9 24.  18.5 13.3 22.9 34.7\n",
      " 16.6 17.5 22.3 16.1 14.9 23.1 34.9 25.  13.9 13.1 20.4 20.  15.2 24.7\n",
      " 22.2 16.7 12.7 15.6 18.4 21.  30.1 15.1 18.7  9.6 31.5 24.8 19.1 22.\n",
      " 14.5 11.  32.  29.4 20.3 24.4 14.6 19.5 14.1 14.3 15.6 10.5  6.3 19.3\n",
      " 19.3 13.4 36.4 17.8 13.5 16.5  8.3 14.3 16.  13.4 28.6 43.5 20.2 22.\n",
      " 23.  20.7 12.5 48.5 14.6 13.4 23.7 50.  21.7 39.8 38.7 22.2 34.9 22.5\n",
      " 31.1 28.7 46.  41.7 21.  26.6 15.  24.4 13.3 21.2 11.7 21.7 19.4 50.\n",
      " 22.8 19.7 24.7 36.2 14.2 18.9 18.3 20.6 24.6 18.2  8.7 44.  10.4 13.2\n",
      " 21.2 37.  30.7 22.9 20.  19.3 31.7 32.  23.1 18.8 10.9 50.  19.6  5.\n",
      " 14.4 19.8 13.8 19.6 23.9 24.5 25.  19.9 17.2 24.6 13.5 26.6 21.4 11.9\n",
      " 22.6 19.6  8.5 23.7 23.1 22.4 20.5 23.6 18.4 35.2 23.1 27.9 20.6 23.7\n",
      " 28.  13.6 27.1 23.6 20.6 18.2 21.7 17.1  8.4 25.3 13.8 22.2 18.4 20.7\n",
      " 31.6 30.5 20.3  8.8 19.2 19.4 23.1 23.  14.8 48.8 22.6 33.4 21.1 13.6\n",
      " 32.2 13.1 23.4 18.9 23.9 11.8 23.3 22.8 19.6 16.7 13.4 22.2 20.4 21.8\n",
      " 26.4 14.9 24.1 23.8 12.3 29.1 21.  19.5 23.3 23.8 17.8 11.5 21.7 19.9\n",
      " 25.  33.4 28.5 21.4 24.3 27.5 33.1 16.2 23.3 48.3 22.9 22.8 13.1 12.7\n",
      " 22.6 15.  15.3 10.5 24.  18.5 21.7 19.5 33.2 23.2  5.  19.1 12.7 22.3\n",
      " 10.2 13.9 16.3 17.  20.1 29.9 17.2 37.3 45.4 17.8 23.2 29.  22.  18.\n",
      " 17.4 34.6 20.1 25.  15.6 24.8 28.2 21.2 21.4 23.8 31.  26.2 17.4 37.9\n",
      " 17.5 20.   8.3 23.9  8.4 13.8  7.2 11.7 17.1 21.6 50.  16.1 20.4 20.6\n",
      " 21.4 20.6 36.5  8.5 24.8 10.8 21.9 17.3 18.9 36.2 14.9 18.2 33.3 21.8\n",
      " 19.7 31.6 24.8 19.4 22.8  7.5 44.8 16.8 18.7 50.  50.  19.5 20.1 50.\n",
      " 17.2 20.8 19.3 41.3 20.4 20.5 13.8 16.5 23.9 20.6 31.5 23.3 16.8 14.\n",
      " 33.8 36.1 12.8 18.3 18.7 19.1 29.  30.1 50.  50.  22.  11.9 37.6 50.\n",
      " 22.7 20.8 23.5 27.9 50.  19.3 23.9 22.6 15.2 21.7 19.2 43.8 20.3 33.2\n",
      " 19.9 22.5 32.7 22.  17.1 19.  15.  16.1 25.1 23.7 28.7 37.2 22.6 16.4\n",
      " 25.  29.8 22.1 17.4 18.1 30.3 17.5 24.7 12.6 26.5 28.7 13.3 10.4 24.4\n",
      " 23.  20.  17.8  7.  11.8 24.4 13.8 19.4 25.2 19.4 19.4 29.1]\n"
     ]
    }
   ],
   "source": [
    "print(\"train_data : \", train_data.shape)\n",
    "print(\"test_data  : \", test_data.shape)\n",
    "\n",
    "print(\"train 房價 : \", train_targets)"
   ]
  },
  {
   "cell_type": "code",
   "execution_count": 37,
   "id": "a016272f",
   "metadata": {},
   "outputs": [],
   "source": [
    "# §代碼清單 3-25 數據標準化\n",
    "\n",
    "mean = train_data.mean(axis = 0)\n",
    "train_data -= mean\n",
    "std = train_data.std(axis = 0)\n",
    "train_data /= std\n",
    "\n",
    "train_data -= mean\n",
    "test_data /= std\n"
   ]
  },
  {
   "cell_type": "code",
   "execution_count": 38,
   "id": "b07ad799",
   "metadata": {},
   "outputs": [
    {
     "name": "stdout",
     "output_type": "stream",
     "text": [
      "mean =  [3.74511057e+00 1.14801980e+01 1.11044307e+01 6.18811881e-02\n",
      " 5.57355941e-01 6.26708168e+00 6.90106436e+01 3.74027079e+00\n",
      " 9.44059406e+00 4.05898515e+02 1.84759901e+01 3.54783168e+02\n",
      " 1.27408168e+01]\n",
      "std  =  [9.22929073e+00 2.37382770e+01 6.80287253e+00 2.40939633e-01\n",
      " 1.17147847e-01 7.08908627e-01 2.79060634e+01 2.02770050e+00\n",
      " 8.68758849e+00 1.66168506e+02 2.19765689e+00 9.39946015e+01\n",
      " 7.24556085e+00]\n",
      "train_data =  [[-0.27224633 -0.48361547 -0.43576161 ...  1.14850044  0.44807713\n",
      "   0.8252202 ]\n",
      " [-0.40342651  2.99178419 -1.33391162 ... -1.71818909  0.43190599\n",
      "  -1.32920239]\n",
      " [ 0.1249402  -0.48361547  1.0283258  ...  0.78447637  0.22061726\n",
      "  -1.30850006]\n",
      " ...\n",
      " [-0.40202987  0.99079651 -0.7415148  ... -0.71712291  0.07943894\n",
      "  -0.67776904]\n",
      " [-0.17292018 -0.48361547  1.24588095 ... -1.71818909 -0.98764362\n",
      "   0.42083466]\n",
      " [-0.40422614  2.04394792 -1.20161456 ... -1.30866202  0.23317118\n",
      "  -1.15392266]]\n",
      "test_data  =  [[ 1.55369355 -0.48361547  1.0283258  ...  0.78447637 -3.48459553\n",
      "   2.25092074]\n",
      " [-0.39242675 -0.48361547 -0.16087773 ... -0.30759583  0.42733126\n",
      "   0.47880119]\n",
      " [-0.39982927 -0.48361547 -0.86940196 ...  0.78447637  0.44807713\n",
      "  -0.41415936]\n",
      " ...\n",
      " [-0.20709507 -0.48361547  1.24588095 ... -1.71818909  0.37051949\n",
      "  -1.49344089]\n",
      " [-0.36698601 -0.48361547 -0.72093526 ... -0.48960787  0.39275481\n",
      "  -0.41829982]\n",
      " [-0.0889679  -0.48361547  1.24588095 ... -1.71818909 -1.21946544\n",
      "  -0.40449827]]\n"
     ]
    }
   ],
   "source": [
    "print(\"mean = \", mean) # 13個特徵值，所以有13個值\n",
    "print(\"std  = \", std)\n",
    "print(\"train_data = \", train_data)\n",
    "print(\"test_data  = \", test_data)\n"
   ]
  },
  {
   "cell_type": "code",
   "execution_count": 40,
   "id": "24c72337",
   "metadata": {},
   "outputs": [],
   "source": [
    "# §代碼清單 3-26 模型定義\n",
    "\n",
    "from keras import models\n",
    "from keras import layers\n",
    "\n",
    "def build_model() :\n",
    "    model = models.Sequential()\n",
    "    model.add(layers.Dense(64, activation = 'relu', input_shape = (train_data.shape[1],)))\n",
    "    model.add(layers.Dense(1))\n",
    "    \n",
    "    model.compile(optimizer = 'rmsprop', loss = 'mse', metrics = ['mae'])\n",
    "    \n",
    "    return model\n"
   ]
  },
  {
   "cell_type": "code",
   "execution_count": 46,
   "id": "dc970ba3",
   "metadata": {},
   "outputs": [
    {
     "name": "stdout",
     "output_type": "stream",
     "text": [
      "processing fold # 0\n",
      "processing fold # 1\n",
      "processing fold # 2\n",
      "processing fold # 3\n"
     ]
    }
   ],
   "source": [
    "# §代碼清單 3-27 K折驗證 (p.69)\n",
    "\n",
    "import numpy as np\n",
    "\n",
    "k = 4\n",
    "num_val_samples = len(train_data) // k  # 取整數\n",
    "num_epochs = 100\n",
    "all_scores = []\n",
    "\n",
    "for i in range(k) :\n",
    "#   驗證第k個分區的數據    \n",
    "    print('processing fold #', i)\n",
    "    val_data = train_data[i * num_val_samples : (i + 1) * num_val_samples]\n",
    "    val_targets = train_targets[i * num_val_samples : (i + 1) * num_val_samples]\n",
    "\n",
    "#   準備訓練數據 : 其他所有分區的數據\n",
    "    partial_train_data = np.concatenate(\n",
    "        [train_data[: i * num_val_samples],\n",
    "         train_data[(i + 1) * num_val_samples :]],\n",
    "        axis = 0)\n",
    "    partial_train_targets = np.concatenate(\n",
    "        [train_targets[: i * num_val_samples],\n",
    "         train_targets[(i + 1) * num_val_samples :]],\n",
    "        axis = 0)\n",
    "\n",
    "#   構建Keras模型(已編譯)\n",
    "    model = build_model()\n",
    "    model.fit(partial_train_data, partial_train_targets,\n",
    "             epochs = num_epochs, batch_size = 1, verbose = 0)\n",
    "    val_mse, val_mae = model.evaluate(val_data, val_targets, verbose = 0)\n",
    "    all_scores.append(val_mae)\n",
    "    "
   ]
  },
  {
   "cell_type": "code",
   "execution_count": 45,
   "id": "a8ec6668",
   "metadata": {},
   "outputs": [
    {
     "name": "stdout",
     "output_type": "stream",
     "text": [
      "[1.8490368127822876, 2.345130443572998, 2.5040488243103027, 2.308133363723755]\n",
      "2.251587361097336\n"
     ]
    }
   ],
   "source": [
    "# verify\n",
    "\n",
    "print(all_scores)\n",
    "print(np.mean(all_scores))"
   ]
  },
  {
   "cell_type": "code",
   "execution_count": 49,
   "id": "0bc2c229",
   "metadata": {},
   "outputs": [
    {
     "name": "stdout",
     "output_type": "stream",
     "text": [
      "processing fold # 0\n",
      "processing fold # 1\n",
      "processing fold # 2\n",
      "processing fold # 3\n"
     ]
    }
   ],
   "source": [
    "# §代碼清單 3-28 保存每折驗證結果 (p.70)\n",
    "\n",
    "num_epochs = 500\n",
    "all_mae_histories = []\n",
    "\n",
    "for i in range(k) :\n",
    "#   驗證第k個分區的數據    \n",
    "    print('processing fold #', i)\n",
    "    val_data = train_data[i * num_val_samples : (i + 1) * num_val_samples]\n",
    "    val_targets = train_targets[i * num_val_samples : (i + 1) * num_val_samples]\n",
    "\n",
    "#   準備訓練數據 : 其他所有分區的數據\n",
    "    partial_train_data = np.concatenate(\n",
    "        [train_data[: i * num_val_samples],\n",
    "         train_data[(i + 1) * num_val_samples :]],\n",
    "        axis = 0)\n",
    "    partial_train_targets = np.concatenate(\n",
    "        [train_targets[: i * num_val_samples],\n",
    "         train_targets[(i + 1) * num_val_samples :]],\n",
    "        axis = 0)\n",
    "\n",
    "#   構建Keras模型(已編譯)\n",
    "    model = build_model()\n",
    "    history = model.fit(partial_train_data, partial_train_targets,\n",
    "                        validation_data = (val_data, val_targets),\n",
    "                        epochs = num_epochs, batch_size = 1, verbose = 0)\n",
    "#    mae_history = history.history['val_mean_absolute_error']\n",
    "    mae_history = history.history['val_mae']\n",
    "    all_mae_histories.append(mae_history)\n",
    "    "
   ]
  },
  {
   "cell_type": "code",
   "execution_count": 50,
   "id": "9f5c365d",
   "metadata": {},
   "outputs": [],
   "source": [
    "# §代碼清單 3-29 計算所有輪次中的K折驗證分數平均值\n",
    "average_mae_history = [np.mean([x[i] for x in all_mae_histories]) for i in range(num_epochs)]\n"
   ]
  },
  {
   "cell_type": "code",
   "execution_count": 51,
   "id": "1bcfaea5",
   "metadata": {},
   "outputs": [
    {
     "data": {
      "image/png": "[encoded data removed]",
      "text/plain": [
       "<Figure size 640x480 with 1 Axes>"
      ]
     },
     "metadata": {},
     "output_type": "display_data"
    }
   ],
   "source": [
    "# §代碼清單 3-30 繪製驗證分數\n",
    "\n",
    "import matplotlib.pyplot as plt\n",
    "\n",
    "plt.plot(range(1, len(average_mae_history) + 1), average_mae_history)\n",
    "plt.xlabel('Epochs')\n",
    "plt.ylabel('Validation MAE')\n",
    "plt.show()\n"
   ]
  },
  {
   "cell_type": "code",
   "execution_count": 52,
   "id": "2a6a8089",
   "metadata": {},
   "outputs": [
    {
     "data": {
      "image/png": "[encoded data removed]",
      "text/plain": [
       "<Figure size 640x480 with 1 Axes>"
      ]
     },
     "metadata": {},
     "output_type": "display_data"
    }
   ],
   "source": [
    "# §代碼清單 3-31 繪製驗證分數(刪除前10個數據點)\n",
    "\n",
    "def smooth_curve(points, factor = 0.9) :\n",
    "    smoothed_points = []\n",
    "    for point in points :\n",
    "        if smoothed_points :\n",
    "            previous = smoothed_points[-1]\n",
    "            smoothed_points.append(previous * factor + point * (1 - factor))\n",
    "        else :\n",
    "            smoothed_points.append(point)\n",
    "    return smoothed_points\n",
    "\n",
    "smooth_mae_history = smooth_curve(average_mae_history[10:])\n",
    "\n",
    "plt.plot(range(1, len(smooth_mae_history) + 1), smooth_mae_history)\n",
    "plt.xlabel('Epochs')\n",
    "plt.ylabel('Validation MAE')\n",
    "plt.show()\n"
   ]
  },
  {
   "cell_type": "code",
   "execution_count": 53,
   "id": "ef95d3ab",
   "metadata": {},
   "outputs": [
    {
     "name": "stdout",
     "output_type": "stream",
     "text": [
      "4/4 [==============================] - 0s 3ms/step - loss: 19.6890 - mae: 2.9014\n"
     ]
    }
   ],
   "source": [
    "# §代碼清單 3-32 訓練最終模型\n",
    "\n",
    "model = build_model()\n",
    "model.fit(train_data, train_targets,\n",
    "         epochs = 80, batch_size = 16, verbose = 0)\n",
    "test_mse_score, test_mae_score = model.evaluate(test_data, test_targets)\n"
   ]
  },
  {
   "cell_type": "code",
   "execution_count": 55,
   "id": "0dd4c6f0",
   "metadata": {},
   "outputs": [
    {
     "name": "stdout",
     "output_type": "stream",
     "text": [
      "2.9013752937316895\n"
     ]
    }
   ],
   "source": [
    "print(test_mae_score)"
   ]
  }
 ],
 "metadata": {
  "kernelspec": {
   "display_name": "Python 3 (ipykernel)",
   "language": "python",
   "name": "python3"
  },
  "language_info": {
   "codemirror_mode": {
    "name": "ipython",
    "version": 3
   },
   "file_extension": ".py",
   "mimetype": "text/x-python",
   "name": "python",
   "nbconvert_exporter": "python",
   "pygments_lexer": "ipython3",
   "version": "3.8.16"
  }
 },
 "nbformat": 4,
 "nbformat_minor": 5
}
