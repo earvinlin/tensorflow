{
 "cells": [
  {
   "cell_type": "code",
   "execution_count": 1,
   "id": "673ab99a-8449-4e31-be10-c00ee1795794",
   "metadata": {
    "scrolled": true
   },
   "outputs": [
    {
     "name": "stderr",
     "output_type": "stream",
     "text": [
<<<<<<< HEAD
      "2023-12-01 13:19:58.788263: I tensorflow/core/platform/cpu_feature_guard.cc:193] This TensorFlow binary is optimized with oneAPI Deep Neural Network Library (oneDNN) to use the following CPU instructions in performance-critical operations:  SSE4.1 SSE4.2 AVX AVX2 FMA\n",
      "To enable them in other operations, rebuild TensorFlow with the appropriate compiler flags.\n"
=======
      "2023-12-03 18:08:04.254197: I tensorflow/core/platform/cpu_feature_guard.cc:193] This TensorFlow binary is optimized with oneAPI Deep Neural Network Library (oneDNN) to use the following CPU instructions in performance-critical operations:  AVX2 AVX_VNNI FMA\n",
      "To enable them in other operations, rebuild TensorFlow with the appropriate compiler flags.\n",
      "2023-12-03 18:08:04.336232: I tensorflow/core/util/util.cc:169] oneDNN custom operations are on. You may see slightly different numerical results due to floating-point round-off errors from different computation orders. To turn them off, set the environment variable `TF_ENABLE_ONEDNN_OPTS=0`.\n",
      "2023-12-03 18:08:04.354674: E tensorflow/stream_executor/cuda/cuda_blas.cc:2981] Unable to register cuBLAS factory: Attempting to register factory for plugin cuBLAS when one has already been registered\n",
      "2023-12-03 18:08:04.669376: W tensorflow/stream_executor/platform/default/dso_loader.cc:64] Could not load dynamic library 'libnvinfer.so.7'; dlerror: libnvinfer.so.7: cannot open shared object file: No such file or directory; LD_LIBRARY_PATH: /usr/local/cuda-11.8/lib64::/usr/local/cuda-12.3/lib64\n",
      "2023-12-03 18:08:04.669436: W tensorflow/stream_executor/platform/default/dso_loader.cc:64] Could not load dynamic library 'libnvinfer_plugin.so.7'; dlerror: libnvinfer_plugin.so.7: cannot open shared object file: No such file or directory; LD_LIBRARY_PATH: /usr/local/cuda-11.8/lib64::/usr/local/cuda-12.3/lib64\n",
      "2023-12-03 18:08:04.669440: W tensorflow/compiler/tf2tensorrt/utils/py_utils.cc:38] TF-TRT Warning: Cannot dlopen some TensorRT libraries. If you would like to use Nvidia GPU with TensorRT, please make sure the missing libraries mentioned above are installed properly.\n"
>>>>>>> 3ff357dfe6f7337c91c83b504504f9cf88e3c5c7
     ]
    }
   ],
   "source": [
    "import os\n",
    "import numpy as np\n",
    "import pandas as pd\n",
    "import tensorflow as tf\n",
    "import matplotlib.pyplot as plt\n",
    "from tensorflow import keras\n",
    "from tensorflow.keras import layers"
   ]
  },
  {
   "cell_type": "code",
   "execution_count": 2,
   "id": "7f872fa9-8038-48a3-8aa2-41767a08cb9d",
   "metadata": {},
   "outputs": [
    {
     "name": "stdout",
     "output_type": "stream",
     "text": [
      "2.10.0\n",
      "2.10.0\n"
     ]
    }
   ],
   "source": [
    "print(tf.__version__)\n",
    "print(keras.__version__)"
   ]
  },
  {
   "cell_type": "code",
   "execution_count": 3,
   "id": "192428ae-10a0-4b48-a864-57352cedc881",
   "metadata": {},
   "outputs": [
    {
     "name": "stdout",
     "output_type": "stream",
     "text": [
      "/device:GPU:0\n"
     ]
    },
    {
     "name": "stderr",
     "output_type": "stream",
     "text": [
      "2023-12-03 18:08:10.113217: I tensorflow/core/platform/cpu_feature_guard.cc:193] This TensorFlow binary is optimized with oneAPI Deep Neural Network Library (oneDNN) to use the following CPU instructions in performance-critical operations:  AVX2 AVX_VNNI FMA\n",
      "To enable them in other operations, rebuild TensorFlow with the appropriate compiler flags.\n",
      "2023-12-03 18:08:10.168812: I tensorflow/stream_executor/cuda/cuda_gpu_executor.cc:980] successful NUMA node read from SysFS had negative value (-1), but there must be at least one NUMA node, so returning NUMA node zero\n",
      "2023-12-03 18:08:10.191199: I tensorflow/stream_executor/cuda/cuda_gpu_executor.cc:980] successful NUMA node read from SysFS had negative value (-1), but there must be at least one NUMA node, so returning NUMA node zero\n",
      "2023-12-03 18:08:10.191302: I tensorflow/stream_executor/cuda/cuda_gpu_executor.cc:980] successful NUMA node read from SysFS had negative value (-1), but there must be at least one NUMA node, so returning NUMA node zero\n",
      "2023-12-03 18:08:10.241980: I tensorflow/stream_executor/cuda/cuda_gpu_executor.cc:980] successful NUMA node read from SysFS had negative value (-1), but there must be at least one NUMA node, so returning NUMA node zero\n",
      "2023-12-03 18:08:10.242090: I tensorflow/stream_executor/cuda/cuda_gpu_executor.cc:980] successful NUMA node read from SysFS had negative value (-1), but there must be at least one NUMA node, so returning NUMA node zero\n",
      "2023-12-03 18:08:10.242148: I tensorflow/stream_executor/cuda/cuda_gpu_executor.cc:980] successful NUMA node read from SysFS had negative value (-1), but there must be at least one NUMA node, so returning NUMA node zero\n",
      "2023-12-03 18:08:10.242203: I tensorflow/core/common_runtime/gpu/gpu_device.cc:1616] Created device /device:GPU:0 with 6103 MB memory:  -> device: 0, name: NVIDIA GeForce RTX 4060 Ti, pci bus id: 0000:01:00.0, compute capability: 8.9\n"
     ]
    },
    {
     "name": "stderr",
     "output_type": "stream",
     "text": [
      "2023-12-01 13:20:03.757445: I tensorflow/core/platform/cpu_feature_guard.cc:193] This TensorFlow binary is optimized with oneAPI Deep Neural Network Library (oneDNN) to use the following CPU instructions in performance-critical operations:  SSE4.1 SSE4.2 AVX AVX2 FMA\n",
      "To enable them in other operations, rebuild TensorFlow with the appropriate compiler flags.\n"
     ]
    }
   ],
   "source": [
    "import tensorflow as tf\n",
    "gpu_device_name = tf.test.gpu_device_name()\n",
    "print(gpu_device_name)\n"
   ]
  },
  {
   "cell_type": "code",
   "execution_count": 4,
   "id": "ddc6a9d2",
   "metadata": {},
   "outputs": [
    {
     "name": "stdout",
     "output_type": "stream",
     "text": [
<<<<<<< HEAD
      "WARNING:tensorflow:From /var/folders/mt/4nx5jx_57kvg5fk9x6xt2cth0000gn/T/ipykernel_15976/337460670.py:1: is_gpu_available (from tensorflow.python.framework.test_util) is deprecated and will be removed in a future version.\n",
=======
      "WARNING:tensorflow:From /tmp/ipykernel_8561/337460670.py:1: is_gpu_available (from tensorflow.python.framework.test_util) is deprecated and will be removed in a future version.\n",
>>>>>>> 3ff357dfe6f7337c91c83b504504f9cf88e3c5c7
      "Instructions for updating:\n",
      "Use `tf.config.list_physical_devices('GPU')` instead.\n"
     ]
    },
    {
     "data": {
      "text/plain": [
       "True"
      ]
     },
     "execution_count": 4,
     "metadata": {},
     "output_type": "execute_result"
    },
    {
     "name": "stderr",
     "output_type": "stream",
     "text": [
      "2023-12-03 18:08:19.496884: I tensorflow/stream_executor/cuda/cuda_gpu_executor.cc:980] successful NUMA node read from SysFS had negative value (-1), but there must be at least one NUMA node, so returning NUMA node zero\n",
      "2023-12-03 18:08:19.497332: I tensorflow/stream_executor/cuda/cuda_gpu_executor.cc:980] successful NUMA node read from SysFS had negative value (-1), but there must be at least one NUMA node, so returning NUMA node zero\n",
      "2023-12-03 18:08:19.497582: I tensorflow/stream_executor/cuda/cuda_gpu_executor.cc:980] successful NUMA node read from SysFS had negative value (-1), but there must be at least one NUMA node, so returning NUMA node zero\n",
      "2023-12-03 18:08:19.497913: I tensorflow/stream_executor/cuda/cuda_gpu_executor.cc:980] successful NUMA node read from SysFS had negative value (-1), but there must be at least one NUMA node, so returning NUMA node zero\n",
      "2023-12-03 18:08:19.498159: I tensorflow/stream_executor/cuda/cuda_gpu_executor.cc:980] successful NUMA node read from SysFS had negative value (-1), but there must be at least one NUMA node, so returning NUMA node zero\n",
      "2023-12-03 18:08:19.498347: I tensorflow/core/common_runtime/gpu/gpu_device.cc:1616] Created device /device:GPU:0 with 6103 MB memory:  -> device: 0, name: NVIDIA GeForce RTX 4060 Ti, pci bus id: 0000:01:00.0, compute capability: 8.9\n"
     ]
    }
   ],
   "source": [
    "tf.test.is_gpu_available()"
   ]
  },
  {
   "cell_type": "code",
   "execution_count": 5,
   "id": "23eb050a",
   "metadata": {},
   "outputs": [
    {
     "name": "stderr",
     "output_type": "stream",
     "text": [
      "2023-12-03 18:08:31.208122: I tensorflow/stream_executor/cuda/cuda_gpu_executor.cc:980] successful NUMA node read from SysFS had negative value (-1), but there must be at least one NUMA node, so returning NUMA node zero\n",
      "2023-12-03 18:08:31.208247: I tensorflow/stream_executor/cuda/cuda_gpu_executor.cc:980] successful NUMA node read from SysFS had negative value (-1), but there must be at least one NUMA node, so returning NUMA node zero\n",
      "2023-12-03 18:08:31.208298: I tensorflow/stream_executor/cuda/cuda_gpu_executor.cc:980] successful NUMA node read from SysFS had negative value (-1), but there must be at least one NUMA node, so returning NUMA node zero\n"
     ]
    },
    {
     "data": {
      "text/plain": [
       "[PhysicalDevice(name='/physical_device:GPU:0', device_type='GPU')]"
      ]
     },
     "execution_count": 5,
     "metadata": {},
     "output_type": "execute_result"
    }
   ],
   "source": [
    "tf.config.list_physical_devices('GPU')"
   ]
  },
  {
   "cell_type": "code",
   "execution_count": 6,
   "id": "083b904a",
   "metadata": {},
   "outputs": [],
   "source": [
    "# Prog3.1 \n",
    "from keras.datasets import imdb\n",
    "\n",
    "(train_data, train_labels), (test_data, test_labels) = imdb.load_data(num_words=10000)"
   ]
  },
  {
   "cell_type": "code",
   "execution_count": 7,
   "id": "281939a6",
   "metadata": {},
   "outputs": [
    {
     "name": "stdout",
     "output_type": "stream",
     "text": [
      "9999\n"
     ]
    }
   ],
   "source": [
    "#print(train_data[0])\n",
    "#print(train_labels[0])\n",
    "print(max([max(sequence) for sequence in train_data]))"
   ]
  },
  {
   "cell_type": "code",
   "execution_count": 8,
   "id": "42bfc97e",
   "metadata": {},
   "outputs": [
    {
     "name": "stdout",
     "output_type": "stream",
     "text": [
      "Downloading data from https://storage.googleapis.com/tensorflow/tf-keras-datasets/imdb_word_index.json\n",
      "1641221/1641221 [==============================] - 0s 0us/step\n",
      "? this film was just brilliant casting location scenery story direction everyone's really suited the part they played and you could just imagine being there robert ? is an amazing actor and now the same being director ? father came from the same scottish island as myself so i loved the fact there was a real connection with this film the witty remarks throughout the film were great it was just brilliant so much that i bought the film as soon as it was released for ? and would recommend it to everyone to watch and the fly fishing was amazing really cried at the end it was so sad and you know what they say if you cry at a film it must have been good and this definitely was also ? to the two little boy's that played the ? of norman and paul they were just brilliant children are often left out of the ? list i think because the stars that play them all grown up are such a big profile for the whole film but these children are amazing and should be praised for what they have done don't you think the whole story was so lovely because it was true and was someone's life after all that was shared with us all\n"
     ]
    }
   ],
   "source": [
    "word_index = imdb.get_word_index()\n",
    "reverse_word_index = dict([(value, key) for (key, value) in word_index.items()])\n",
    "decoded_review = ' '.join(reverse_word_index.get(i-3, '?') for i in train_data[0])\n",
    "print(decoded_review)"
   ]
  },
  {
   "cell_type": "code",
   "execution_count": 9,
   "id": "61d5bb6f",
   "metadata": {},
   "outputs": [],
   "source": [
    "# prog 3.2\n",
    "import numpy as np\n",
    "\n",
    "def  vectiruze_sequences(sequences, dimension=10000) :\n",
    "    results = np.zeros((len(sequences), dimension))\n",
    "    for i, sequence in enumerate(sequences) :\n",
    "        results[i, sequence] = 1.\n",
    "    return results\n",
    "\n",
    "x_train = vectiruze_sequences(train_data)\n",
    "x_test = vectiruze_sequences(test_data)"
   ]
  },
  {
   "cell_type": "code",
   "execution_count": 10,
   "id": "626c889f-66d5-4224-99bb-d13ea2280945",
   "metadata": {},
   "outputs": [],
   "source": [
    "y_train = np.asarray(train_labels).astype('float32')\n",
    "y_test = np.asarray(test_labels).astype('float32')"
   ]
  },
  {
   "cell_type": "code",
   "execution_count": 11,
   "id": "0ff84a04-e3e0-40b2-a6e8-d4869cc9c024",
   "metadata": {},
   "outputs": [
    {
     "name": "stderr",
     "output_type": "stream",
     "text": [
      "2023-12-03 18:08:44.936704: I tensorflow/stream_executor/cuda/cuda_gpu_executor.cc:980] successful NUMA node read from SysFS had negative value (-1), but there must be at least one NUMA node, so returning NUMA node zero\n",
      "2023-12-03 18:08:44.936842: I tensorflow/stream_executor/cuda/cuda_gpu_executor.cc:980] successful NUMA node read from SysFS had negative value (-1), but there must be at least one NUMA node, so returning NUMA node zero\n",
      "2023-12-03 18:08:44.936896: I tensorflow/stream_executor/cuda/cuda_gpu_executor.cc:980] successful NUMA node read from SysFS had negative value (-1), but there must be at least one NUMA node, so returning NUMA node zero\n",
      "2023-12-03 18:08:44.936974: I tensorflow/stream_executor/cuda/cuda_gpu_executor.cc:980] successful NUMA node read from SysFS had negative value (-1), but there must be at least one NUMA node, so returning NUMA node zero\n",
      "2023-12-03 18:08:44.937024: I tensorflow/stream_executor/cuda/cuda_gpu_executor.cc:980] successful NUMA node read from SysFS had negative value (-1), but there must be at least one NUMA node, so returning NUMA node zero\n",
      "2023-12-03 18:08:44.937064: I tensorflow/core/common_runtime/gpu/gpu_device.cc:1616] Created device /job:localhost/replica:0/task:0/device:GPU:0 with 6103 MB memory:  -> device: 0, name: NVIDIA GeForce RTX 4060 Ti, pci bus id: 0000:01:00.0, compute capability: 8.9\n"
     ]
    }
   ],
   "source": [
    "# prog 3.3\n",
    "from keras import models\n",
    "from keras import layers\n",
    "\n",
    "model = models.Sequential()\n",
    "model.add(layers.Dense(16, activation='relu', input_shape=(10000,)))\n",
    "model.add(layers.Dense(16, activation='relu'))\n",
    "model.add(layers.Dense(1, activation='sigmoid'))\n"
   ]
  },
  {
   "cell_type": "code",
   "execution_count": 12,
   "id": "7bcabb39",
   "metadata": {},
   "outputs": [],
   "source": [
    "# prog 3.4\n",
    "model.compile(optimizer='rmsprop',\n",
    "             loss='binary_crossentropy',\n",
    "             metrics=['accuracy'])"
   ]
  },
  {
   "cell_type": "code",
   "execution_count": 13,
   "id": "c9270328",
   "metadata": {},
   "outputs": [
    {
     "name": "stderr",
     "output_type": "stream",
     "text": [
      "/home/earvin/anaconda3/envs/tf210/lib/python3.9/site-packages/keras/optimizers/optimizer_v2/rmsprop.py:140: UserWarning: The `lr` argument is deprecated, use `learning_rate` instead.\n",
      "  super().__init__(name, **kwargs)\n"
     ]
    }
   ],
   "source": [
    "# prog 3.5\n",
    "from keras import optimizers\n",
    "\n",
    "model.compile(optimizer=optimizers.RMSprop(lr=0.001),\n",
    "             loss='binary_crossentropy',\n",
    "             metrics=['accuracy'])"
   ]
  },
  {
   "cell_type": "code",
   "execution_count": 14,
   "id": "466aa92c",
   "metadata": {},
   "outputs": [],
   "source": [
    "# prog 3.6\n",
    "from keras import losses\n",
    "from keras import metrics\n",
    "\n",
    "model.compile(optimizer=optimizers.RMSprop(lr=0.001),\n",
    "              loss=losses.binary_crossentropy,  \n",
    "              metrics=[metrics.binary_accuracy])\n"
   ]
  },
  {
   "cell_type": "code",
   "execution_count": 12,
   "id": "705d5fb1",
   "metadata": {},
   "outputs": [],
   "source": [
    "# prog 3.7\n",
    "x_val = x_train[:10000]\n",
    "partial_x_train = x_train[10000:]\n",
    "\n",
    "y_val = y_train[:10000]\n",
    "partial_y_train = y_train[10000:]\n"
   ]
  },
  {
   "cell_type": "code",
   "execution_count": 13,
   "id": "d3973a5c",
   "metadata": {},
   "outputs": [
    {
     "name": "stdout",
     "output_type": "stream",
     "text": [
      "Epoch 1/20\n",
<<<<<<< HEAD
      "30/30 [==============================] - 3s 62ms/step - loss: 0.5300 - acc: 0.7957 - val_loss: 0.4087 - val_acc: 0.8616\n",
      "Epoch 2/20\n",
      "30/30 [==============================] - 1s 21ms/step - loss: 0.3296 - acc: 0.8969 - val_loss: 0.3212 - val_acc: 0.8816\n",
      "Epoch 3/20\n",
      "30/30 [==============================] - 0s 16ms/step - loss: 0.2391 - acc: 0.9223 - val_loss: 0.2833 - val_acc: 0.8898\n",
      "Epoch 4/20\n",
      "30/30 [==============================] - 0s 16ms/step - loss: 0.1891 - acc: 0.9395 - val_loss: 0.2735 - val_acc: 0.8895\n",
      "Epoch 5/20\n",
      "30/30 [==============================] - 0s 15ms/step - loss: 0.1517 - acc: 0.9535 - val_loss: 0.3021 - val_acc: 0.8833\n",
      "Epoch 6/20\n",
      "30/30 [==============================] - 0s 16ms/step - loss: 0.1250 - acc: 0.9595 - val_loss: 0.2924 - val_acc: 0.8855\n",
      "Epoch 7/20\n",
      "30/30 [==============================] - 0s 16ms/step - loss: 0.1044 - acc: 0.9691 - val_loss: 0.3256 - val_acc: 0.8782\n",
      "Epoch 8/20\n",
      "30/30 [==============================] - 0s 15ms/step - loss: 0.0866 - acc: 0.9769 - val_loss: 0.3315 - val_acc: 0.8791\n",
      "Epoch 9/20\n",
      "30/30 [==============================] - 0s 17ms/step - loss: 0.0744 - acc: 0.9791 - val_loss: 0.3447 - val_acc: 0.8805\n",
      "Epoch 10/20\n",
      "30/30 [==============================] - 1s 17ms/step - loss: 0.0622 - acc: 0.9841 - val_loss: 0.3704 - val_acc: 0.8797\n",
      "Epoch 11/20\n",
      "30/30 [==============================] - 1s 17ms/step - loss: 0.0491 - acc: 0.9883 - val_loss: 0.4153 - val_acc: 0.8764\n",
      "Epoch 12/20\n",
      "30/30 [==============================] - 1s 18ms/step - loss: 0.0412 - acc: 0.9909 - val_loss: 0.4337 - val_acc: 0.8753\n",
      "Epoch 13/20\n",
      "30/30 [==============================] - 1s 20ms/step - loss: 0.0331 - acc: 0.9931 - val_loss: 0.4568 - val_acc: 0.8712\n",
      "Epoch 14/20\n",
      "30/30 [==============================] - 1s 20ms/step - loss: 0.0273 - acc: 0.9955 - val_loss: 0.4931 - val_acc: 0.8736\n",
      "Epoch 15/20\n",
      "30/30 [==============================] - 1s 18ms/step - loss: 0.0231 - acc: 0.9959 - val_loss: 0.5220 - val_acc: 0.8722\n",
      "Epoch 16/20\n",
      "30/30 [==============================] - 1s 17ms/step - loss: 0.0193 - acc: 0.9959 - val_loss: 0.5543 - val_acc: 0.8694\n",
      "Epoch 17/20\n",
      "30/30 [==============================] - 1s 17ms/step - loss: 0.0135 - acc: 0.9982 - val_loss: 0.5806 - val_acc: 0.8690\n",
      "Epoch 18/20\n",
      "30/30 [==============================] - 1s 16ms/step - loss: 0.0102 - acc: 0.9991 - val_loss: 0.6632 - val_acc: 0.8664\n",
      "Epoch 19/20\n",
      "30/30 [==============================] - 1s 17ms/step - loss: 0.0102 - acc: 0.9987 - val_loss: 0.6523 - val_acc: 0.8662\n",
      "Epoch 20/20\n",
      "30/30 [==============================] - 0s 16ms/step - loss: 0.0058 - acc: 0.9998 - val_loss: 0.6873 - val_acc: 0.8641\n"
=======
      " 1/30 [>.............................] - ETA: 17s - loss: 0.6986 - acc: 0.5176"
     ]
    },
    {
     "name": "stderr",
     "output_type": "stream",
     "text": [
      "2023-12-03 18:08:55.083330: I tensorflow/stream_executor/cuda/cuda_blas.cc:1614] TensorFloat-32 will be used for the matrix multiplication. This will only be logged once.\n"
     ]
    },
    {
     "name": "stdout",
     "output_type": "stream",
     "text": [
      "30/30 [==============================] - 1s 19ms/step - loss: 0.5487 - acc: 0.7691 - val_loss: 0.4434 - val_acc: 0.8382\n",
      "Epoch 2/20\n",
      "30/30 [==============================] - 0s 7ms/step - loss: 0.3318 - acc: 0.8972 - val_loss: 0.3273 - val_acc: 0.8786\n",
      "Epoch 3/20\n",
      "30/30 [==============================] - 0s 7ms/step - loss: 0.2416 - acc: 0.9235 - val_loss: 0.2999 - val_acc: 0.8814\n",
      "Epoch 4/20\n",
      "30/30 [==============================] - 0s 7ms/step - loss: 0.1863 - acc: 0.9394 - val_loss: 0.2767 - val_acc: 0.8889\n",
      "Epoch 5/20\n",
      "30/30 [==============================] - 0s 7ms/step - loss: 0.1522 - acc: 0.9513 - val_loss: 0.2786 - val_acc: 0.8885\n",
      "Epoch 6/20\n",
      "30/30 [==============================] - 0s 7ms/step - loss: 0.1275 - acc: 0.9606 - val_loss: 0.2887 - val_acc: 0.8882\n",
      "Epoch 7/20\n",
      "30/30 [==============================] - 0s 7ms/step - loss: 0.1018 - acc: 0.9703 - val_loss: 0.3204 - val_acc: 0.8774\n",
      "Epoch 8/20\n",
      "30/30 [==============================] - 0s 7ms/step - loss: 0.0866 - acc: 0.9757 - val_loss: 0.3328 - val_acc: 0.8815\n",
      "Epoch 9/20\n",
      "30/30 [==============================] - 0s 7ms/step - loss: 0.0717 - acc: 0.9812 - val_loss: 0.3615 - val_acc: 0.8744\n",
      "Epoch 10/20\n",
      "30/30 [==============================] - 0s 7ms/step - loss: 0.0576 - acc: 0.9862 - val_loss: 0.3637 - val_acc: 0.8773\n",
      "Epoch 11/20\n",
      "30/30 [==============================] - 0s 7ms/step - loss: 0.0458 - acc: 0.9886 - val_loss: 0.3888 - val_acc: 0.8783\n",
      "Epoch 12/20\n",
      "30/30 [==============================] - 0s 7ms/step - loss: 0.0366 - acc: 0.9918 - val_loss: 0.4214 - val_acc: 0.8763\n",
      "Epoch 13/20\n",
      "30/30 [==============================] - 0s 7ms/step - loss: 0.0295 - acc: 0.9937 - val_loss: 0.4531 - val_acc: 0.8719\n",
      "Epoch 14/20\n",
      "30/30 [==============================] - 0s 7ms/step - loss: 0.0227 - acc: 0.9963 - val_loss: 0.4854 - val_acc: 0.8750\n",
      "Epoch 15/20\n",
      "30/30 [==============================] - 0s 8ms/step - loss: 0.0170 - acc: 0.9977 - val_loss: 0.5194 - val_acc: 0.8691\n",
      "Epoch 16/20\n",
      "30/30 [==============================] - 0s 7ms/step - loss: 0.0146 - acc: 0.9983 - val_loss: 0.5502 - val_acc: 0.8707\n",
      "Epoch 17/20\n",
      "30/30 [==============================] - 0s 8ms/step - loss: 0.0097 - acc: 0.9991 - val_loss: 0.6499 - val_acc: 0.8532\n",
      "Epoch 18/20\n",
      "30/30 [==============================] - 0s 7ms/step - loss: 0.0070 - acc: 0.9994 - val_loss: 0.6301 - val_acc: 0.8686\n",
      "Epoch 19/20\n",
      "30/30 [==============================] - 0s 7ms/step - loss: 0.0056 - acc: 0.9998 - val_loss: 0.6671 - val_acc: 0.8672\n",
      "Epoch 20/20\n",
      "30/30 [==============================] - 0s 7ms/step - loss: 0.0064 - acc: 0.9988 - val_loss: 0.7036 - val_acc: 0.8665\n"
>>>>>>> 3ff357dfe6f7337c91c83b504504f9cf88e3c5c7
     ]
    }
   ],
   "source": [
    "# prog 3.8\n",
    "model.compile(optimizer='rmsprop',\n",
    "              loss='binary_crossentropy',\n",
    "              metrics=['acc'])  \n",
    "\n",
    "history = model.fit(partial_x_train,\n",
    "                    partial_y_train,\n",
    "                    epochs=20,\n",
    "                    batch_size=512,\n",
    "                    validation_data=(x_val, y_val))\n"
   ]
  },
  {
   "cell_type": "code",
   "execution_count": 17,
   "id": "efec9588",
   "metadata": {},
   "outputs": [
    {
     "name": "stdout",
     "output_type": "stream",
     "text": [
      "dict_keys(['loss', 'acc', 'val_loss', 'val_acc'])\n"
     ]
    }
   ],
   "source": [
    "history_dict = history.history\n",
    "print(history_dict.keys())"
   ]
  },
  {
   "cell_type": "code",
   "execution_count": 18,
   "id": "4cc84296",
   "metadata": {},
   "outputs": [
    {
     "data": {
      "image/png": "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",
      "text/plain": [
       "<Figure size 640x480 with 1 Axes>"
      ]
     },
     "metadata": {},
     "output_type": "display_data"
    }
   ],
   "source": [
    "# prog 3.9\n",
    "import matplotlib.pyplot as plt  #匯入 matplotlib.pyplot 模組, 後續程式用 plt 使用\n",
    "\n",
    "history_dict = history.history\n",
    "loss_values = history_dict['loss']  #取得每次訓練的 loss 訓練損失分數並存成 loss_values 變數\n",
    "val_loss_values = history_dict['val_loss']  #取得每次驗證的 val_loss 驗證損失分數並指定給 val_loss_values 變數\n",
    "\n",
    "\n",
    "epochs = range(1, len(loss_values)+ 1)  #len(loss_values) 項目個數為 20,範圍從 1 到 21 (不含 21) 的期間\n",
    "\n",
    "plt.plot(epochs, loss_values, 'bo', label='Training loss')  #以 'b' 指定用藍色線條畫出 x 軸為訓練週期、y 軸為驗證損失分數的圖表, 標籤設為驗證損失分數\n",
    "plt.plot(epochs, val_loss_values, 'b', label='Validation loss')  #以 'bo' 指定用藍色點點畫出 x 軸為訓練週期、y 軸為訓練損失分數的圖表, 標籤設為訓練損失分數\n",
    "plt.title('Training and validation loss')\n",
    "plt.xlabel('Epochs')  #將此圖表標題的 x 軸設為訓練週期分數\n",
    "plt.ylabel('Loss')  #將此圖表標題的 y 軸設為損失\n",
    "plt.legend()  #可以追加每個輸出圖表的圖像名稱\n",
    "\n",
    "plt.show()  #顯示圖表"
   ]
  },
  {
   "cell_type": "code",
   "execution_count": 19,
   "id": "26eaba26",
   "metadata": {},
   "outputs": [
    {
     "data": {
      "image/png": "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",
      "text/plain": [
       "<Figure size 640x480 with 1 Axes>"
      ]
     },
     "metadata": {},
     "output_type": "display_data"
    }
   ],
   "source": [
    "# prog 3.10\n",
    "plt.clf()  #清除圖表\n",
    "acc = history_dict['acc']\n",
    "val_acc = history_dict['val_acc']\n",
    "\n",
    "plt.plot(epochs, acc, 'bo', label='Training acc')\n",
    "plt.plot(epochs, val_acc, 'b', label='Validation acc')\n",
    "plt.title('Training and validation accuracy')\n",
    "plt.xlabel('Epochs')\n",
    "plt.ylabel('Accuracy')\n",
    "plt.legend()\n",
    "\n",
    "plt.show()"
   ]
  },
  {
   "cell_type": "code",
   "execution_count": 20,
   "id": "8358483f",
   "metadata": {},
   "outputs": [
    {
     "name": "stdout",
     "output_type": "stream",
     "text": [
      "Epoch 1/4\n",
      "49/49 [==============================] - 0s 4ms/step - loss: 0.4459 - accuracy: 0.8164\n",
      "Epoch 2/4\n",
      "49/49 [==============================] - 0s 4ms/step - loss: 0.2403 - accuracy: 0.9094\n",
      "Epoch 3/4\n",
      "49/49 [==============================] - 0s 4ms/step - loss: 0.1876 - accuracy: 0.9310\n",
      "Epoch 4/4\n",
      "49/49 [==============================] - 0s 4ms/step - loss: 0.1541 - accuracy: 0.9439\n",
      "782/782 [==============================] - 1s 834us/step - loss: 0.3259 - accuracy: 0.8792\n"
     ]
    }
   ],
   "source": [
    "# prog 3.11\n",
    "model = models.Sequential()  #建立模型\n",
    "model.add(layers.Dense(32, activation='relu', input_shape=(10000, )))\n",
    "model.add(layers.Dense(32, activation='relu'))\n",
    "model.add(layers.Dense(32, activation='relu'))\n",
    "model.add(layers.Dense(1, activation='sigmoid'))\n",
    "\n",
    "model.compile(optimizer='rmsprop',\n",
    "              loss='binary_crossentropy',\n",
    "              metrics=['accuracy'])\n",
    "\n",
    "model.fit(x_train, y_train, epochs=4, batch_size=512)  #訓練 4 個週期的神經網路\n",
    "results = model.evaluate(x_test, y_test)  #輸入測試資料與測試標籤進行評估"
   ]
  },
  {
   "cell_type": "code",
   "execution_count": 21,
   "id": "d37ab37d",
   "metadata": {},
   "outputs": [
    {
     "data": {
      "text/plain": [
       "[0.3258565068244934, 0.8792399764060974]"
      ]
     },
     "execution_count": 21,
     "metadata": {},
     "output_type": "execute_result"
    }
   ],
   "source": [
    "results"
   ]
  },
  {
   "cell_type": "code",
   "execution_count": 22,
   "id": "1e908a4a",
   "metadata": {},
   "outputs": [
    {
     "name": "stdout",
     "output_type": "stream",
     "text": [
      "782/782 [==============================] - 1s 669us/step\n"
     ]
    },
    {
     "data": {
      "text/plain": [
       "array([[0.11512522],\n",
       "       [0.9998053 ],\n",
       "       [0.9471165 ],\n",
       "       ...,\n",
       "       [0.07743782],\n",
       "       [0.05308275],\n",
       "       [0.84374636]], dtype=float32)"
      ]
     },
     "execution_count": 22,
     "metadata": {},
     "output_type": "execute_result"
    }
   ],
   "source": [
    "model.predict(x_test)"
   ]
  },
  {
   "cell_type": "code",
   "execution_count": 23,
   "id": "428c407b",
   "metadata": {},
   "outputs": [],
   "source": [
    "# prog 3.12\n",
    "from keras.datasets import reuters  #從 keras.datasets 套件中匯入 reuters 資料集\n",
    "(train_data, train_labels),(test_data, test_labels) = reuters.load_data(num_words=10000)\n"
   ]
  },
  {
   "cell_type": "code",
   "execution_count": 24,
   "id": "3c09282d",
   "metadata": {},
   "outputs": [
    {
     "name": "stdout",
     "output_type": "stream",
     "text": [
      "train_data :  8982\n",
      " test_data :  2246\n"
     ]
    }
   ],
   "source": [
    "print('train_data : ', len(train_data))\n",
    "print(' test_data : ', len(test_data))"
   ]
  },
  {
   "cell_type": "code",
   "execution_count": 25,
   "id": "b203279a",
   "metadata": {},
   "outputs": [
    {
     "data": {
      "text/plain": [
       "[1,\n",
       " 245,\n",
       " 273,\n",
       " 207,\n",
       " 156,\n",
       " 53,\n",
       " 74,\n",
       " 160,\n",
       " 26,\n",
       " 14,\n",
       " 46,\n",
       " 296,\n",
       " 26,\n",
       " 39,\n",
       " 74,\n",
       " 2979,\n",
       " 3554,\n",
       " 14,\n",
       " 46,\n",
       " 4689,\n",
       " 4329,\n",
       " 86,\n",
       " 61,\n",
       " 3499,\n",
       " 4795,\n",
       " 14,\n",
       " 61,\n",
       " 451,\n",
       " 4329,\n",
       " 17,\n",
       " 12]"
      ]
     },
     "execution_count": 25,
     "metadata": {},
     "output_type": "execute_result"
    }
   ],
   "source": [
    "train_data[10]"
   ]
  },
  {
   "cell_type": "code",
   "execution_count": 26,
   "id": "ed4d286d",
   "metadata": {},
   "outputs": [],
   "source": [
    "# prog 3.14\n",
    "import numpy as np\n",
    "\n",
    "def vectorize_sequences(sequences, dimension=10000):\n",
    "    results = np.zeros((len(sequences), dimension))\n",
    "    for i, sequence in enumerate(sequences):  #使用 one-hot 編碼\n",
    "        results[i, sequence] = 1.\n",
    "    return results\n",
    "\n",
    "x_train = vectorize_sequences(train_data)  #向量化訓練資料\n",
    "x_test = vectorize_sequences(test_data)  #向量化測試資料"
   ]
  },
  {
   "cell_type": "code",
   "execution_count": 27,
   "id": "0f83f06a",
   "metadata": {},
   "outputs": [],
   "source": [
    "def to_one_hot(labels, dimension=46):\n",
    "    results = np.zeros((len(labels), dimension))  #把所有元素設為 0\n",
    "    for i, label in enumerate(labels):\n",
    "        results[i, label] = 1.   #第 i 個元素設為 1\n",
    "    return results\n",
    "\n",
    "one_hot_train_labels = to_one_hot(train_labels)  #向量化訓練標籤\n",
    "one_hot_test_labels = to_one_hot(test_labels)  #向量化測試標籤"
   ]
  },
  {
   "cell_type": "code",
   "execution_count": 28,
   "id": "b9676e77",
   "metadata": {},
   "outputs": [],
   "source": [
    "from keras.utils.np_utils import to_categorical\n",
    "\n",
    "one_hot_train_labels = to_categorical(train_labels)\n",
    "one_hot_test_labels = to_categorical(test_labels)"
   ]
  },
  {
   "cell_type": "code",
   "execution_count": 29,
   "id": "7c08090c",
   "metadata": {},
   "outputs": [],
   "source": [
    "# prog 3.15\n",
    "from keras import models\n",
    "from keras import layers\n",
    "\n",
    "model = models.Sequential()\n",
    "model.add(layers.Dense(64, activation='relu',\n",
    "                       input_shape=(10000, )))\n",
    "model.add(layers.Dense(64, activation='relu'))\n",
    "model.add(layers.Dense(46, activation='softmax'))"
   ]
  },
  {
   "cell_type": "code",
   "execution_count": 30,
   "id": "dc05b548",
   "metadata": {},
   "outputs": [],
   "source": [
    "# prog 3.16\n",
    "model.compile(optimizer='rmsprop',\n",
    "              loss='categorical_crossentropy',\n",
    "              metrics=['accuracy'])"
   ]
  },
  {
   "cell_type": "code",
   "execution_count": 31,
   "id": "85d74462",
   "metadata": {},
   "outputs": [],
   "source": [
    "# prog 3.17\n",
    "x_val = x_train[:1000]\n",
    "partial_x_train = x_train[1000:]\n",
    "\n",
    "y_val = one_hot_train_labels[:1000]\n",
    "partial_y_train = one_hot_train_labels[1000:]"
   ]
  },
  {
   "cell_type": "code",
   "execution_count": 32,
   "id": "a953ed96",
   "metadata": {},
   "outputs": [
    {
     "name": "stdout",
     "output_type": "stream",
     "text": [
      "Epoch 1/20\n",
      "16/16 [==============================] - 1s 14ms/step - loss: 2.5852 - accuracy: 0.5063 - val_loss: 1.7014 - val_accuracy: 0.6310\n",
      "Epoch 2/20\n",
      "16/16 [==============================] - 0s 6ms/step - loss: 1.4276 - accuracy: 0.7050 - val_loss: 1.3534 - val_accuracy: 0.7070\n",
      "Epoch 3/20\n",
      "16/16 [==============================] - 0s 8ms/step - loss: 1.0874 - accuracy: 0.7692 - val_loss: 1.1735 - val_accuracy: 0.7520\n",
      "Epoch 4/20\n",
      "16/16 [==============================] - 0s 7ms/step - loss: 0.8533 - accuracy: 0.8198 - val_loss: 1.0561 - val_accuracy: 0.7850\n",
      "Epoch 5/20\n",
      "16/16 [==============================] - 0s 5ms/step - loss: 0.6898 - accuracy: 0.8552 - val_loss: 0.9794 - val_accuracy: 0.8050\n",
      "Epoch 6/20\n",
      "16/16 [==============================] - 0s 5ms/step - loss: 0.5498 - accuracy: 0.8851 - val_loss: 0.9343 - val_accuracy: 0.8110\n",
      "Epoch 7/20\n",
      "16/16 [==============================] - 0s 5ms/step - loss: 0.4394 - accuracy: 0.9085 - val_loss: 0.9332 - val_accuracy: 0.8020\n",
      "Epoch 8/20\n",
      "16/16 [==============================] - 0s 5ms/step - loss: 0.3545 - accuracy: 0.9266 - val_loss: 0.8842 - val_accuracy: 0.8160\n",
      "Epoch 9/20\n",
      "16/16 [==============================] - 0s 6ms/step - loss: 0.2929 - accuracy: 0.9374 - val_loss: 0.9003 - val_accuracy: 0.8100\n",
      "Epoch 10/20\n",
      "16/16 [==============================] - 0s 5ms/step - loss: 0.2439 - accuracy: 0.9455 - val_loss: 0.9500 - val_accuracy: 0.8060\n",
      "Epoch 11/20\n",
      "16/16 [==============================] - 0s 5ms/step - loss: 0.2090 - accuracy: 0.9504 - val_loss: 0.9148 - val_accuracy: 0.8060\n",
      "Epoch 12/20\n",
      "16/16 [==============================] - 0s 5ms/step - loss: 0.1853 - accuracy: 0.9511 - val_loss: 0.9195 - val_accuracy: 0.8120\n",
      "Epoch 13/20\n",
      "16/16 [==============================] - 0s 7ms/step - loss: 0.1672 - accuracy: 0.9534 - val_loss: 0.9709 - val_accuracy: 0.8050\n",
      "Epoch 14/20\n",
      "16/16 [==============================] - 0s 5ms/step - loss: 0.1513 - accuracy: 0.9539 - val_loss: 0.9655 - val_accuracy: 0.8100\n",
      "Epoch 15/20\n",
      "16/16 [==============================] - 0s 6ms/step - loss: 0.1366 - accuracy: 0.9570 - val_loss: 0.9941 - val_accuracy: 0.8060\n",
      "Epoch 16/20\n",
      "16/16 [==============================] - 0s 6ms/step - loss: 0.1335 - accuracy: 0.9565 - val_loss: 1.0421 - val_accuracy: 0.8010\n",
      "Epoch 17/20\n",
      "16/16 [==============================] - 0s 6ms/step - loss: 0.1266 - accuracy: 0.9573 - val_loss: 0.9927 - val_accuracy: 0.8070\n",
      "Epoch 18/20\n",
      "16/16 [==============================] - 0s 6ms/step - loss: 0.1190 - accuracy: 0.9582 - val_loss: 1.0415 - val_accuracy: 0.8030\n",
      "Epoch 19/20\n",
      "16/16 [==============================] - 0s 5ms/step - loss: 0.1161 - accuracy: 0.9570 - val_loss: 1.0238 - val_accuracy: 0.8120\n",
      "Epoch 20/20\n",
      "16/16 [==============================] - 0s 5ms/step - loss: 0.1118 - accuracy: 0.9564 - val_loss: 1.0600 - val_accuracy: 0.7970\n"
     ]
    }
   ],
   "source": [
    "# prog 3.18\n",
    "history = model.fit(partial_x_train,\n",
    "                    partial_y_train,\n",
    "                    epochs=20,\n",
    "                    batch_size=512,\n",
    "                    validation_data=(x_val, y_val))"
   ]
  },
  {
   "cell_type": "code",
   "execution_count": 33,
   "id": "bad96b5b",
   "metadata": {},
   "outputs": [
    {
     "data": {
      "image/png": "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",
      "text/plain": [
       "<Figure size 640x480 with 1 Axes>"
      ]
     },
     "metadata": {},
     "output_type": "display_data"
    }
   ],
   "source": [
    "# prog 3.19\n",
    "import matplotlib.pyplot as plt\n",
    "\n",
    "loss = history.history['loss']\n",
    "val_loss = history.history['val_loss']\n",
    "\n",
    "epochs = range(1, len(loss)+ 1)\n",
    "\n",
    "plt.plot(epochs, loss, 'bo', label='Training loss')\n",
    "plt.plot(epochs, val_loss, 'b', label='Validation loss')\n",
    "plt.title('Training and validation loss')\n",
    "plt.xlabel('Epochs')\n",
    "plt.ylabel('Loss')\n",
    "plt.legend()\n",
    "\n",
    "plt.show()\n"
   ]
  },
  {
   "cell_type": "code",
   "execution_count": 34,
   "id": "0d52e013",
   "metadata": {},
   "outputs": [
    {
     "data": {
      "image/png": "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",
      "text/plain": [
       "<Figure size 640x480 with 1 Axes>"
      ]
     },
     "metadata": {},
     "output_type": "display_data"
    }
   ],
   "source": [
    "# prog 3.20\n",
    "plt.clf()  #先清除畫面\n",
    "\n",
    "acc = history.history['accuracy']\n",
    "val_acc = history.history['val_accuracy']\n",
    "\n",
    "plt.plot(epochs, acc, 'bo', label='Training acc')\n",
    "plt.plot(epochs, val_acc, 'b', label='Validation acc')\n",
    "plt.title('Training and validation accuracy')\n",
    "plt.xlabel('Epochs')\n",
    "plt.ylabel('Accuracy')\n",
    "plt.legend()\n",
    "\n",
    "plt.show()"
   ]
  },
  {
   "cell_type": "code",
   "execution_count": 35,
   "id": "b74ae6d1",
   "metadata": {},
   "outputs": [
    {
     "name": "stdout",
     "output_type": "stream",
     "text": [
      "Epoch 1/9\n",
      "16/16 [==============================] - 0s 11ms/step - loss: 2.7241 - accuracy: 0.5048 - val_loss: 1.7924 - val_accuracy: 0.6480\n",
      "Epoch 2/9\n",
      "16/16 [==============================] - 0s 5ms/step - loss: 1.4476 - accuracy: 0.6996 - val_loss: 1.3045 - val_accuracy: 0.7140\n",
      "Epoch 3/9\n",
      "16/16 [==============================] - 0s 5ms/step - loss: 1.0498 - accuracy: 0.7717 - val_loss: 1.1089 - val_accuracy: 0.7630\n",
      "Epoch 4/9\n",
      "16/16 [==============================] - 0s 5ms/step - loss: 0.8156 - accuracy: 0.8254 - val_loss: 1.0008 - val_accuracy: 0.7940\n",
      "Epoch 5/9\n",
      "16/16 [==============================] - 0s 5ms/step - loss: 0.6430 - accuracy: 0.8682 - val_loss: 0.9352 - val_accuracy: 0.7960\n",
      "Epoch 6/9\n",
      "16/16 [==============================] - 0s 5ms/step - loss: 0.5152 - accuracy: 0.8914 - val_loss: 0.9204 - val_accuracy: 0.8000\n",
      "Epoch 7/9\n",
      "16/16 [==============================] - 0s 5ms/step - loss: 0.4128 - accuracy: 0.9142 - val_loss: 0.8936 - val_accuracy: 0.8050\n",
      "Epoch 8/9\n",
      "16/16 [==============================] - 0s 5ms/step - loss: 0.3350 - accuracy: 0.9278 - val_loss: 0.8920 - val_accuracy: 0.8030\n",
      "Epoch 9/9\n",
      "16/16 [==============================] - 0s 5ms/step - loss: 0.2770 - accuracy: 0.9407 - val_loss: 0.8872 - val_accuracy: 0.8160\n",
      "71/71 [==============================] - 0s 924us/step - loss: 1.0199 - accuracy: 0.7867\n"
     ]
    }
   ],
   "source": [
    "# prog 3.21\n",
    "model = models.Sequential()\n",
    "model.add(layers.Dense(64, activation='relu', input_shape=(10000, )))\n",
    "model.add(layers.Dense(64, activation='relu'))\n",
    "model.add(layers.Dense(46, activation='softmax'))\n",
    "\n",
    "model.compile(optimizer='rmsprop',\n",
    "              loss='categorical_crossentropy',\n",
    "              metrics=['accuracy'])\n",
    "\n",
    "model.fit(partial_x_train,\n",
    "partial_y_train,\n",
    "epochs=9,  #9 個週期就好!!!\n",
    "batch_size=512,\n",
    "validation_data=(x_val, y_val))\n",
    "\n",
    "results = model.evaluate(x_test, one_hot_test_labels)"
   ]
  },
  {
   "cell_type": "code",
   "execution_count": 36,
   "id": "4c5ac16e",
   "metadata": {},
   "outputs": [
    {
     "data": {
      "text/plain": [
       "[1.0199183225631714, 0.7867319583892822]"
      ]
     },
     "execution_count": 36,
     "metadata": {},
     "output_type": "execute_result"
    }
   ],
   "source": [
    "results"
   ]
  },
  {
   "cell_type": "code",
   "execution_count": 37,
   "id": "e66c6d24",
   "metadata": {},
   "outputs": [
    {
     "data": {
      "text/plain": [
       "0.1861086375779163"
      ]
     },
     "execution_count": 37,
     "metadata": {},
     "output_type": "execute_result"
    }
   ],
   "source": [
    "import copy\n",
    "test_labels_copy = copy.copy(test_labels)\n",
    "np.random.shuffle(test_labels_copy)\n",
    "hits_array = np.array(test_labels)== np.array(test_labels_copy)\n",
    "float(np.sum(hits_array))/ len(test_labels)"
   ]
  },
  {
   "cell_type": "code",
   "execution_count": 38,
   "id": "6a256b51",
   "metadata": {},
   "outputs": [
    {
     "name": "stdout",
     "output_type": "stream",
     "text": [
      "71/71 [==============================] - 0s 675us/step\n"
     ]
    }
   ],
   "source": [
    "# prog 3.22\n",
    "predictions = model.predict(x_test)"
   ]
  },
  {
   "cell_type": "code",
   "execution_count": 39,
   "id": "2e1be869",
   "metadata": {},
   "outputs": [
    {
     "data": {
      "text/plain": [
       "(46,)"
      ]
     },
     "execution_count": 39,
     "metadata": {},
     "output_type": "execute_result"
    }
   ],
   "source": [
    "predictions[0].shape"
   ]
  },
  {
   "cell_type": "code",
   "execution_count": 40,
   "id": "e9857dfb",
   "metadata": {},
   "outputs": [
    {
     "data": {
      "text/plain": [
       "0.9999999"
      ]
     },
     "execution_count": 40,
     "metadata": {},
     "output_type": "execute_result"
    }
   ],
   "source": [
    "np.sum(predictions[0])"
   ]
  },
  {
   "cell_type": "code",
   "execution_count": 41,
   "id": "a8e9feb0",
   "metadata": {},
   "outputs": [
    {
     "data": {
      "text/plain": [
       "4"
      ]
     },
     "execution_count": 41,
     "metadata": {},
     "output_type": "execute_result"
    }
   ],
   "source": [
    "np.argmax(predictions[0])"
   ]
  },
  {
   "cell_type": "code",
   "execution_count": 42,
   "id": "2f68460f",
   "metadata": {},
   "outputs": [],
   "source": [
    "y_train = np.array(train_labels)\n",
    "y_test = np.array(test_labels)"
   ]
  },
  {
   "cell_type": "code",
   "execution_count": 43,
   "id": "87ab87e2",
   "metadata": {},
   "outputs": [],
   "source": [
    "model.compile(optimizer='rmsprop',\n",
    "              loss='sparse_categorical_crossentropy',\n",
    "              metrics=['acc'])"
   ]
  },
  {
   "cell_type": "code",
   "execution_count": 44,
   "id": "eae44213",
   "metadata": {},
   "outputs": [
    {
     "name": "stdout",
     "output_type": "stream",
     "text": [
      "Epoch 1/20\n",
      "63/63 [==============================] - 0s 3ms/step - loss: 3.5540 - accuracy: 0.0877 - val_loss: 3.2635 - val_accuracy: 0.0980\n",
      "Epoch 2/20\n",
      "63/63 [==============================] - 0s 2ms/step - loss: 2.8933 - accuracy: 0.1161 - val_loss: 2.5530 - val_accuracy: 0.1240\n",
      "Epoch 3/20\n",
      "63/63 [==============================] - 0s 2ms/step - loss: 1.9101 - accuracy: 0.4429 - val_loss: 1.6170 - val_accuracy: 0.6250\n",
      "Epoch 4/20\n",
      "63/63 [==============================] - 0s 2ms/step - loss: 1.3331 - accuracy: 0.6590 - val_loss: 1.4293 - val_accuracy: 0.6610\n",
      "Epoch 5/20\n",
      "63/63 [==============================] - 0s 3ms/step - loss: 1.1477 - accuracy: 0.7149 - val_loss: 1.3495 - val_accuracy: 0.6860\n",
      "Epoch 6/20\n",
      "63/63 [==============================] - 0s 3ms/step - loss: 1.0206 - accuracy: 0.7340 - val_loss: 1.3231 - val_accuracy: 0.6870\n",
      "Epoch 7/20\n",
      "63/63 [==============================] - 0s 3ms/step - loss: 0.9217 - accuracy: 0.7560 - val_loss: 1.3024 - val_accuracy: 0.7010\n",
      "Epoch 8/20\n",
      "63/63 [==============================] - 0s 2ms/step - loss: 0.8458 - accuracy: 0.7780 - val_loss: 1.2925 - val_accuracy: 0.7160\n",
      "Epoch 9/20\n",
      "63/63 [==============================] - 0s 2ms/step - loss: 0.7800 - accuracy: 0.7915 - val_loss: 1.3149 - val_accuracy: 0.7220\n",
      "Epoch 10/20\n",
      "63/63 [==============================] - 0s 2ms/step - loss: 0.7268 - accuracy: 0.8074 - val_loss: 1.3298 - val_accuracy: 0.7160\n",
      "Epoch 11/20\n",
      "63/63 [==============================] - 0s 2ms/step - loss: 0.6805 - accuracy: 0.8150 - val_loss: 1.3621 - val_accuracy: 0.7180\n",
      "Epoch 12/20\n",
      "63/63 [==============================] - 0s 2ms/step - loss: 0.6405 - accuracy: 0.8195 - val_loss: 1.4032 - val_accuracy: 0.7240\n",
      "Epoch 13/20\n",
      "63/63 [==============================] - 0s 2ms/step - loss: 0.6037 - accuracy: 0.8294 - val_loss: 1.4400 - val_accuracy: 0.7170\n",
      "Epoch 14/20\n",
      "63/63 [==============================] - 0s 2ms/step - loss: 0.5734 - accuracy: 0.8364 - val_loss: 1.4985 - val_accuracy: 0.7140\n",
      "Epoch 15/20\n",
      "63/63 [==============================] - 0s 2ms/step - loss: 0.5482 - accuracy: 0.8462 - val_loss: 1.5362 - val_accuracy: 0.7150\n",
      "Epoch 16/20\n",
      "63/63 [==============================] - 0s 2ms/step - loss: 0.5209 - accuracy: 0.8497 - val_loss: 1.5923 - val_accuracy: 0.7090\n",
      "Epoch 17/20\n",
      "63/63 [==============================] - 0s 2ms/step - loss: 0.4982 - accuracy: 0.8571 - val_loss: 1.6128 - val_accuracy: 0.7150\n",
      "Epoch 18/20\n",
      "63/63 [==============================] - 0s 3ms/step - loss: 0.4778 - accuracy: 0.8649 - val_loss: 1.6966 - val_accuracy: 0.7070\n",
      "Epoch 19/20\n",
      "63/63 [==============================] - 0s 2ms/step - loss: 0.4569 - accuracy: 0.8654 - val_loss: 1.7154 - val_accuracy: 0.7080\n",
      "Epoch 20/20\n",
      "63/63 [==============================] - 0s 3ms/step - loss: 0.4410 - accuracy: 0.8693 - val_loss: 1.8186 - val_accuracy: 0.7110\n"
     ]
    },
    {
     "data": {
      "text/plain": [
       "<keras.callbacks.History at 0x7f50c07d4070>"
      ]
     },
     "execution_count": 44,
     "metadata": {},
     "output_type": "execute_result"
    }
   ],
   "source": [
    "# prog 3.23\n",
    "model = models.Sequential()\n",
    "model.add(layers.Dense(64, activation='relu', input_shape=(10000, )))\n",
    "model.add(layers.Dense(4, activation='relu'))  #中間層改為 4 維\n",
    "model.add(layers.Dense(46, activation='softmax'))\n",
    "\n",
    "model.compile(optimizer='rmsprop',\n",
    "              loss='categorical_crossentropy',\n",
    "              metrics=['accuracy'])\n",
    "model.fit(partial_x_train,\n",
    "          partial_y_train,\n",
    "          epochs=20,\n",
    "          batch_size=128,\n",
    "          validation_data=(x_val, y_val))"
   ]
  },
  {
   "cell_type": "code",
   "execution_count": 45,
   "id": "1d081658",
   "metadata": {},
   "outputs": [],
   "source": [
    "# prog 3.24\n",
    "from keras.datasets import boston_housing\n",
    "(train_data, train_targets),(test_data, test_targets)=boston_housing.load_data()"
   ]
  },
  {
   "cell_type": "code",
   "execution_count": 46,
   "id": "b5727581",
   "metadata": {},
   "outputs": [
    {
     "data": {
      "text/plain": [
       "(404, 13)"
      ]
     },
     "execution_count": 46,
     "metadata": {},
     "output_type": "execute_result"
    }
   ],
   "source": [
    "train_data.shape"
   ]
  },
  {
   "cell_type": "code",
   "execution_count": 47,
   "id": "b5f9ee22",
   "metadata": {},
   "outputs": [
    {
     "data": {
      "text/plain": [
       "(102, 13)"
      ]
     },
     "execution_count": 47,
     "metadata": {},
     "output_type": "execute_result"
    }
   ],
   "source": [
    "test_data.shape"
   ]
  },
  {
   "cell_type": "code",
   "execution_count": 48,
   "id": "802be706",
   "metadata": {},
   "outputs": [
    {
     "data": {
      "text/plain": [
       "array([15.2, 42.3, 50. , 21.1, 17.7, 18.5, 11.3, 15.6, 15.6, 14.4, 12.1,\n",
       "       17.9, 23.1, 19.9, 15.7,  8.8, 50. , 22.5, 24.1, 27.5, 10.9, 30.8,\n",
       "       32.9, 24. , 18.5, 13.3, 22.9, 34.7, 16.6, 17.5, 22.3, 16.1, 14.9,\n",
       "       23.1, 34.9, 25. , 13.9, 13.1, 20.4, 20. , 15.2, 24.7, 22.2, 16.7,\n",
       "       12.7, 15.6, 18.4, 21. , 30.1, 15.1, 18.7,  9.6, 31.5, 24.8, 19.1,\n",
       "       22. , 14.5, 11. , 32. , 29.4, 20.3, 24.4, 14.6, 19.5, 14.1, 14.3,\n",
       "       15.6, 10.5,  6.3, 19.3, 19.3, 13.4, 36.4, 17.8, 13.5, 16.5,  8.3,\n",
       "       14.3, 16. , 13.4, 28.6, 43.5, 20.2, 22. , 23. , 20.7, 12.5, 48.5,\n",
       "       14.6, 13.4, 23.7, 50. , 21.7, 39.8, 38.7, 22.2, 34.9, 22.5, 31.1,\n",
       "       28.7, 46. , 41.7, 21. , 26.6, 15. , 24.4, 13.3, 21.2, 11.7, 21.7,\n",
       "       19.4, 50. , 22.8, 19.7, 24.7, 36.2, 14.2, 18.9, 18.3, 20.6, 24.6,\n",
       "       18.2,  8.7, 44. , 10.4, 13.2, 21.2, 37. , 30.7, 22.9, 20. , 19.3,\n",
       "       31.7, 32. , 23.1, 18.8, 10.9, 50. , 19.6,  5. , 14.4, 19.8, 13.8,\n",
       "       19.6, 23.9, 24.5, 25. , 19.9, 17.2, 24.6, 13.5, 26.6, 21.4, 11.9,\n",
       "       22.6, 19.6,  8.5, 23.7, 23.1, 22.4, 20.5, 23.6, 18.4, 35.2, 23.1,\n",
       "       27.9, 20.6, 23.7, 28. , 13.6, 27.1, 23.6, 20.6, 18.2, 21.7, 17.1,\n",
       "        8.4, 25.3, 13.8, 22.2, 18.4, 20.7, 31.6, 30.5, 20.3,  8.8, 19.2,\n",
       "       19.4, 23.1, 23. , 14.8, 48.8, 22.6, 33.4, 21.1, 13.6, 32.2, 13.1,\n",
       "       23.4, 18.9, 23.9, 11.8, 23.3, 22.8, 19.6, 16.7, 13.4, 22.2, 20.4,\n",
       "       21.8, 26.4, 14.9, 24.1, 23.8, 12.3, 29.1, 21. , 19.5, 23.3, 23.8,\n",
       "       17.8, 11.5, 21.7, 19.9, 25. , 33.4, 28.5, 21.4, 24.3, 27.5, 33.1,\n",
       "       16.2, 23.3, 48.3, 22.9, 22.8, 13.1, 12.7, 22.6, 15. , 15.3, 10.5,\n",
       "       24. , 18.5, 21.7, 19.5, 33.2, 23.2,  5. , 19.1, 12.7, 22.3, 10.2,\n",
       "       13.9, 16.3, 17. , 20.1, 29.9, 17.2, 37.3, 45.4, 17.8, 23.2, 29. ,\n",
       "       22. , 18. , 17.4, 34.6, 20.1, 25. , 15.6, 24.8, 28.2, 21.2, 21.4,\n",
       "       23.8, 31. , 26.2, 17.4, 37.9, 17.5, 20. ,  8.3, 23.9,  8.4, 13.8,\n",
       "        7.2, 11.7, 17.1, 21.6, 50. , 16.1, 20.4, 20.6, 21.4, 20.6, 36.5,\n",
       "        8.5, 24.8, 10.8, 21.9, 17.3, 18.9, 36.2, 14.9, 18.2, 33.3, 21.8,\n",
       "       19.7, 31.6, 24.8, 19.4, 22.8,  7.5, 44.8, 16.8, 18.7, 50. , 50. ,\n",
       "       19.5, 20.1, 50. , 17.2, 20.8, 19.3, 41.3, 20.4, 20.5, 13.8, 16.5,\n",
       "       23.9, 20.6, 31.5, 23.3, 16.8, 14. , 33.8, 36.1, 12.8, 18.3, 18.7,\n",
       "       19.1, 29. , 30.1, 50. , 50. , 22. , 11.9, 37.6, 50. , 22.7, 20.8,\n",
       "       23.5, 27.9, 50. , 19.3, 23.9, 22.6, 15.2, 21.7, 19.2, 43.8, 20.3,\n",
       "       33.2, 19.9, 22.5, 32.7, 22. , 17.1, 19. , 15. , 16.1, 25.1, 23.7,\n",
       "       28.7, 37.2, 22.6, 16.4, 25. , 29.8, 22.1, 17.4, 18.1, 30.3, 17.5,\n",
       "       24.7, 12.6, 26.5, 28.7, 13.3, 10.4, 24.4, 23. , 20. , 17.8,  7. ,\n",
       "       11.8, 24.4, 13.8, 19.4, 25.2, 19.4, 19.4, 29.1])"
      ]
     },
     "execution_count": 48,
     "metadata": {},
     "output_type": "execute_result"
    }
   ],
   "source": [
    "# 實際成交房價的中位數\n",
    "train_targets"
   ]
  },
  {
   "cell_type": "code",
   "execution_count": 49,
   "id": "0655f442",
   "metadata": {},
   "outputs": [],
   "source": [
    "# prog 3.25\n",
    "mean = train_data.mean(axis=0)  #沿著第 0 軸 (batch_size 軸) 做平均\n",
    "train_data -= mean\n",
    "std = train_data.std(axis=0)  #沿著第 0 軸 (batch_size 軸) 算標準差\n",
    "train_data /= std\n",
    "\n",
    "test_data -= mean\n",
    "test_data /= std"
   ]
  },
  {
   "cell_type": "code",
   "execution_count": 50,
   "id": "5be3b27c",
   "metadata": {},
   "outputs": [],
   "source": [
    "# prog 3.26\n",
    "from keras import models\n",
    "from keras import layers\n",
    "\n",
    "def build_model():\n",
    "    model = models.Sequential()  #建構一個 sequential 模型\n",
    "    model.add(layers.Dense(64, activation='relu',\n",
    "                           input_shape=(train_data.shape[1], )))\n",
    "    model.add(layers.Dense(64, activation='relu'))\n",
    "    model.add(layers.Dense(1))\n",
    "    model.compile(optimizer='rmsprop', loss='mse', metrics=['mae'])\n",
    "    return model"
   ]
  },
  {
   "cell_type": "code",
   "execution_count": 51,
   "id": "2f0449f3",
   "metadata": {},
   "outputs": [
    {
     "name": "stdout",
     "output_type": "stream",
     "text": [
      "processing fold # 0\n",
      "processing fold # 1\n",
      "processing fold # 2\n",
      "processing fold # 3\n"
     ]
    }
   ],
   "source": [
    "# prog 3.27\n",
    "import numpy as np\n",
    "\n",
    "k = 4  #進行 4 折交叉驗證\n",
    "num_val_samples = len(train_data) // k\n",
    "num_epochs = 100\n",
    "all_scores = []\n",
    "\n",
    "for i in range(k):\n",
    "    print('processing fold #', i)  #準備驗證資料：資料來自 #k 區塊\n",
    "    val_data = train_data[i * num_val_samples: (i + 1) * num_val_samples]\n",
    "    val_targets = train_targets[i * num_val_samples: (i + 1) * num_val_samples]\n",
    "    #準備訓練資料：資料來自 #k 以外的所有區塊\n",
    "    partial_train_data = np.concatenate(\n",
    "        [train_data[:i * num_val_samples],\n",
    "         train_data[(i + 1) * num_val_samples:]],\n",
    "        axis=0)\n",
    "    partial_train_targets = np.concatenate(\n",
    "        [train_targets[:i * num_val_samples],\n",
    "         train_targets[(i + 1) * num_val_samples:]],\n",
    "        axis=0)\n",
    "\n",
    "    model = build_model() #建構 Keras 模型(已編譯)\n",
    "    model.fit(partial_train_data, partial_train_targets,\n",
    "              epochs=num_epochs, batch_size=1, verbose=0) #訓練該模型 (在 silent 靜音模式下, verbose = 0)\n",
    "    \n",
    "    val_mse, val_mae = model.evaluate(val_data, val_targets, verbose=0)  #以驗證資料來評估模型\n",
    "    all_scores.append(val_mae)"
   ]
  },
  {
   "cell_type": "code",
   "execution_count": 52,
   "id": "46dd9fd6",
   "metadata": {},
   "outputs": [
    {
     "data": {
      "text/plain": [
       "[2.0739777088165283, 2.3279166221618652, 2.765157461166382, 2.519213914871216]"
      ]
     },
     "execution_count": 52,
     "metadata": {},
     "output_type": "execute_result"
    }
   ],
   "source": [
    "all_scores"
   ]
  },
  {
   "cell_type": "code",
   "execution_count": 53,
   "id": "d52adca0",
   "metadata": {},
   "outputs": [
    {
     "data": {
      "text/plain": [
       "2.421566426753998"
      ]
     },
     "execution_count": 53,
     "metadata": {},
     "output_type": "execute_result"
    }
   ],
   "source": [
    "np.mean(all_scores)"
   ]
  },
  {
   "cell_type": "code",
   "execution_count": 57,
   "id": "7f5ecae8",
   "metadata": {},
   "outputs": [
    {
     "name": "stdout",
     "output_type": "stream",
     "text": [
      "processing fold # 0\n",
      "processing fold # 1\n",
      "processing fold # 2\n",
      "processing fold # 3\n"
     ]
    }
   ],
   "source": [
    "# prog 3.28\n",
    "num_epochs = 500\n",
    "all_mae_histories = []\n",
    "for i in range(k):\n",
    "    print('processing fold #', i)\n",
    "    \n",
    "    val_data = train_data[i * num_val_samples: (i + 1) * num_val_samples]\n",
    "    val_targets = train_targets[i * num_val_samples: (i + 1) * num_val_samples]\n",
    "\n",
    "    partial_train_data = np.concatenate(\n",
    "        [train_data[:i * num_val_samples],\n",
    "         train_data[(i + 1) * num_val_samples:]],\n",
    "        axis=0)\n",
    "    partial_train_targets = np.concatenate(\n",
    "        [train_targets[:i * num_val_samples],\n",
    "         train_targets[(i + 1) * num_val_samples:]],\n",
    "        axis=0)\n",
    "\n",
    "    model = build_model()\n",
    "    history = model.fit(partial_train_data, partial_train_targets,\n",
    "                        validation_data=(val_data, val_targets),\n",
    "                        epochs=num_epochs, batch_size=1, verbose=0)\n",
    "#    mae_history = history.history['val_mean_absolute_error']\n",
    "    mae_history = history.history['val_mae']\n",
    "    all_mae_histories.append(mae_history)"
   ]
  },
  {
   "cell_type": "code",
   "execution_count": 59,
   "id": "707ba6b8",
   "metadata": {},
   "outputs": [
    {
     "data": {
      "text/plain": [
       "dict_keys(['loss', 'mae', 'val_loss', 'val_mae'])"
      ]
     },
     "execution_count": 59,
     "metadata": {},
     "output_type": "execute_result"
    }
   ],
   "source": [
    "# Display history keys\n",
    "history.history.keys()"
   ]
  },
  {
   "cell_type": "code",
   "execution_count": 60,
   "id": "c7997010",
   "metadata": {},
   "outputs": [],
   "source": [
    "# prog 3.29\n",
    "average_mae_history = [\n",
    "    np.mean([x[i] for x in all_mae_histories])for i in range(num_epochs)]"
   ]
  },
  {
   "cell_type": "code",
   "execution_count": 61,
   "id": "352446b1",
   "metadata": {},
   "outputs": [
    {
     "data": {
      "image/png": "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",
      "text/plain": [
       "<Figure size 640x480 with 1 Axes>"
      ]
     },
     "metadata": {},
     "output_type": "display_data"
    }
   ],
   "source": [
    "# prog 3.30\n",
    "import matplotlib.pyplot as plt\n",
    "plt.plot(range(1, len(average_mae_history)+ 1), average_mae_history)\n",
    "plt.xlabel('Epochs')\n",
    "plt.ylabel('Validation MAE')\n",
    "plt.show()"
   ]
  },
  {
   "cell_type": "code",
   "execution_count": 62,
   "id": "3e429c68",
   "metadata": {},
   "outputs": [
    {
     "data": {
      "image/png": "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",
      "text/plain": [
       "<Figure size 640x480 with 1 Axes>"
      ]
     },
     "metadata": {},
     "output_type": "display_data"
    }
   ],
   "source": [
    "# prog 3.31\n",
    "def smooth_curve(points, factor=0.9):  #指數值為 0.9\n",
    "    smoothed_points = []\n",
    "    for point in points:\n",
    "        if smoothed_points:  #運用指數平均數\n",
    "            previous = smoothed_points[-1]\n",
    "            smoothed_points.append(previous * factor + point *(1 - factor))\n",
    "        else:\n",
    "            smoothed_points.append(point)\n",
    "    return smoothed_points\n",
    "\n",
    "smooth_mae_history = smooth_curve(average_mae_history[10:])\n",
    "\n",
    "plt.plot(range(1, len(smooth_mae_history)+ 1), smooth_mae_history)\n",
    "plt.xlabel('Epochs')\n",
    "plt.ylabel('Validation MAE')\n",
    "plt.show()"
   ]
  },
  {
   "cell_type": "code",
   "execution_count": 63,
   "id": "298d3a0e",
   "metadata": {},
   "outputs": [
    {
     "name": "stdout",
     "output_type": "stream",
     "text": [
      "4/4 [==============================] - 0s 991us/step - loss: 19.5665 - mae: 3.0054\n"
     ]
    }
   ],
   "source": [
    "# prog 3.32\n",
    "model = build_model()\n",
    "model.fit(train_data, train_targets,\n",
    "epochs=80, batch_size=16, verbose=0)\n",
    "test_mse_score, test_mae_score = model.evaluate(test_data, test_targets)"
   ]
  },
  {
   "cell_type": "code",
   "execution_count": 64,
   "id": "629a5ae3",
   "metadata": {},
   "outputs": [
    {
     "data": {
      "text/plain": [
       "3.0053672790527344"
      ]
     },
     "execution_count": 64,
     "metadata": {},
     "output_type": "execute_result"
    }
   ],
   "source": [
    "test_mae_score"
   ]
  }
 ],
 "metadata": {
  "kernelspec": {
   "display_name": "Python 3 (ipykernel)",
   "language": "python",
   "name": "python3"
  },
  "language_info": {
   "codemirror_mode": {
    "name": "ipython",
    "version": 3
   },
   "file_extension": ".py",
   "mimetype": "text/x-python",
   "name": "python",
   "nbconvert_exporter": "python",
   "pygments_lexer": "ipython3",
<<<<<<< HEAD
   "version": "3.8.16"
=======
   "version": "3.9.0"
>>>>>>> 3ff357dfe6f7337c91c83b504504f9cf88e3c5c7
  }
 },
 "nbformat": 4,
 "nbformat_minor": 5
}
