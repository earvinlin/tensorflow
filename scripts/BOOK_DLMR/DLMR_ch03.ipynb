{
 "cells": [
  {
   "cell_type": "code",
<<<<<<< HEAD
   "execution_count": 2,
=======
   "execution_count": 1,
>>>>>>> 6ce468ccf19252a4eb5cfb6592ddfaf6fff791dc
   "id": "673ab99a-8449-4e31-be10-c00ee1795794",
   "metadata": {
    "scrolled": true
   },
   "outputs": [],
   "source": [
    "import os\n",
    "import numpy as np\n",
    "import pandas as pd\n",
    "import tensorflow as tf\n",
    "import matplotlib.pyplot as plt\n",
    "from tensorflow import keras\n",
    "from tensorflow.keras import layers"
   ]
  },
  {
   "cell_type": "code",
<<<<<<< HEAD
   "execution_count": 3,
=======
   "execution_count": 2,
>>>>>>> 6ce468ccf19252a4eb5cfb6592ddfaf6fff791dc
   "id": "7f872fa9-8038-48a3-8aa2-41767a08cb9d",
   "metadata": {},
   "outputs": [
    {
     "name": "stdout",
     "output_type": "stream",
     "text": [
      "2.4.1\n",
      "2.4.0\n"
     ]
    }
   ],
   "source": [
    "print(tf.__version__)\n",
    "print(keras.__version__)"
   ]
  },
  {
   "cell_type": "code",
<<<<<<< HEAD
   "execution_count": 4,
=======
   "execution_count": 3,
>>>>>>> 6ce468ccf19252a4eb5cfb6592ddfaf6fff791dc
   "id": "192428ae-10a0-4b48-a864-57352cedc881",
   "metadata": {},
   "outputs": [
    {
     "name": "stdout",
     "output_type": "stream",
     "text": [
      "\n"
     ]
    },
    {
     "name": "stderr",
     "output_type": "stream",
     "text": [
      "2023-11-24 22:11:17.461582: I tensorflow/core/platform/cpu_feature_guard.cc:142] This TensorFlow binary is optimized with oneAPI Deep Neural Network Library (oneDNN) to use the following CPU instructions in performance-critical operations:  SSE4.1 SSE4.2 AVX AVX2 FMA\n",
      "To enable them in other operations, rebuild TensorFlow with the appropriate compiler flags.\n"
     ]
    }
   ],
   "source": [
    "import tensorflow as tf\n",
    "gpu_device_name = tf.test.gpu_device_name()\n",
    "print(gpu_device_name)\n"
   ]
  },
  {
   "cell_type": "code",
<<<<<<< HEAD
   "execution_count": 5,
=======
   "execution_count": 4,
>>>>>>> 6ce468ccf19252a4eb5cfb6592ddfaf6fff791dc
   "id": "ddc6a9d2",
   "metadata": {},
   "outputs": [
    {
     "name": "stdout",
     "output_type": "stream",
     "text": [
<<<<<<< HEAD
      "WARNING:tensorflow:From /tmp/ipykernel_27284/337460670.py:1: is_gpu_available (from tensorflow.python.framework.test_util) is deprecated and will be removed in a future version.\n",
=======
      "WARNING:tensorflow:From <ipython-input-4-17bb7203622b>:1: is_gpu_available (from tensorflow.python.framework.test_util) is deprecated and will be removed in a future version.\n",
>>>>>>> 6ce468ccf19252a4eb5cfb6592ddfaf6fff791dc
      "Instructions for updating:\n",
      "Use `tf.config.list_physical_devices('GPU')` instead.\n"
     ]
    },
    {
     "data": {
      "text/plain": [
       "False"
      ]
     },
<<<<<<< HEAD
     "execution_count": 5,
=======
     "execution_count": 4,
>>>>>>> 6ce468ccf19252a4eb5cfb6592ddfaf6fff791dc
     "metadata": {},
     "output_type": "execute_result"
    }
   ],
   "source": [
    "tf.test.is_gpu_available()"
   ]
  },
  {
   "cell_type": "code",
<<<<<<< HEAD
   "execution_count": 6,
=======
   "execution_count": 5,
>>>>>>> 6ce468ccf19252a4eb5cfb6592ddfaf6fff791dc
   "id": "23eb050a",
   "metadata": {},
   "outputs": [
    {
     "name": "stderr",
     "output_type": "stream",
     "text": [
      "2023-11-24 22:11:18.139514: I tensorflow/compiler/jit/xla_cpu_device.cc:41] Not creating XLA devices, tf_xla_enable_xla_devices not set\n"
     ]
    },
    {
     "data": {
      "text/plain": [
       "[]"
      ]
     },
<<<<<<< HEAD
     "execution_count": 6,
=======
     "execution_count": 5,
>>>>>>> 6ce468ccf19252a4eb5cfb6592ddfaf6fff791dc
     "metadata": {},
     "output_type": "execute_result"
    }
   ],
   "source": [
    "tf.config.list_physical_devices('GPU')"
   ]
  },
  {
   "cell_type": "code",
<<<<<<< HEAD
   "execution_count": 7,
=======
   "execution_count": 6,
>>>>>>> 6ce468ccf19252a4eb5cfb6592ddfaf6fff791dc
   "id": "083b904a",
   "metadata": {},
   "outputs": [
    {
     "name": "stderr",
     "output_type": "stream",
     "text": [
      "<__array_function__ internals>:180: VisibleDeprecationWarning: Creating an ndarray from ragged nested sequences (which is a list-or-tuple of lists-or-tuples-or ndarrays with different lengths or shapes) is deprecated. If you meant to do this, you must specify 'dtype=object' when creating the ndarray.\n",
      "/home/earvin/miniconda3/envs/tf/lib/python3.8/site-packages/tensorflow/python/keras/datasets/imdb.py:159: VisibleDeprecationWarning: Creating an ndarray from ragged nested sequences (which is a list-or-tuple of lists-or-tuples-or ndarrays with different lengths or shapes) is deprecated. If you meant to do this, you must specify 'dtype=object' when creating the ndarray.\n",
      "  x_train, y_train = np.array(xs[:idx]), np.array(labels[:idx])\n",
      "/home/earvin/miniconda3/envs/tf/lib/python3.8/site-packages/tensorflow/python/keras/datasets/imdb.py:160: VisibleDeprecationWarning: Creating an ndarray from ragged nested sequences (which is a list-or-tuple of lists-or-tuples-or ndarrays with different lengths or shapes) is deprecated. If you meant to do this, you must specify 'dtype=object' when creating the ndarray.\n",
      "  x_test, y_test = np.array(xs[idx:]), np.array(labels[idx:])\n"
     ]
    }
   ],
   "source": [
    "# Prog3.1 \n",
    "from keras.datasets import imdb\n",
    "\n",
    "(train_data, train_labels), (test_data, test_labels) = imdb.load_data(num_words=10000)"
   ]
  },
  {
   "cell_type": "code",
<<<<<<< HEAD
   "execution_count": 8,
=======
   "execution_count": 7,
>>>>>>> 6ce468ccf19252a4eb5cfb6592ddfaf6fff791dc
   "id": "281939a6",
   "metadata": {},
   "outputs": [
    {
     "name": "stdout",
     "output_type": "stream",
     "text": [
      "9999\n"
     ]
    }
   ],
   "source": [
    "#print(train_data[0])\n",
    "#print(train_labels[0])\n",
    "print(max([max(sequence) for sequence in train_data]))"
   ]
  },
  {
   "cell_type": "code",
<<<<<<< HEAD
   "execution_count": 9,
=======
   "execution_count": 8,
>>>>>>> 6ce468ccf19252a4eb5cfb6592ddfaf6fff791dc
   "id": "42bfc97e",
   "metadata": {},
   "outputs": [
    {
     "name": "stdout",
     "output_type": "stream",
     "text": [
      "? this film was just brilliant casting location scenery story direction everyone's really suited the part they played and you could just imagine being there robert ? is an amazing actor and now the same being director ? father came from the same scottish island as myself so i loved the fact there was a real connection with this film the witty remarks throughout the film were great it was just brilliant so much that i bought the film as soon as it was released for ? and would recommend it to everyone to watch and the fly fishing was amazing really cried at the end it was so sad and you know what they say if you cry at a film it must have been good and this definitely was also ? to the two little boy's that played the ? of norman and paul they were just brilliant children are often left out of the ? list i think because the stars that play them all grown up are such a big profile for the whole film but these children are amazing and should be praised for what they have done don't you think the whole story was so lovely because it was true and was someone's life after all that was shared with us all\n"
     ]
    }
   ],
   "source": [
    "word_index = imdb.get_word_index()\n",
    "reverse_word_index = dict([(value, key) for (key, value) in word_index.items()])\n",
    "decoded_review = ' '.join(reverse_word_index.get(i-3, '?') for i in train_data[0])\n",
    "print(decoded_review)"
   ]
  },
  {
   "cell_type": "code",
<<<<<<< HEAD
   "execution_count": 10,
=======
   "execution_count": 9,
>>>>>>> 6ce468ccf19252a4eb5cfb6592ddfaf6fff791dc
   "id": "61d5bb6f",
   "metadata": {},
   "outputs": [],
   "source": [
    "# prog 3.2\n",
    "import numpy as np\n",
    "\n",
    "def  vectiruze_sequences(sequences, dimension=10000) :\n",
    "    results = np.zeros((len(sequences), dimension))\n",
    "    for i, sequence in enumerate(sequences) :\n",
    "        results[i, sequence] = 1.\n",
    "    return results\n",
    "\n",
    "x_train = vectiruze_sequences(train_data)\n",
    "x_test = vectiruze_sequences(test_data)"
   ]
  },
  {
   "cell_type": "code",
<<<<<<< HEAD
   "execution_count": 11,
=======
   "execution_count": 10,
>>>>>>> 6ce468ccf19252a4eb5cfb6592ddfaf6fff791dc
   "id": "626c889f-66d5-4224-99bb-d13ea2280945",
   "metadata": {},
   "outputs": [],
   "source": [
    "y_train = np.asarray(train_labels).astype('float32')\n",
    "y_test = np.asarray(test_labels).astype('float32')"
   ]
  },
  {
   "cell_type": "code",
<<<<<<< HEAD
   "execution_count": 12,
=======
   "execution_count": 11,
>>>>>>> 6ce468ccf19252a4eb5cfb6592ddfaf6fff791dc
   "id": "0ff84a04-e3e0-40b2-a6e8-d4869cc9c024",
   "metadata": {},
   "outputs": [
    {
     "name": "stderr",
     "output_type": "stream",
     "text": [
      "2023-11-24 22:11:29.656486: I tensorflow/core/common_runtime/process_util.cc:146] Creating new thread pool with default inter op setting: 2. Tune using inter_op_parallelism_threads for best performance.\n"
     ]
    }
   ],
   "source": [
    "# prog 3.3\n",
    "from keras import models\n",
    "from keras import layers\n",
    "\n",
    "model = models.Sequential()\n",
    "model.add(layers.Dense(16, activation='relu', input_shape=(10000,)))\n",
    "model.add(layers.Dense(16, activation='relu'))\n",
    "model.add(layers.Dense(1, activation='sigmoid'))\n"
   ]
  },
  {
   "cell_type": "code",
<<<<<<< HEAD
   "execution_count": 13,
=======
   "execution_count": 12,
>>>>>>> 6ce468ccf19252a4eb5cfb6592ddfaf6fff791dc
   "id": "7bcabb39",
   "metadata": {},
   "outputs": [],
   "source": [
    "# prog 3.4\n",
    "model.compile(optimizer='rmsprop',\n",
    "             loss='binary_crossentropy',\n",
    "             metrics=['accuracy'])"
   ]
  },
  {
   "cell_type": "code",
<<<<<<< HEAD
   "execution_count": 14,
   "id": "c9270328",
   "metadata": {},
   "outputs": [],
=======
   "execution_count": 13,
   "id": "c9270328",
   "metadata": {},
   "outputs": [
    {
     "name": "stderr",
     "output_type": "stream",
     "text": [
      "/home/earvin/anaconda3/envs/tf/lib/python3.9/site-packages/keras/optimizers/legacy/rmsprop.py:143: UserWarning: The `lr` argument is deprecated, use `learning_rate` instead.\n",
      "  super().__init__(name, **kwargs)\n"
     ]
    }
   ],
>>>>>>> 6ce468ccf19252a4eb5cfb6592ddfaf6fff791dc
   "source": [
    "# prog 3.5\n",
    "from keras import optimizers\n",
    "\n",
    "model.compile(optimizer=optimizers.RMSprop(lr=0.001),\n",
    "             loss='binary_crossentropy',\n",
    "             metrics=['accuracy'])"
   ]
  },
  {
   "cell_type": "code",
<<<<<<< HEAD
   "execution_count": 15,
=======
   "execution_count": 14,
>>>>>>> 6ce468ccf19252a4eb5cfb6592ddfaf6fff791dc
   "id": "466aa92c",
   "metadata": {},
   "outputs": [],
   "source": [
    "# prog 3.6\n",
    "from keras import losses\n",
    "from keras import metrics\n",
    "\n",
    "model.compile(optimizer=optimizers.RMSprop(lr=0.001),\n",
    "              loss=losses.binary_crossentropy,  \n",
    "              metrics=[metrics.binary_accuracy])\n"
   ]
  },
  {
   "cell_type": "code",
<<<<<<< HEAD
   "execution_count": 16,
=======
   "execution_count": 15,
>>>>>>> 6ce468ccf19252a4eb5cfb6592ddfaf6fff791dc
   "id": "705d5fb1",
   "metadata": {},
   "outputs": [],
   "source": [
    "# prog 3.7\n",
    "x_val = x_train[:10000]\n",
    "partial_x_train = x_train[10000:]\n",
    "\n",
    "y_val = y_train[:10000]\n",
    "partial_y_train = y_train[10000:]\n"
   ]
  },
  {
   "cell_type": "code",
<<<<<<< HEAD
   "execution_count": 17,
=======
   "execution_count": 16,
>>>>>>> 6ce468ccf19252a4eb5cfb6592ddfaf6fff791dc
   "id": "d3973a5c",
   "metadata": {},
   "outputs": [
    {
<<<<<<< HEAD
     "name": "stderr",
     "output_type": "stream",
     "text": [
      "2023-11-24 22:11:31.970865: I tensorflow/compiler/mlir/mlir_graph_optimization_pass.cc:116] None of the MLIR optimization passes are enabled (registered 2)\n",
      "2023-11-24 22:11:31.979111: I tensorflow/core/platform/profile_utils/cpu_utils.cc:112] CPU Frequency: 1881595000 Hz\n"
     ]
    },
    {
=======
>>>>>>> 6ce468ccf19252a4eb5cfb6592ddfaf6fff791dc
     "name": "stdout",
     "output_type": "stream",
     "text": [
      "Epoch 1/20\n",
<<<<<<< HEAD
      "30/30 [==============================] - 8s 208ms/step - loss: 0.5901 - acc: 0.6978 - val_loss: 0.3855 - val_acc: 0.8747\n",
      "Epoch 2/20\n",
      "30/30 [==============================] - 2s 53ms/step - loss: 0.3238 - acc: 0.9062 - val_loss: 0.3059 - val_acc: 0.8886\n",
      "Epoch 3/20\n",
      "30/30 [==============================] - 1s 47ms/step - loss: 0.2298 - acc: 0.9293 - val_loss: 0.2780 - val_acc: 0.8913\n",
      "Epoch 4/20\n",
      "30/30 [==============================] - 1s 35ms/step - loss: 0.1702 - acc: 0.9484 - val_loss: 0.2813 - val_acc: 0.8876\n",
      "Epoch 5/20\n",
      "30/30 [==============================] - 1s 35ms/step - loss: 0.1420 - acc: 0.9569 - val_loss: 0.3067 - val_acc: 0.8782\n",
      "Epoch 6/20\n",
      "30/30 [==============================] - 1s 40ms/step - loss: 0.1175 - acc: 0.9639 - val_loss: 0.2976 - val_acc: 0.8868\n",
      "Epoch 7/20\n",
      "30/30 [==============================] - 1s 37ms/step - loss: 0.0920 - acc: 0.9734 - val_loss: 0.3289 - val_acc: 0.8777\n",
      "Epoch 8/20\n",
      "30/30 [==============================] - 1s 35ms/step - loss: 0.0769 - acc: 0.9798 - val_loss: 0.3546 - val_acc: 0.8796\n",
      "Epoch 9/20\n",
      "30/30 [==============================] - 1s 33ms/step - loss: 0.0612 - acc: 0.9851 - val_loss: 0.3529 - val_acc: 0.8800\n",
      "Epoch 10/20\n",
      "30/30 [==============================] - 1s 35ms/step - loss: 0.0515 - acc: 0.9883 - val_loss: 0.3809 - val_acc: 0.8801\n",
      "Epoch 11/20\n",
      "30/30 [==============================] - 1s 38ms/step - loss: 0.0388 - acc: 0.9923 - val_loss: 0.4152 - val_acc: 0.8770\n",
      "Epoch 12/20\n",
      "30/30 [==============================] - 1s 31ms/step - loss: 0.0308 - acc: 0.9947 - val_loss: 0.4350 - val_acc: 0.8761\n",
      "Epoch 13/20\n",
      "30/30 [==============================] - 1s 29ms/step - loss: 0.0234 - acc: 0.9957 - val_loss: 0.4641 - val_acc: 0.8734\n",
      "Epoch 14/20\n",
      "30/30 [==============================] - 1s 28ms/step - loss: 0.0174 - acc: 0.9977 - val_loss: 0.4930 - val_acc: 0.8721\n",
      "Epoch 15/20\n",
      "30/30 [==============================] - 6s 222ms/step - loss: 0.0123 - acc: 0.9990 - val_loss: 0.5693 - val_acc: 0.8691\n",
      "Epoch 16/20\n",
      "30/30 [==============================] - 1s 40ms/step - loss: 0.0121 - acc: 0.9985 - val_loss: 0.5721 - val_acc: 0.8723\n",
      "Epoch 17/20\n",
      "30/30 [==============================] - 1s 42ms/step - loss: 0.0078 - acc: 0.9995 - val_loss: 0.5911 - val_acc: 0.8684\n",
      "Epoch 18/20\n",
      "30/30 [==============================] - 1s 34ms/step - loss: 0.0055 - acc: 0.9997 - val_loss: 0.6347 - val_acc: 0.8707\n",
      "Epoch 19/20\n",
      "30/30 [==============================] - 1s 33ms/step - loss: 0.0064 - acc: 0.9992 - val_loss: 0.6551 - val_acc: 0.8684\n",
      "Epoch 20/20\n",
      "30/30 [==============================] - 1s 37ms/step - loss: 0.0030 - acc: 1.0000 - val_loss: 0.7919 - val_acc: 0.8486\n"
=======
      "30/30 [==============================] - 1s 32ms/step - loss: 0.5533 - acc: 0.7339 - val_loss: 0.4207 - val_acc: 0.8602\n",
      "Epoch 2/20\n",
      "30/30 [==============================] - 1s 21ms/step - loss: 0.3378 - acc: 0.8929 - val_loss: 0.3289 - val_acc: 0.8768\n",
      "Epoch 3/20\n",
      "30/30 [==============================] - 0s 14ms/step - loss: 0.2505 - acc: 0.9204 - val_loss: 0.2896 - val_acc: 0.8900\n",
      "Epoch 4/20\n",
      "30/30 [==============================] - 1s 23ms/step - loss: 0.2004 - acc: 0.9348 - val_loss: 0.2797 - val_acc: 0.8875\n",
      "Epoch 5/20\n",
      "30/30 [==============================] - 0s 15ms/step - loss: 0.1672 - acc: 0.9468 - val_loss: 0.2828 - val_acc: 0.8847\n",
      "Epoch 6/20\n",
      "30/30 [==============================] - 0s 13ms/step - loss: 0.1419 - acc: 0.9569 - val_loss: 0.2875 - val_acc: 0.8854\n",
      "Epoch 7/20\n",
      "30/30 [==============================] - 0s 13ms/step - loss: 0.1221 - acc: 0.9627 - val_loss: 0.2938 - val_acc: 0.8835\n",
      "Epoch 8/20\n",
      "30/30 [==============================] - 1s 18ms/step - loss: 0.1070 - acc: 0.9684 - val_loss: 0.3199 - val_acc: 0.8808\n",
      "Epoch 9/20\n",
      "30/30 [==============================] - 0s 14ms/step - loss: 0.0885 - acc: 0.9769 - val_loss: 0.3239 - val_acc: 0.8793\n",
      "Epoch 10/20\n",
      "30/30 [==============================] - 0s 16ms/step - loss: 0.0787 - acc: 0.9805 - val_loss: 0.3584 - val_acc: 0.8756\n",
      "Epoch 11/20\n",
      "30/30 [==============================] - 1s 21ms/step - loss: 0.0669 - acc: 0.9836 - val_loss: 0.3516 - val_acc: 0.8789\n",
      "Epoch 12/20\n",
      "30/30 [==============================] - 1s 23ms/step - loss: 0.0557 - acc: 0.9875 - val_loss: 0.3729 - val_acc: 0.8777\n",
      "Epoch 13/20\n",
      "30/30 [==============================] - 0s 16ms/step - loss: 0.0497 - acc: 0.9889 - val_loss: 0.3951 - val_acc: 0.8742\n",
      "Epoch 14/20\n",
      "30/30 [==============================] - 1s 23ms/step - loss: 0.0402 - acc: 0.9921 - val_loss: 0.4062 - val_acc: 0.8757\n",
      "Epoch 15/20\n",
      "30/30 [==============================] - 1s 24ms/step - loss: 0.0354 - acc: 0.9933 - val_loss: 0.4279 - val_acc: 0.8745\n",
      "Epoch 16/20\n",
      "30/30 [==============================] - 1s 25ms/step - loss: 0.0284 - acc: 0.9958 - val_loss: 0.4471 - val_acc: 0.8730\n",
      "Epoch 17/20\n",
      "30/30 [==============================] - 0s 17ms/step - loss: 0.0267 - acc: 0.9961 - val_loss: 0.4650 - val_acc: 0.8729\n",
      "Epoch 18/20\n",
      "30/30 [==============================] - 1s 28ms/step - loss: 0.0213 - acc: 0.9965 - val_loss: 0.4872 - val_acc: 0.8715\n",
      "Epoch 19/20\n",
      "30/30 [==============================] - 0s 16ms/step - loss: 0.0142 - acc: 0.9990 - val_loss: 0.5253 - val_acc: 0.8703\n",
      "Epoch 20/20\n",
      "30/30 [==============================] - 1s 21ms/step - loss: 0.0163 - acc: 0.9985 - val_loss: 0.5395 - val_acc: 0.8693\n"
>>>>>>> 6ce468ccf19252a4eb5cfb6592ddfaf6fff791dc
     ]
    }
   ],
   "source": [
    "# prog 3.8\n",
    "model.compile(optimizer='rmsprop',\n",
    "              loss='binary_crossentropy',\n",
    "              metrics=['acc'])  \n",
    "\n",
    "history = model.fit(partial_x_train,\n",
    "                    partial_y_train,\n",
    "                    epochs=20,\n",
    "                    batch_size=512,\n",
    "                    validation_data=(x_val, y_val))\n"
   ]
  },
  {
   "cell_type": "code",
   "execution_count": 18,
   "id": "efec9588",
   "metadata": {},
   "outputs": [
    {
     "name": "stdout",
     "output_type": "stream",
     "text": [
      "dict_keys(['loss', 'acc', 'val_loss', 'val_acc'])\n"
     ]
    }
   ],
   "source": [
    "history_dict = history.history\n",
    "print(history_dict.keys())"
   ]
  },
  {
   "cell_type": "code",
   "execution_count": 19,
   "id": "4cc84296",
   "metadata": {},
   "outputs": [
    {
     "data": {
<<<<<<< HEAD
      "image/png": "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",
=======
      "image/png": "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",
>>>>>>> 6ce468ccf19252a4eb5cfb6592ddfaf6fff791dc
      "text/plain": [
       "<Figure size 640x480 with 1 Axes>"
      ]
     },
     "metadata": {},
     "output_type": "display_data"
    }
   ],
   "source": [
    "# prog 3.9\n",
    "import matplotlib.pyplot as plt  #匯入 matplotlib.pyplot 模組, 後續程式用 plt 使用\n",
    "\n",
    "history_dict = history.history\n",
    "loss_values = history_dict['loss']  #取得每次訓練的 loss 訓練損失分數並存成 loss_values 變數\n",
    "val_loss_values = history_dict['val_loss']  #取得每次驗證的 val_loss 驗證損失分數並指定給 val_loss_values 變數\n",
    "\n",
    "\n",
    "epochs = range(1, len(loss_values)+ 1)  #len(loss_values) 項目個數為 20,範圍從 1 到 21 (不含 21) 的期間\n",
    "\n",
    "plt.plot(epochs, loss_values, 'bo', label='Training loss')  #以 'b' 指定用藍色線條畫出 x 軸為訓練週期、y 軸為驗證損失分數的圖表, 標籤設為驗證損失分數\n",
    "plt.plot(epochs, val_loss_values, 'b', label='Validation loss')  #以 'bo' 指定用藍色點點畫出 x 軸為訓練週期、y 軸為訓練損失分數的圖表, 標籤設為訓練損失分數\n",
    "plt.title('Training and validation loss')\n",
    "plt.xlabel('Epochs')  #將此圖表標題的 x 軸設為訓練週期分數\n",
    "plt.ylabel('Loss')  #將此圖表標題的 y 軸設為損失\n",
    "plt.legend()  #可以追加每個輸出圖表的圖像名稱\n",
    "\n",
    "plt.show()  #顯示圖表"
   ]
  },
  {
   "cell_type": "code",
   "execution_count": 20,
   "id": "26eaba26",
   "metadata": {},
   "outputs": [
    {
     "data": {
<<<<<<< HEAD
      "image/png": "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",
=======
      "image/png": "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",
>>>>>>> 6ce468ccf19252a4eb5cfb6592ddfaf6fff791dc
      "text/plain": [
       "<Figure size 640x480 with 1 Axes>"
      ]
     },
     "metadata": {},
     "output_type": "display_data"
    }
   ],
   "source": [
    "# prog 3.10\n",
    "plt.clf()  #清除圖表\n",
    "acc = history_dict['acc']\n",
    "val_acc = history_dict['val_acc']\n",
    "\n",
    "plt.plot(epochs, acc, 'bo', label='Training acc')\n",
    "plt.plot(epochs, val_acc, 'b', label='Validation acc')\n",
    "plt.title('Training and validation accuracy')\n",
    "plt.xlabel('Epochs')\n",
    "plt.ylabel('Accuracy')\n",
    "plt.legend()\n",
    "\n",
    "plt.show()"
   ]
  },
  {
   "cell_type": "code",
<<<<<<< HEAD
   "execution_count": null,
   "id": "8358483f",
   "metadata": {},
   "outputs": [],
=======
   "execution_count": 20,
   "id": "8358483f",
   "metadata": {},
   "outputs": [
    {
     "name": "stdout",
     "output_type": "stream",
     "text": [
      "Epoch 1/4\n",
      "49/49 [==============================] - 1s 13ms/step - loss: 0.4607 - accuracy: 0.7931\n",
      "Epoch 2/4\n",
      "49/49 [==============================] - 1s 15ms/step - loss: 0.2649 - accuracy: 0.9001\n",
      "Epoch 3/4\n",
      "49/49 [==============================] - 1s 13ms/step - loss: 0.2131 - accuracy: 0.9188\n",
      "Epoch 4/4\n",
      "49/49 [==============================] - 0s 8ms/step - loss: 0.1721 - accuracy: 0.9371\n",
      "782/782 [==============================] - 16s 21ms/step - loss: 0.3296 - accuracy: 0.8758\n"
     ]
    }
   ],
>>>>>>> 6ce468ccf19252a4eb5cfb6592ddfaf6fff791dc
   "source": [
    "# prog 3.11\n",
    "model = models.Sequential()  #建立模型\n",
    "model.add(layers.Dense(32, activation='relu', input_shape=(10000, )))\n",
    "model.add(layers.Dense(32, activation='relu'))\n",
    "model.add(layers.Dense(32, activation='relu'))\n",
    "model.add(layers.Dense(1, activation='sigmoid'))\n",
    "\n",
    "model.compile(optimizer='rmsprop',\n",
    "              loss='binary_crossentropy',\n",
    "              metrics=['accuracy'])\n",
    "\n",
    "model.fit(x_train, y_train, epochs=4, batch_size=512)  #訓練 4 個週期的神經網路\n",
    "results = model.evaluate(x_test, y_test)  #輸入測試資料與測試標籤進行評估"
   ]
  },
  {
   "cell_type": "code",
<<<<<<< HEAD
   "execution_count": null,
   "id": "d37ab37d",
   "metadata": {},
   "outputs": [],
=======
   "execution_count": 21,
   "id": "d37ab37d",
   "metadata": {},
   "outputs": [
    {
     "data": {
      "text/plain": [
       "[0.3295753002166748, 0.875760018825531]"
      ]
     },
     "execution_count": 21,
     "metadata": {},
     "output_type": "execute_result"
    }
   ],
>>>>>>> 6ce468ccf19252a4eb5cfb6592ddfaf6fff791dc
   "source": [
    "results"
   ]
  },
  {
   "cell_type": "code",
<<<<<<< HEAD
   "execution_count": null,
   "id": "1e908a4a",
   "metadata": {},
   "outputs": [],
=======
   "execution_count": 22,
   "id": "1e908a4a",
   "metadata": {},
   "outputs": [
    {
     "name": "stdout",
     "output_type": "stream",
     "text": [
      "782/782 [==============================] - 16s 20ms/step\n"
     ]
    },
    {
     "data": {
      "text/plain": [
       "array([[0.14390343],\n",
       "       [0.9981984 ],\n",
       "       [0.40379894],\n",
       "       ...,\n",
       "       [0.06837526],\n",
       "       [0.02566469],\n",
       "       [0.59950954]], dtype=float32)"
      ]
     },
     "execution_count": 22,
     "metadata": {},
     "output_type": "execute_result"
    }
   ],
>>>>>>> 6ce468ccf19252a4eb5cfb6592ddfaf6fff791dc
   "source": [
    "model.predict(x_test)"
   ]
  },
  {
   "cell_type": "code",
   "execution_count": 23,
   "id": "428c407b",
   "metadata": {},
   "outputs": [],
   "source": [
    "# prog 3.12\n",
    "from keras.datasets import reuters  #從 keras.datasets 套件中匯入 reuters 資料集\n",
    "(train_data, train_labels),(test_data, test_labels) = reuters.load_data(num_words=10000)\n"
   ]
  },
  {
   "cell_type": "code",
   "execution_count": 24,
   "id": "3c09282d",
   "metadata": {},
   "outputs": [
    {
     "name": "stdout",
     "output_type": "stream",
     "text": [
      "train_data :  8982\n",
      " test_data :  2246\n"
     ]
    }
   ],
   "source": [
    "print('train_data : ', len(train_data))\n",
    "print(' test_data : ', len(test_data))"
   ]
  },
  {
   "cell_type": "code",
   "execution_count": 25,
   "id": "b203279a",
   "metadata": {},
   "outputs": [
    {
     "data": {
      "text/plain": [
       "[1,\n",
       " 245,\n",
       " 273,\n",
       " 207,\n",
       " 156,\n",
       " 53,\n",
       " 74,\n",
       " 160,\n",
       " 26,\n",
       " 14,\n",
       " 46,\n",
       " 296,\n",
       " 26,\n",
       " 39,\n",
       " 74,\n",
       " 2979,\n",
       " 3554,\n",
       " 14,\n",
       " 46,\n",
       " 4689,\n",
       " 4329,\n",
       " 86,\n",
       " 61,\n",
       " 3499,\n",
       " 4795,\n",
       " 14,\n",
       " 61,\n",
       " 451,\n",
       " 4329,\n",
       " 17,\n",
       " 12]"
      ]
     },
     "execution_count": 25,
     "metadata": {},
     "output_type": "execute_result"
    }
   ],
   "source": [
    "train_data[10]"
   ]
  },
  {
   "cell_type": "code",
   "execution_count": 26,
   "id": "ed4d286d",
   "metadata": {},
   "outputs": [],
   "source": [
    "# prog 3.14\n",
    "import numpy as np\n",
    "\n",
    "def vectorize_sequences(sequences, dimension=10000):\n",
    "    results = np.zeros((len(sequences), dimension))\n",
    "    for i, sequence in enumerate(sequences):  #使用 one-hot 編碼\n",
    "        results[i, sequence] = 1.\n",
    "    return results\n",
    "\n",
    "x_train = vectorize_sequences(train_data)  #向量化訓練資料\n",
    "x_test = vectorize_sequences(test_data)  #向量化測試資料"
   ]
  },
  {
   "cell_type": "code",
   "execution_count": 27,
   "id": "0f83f06a",
   "metadata": {},
   "outputs": [],
   "source": [
    "def to_one_hot(labels, dimension=46):\n",
    "    results = np.zeros((len(labels), dimension))  #把所有元素設為 0\n",
    "    for i, label in enumerate(labels):\n",
    "        results[i, label] = 1.   #第 i 個元素設為 1\n",
    "    return results\n",
    "\n",
    "one_hot_train_labels = to_one_hot(train_labels)  #向量化訓練標籤\n",
    "one_hot_test_labels = to_one_hot(test_labels)  #向量化測試標籤"
   ]
  },
  {
   "cell_type": "code",
   "execution_count": 28,
   "id": "b9676e77",
   "metadata": {},
   "outputs": [],
   "source": [
    "from keras.utils.np_utils import to_categorical\n",
    "\n",
    "one_hot_train_labels = to_categorical(train_labels)\n",
    "one_hot_test_labels = to_categorical(test_labels)"
   ]
  },
  {
   "cell_type": "code",
   "execution_count": 29,
   "id": "7c08090c",
   "metadata": {},
   "outputs": [],
   "source": [
    "# prog 3.15\n",
    "from keras import models\n",
    "from keras import layers\n",
    "\n",
    "model = models.Sequential()\n",
    "model.add(layers.Dense(64, activation='relu',\n",
    "                       input_shape=(10000, )))\n",
    "model.add(layers.Dense(64, activation='relu'))\n",
    "model.add(layers.Dense(46, activation='softmax'))"
   ]
  },
  {
   "cell_type": "code",
   "execution_count": 30,
   "id": "dc05b548",
   "metadata": {},
   "outputs": [],
   "source": [
    "# prog 3.16\n",
    "model.compile(optimizer='rmsprop',\n",
    "              loss='categorical_crossentropy',\n",
    "              metrics=['accuracy'])"
   ]
  },
  {
   "cell_type": "code",
   "execution_count": 31,
   "id": "85d74462",
   "metadata": {},
   "outputs": [],
   "source": [
    "# prog 3.17\n",
    "x_val = x_train[:1000]\n",
    "partial_x_train = x_train[1000:]\n",
    "\n",
    "y_val = one_hot_train_labels[:1000]\n",
    "partial_y_train = one_hot_train_labels[1000:]"
   ]
  },
  {
   "cell_type": "code",
   "execution_count": 32,
   "id": "a953ed96",
   "metadata": {},
   "outputs": [
    {
     "name": "stdout",
     "output_type": "stream",
     "text": [
      "Epoch 1/20\n",
      "16/16 [==============================] - 1s 31ms/step - loss: 2.6533 - accuracy: 0.4895 - val_loss: 1.8034 - val_accuracy: 0.6360\n",
      "Epoch 2/20\n",
      "16/16 [==============================] - 0s 19ms/step - loss: 1.5078 - accuracy: 0.6837 - val_loss: 1.3370 - val_accuracy: 0.6950\n",
      "Epoch 3/20\n",
      "16/16 [==============================] - 0s 24ms/step - loss: 1.1391 - accuracy: 0.7529 - val_loss: 1.1501 - val_accuracy: 0.7480\n",
      "Epoch 4/20\n",
      "16/16 [==============================] - 0s 25ms/step - loss: 0.9211 - accuracy: 0.8062 - val_loss: 1.0637 - val_accuracy: 0.7650\n",
      "Epoch 5/20\n",
      "16/16 [==============================] - 0s 24ms/step - loss: 0.7622 - accuracy: 0.8365 - val_loss: 0.9802 - val_accuracy: 0.7940\n",
      "Epoch 6/20\n",
      "16/16 [==============================] - 1s 32ms/step - loss: 0.6296 - accuracy: 0.8647 - val_loss: 0.9319 - val_accuracy: 0.8010\n",
      "Epoch 7/20\n",
      "16/16 [==============================] - 0s 31ms/step - loss: 0.5326 - accuracy: 0.8850 - val_loss: 0.9044 - val_accuracy: 0.8160\n",
      "Epoch 8/20\n",
      "16/16 [==============================] - 1s 35ms/step - loss: 0.4509 - accuracy: 0.9052 - val_loss: 0.8833 - val_accuracy: 0.8140\n",
      "Epoch 9/20\n",
      "16/16 [==============================] - 0s 26ms/step - loss: 0.3794 - accuracy: 0.9199 - val_loss: 0.8691 - val_accuracy: 0.8210\n",
      "Epoch 10/20\n",
      "16/16 [==============================] - 0s 21ms/step - loss: 0.3239 - accuracy: 0.9311 - val_loss: 0.8813 - val_accuracy: 0.8190\n",
      "Epoch 11/20\n",
      "16/16 [==============================] - 1s 34ms/step - loss: 0.2841 - accuracy: 0.9370 - val_loss: 0.8698 - val_accuracy: 0.8210\n",
      "Epoch 12/20\n",
      "16/16 [==============================] - 1s 32ms/step - loss: 0.2485 - accuracy: 0.9417 - val_loss: 0.8744 - val_accuracy: 0.8220\n",
      "Epoch 13/20\n",
      "16/16 [==============================] - 1s 33ms/step - loss: 0.2169 - accuracy: 0.9490 - val_loss: 0.8834 - val_accuracy: 0.8240\n",
      "Epoch 14/20\n",
      "16/16 [==============================] - 0s 21ms/step - loss: 0.1981 - accuracy: 0.9503 - val_loss: 0.9068 - val_accuracy: 0.8170\n",
      "Epoch 15/20\n",
      "16/16 [==============================] - 0s 22ms/step - loss: 0.1806 - accuracy: 0.9531 - val_loss: 0.9120 - val_accuracy: 0.8190\n",
      "Epoch 16/20\n",
      "16/16 [==============================] - 0s 25ms/step - loss: 0.1682 - accuracy: 0.9539 - val_loss: 0.9111 - val_accuracy: 0.8040\n",
      "Epoch 17/20\n",
      "16/16 [==============================] - 0s 14ms/step - loss: 0.1535 - accuracy: 0.9567 - val_loss: 0.9167 - val_accuracy: 0.8230\n",
      "Epoch 18/20\n",
      "16/16 [==============================] - 0s 19ms/step - loss: 0.1451 - accuracy: 0.9570 - val_loss: 0.9306 - val_accuracy: 0.8100\n",
      "Epoch 19/20\n",
      "16/16 [==============================] - 0s 18ms/step - loss: 0.1371 - accuracy: 0.9570 - val_loss: 0.9724 - val_accuracy: 0.8060\n",
      "Epoch 20/20\n",
      "16/16 [==============================] - 0s 25ms/step - loss: 0.1354 - accuracy: 0.9573 - val_loss: 0.9719 - val_accuracy: 0.8150\n"
     ]
    }
   ],
   "source": [
    "# prog 3.18\n",
    "history = model.fit(partial_x_train,\n",
    "                    partial_y_train,\n",
    "                    epochs=20,\n",
    "                    batch_size=512,\n",
    "                    validation_data=(x_val, y_val))"
   ]
  },
  {
   "cell_type": "code",
   "execution_count": 33,
   "id": "bad96b5b",
   "metadata": {},
   "outputs": [
    {
     "data": {
      "image/png": "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",
      "text/plain": [
       "<Figure size 640x480 with 1 Axes>"
      ]
     },
     "metadata": {},
     "output_type": "display_data"
    }
   ],
   "source": [
    "# prog 3.19\n",
    "import matplotlib.pyplot as plt\n",
    "\n",
    "loss = history.history['loss']\n",
    "val_loss = history.history['val_loss']\n",
    "\n",
    "epochs = range(1, len(loss)+ 1)\n",
    "\n",
    "plt.plot(epochs, loss, 'bo', label='Training loss')\n",
    "plt.plot(epochs, val_loss, 'b', label='Validation loss')\n",
    "plt.title('Training and validation loss')\n",
    "plt.xlabel('Epochs')\n",
    "plt.ylabel('Loss')\n",
    "plt.legend()\n",
    "\n",
    "plt.show()\n"
   ]
  },
  {
   "cell_type": "code",
   "execution_count": 34,
   "id": "0d52e013",
   "metadata": {},
   "outputs": [
    {
     "data": {
      "image/png": "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",
      "text/plain": [
       "<Figure size 640x480 with 1 Axes>"
      ]
     },
     "metadata": {},
     "output_type": "display_data"
    }
   ],
   "source": [
    "# prog 3.20\n",
    "plt.clf()  #先清除畫面\n",
    "\n",
    "acc = history.history['accuracy']\n",
    "val_acc = history.history['val_accuracy']\n",
    "\n",
    "plt.plot(epochs, acc, 'bo', label='Training acc')\n",
    "plt.plot(epochs, val_acc, 'b', label='Validation acc')\n",
    "plt.title('Training and validation accuracy')\n",
    "plt.xlabel('Epochs')\n",
    "plt.ylabel('Accuracy')\n",
    "plt.legend()\n",
    "\n",
    "plt.show()"
   ]
  },
  {
   "cell_type": "code",
   "execution_count": 35,
   "id": "b74ae6d1",
   "metadata": {},
   "outputs": [
    {
     "name": "stdout",
     "output_type": "stream",
     "text": [
      "Epoch 1/9\n",
      "16/16 [==============================] - 1s 35ms/step - loss: 2.6737 - accuracy: 0.5177 - val_loss: 1.7770 - val_accuracy: 0.6320\n",
      "Epoch 2/9\n",
      "16/16 [==============================] - 0s 18ms/step - loss: 1.5096 - accuracy: 0.6840 - val_loss: 1.3915 - val_accuracy: 0.6990\n",
      "Epoch 3/9\n",
      "16/16 [==============================] - 0s 18ms/step - loss: 1.1702 - accuracy: 0.7514 - val_loss: 1.1948 - val_accuracy: 0.7300\n",
      "Epoch 4/9\n",
      "16/16 [==============================] - 0s 23ms/step - loss: 0.9565 - accuracy: 0.7925 - val_loss: 1.0787 - val_accuracy: 0.7800\n",
      "Epoch 5/9\n",
      "16/16 [==============================] - 0s 20ms/step - loss: 0.7863 - accuracy: 0.8322 - val_loss: 1.0252 - val_accuracy: 0.7780\n",
      "Epoch 6/9\n",
      "16/16 [==============================] - 0s 15ms/step - loss: 0.6545 - accuracy: 0.8632 - val_loss: 0.9358 - val_accuracy: 0.7980\n",
      "Epoch 7/9\n",
      "16/16 [==============================] - 0s 18ms/step - loss: 0.5475 - accuracy: 0.8855 - val_loss: 0.8938 - val_accuracy: 0.8120\n",
      "Epoch 8/9\n",
      "16/16 [==============================] - 0s 21ms/step - loss: 0.4557 - accuracy: 0.9044 - val_loss: 0.8736 - val_accuracy: 0.8200\n",
      "Epoch 9/9\n",
      "16/16 [==============================] - 0s 13ms/step - loss: 0.3872 - accuracy: 0.9171 - val_loss: 0.8971 - val_accuracy: 0.8120\n",
      "71/71 [==============================] - 2s 21ms/step - loss: 0.9985 - accuracy: 0.7703\n"
     ]
    }
   ],
   "source": [
    "# prog 3.21\n",
    "model = models.Sequential()\n",
    "model.add(layers.Dense(64, activation='relu', input_shape=(10000, )))\n",
    "model.add(layers.Dense(64, activation='relu'))\n",
    "model.add(layers.Dense(46, activation='softmax'))\n",
    "\n",
    "model.compile(optimizer='rmsprop',\n",
    "              loss='categorical_crossentropy',\n",
    "              metrics=['accuracy'])\n",
    "\n",
    "model.fit(partial_x_train,\n",
    "partial_y_train,\n",
    "epochs=9,  #9 個週期就好!!!\n",
    "batch_size=512,\n",
    "validation_data=(x_val, y_val))\n",
    "\n",
    "results = model.evaluate(x_test, one_hot_test_labels)"
   ]
  },
  {
   "cell_type": "code",
   "execution_count": 36,
   "id": "4c5ac16e",
   "metadata": {},
   "outputs": [
    {
     "data": {
      "text/plain": [
       "[0.9984632134437561, 0.7702582478523254]"
      ]
     },
     "execution_count": 36,
     "metadata": {},
     "output_type": "execute_result"
    }
   ],
   "source": [
    "results"
   ]
  },
  {
   "cell_type": "code",
   "execution_count": 37,
   "id": "e66c6d24",
   "metadata": {},
   "outputs": [
    {
     "data": {
      "text/plain": [
       "0.18121104185218165"
      ]
     },
     "execution_count": 37,
     "metadata": {},
     "output_type": "execute_result"
    }
   ],
   "source": [
    "import copy\n",
    "test_labels_copy = copy.copy(test_labels)\n",
    "np.random.shuffle(test_labels_copy)\n",
    "hits_array = np.array(test_labels)== np.array(test_labels_copy)\n",
    "float(np.sum(hits_array))/ len(test_labels)"
   ]
  },
  {
   "cell_type": "code",
   "execution_count": 38,
   "id": "6a256b51",
   "metadata": {},
   "outputs": [
    {
     "name": "stdout",
     "output_type": "stream",
     "text": [
      "71/71 [==============================] - 2s 25ms/step\n"
     ]
    }
   ],
   "source": [
    "# prog 3.22\n",
    "predictions = model.predict(x_test)"
   ]
  },
  {
   "cell_type": "code",
   "execution_count": 39,
   "id": "2e1be869",
   "metadata": {},
   "outputs": [
    {
     "data": {
      "text/plain": [
       "(46,)"
      ]
     },
     "execution_count": 39,
     "metadata": {},
     "output_type": "execute_result"
    }
   ],
   "source": [
    "predictions[0].shape"
   ]
  },
  {
   "cell_type": "code",
   "execution_count": 40,
   "id": "e9857dfb",
   "metadata": {},
   "outputs": [
    {
     "data": {
      "text/plain": [
       "0.99999994"
      ]
     },
     "execution_count": 40,
     "metadata": {},
     "output_type": "execute_result"
    }
   ],
   "source": [
    "np.sum(predictions[0])"
   ]
  },
  {
   "cell_type": "code",
   "execution_count": 41,
   "id": "a8e9feb0",
   "metadata": {},
   "outputs": [
    {
     "data": {
      "text/plain": [
       "4"
      ]
     },
     "execution_count": 41,
     "metadata": {},
     "output_type": "execute_result"
    }
   ],
   "source": [
    "np.argmax(predictions[0])"
   ]
  },
  {
   "cell_type": "code",
   "execution_count": 42,
   "id": "2f68460f",
   "metadata": {},
   "outputs": [],
   "source": [
    "y_train = np.array(train_labels)\n",
    "y_test = np.array(test_labels)"
   ]
  },
  {
   "cell_type": "code",
   "execution_count": 43,
   "id": "87ab87e2",
   "metadata": {},
   "outputs": [],
   "source": [
    "model.compile(optimizer='rmsprop',\n",
    "              loss='sparse_categorical_crossentropy',\n",
    "              metrics=['acc'])"
   ]
  },
  {
   "cell_type": "code",
   "execution_count": 44,
   "id": "eae44213",
   "metadata": {},
   "outputs": [
    {
     "name": "stdout",
     "output_type": "stream",
     "text": [
      "Epoch 1/20\n",
      "63/63 [==============================] - 1s 20ms/step - loss: 3.1554 - accuracy: 0.1807 - val_loss: 2.5199 - val_accuracy: 0.4780\n",
      "Epoch 2/20\n",
      "63/63 [==============================] - 1s 15ms/step - loss: 2.0246 - accuracy: 0.5319 - val_loss: 1.7440 - val_accuracy: 0.5520\n",
      "Epoch 3/20\n",
      "63/63 [==============================] - 1s 20ms/step - loss: 1.5482 - accuracy: 0.5749 - val_loss: 1.5790 - val_accuracy: 0.5580\n",
      "Epoch 4/20\n",
      "63/63 [==============================] - 1s 22ms/step - loss: 1.3775 - accuracy: 0.6150 - val_loss: 1.4870 - val_accuracy: 0.6170\n",
      "Epoch 5/20\n",
      "63/63 [==============================] - 1s 20ms/step - loss: 1.2610 - accuracy: 0.6630 - val_loss: 1.4703 - val_accuracy: 0.6180\n",
      "Epoch 6/20\n",
      "63/63 [==============================] - 2s 25ms/step - loss: 1.1611 - accuracy: 0.6968 - val_loss: 1.4122 - val_accuracy: 0.6630\n",
      "Epoch 7/20\n",
      "63/63 [==============================] - 1s 11ms/step - loss: 1.0223 - accuracy: 0.7568 - val_loss: 1.3347 - val_accuracy: 0.6980\n",
      "Epoch 8/20\n",
      "63/63 [==============================] - 1s 21ms/step - loss: 0.9245 - accuracy: 0.7730 - val_loss: 1.3281 - val_accuracy: 0.6980\n",
      "Epoch 9/20\n",
      "63/63 [==============================] - 1s 14ms/step - loss: 0.8531 - accuracy: 0.7871 - val_loss: 1.3567 - val_accuracy: 0.6920\n",
      "Epoch 10/20\n",
      "63/63 [==============================] - 1s 16ms/step - loss: 0.7921 - accuracy: 0.8022 - val_loss: 1.3387 - val_accuracy: 0.7030\n",
      "Epoch 11/20\n",
      "63/63 [==============================] - 2s 28ms/step - loss: 0.7419 - accuracy: 0.8213 - val_loss: 1.3426 - val_accuracy: 0.7110\n",
      "Epoch 12/20\n",
      "63/63 [==============================] - 2s 29ms/step - loss: 0.6945 - accuracy: 0.8309 - val_loss: 1.3579 - val_accuracy: 0.7130\n",
      "Epoch 13/20\n",
      "63/63 [==============================] - 1s 22ms/step - loss: 0.6559 - accuracy: 0.8393 - val_loss: 1.3962 - val_accuracy: 0.7090\n",
      "Epoch 14/20\n",
      "63/63 [==============================] - 1s 19ms/step - loss: 0.6210 - accuracy: 0.8416 - val_loss: 1.4216 - val_accuracy: 0.7140\n",
      "Epoch 15/20\n",
      "63/63 [==============================] - 2s 26ms/step - loss: 0.5893 - accuracy: 0.8485 - val_loss: 1.4844 - val_accuracy: 0.7050\n",
      "Epoch 16/20\n",
      "63/63 [==============================] - 1s 11ms/step - loss: 0.5614 - accuracy: 0.8520 - val_loss: 1.4651 - val_accuracy: 0.7100\n",
      "Epoch 17/20\n",
      "63/63 [==============================] - 1s 12ms/step - loss: 0.5373 - accuracy: 0.8559 - val_loss: 1.5499 - val_accuracy: 0.7070\n",
      "Epoch 18/20\n",
      "63/63 [==============================] - 1s 11ms/step - loss: 0.5150 - accuracy: 0.8603 - val_loss: 1.5509 - val_accuracy: 0.7060\n",
      "Epoch 19/20\n",
      "63/63 [==============================] - 2s 31ms/step - loss: 0.4959 - accuracy: 0.8636 - val_loss: 1.6066 - val_accuracy: 0.7040\n",
      "Epoch 20/20\n",
      "63/63 [==============================] - 2s 33ms/step - loss: 0.4757 - accuracy: 0.8706 - val_loss: 1.6230 - val_accuracy: 0.7130\n"
     ]
    },
    {
     "data": {
      "text/plain": [
       "<keras.callbacks.History at 0x7fb522f63460>"
      ]
     },
     "execution_count": 44,
     "metadata": {},
     "output_type": "execute_result"
    }
   ],
   "source": [
    "# prog 3.23\n",
    "model = models.Sequential()\n",
    "model.add(layers.Dense(64, activation='relu', input_shape=(10000, )))\n",
    "model.add(layers.Dense(4, activation='relu'))  #中間層改為 4 維\n",
    "model.add(layers.Dense(46, activation='softmax'))\n",
    "\n",
    "model.compile(optimizer='rmsprop',\n",
    "              loss='categorical_crossentropy',\n",
    "              metrics=['accuracy'])\n",
    "model.fit(partial_x_train,\n",
    "          partial_y_train,\n",
    "          epochs=20,\n",
    "          batch_size=128,\n",
    "          validation_data=(x_val, y_val))"
   ]
  },
  {
   "cell_type": "code",
   "execution_count": 45,
   "id": "1d081658",
   "metadata": {},
   "outputs": [
    {
     "name": "stdout",
     "output_type": "stream",
     "text": [
      "Downloading data from https://storage.googleapis.com/tensorflow/tf-keras-datasets/boston_housing.npz\n",
      "57026/57026 [==============================] - 0s 1us/step\n"
     ]
    }
   ],
   "source": [
    "# prog 3.24\n",
    "from keras.datasets import boston_housing\n",
    "(train_data, train_targets),(test_data, test_targets)=boston_housing.load_data()"
   ]
  },
  {
   "cell_type": "code",
   "execution_count": 48,
   "id": "b5727581",
   "metadata": {},
   "outputs": [
    {
     "data": {
      "text/plain": [
       "(404, 13)"
      ]
     },
     "execution_count": 48,
     "metadata": {},
     "output_type": "execute_result"
    }
   ],
   "source": [
    "train_data.shape"
   ]
  },
  {
   "cell_type": "code",
   "execution_count": 49,
   "id": "b5f9ee22",
   "metadata": {},
   "outputs": [
    {
     "data": {
      "text/plain": [
       "(102, 13)"
      ]
     },
     "execution_count": 49,
     "metadata": {},
     "output_type": "execute_result"
    }
   ],
   "source": [
    "test_data.shape"
   ]
  },
  {
   "cell_type": "code",
   "execution_count": 47,
   "id": "802be706",
   "metadata": {},
   "outputs": [
    {
     "data": {
      "text/plain": [
       "array([15.2, 42.3, 50. , 21.1, 17.7, 18.5, 11.3, 15.6, 15.6, 14.4, 12.1,\n",
       "       17.9, 23.1, 19.9, 15.7,  8.8, 50. , 22.5, 24.1, 27.5, 10.9, 30.8,\n",
       "       32.9, 24. , 18.5, 13.3, 22.9, 34.7, 16.6, 17.5, 22.3, 16.1, 14.9,\n",
       "       23.1, 34.9, 25. , 13.9, 13.1, 20.4, 20. , 15.2, 24.7, 22.2, 16.7,\n",
       "       12.7, 15.6, 18.4, 21. , 30.1, 15.1, 18.7,  9.6, 31.5, 24.8, 19.1,\n",
       "       22. , 14.5, 11. , 32. , 29.4, 20.3, 24.4, 14.6, 19.5, 14.1, 14.3,\n",
       "       15.6, 10.5,  6.3, 19.3, 19.3, 13.4, 36.4, 17.8, 13.5, 16.5,  8.3,\n",
       "       14.3, 16. , 13.4, 28.6, 43.5, 20.2, 22. , 23. , 20.7, 12.5, 48.5,\n",
       "       14.6, 13.4, 23.7, 50. , 21.7, 39.8, 38.7, 22.2, 34.9, 22.5, 31.1,\n",
       "       28.7, 46. , 41.7, 21. , 26.6, 15. , 24.4, 13.3, 21.2, 11.7, 21.7,\n",
       "       19.4, 50. , 22.8, 19.7, 24.7, 36.2, 14.2, 18.9, 18.3, 20.6, 24.6,\n",
       "       18.2,  8.7, 44. , 10.4, 13.2, 21.2, 37. , 30.7, 22.9, 20. , 19.3,\n",
       "       31.7, 32. , 23.1, 18.8, 10.9, 50. , 19.6,  5. , 14.4, 19.8, 13.8,\n",
       "       19.6, 23.9, 24.5, 25. , 19.9, 17.2, 24.6, 13.5, 26.6, 21.4, 11.9,\n",
       "       22.6, 19.6,  8.5, 23.7, 23.1, 22.4, 20.5, 23.6, 18.4, 35.2, 23.1,\n",
       "       27.9, 20.6, 23.7, 28. , 13.6, 27.1, 23.6, 20.6, 18.2, 21.7, 17.1,\n",
       "        8.4, 25.3, 13.8, 22.2, 18.4, 20.7, 31.6, 30.5, 20.3,  8.8, 19.2,\n",
       "       19.4, 23.1, 23. , 14.8, 48.8, 22.6, 33.4, 21.1, 13.6, 32.2, 13.1,\n",
       "       23.4, 18.9, 23.9, 11.8, 23.3, 22.8, 19.6, 16.7, 13.4, 22.2, 20.4,\n",
       "       21.8, 26.4, 14.9, 24.1, 23.8, 12.3, 29.1, 21. , 19.5, 23.3, 23.8,\n",
       "       17.8, 11.5, 21.7, 19.9, 25. , 33.4, 28.5, 21.4, 24.3, 27.5, 33.1,\n",
       "       16.2, 23.3, 48.3, 22.9, 22.8, 13.1, 12.7, 22.6, 15. , 15.3, 10.5,\n",
       "       24. , 18.5, 21.7, 19.5, 33.2, 23.2,  5. , 19.1, 12.7, 22.3, 10.2,\n",
       "       13.9, 16.3, 17. , 20.1, 29.9, 17.2, 37.3, 45.4, 17.8, 23.2, 29. ,\n",
       "       22. , 18. , 17.4, 34.6, 20.1, 25. , 15.6, 24.8, 28.2, 21.2, 21.4,\n",
       "       23.8, 31. , 26.2, 17.4, 37.9, 17.5, 20. ,  8.3, 23.9,  8.4, 13.8,\n",
       "        7.2, 11.7, 17.1, 21.6, 50. , 16.1, 20.4, 20.6, 21.4, 20.6, 36.5,\n",
       "        8.5, 24.8, 10.8, 21.9, 17.3, 18.9, 36.2, 14.9, 18.2, 33.3, 21.8,\n",
       "       19.7, 31.6, 24.8, 19.4, 22.8,  7.5, 44.8, 16.8, 18.7, 50. , 50. ,\n",
       "       19.5, 20.1, 50. , 17.2, 20.8, 19.3, 41.3, 20.4, 20.5, 13.8, 16.5,\n",
       "       23.9, 20.6, 31.5, 23.3, 16.8, 14. , 33.8, 36.1, 12.8, 18.3, 18.7,\n",
       "       19.1, 29. , 30.1, 50. , 50. , 22. , 11.9, 37.6, 50. , 22.7, 20.8,\n",
       "       23.5, 27.9, 50. , 19.3, 23.9, 22.6, 15.2, 21.7, 19.2, 43.8, 20.3,\n",
       "       33.2, 19.9, 22.5, 32.7, 22. , 17.1, 19. , 15. , 16.1, 25.1, 23.7,\n",
       "       28.7, 37.2, 22.6, 16.4, 25. , 29.8, 22.1, 17.4, 18.1, 30.3, 17.5,\n",
       "       24.7, 12.6, 26.5, 28.7, 13.3, 10.4, 24.4, 23. , 20. , 17.8,  7. ,\n",
       "       11.8, 24.4, 13.8, 19.4, 25.2, 19.4, 19.4, 29.1])"
      ]
     },
     "execution_count": 47,
     "metadata": {},
     "output_type": "execute_result"
    }
   ],
   "source": [
    "# 實際成交房價的中位數\n",
    "train_targets"
   ]
  },
  {
   "cell_type": "code",
   "execution_count": 50,
   "id": "0655f442",
   "metadata": {},
   "outputs": [],
   "source": [
    "# prog 3.25\n",
    "mean = train_data.mean(axis=0)  #沿著第 0 軸 (batch_size 軸) 做平均\n",
    "train_data -= mean\n",
    "std = train_data.std(axis=0)  #沿著第 0 軸 (batch_size 軸) 算標準差\n",
    "train_data /= std\n",
    "\n",
    "test_data -= mean\n",
    "test_data /= std"
   ]
  },
  {
   "cell_type": "code",
   "execution_count": 51,
   "id": "5be3b27c",
   "metadata": {},
   "outputs": [],
   "source": [
    "# prog 3.26\n",
    "from keras import models\n",
    "from keras import layers\n",
    "\n",
    "def build_model():\n",
    "    model = models.Sequential()  #建構一個 sequential 模型\n",
    "    model.add(layers.Dense(64, activation='relu',\n",
    "                           input_shape=(train_data.shape[1], )))\n",
    "    model.add(layers.Dense(64, activation='relu'))\n",
    "    model.add(layers.Dense(1))\n",
    "    model.compile(optimizer='rmsprop', loss='mse', metrics=['mae'])\n",
    "    return model"
   ]
  },
  {
   "cell_type": "code",
   "execution_count": 55,
   "id": "2f0449f3",
   "metadata": {},
   "outputs": [
    {
     "name": "stdout",
     "output_type": "stream",
     "text": [
      "processing fold # 0\n",
      "processing fold # 1\n",
      "processing fold # 2\n",
      "processing fold # 3\n"
     ]
    }
   ],
   "source": [
    "# prog 3.27\n",
    "import numpy as np\n",
    "\n",
    "k = 4  #進行 4 折交叉驗證\n",
    "num_val_samples = len(train_data) // k\n",
    "num_epochs = 100\n",
    "all_scores = []\n",
    "\n",
    "for i in range(k):\n",
    "    print('processing fold #', i)  #準備驗證資料：資料來自 #k 區塊\n",
    "    val_data = train_data[i * num_val_samples: (i + 1) * num_val_samples]\n",
    "    val_targets = train_targets[i * num_val_samples: (i + 1) * num_val_samples]\n",
    "    #準備訓練資料：資料來自 #k 以外的所有區塊\n",
    "    partial_train_data = np.concatenate(\n",
    "        [train_data[:i * num_val_samples],\n",
    "         train_data[(i + 1) * num_val_samples:]],\n",
    "        axis=0)\n",
    "    partial_train_targets = np.concatenate(\n",
    "        [train_targets[:i * num_val_samples],\n",
    "         train_targets[(i + 1) * num_val_samples:]],\n",
    "        axis=0)\n",
    "\n",
    "    model = build_model() #建構 Keras 模型(已編譯)\n",
    "    model.fit(partial_train_data, partial_train_targets,\n",
    "              epochs=num_epochs, batch_size=1, verbose=0) #訓練該模型 (在 silent 靜音模式下, verbose = 0)\n",
    "    \n",
    "    val_mse, val_mae = model.evaluate(val_data, val_targets, verbose=0)  #以驗證資料來評估模型\n",
    "    all_scores.append(val_mae)"
   ]
  },
  {
   "cell_type": "code",
   "execution_count": 56,
   "id": "46dd9fd6",
   "metadata": {},
   "outputs": [
    {
     "data": {
      "text/plain": [
       "[2.1197941303253174, 3.1476519107818604, 2.694875955581665, 2.460721492767334]"
      ]
     },
     "execution_count": 56,
     "metadata": {},
     "output_type": "execute_result"
    }
   ],
   "source": [
    "all_scores"
   ]
  },
  {
   "cell_type": "code",
   "execution_count": 57,
   "id": "d52adca0",
   "metadata": {},
   "outputs": [
    {
     "data": {
      "text/plain": [
       "2.605760872364044"
      ]
     },
     "execution_count": 57,
     "metadata": {},
     "output_type": "execute_result"
    }
   ],
   "source": [
    "np.mean(all_scores)"
   ]
  },
  {
   "cell_type": "code",
   "execution_count": 58,
   "id": "7f5ecae8",
   "metadata": {},
   "outputs": [
    {
     "name": "stdout",
     "output_type": "stream",
     "text": [
      "processing fold # 0\n"
     ]
    },
    {
     "ename": "KeyError",
     "evalue": "'val_mean_absolute_error'",
     "output_type": "error",
     "traceback": [
      "\u001b[0;31m---------------------------------------------------------------------------\u001b[0m",
      "\u001b[0;31mKeyError\u001b[0m                                  Traceback (most recent call last)",
      "Cell \u001b[0;32mIn[58], line 23\u001b[0m\n\u001b[1;32m     19\u001b[0m model \u001b[38;5;241m=\u001b[39m build_model()\n\u001b[1;32m     20\u001b[0m history \u001b[38;5;241m=\u001b[39m model\u001b[38;5;241m.\u001b[39mfit(partial_train_data, partial_train_targets,\n\u001b[1;32m     21\u001b[0m                     validation_data\u001b[38;5;241m=\u001b[39m(val_data, val_targets),\n\u001b[1;32m     22\u001b[0m                     epochs\u001b[38;5;241m=\u001b[39mnum_epochs, batch_size\u001b[38;5;241m=\u001b[39m\u001b[38;5;241m1\u001b[39m, verbose\u001b[38;5;241m=\u001b[39m\u001b[38;5;241m0\u001b[39m)\n\u001b[0;32m---> 23\u001b[0m mae_history \u001b[38;5;241m=\u001b[39m \u001b[43mhistory\u001b[49m\u001b[38;5;241;43m.\u001b[39;49m\u001b[43mhistory\u001b[49m\u001b[43m[\u001b[49m\u001b[38;5;124;43m'\u001b[39;49m\u001b[38;5;124;43mval_mean_absolute_error\u001b[39;49m\u001b[38;5;124;43m'\u001b[39;49m\u001b[43m]\u001b[49m\n\u001b[1;32m     24\u001b[0m all_mae_histories\u001b[38;5;241m.\u001b[39mappend(mae_history)\n",
      "\u001b[0;31mKeyError\u001b[0m: 'val_mean_absolute_error'"
     ]
    }
   ],
   "source": [
    "# prog 3.28\n",
    "num_epochs = 500\n",
    "all_mae_histories = []\n",
    "for i in range(k):\n",
    "    print('processing fold #', i)\n",
    "    \n",
    "    val_data = train_data[i * num_val_samples: (i + 1) * num_val_samples]\n",
    "    val_targets = train_targets[i * num_val_samples: (i + 1) * num_val_samples]\n",
    "\n",
    "    partial_train_data = np.concatenate(\n",
    "        [train_data[:i * num_val_samples],\n",
    "         train_data[(i + 1) * num_val_samples:]],\n",
    "        axis=0)\n",
    "    partial_train_targets = np.concatenate(\n",
    "        [train_targets[:i * num_val_samples],\n",
    "         train_targets[(i + 1) * num_val_samples:]],\n",
    "        axis=0)\n",
    "\n",
    "    model = build_model()\n",
    "    history = model.fit(partial_train_data, partial_train_targets,\n",
    "                        validation_data=(val_data, val_targets),\n",
    "                        epochs=num_epochs, batch_size=1, verbose=0)\n",
    "    mae_history = history.history['val_mean_absolute_error']\n",
    "    all_mae_histories.append(mae_history)"
   ]
  },
  {
   "cell_type": "code",
   "execution_count": null,
   "id": "c7997010",
   "metadata": {},
   "outputs": [],
   "source": [
    "# prog 3.29\n",
    "average_mae_history = [\n",
    "    np.mean([x[i] for x in all_mae_histories])for i in range(num_epochs)]"
   ]
  },
  {
   "cell_type": "code",
   "execution_count": null,
   "id": "352446b1",
   "metadata": {},
   "outputs": [],
   "source": [
    "# prog 3.30\n",
    "import matplotlib.pyplot as plt\n",
    "plt.plot(range(1, len(average_mae_history)+ 1), average_mae_history)\n",
    "plt.xlabel('Epochs')\n",
    "plt.ylabel('Validation MAE')\n",
    "plt.show()"
   ]
  },
  {
   "cell_type": "code",
   "execution_count": null,
   "id": "3e429c68",
   "metadata": {},
   "outputs": [],
   "source": [
    "# prog 3.31\n",
    "def smooth_curve(points, factor=0.9):  #指數值為 0.9\n",
    "    smoothed_points = []\n",
    "    for point in points:\n",
    "        if smoothed_points:  #運用指數平均數\n",
    "            previous = smoothed_points[-1]\n",
    "            smoothed_points.append(previous * factor + point *(1 - factor))\n",
    "        else:\n",
    "            smoothed_points.append(point)\n",
    "    return smoothed_points\n",
    "\n",
    "smooth_mae_history = smooth_curve(average_mae_history[10:])\n",
    "\n",
    "plt.plot(range(1, len(smooth_mae_history)+ 1), smooth_mae_history)\n",
    "plt.xlabel('Epochs')\n",
    "plt.ylabel('Validation MAE')\n",
    "plt.show()"
   ]
  },
  {
   "cell_type": "code",
   "execution_count": null,
   "id": "298d3a0e",
   "metadata": {},
   "outputs": [],
   "source": [
    "# prog 3.32\n",
    "model = build_model()\n",
    "model.fit(train_data, train_targets,\n",
    "epochs=80, batch_size=16, verbose=0)\n",
    "test_mse_score, test_mae_score = model.evaluate(test_data, test_targets)"
   ]
  },
  {
   "cell_type": "code",
   "execution_count": null,
   "id": "629a5ae3",
   "metadata": {},
   "outputs": [],
   "source": [
    "test_mae_score"
   ]
  }
 ],
 "metadata": {
  "kernelspec": {
   "display_name": "Python 3",
   "language": "python",
   "name": "python3"
  },
  "language_info": {
   "codemirror_mode": {
    "name": "ipython",
    "version": 3
   },
   "file_extension": ".py",
   "mimetype": "text/x-python",
   "name": "python",
   "nbconvert_exporter": "python",
   "pygments_lexer": "ipython3",
<<<<<<< HEAD
   "version": "3.8.0"
=======
   "version": "3.9.18"
>>>>>>> 6ce468ccf19252a4eb5cfb6592ddfaf6fff791dc
  }
 },
 "nbformat": 4,
 "nbformat_minor": 5
}
