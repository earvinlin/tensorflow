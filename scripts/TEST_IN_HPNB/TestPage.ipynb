{
 "cells": [
  {
   "cell_type": "code",
   "execution_count": 1,
   "id": "5b360454",
   "metadata": {},
   "outputs": [
    {
     "name": "stdout",
     "output_type": "stream",
     "text": [
      "WARNING:tensorflow:From C:\\Users\\linea\\anaconda3\\envs\\tf\\lib\\site-packages\\keras\\src\\losses.py:2976: The name tf.losses.sparse_softmax_cross_entropy is deprecated. Please use tf.compat.v1.losses.sparse_softmax_cross_entropy instead.\n",
      "\n"
     ]
    }
   ],
   "source": [
    "import os\n",
    "import numpy as np\n",
    "import pandas as pd\n",
    "import tensorflow as tf\n",
    "import matplotlib.pyplot as plt\n",
    "from tensorflow import keras\n",
    "from tensorflow.keras import layers"
   ]
  },
  {
   "cell_type": "code",
   "execution_count": 3,
   "id": "b354a60e",
   "metadata": {},
   "outputs": [
    {
     "name": "stdout",
     "output_type": "stream",
     "text": [
      "2.15.0\n"
     ]
    },
    {
     "ename": "AttributeError",
     "evalue": "module 'keras.api._v2.keras' has no attribute 'version'",
     "output_type": "error",
     "traceback": [
      "\u001b[1;31m---------------------------------------------------------------------------\u001b[0m",
      "\u001b[1;31mAttributeError\u001b[0m                            Traceback (most recent call last)",
      "Cell \u001b[1;32mIn[3], line 4\u001b[0m\n\u001b[0;32m      1\u001b[0m \u001b[38;5;28mprint\u001b[39m(tf\u001b[38;5;241m.\u001b[39m__version__)\n\u001b[0;32m      2\u001b[0m \u001b[38;5;66;03m# 20231225 應該是當初安裝時程式有異，所以keras沒抓到tensorflow預設的版本\u001b[39;00m\n\u001b[0;32m      3\u001b[0m \u001b[38;5;66;03m#print(keras.__version__)\u001b[39;00m\n\u001b[1;32m----> 4\u001b[0m \u001b[43mkeras\u001b[49m\u001b[38;5;241;43m.\u001b[39;49m\u001b[43mversion\u001b[49m()\n",
      "File \u001b[1;32m~\\anaconda3\\envs\\tf\\lib\\site-packages\\tensorflow\\python\\util\\lazy_loader.py:171\u001b[0m, in \u001b[0;36mKerasLazyLoader.__getattr__\u001b[1;34m(self, item)\u001b[0m\n\u001b[0;32m    167\u001b[0m     \u001b[38;5;28;01mraise\u001b[39;00m \u001b[38;5;167;01mAttributeError\u001b[39;00m(\n\u001b[0;32m    168\u001b[0m         \u001b[38;5;124mf\u001b[39m\u001b[38;5;124m\"\u001b[39m\u001b[38;5;124m`\u001b[39m\u001b[38;5;132;01m{\u001b[39;00mitem\u001b[38;5;132;01m}\u001b[39;00m\u001b[38;5;124m` is not available with Keras 3.\u001b[39m\u001b[38;5;124m\"\u001b[39m\n\u001b[0;32m    169\u001b[0m     )\n\u001b[0;32m    170\u001b[0m module \u001b[38;5;241m=\u001b[39m \u001b[38;5;28mself\u001b[39m\u001b[38;5;241m.\u001b[39m_load()\n\u001b[1;32m--> 171\u001b[0m \u001b[38;5;28;01mreturn\u001b[39;00m \u001b[38;5;28;43mgetattr\u001b[39;49m\u001b[43m(\u001b[49m\u001b[43mmodule\u001b[49m\u001b[43m,\u001b[49m\u001b[43m \u001b[49m\u001b[43mitem\u001b[49m\u001b[43m)\u001b[49m\n",
      "\u001b[1;31mAttributeError\u001b[0m: module 'keras.api._v2.keras' has no attribute 'version'"
     ]
    }
   ],
   "source": [
    "print(tf.__version__)\n",
    "# 20231225 應該是當初安裝時程式有異，所以keras沒抓到tensorflow預設的版本\n",
    "#print(keras.__version__)\n"
   ]
  },
  {
   "cell_type": "code",
   "execution_count": 5,
   "id": "a7fca7f7",
   "metadata": {},
   "outputs": [],
   "source": [
    "# For test HPNB tensorflow env is OK\n",
    "from keras import layers\n",
    "from keras import models\n",
    "\n",
    "model = models.Sequential()\n",
    "model.add(layers.Conv2D(32, (3, 3), activation='relu', input_shape=(28, 28, 1)))\n",
    "model.add(layers.MaxPooling2D((2, 2)))\n",
    "model.add(layers.Conv2D(64, (3, 3), activation='relu'))\n",
    "model.add(layers.MaxPooling2D((2, 2)))\n",
    "model.add(layers.Conv2D(64, (3, 3), activation='relu'))\n",
    "model.add(layers.Flatten())\n",
    "model.add(layers.Dense(64, activation='relu'))\n",
    "model.add(layers.Dense(10, activation='softmax'))\n"
   ]
  },
  {
   "cell_type": "code",
   "execution_count": 6,
   "id": "48824cdd",
   "metadata": {},
   "outputs": [
    {
     "name": "stdout",
     "output_type": "stream",
     "text": [
      "WARNING:tensorflow:From C:\\Users\\linea\\anaconda3\\envs\\tf\\lib\\site-packages\\keras\\src\\optimizers\\__init__.py:309: The name tf.train.Optimizer is deprecated. Please use tf.compat.v1.train.Optimizer instead.\n",
      "\n",
      "Epoch 1/5\n",
      "WARNING:tensorflow:From C:\\Users\\linea\\anaconda3\\envs\\tf\\lib\\site-packages\\keras\\src\\utils\\tf_utils.py:492: The name tf.ragged.RaggedTensorValue is deprecated. Please use tf.compat.v1.ragged.RaggedTensorValue instead.\n",
      "\n",
      "WARNING:tensorflow:From C:\\Users\\linea\\anaconda3\\envs\\tf\\lib\\site-packages\\keras\\src\\engine\\base_layer_utils.py:384: The name tf.executing_eagerly_outside_functions is deprecated. Please use tf.compat.v1.executing_eagerly_outside_functions instead.\n",
      "\n",
      "938/938 [==============================] - 17s 16ms/step - loss: 0.1815 - accuracy: 0.9426\n",
      "Epoch 2/5\n",
      "938/938 [==============================] - 16s 17ms/step - loss: 0.0469 - accuracy: 0.9855\n",
      "Epoch 3/5\n",
      "938/938 [==============================] - 13s 13ms/step - loss: 0.0319 - accuracy: 0.9901\n",
      "Epoch 4/5\n",
      "938/938 [==============================] - 8s 9ms/step - loss: 0.0238 - accuracy: 0.9930\n",
      "Epoch 5/5\n",
      "938/938 [==============================] - 11s 12ms/step - loss: 0.0183 - accuracy: 0.9944\n"
     ]
    },
    {
     "data": {
      "text/plain": [
       "<keras.src.callbacks.History at 0x1b9e0a3ce50>"
      ]
     },
     "execution_count": 6,
     "metadata": {},
     "output_type": "execute_result"
    }
   ],
   "source": [
    "# For test HPNB tensorflow env is OK\n",
    "from keras.datasets import mnist\n",
    "from keras.utils import to_categorical\n",
    "\n",
    "(train_images, train_labels), (test_images, test_labels) = mnist.load_data()\n",
    "train_images = train_images.reshape((60000, 28, 28, 1))\n",
    "train_images = train_images.astype('float32') / 255\n",
    "test_images = test_images.reshape((10000, 28, 28, 1))\n",
    "test_images = test_images.astype('float32') / 255\n",
    "train_labels = to_categorical(train_labels)\n",
    "test_labels = to_categorical(test_labels)\n",
    "\n",
    "model.compile(optimizer='rmsprop', loss='categorical_crossentropy', metrics=['accuracy'])\n",
    "model.fit(train_images, train_labels, epochs=5, batch_size=64)\n"
   ]
  },
  {
   "cell_type": "code",
   "execution_count": 1,
   "id": "8dac16c0-e6da-4648-9264-b7d0dee33ed8",
   "metadata": {},
   "outputs": [
    {
     "name": "stdout",
     "output_type": "stream",
     "text": [
      "WARNING:tensorflow:From C:\\Users\\linea\\anaconda3\\envs\\tf\\lib\\site-packages\\keras\\src\\losses.py:2976: The name tf.losses.sparse_softmax_cross_entropy is deprecated. Please use tf.compat.v1.losses.sparse_softmax_cross_entropy instead.\n",
      "\n",
      "WARNING:tensorflow:From C:\\Users\\linea\\anaconda3\\envs\\tf\\lib\\site-packages\\keras\\src\\backend.py:873: The name tf.get_default_graph is deprecated. Please use tf.compat.v1.get_default_graph instead.\n",
      "\n",
      "WARNING:tensorflow:From C:\\Users\\linea\\anaconda3\\envs\\tf\\lib\\site-packages\\keras\\src\\layers\\pooling\\max_pooling2d.py:161: The name tf.nn.max_pool is deprecated. Please use tf.nn.max_pool2d instead.\n",
      "\n"
     ]
    }
   ],
   "source": [
    "# 要run 5.8前要先完成5.5 ~ 5.7\n",
    "# 5.5\n",
    "from keras import layers\n",
    "from keras import models\n",
    "\n",
    "model = models.Sequential()\n",
    "model.add(layers.Conv2D(32, (3, 3), activation='relu', input_shape=(150, 150, 3)))\n",
    "model.add(layers.MaxPooling2D((2, 2)))\n",
    "model.add(layers.Conv2D(64, (3, 3), activation='relu'))\n",
    "model.add(layers.MaxPooling2D((2, 2)))\n",
    "model.add(layers.Conv2D(128, (3, 3), activation='relu'))\n",
    "model.add(layers.MaxPooling2D((2, 2)))\n",
    "model.add(layers.Conv2D(128, (3, 3), activation='relu'))\n",
    "model.add(layers.MaxPooling2D((2, 2)))\n",
    "\n",
    "model.add(layers.Flatten())\n",
    "model.add(layers.Dense(512, activation='relu'))\n",
    "model.add(layers.Dense(1, activation='sigmoid'))"
   ]
  },
  {
   "cell_type": "code",
   "execution_count": 2,
   "id": "e1b9582e-46c5-4765-bc27-bb4096f3c7c3",
   "metadata": {},
   "outputs": [
    {
     "name": "stdout",
     "output_type": "stream",
     "text": [
      "Model: \"sequential\"\n",
      "_________________________________________________________________\n",
      " Layer (type)                Output Shape              Param #   \n",
      "=================================================================\n",
      " conv2d (Conv2D)             (None, 148, 148, 32)      896       \n",
      "                                                                 \n",
      " max_pooling2d (MaxPooling2  (None, 74, 74, 32)        0         \n",
      " D)                                                              \n",
      "                                                                 \n",
      " conv2d_1 (Conv2D)           (None, 72, 72, 64)        18496     \n",
      "                                                                 \n",
      " max_pooling2d_1 (MaxPoolin  (None, 36, 36, 64)        0         \n",
      " g2D)                                                            \n",
      "                                                                 \n",
      " conv2d_2 (Conv2D)           (None, 34, 34, 128)       73856     \n",
      "                                                                 \n",
      " max_pooling2d_2 (MaxPoolin  (None, 17, 17, 128)       0         \n",
      " g2D)                                                            \n",
      "                                                                 \n",
      " conv2d_3 (Conv2D)           (None, 15, 15, 128)       147584    \n",
      "                                                                 \n",
      " max_pooling2d_3 (MaxPoolin  (None, 7, 7, 128)         0         \n",
      " g2D)                                                            \n",
      "                                                                 \n",
      " flatten (Flatten)           (None, 6272)              0         \n",
      "                                                                 \n",
      " dense (Dense)               (None, 512)               3211776   \n",
      "                                                                 \n",
      " dense_1 (Dense)             (None, 1)                 513       \n",
      "                                                                 \n",
      "=================================================================\n",
      "Total params: 3453121 (13.17 MB)\n",
      "Trainable params: 3453121 (13.17 MB)\n",
      "Non-trainable params: 0 (0.00 Byte)\n",
      "_________________________________________________________________\n"
     ]
    }
   ],
   "source": [
    "model.summary()"
   ]
  },
  {
   "cell_type": "code",
   "execution_count": 3,
   "id": "7700d0ef-cc30-4f29-934e-fe06331c28a4",
   "metadata": {},
   "outputs": [],
   "source": [
    "# 5.6\n",
    "from keras import optimizers\n",
    "\n",
    "model.compile(loss='binary_crossentropy',\n",
    "              optimizer=optimizers.RMSprop(learning_rate=1e-4),\n",
    "              metrics=['acc'])"
   ]
  },
  {
   "cell_type": "code",
   "execution_count": 4,
   "id": "6027c027",
   "metadata": {},
   "outputs": [
    {
     "name": "stdout",
     "output_type": "stream",
     "text": [
      "Found 2000 images belonging to 2 classes.\n",
      "Found 1000 images belonging to 2 classes.\n"
     ]
    }
   ],
   "source": [
    "# 5.7\n",
    "from keras.preprocessing.image import ImageDataGenerator\n",
    "\n",
    "# 20231225 路徑要雙斜線「\\\\」\n",
    "train_dir = \"C:\\\\WORKSPACES\\\\Datasets\\\\cats_and_dogs_small\\\\train\"\n",
    "validation_dir = \"C:\\\\WORKSPACES\\\\Datasets\\\\cats_and_dogs_small\\\\validation\"\n",
    "\n",
    "train_datagen = ImageDataGenerator(rescale=1./255)\n",
    "test_datagen = ImageDataGenerator(rescale=1./255)\n",
    "\n",
    "train_generator = train_datagen.flow_from_directory(\n",
    "    train_dir,\n",
    "    target_size=(150, 150),\n",
    "    batch_size=20,\n",
    "    class_mode='binary')\n",
    "\n",
    "validation_generator = test_datagen.flow_from_directory(\n",
    "    validation_dir,\n",
    "    target_size=(150, 150),\n",
    "    batch_size=20,\n",
    "    class_mode='binary')\n"
   ]
  },
  {
   "cell_type": "code",
   "execution_count": 5,
   "id": "5813b39a",
   "metadata": {},
   "outputs": [
    {
     "name": "stderr",
     "output_type": "stream",
     "text": [
      "C:\\Users\\linea\\AppData\\Local\\Temp\\ipykernel_25528\\2223947943.py:2: UserWarning: `Model.fit_generator` is deprecated and will be removed in a future version. Please use `Model.fit`, which supports generators.\n",
      "  history = model.fit_generator(\n"
     ]
    },
    {
     "name": "stdout",
     "output_type": "stream",
     "text": [
      "Epoch 1/30\n",
      "WARNING:tensorflow:From C:\\Users\\linea\\anaconda3\\envs\\tf\\lib\\site-packages\\keras\\src\\utils\\tf_utils.py:492: The name tf.ragged.RaggedTensorValue is deprecated. Please use tf.compat.v1.ragged.RaggedTensorValue instead.\n",
      "\n",
      "WARNING:tensorflow:From C:\\Users\\linea\\anaconda3\\envs\\tf\\lib\\site-packages\\keras\\src\\engine\\base_layer_utils.py:384: The name tf.executing_eagerly_outside_functions is deprecated. Please use tf.compat.v1.executing_eagerly_outside_functions instead.\n",
      "\n",
      "100/100 [==============================] - 28s 269ms/step - loss: 0.6933 - acc: 0.5080 - val_loss: 0.6873 - val_acc: 0.5970\n",
      "Epoch 2/30\n",
      "100/100 [==============================] - 41s 414ms/step - loss: 0.6814 - acc: 0.5615 - val_loss: 0.6703 - val_acc: 0.5910\n",
      "Epoch 3/30\n",
      "100/100 [==============================] - 28s 280ms/step - loss: 0.6640 - acc: 0.5985 - val_loss: 0.7177 - val_acc: 0.5040\n",
      "Epoch 4/30\n",
      "100/100 [==============================] - 26s 260ms/step - loss: 0.6417 - acc: 0.6185 - val_loss: 0.6450 - val_acc: 0.6070\n",
      "Epoch 5/30\n",
      "100/100 [==============================] - 27s 267ms/step - loss: 0.6172 - acc: 0.6615 - val_loss: 0.6212 - val_acc: 0.6660\n",
      "Epoch 6/30\n",
      "100/100 [==============================] - 26s 262ms/step - loss: 0.5753 - acc: 0.6990 - val_loss: 0.6155 - val_acc: 0.6380\n",
      "Epoch 7/30\n",
      "100/100 [==============================] - 27s 270ms/step - loss: 0.5563 - acc: 0.7265 - val_loss: 0.6153 - val_acc: 0.6630\n",
      "Epoch 8/30\n",
      "100/100 [==============================] - 27s 267ms/step - loss: 0.5311 - acc: 0.7360 - val_loss: 0.6229 - val_acc: 0.6460\n",
      "Epoch 9/30\n",
      "100/100 [==============================] - 27s 266ms/step - loss: 0.5078 - acc: 0.7535 - val_loss: 0.6304 - val_acc: 0.6750\n",
      "Epoch 10/30\n",
      "100/100 [==============================] - 26s 259ms/step - loss: 0.4872 - acc: 0.7625 - val_loss: 0.5827 - val_acc: 0.6970\n",
      "Epoch 11/30\n",
      "100/100 [==============================] - 26s 259ms/step - loss: 0.4628 - acc: 0.7825 - val_loss: 0.5477 - val_acc: 0.7140\n",
      "Epoch 12/30\n",
      "100/100 [==============================] - 26s 256ms/step - loss: 0.4419 - acc: 0.7960 - val_loss: 0.5663 - val_acc: 0.7090\n",
      "Epoch 13/30\n",
      "100/100 [==============================] - 26s 255ms/step - loss: 0.4213 - acc: 0.8045 - val_loss: 0.5527 - val_acc: 0.7270\n",
      "Epoch 14/30\n",
      "100/100 [==============================] - 25s 254ms/step - loss: 0.3972 - acc: 0.8290 - val_loss: 0.5469 - val_acc: 0.7220\n",
      "Epoch 15/30\n",
      "100/100 [==============================] - 26s 255ms/step - loss: 0.3830 - acc: 0.8295 - val_loss: 0.6026 - val_acc: 0.6970\n",
      "Epoch 16/30\n",
      "100/100 [==============================] - 26s 263ms/step - loss: 0.3569 - acc: 0.8385 - val_loss: 0.5568 - val_acc: 0.7330\n",
      "Epoch 17/30\n",
      "100/100 [==============================] - 26s 255ms/step - loss: 0.3341 - acc: 0.8530 - val_loss: 0.5582 - val_acc: 0.7220\n",
      "Epoch 18/30\n",
      "100/100 [==============================] - 26s 255ms/step - loss: 0.3174 - acc: 0.8610 - val_loss: 0.6716 - val_acc: 0.6840\n",
      "Epoch 19/30\n",
      "100/100 [==============================] - 26s 255ms/step - loss: 0.2926 - acc: 0.8845 - val_loss: 0.5757 - val_acc: 0.7240\n",
      "Epoch 20/30\n",
      "100/100 [==============================] - 26s 257ms/step - loss: 0.2756 - acc: 0.8905 - val_loss: 0.6043 - val_acc: 0.7250\n",
      "Epoch 21/30\n",
      "100/100 [==============================] - 26s 257ms/step - loss: 0.2604 - acc: 0.9010 - val_loss: 0.6210 - val_acc: 0.7100\n",
      "Epoch 22/30\n",
      "100/100 [==============================] - 26s 263ms/step - loss: 0.2464 - acc: 0.9025 - val_loss: 0.7362 - val_acc: 0.7050\n",
      "Epoch 23/30\n",
      "100/100 [==============================] - 26s 259ms/step - loss: 0.2290 - acc: 0.9135 - val_loss: 0.6780 - val_acc: 0.7210\n",
      "Epoch 24/30\n",
      "100/100 [==============================] - 26s 264ms/step - loss: 0.2037 - acc: 0.9240 - val_loss: 0.6814 - val_acc: 0.7230\n",
      "Epoch 25/30\n",
      "100/100 [==============================] - 26s 257ms/step - loss: 0.1844 - acc: 0.9375 - val_loss: 0.6566 - val_acc: 0.7210\n",
      "Epoch 26/30\n",
      "100/100 [==============================] - 26s 258ms/step - loss: 0.1652 - acc: 0.9410 - val_loss: 0.7313 - val_acc: 0.7170\n",
      "Epoch 27/30\n",
      "100/100 [==============================] - 26s 260ms/step - loss: 0.1524 - acc: 0.9455 - val_loss: 0.6749 - val_acc: 0.7310\n",
      "Epoch 28/30\n",
      "100/100 [==============================] - 26s 256ms/step - loss: 0.1413 - acc: 0.9520 - val_loss: 0.7045 - val_acc: 0.7080\n",
      "Epoch 29/30\n",
      "100/100 [==============================] - 26s 261ms/step - loss: 0.1122 - acc: 0.9635 - val_loss: 0.7469 - val_acc: 0.7180\n",
      "Epoch 30/30\n",
      "100/100 [==============================] - 26s 259ms/step - loss: 0.1036 - acc: 0.9675 - val_loss: 0.7617 - val_acc: 0.7180\n"
     ]
    }
   ],
   "source": [
    "# 5.8\n",
    "history = model.fit_generator(\n",
    "    train_generator,\n",
    "    steps_per_epoch=100,\n",
    "    epochs=30,\n",
    "    validation_data=validation_generator,\n",
    "    validation_steps=50)"
   ]
  },
  {
   "cell_type": "code",
   "execution_count": 6,
   "id": "5d5e768d",
   "metadata": {},
   "outputs": [
    {
     "name": "stderr",
     "output_type": "stream",
     "text": [
      "C:\\Users\\linea\\anaconda3\\envs\\tf\\lib\\site-packages\\keras\\src\\engine\\training.py:3103: UserWarning: You are saving your model as an HDF5 file via `model.save()`. This file format is considered legacy. We recommend using instead the native Keras format, e.g. `model.save('my_model.keras')`.\n",
      "  saving_api.save_model(\n"
     ]
    }
   ],
   "source": [
    "# 5.9\n",
    "model.save('cats_and_dogs_small_1.h5')"
   ]
  },
  {
   "cell_type": "code",
   "execution_count": 28,
   "id": "97bcb843",
   "metadata": {},
   "outputs": [],
   "source": [
    "# 5.11\n",
    "datagen = ImageDataGenerator(\n",
    "    rotation_range=40,\n",
    "    width_shift_range=0.2,\n",
    "    height_shift_range=0.2,\n",
    "    shear_range=0.2,\n",
    "    zoom_range=0.2,\n",
    "    horizontal_flip=True,\n",
    "    fill_mode='nearest')\n"
   ]
  },
  {
   "cell_type": "code",
   "execution_count": 8,
   "id": "a075327b",
   "metadata": {},
   "outputs": [
    {
     "ename": "NameError",
     "evalue": "name 'os' is not defined",
     "output_type": "error",
     "traceback": [
      "\u001b[1;31m---------------------------------------------------------------------------\u001b[0m",
      "\u001b[1;31mNameError\u001b[0m                                 Traceback (most recent call last)",
      "Cell \u001b[1;32mIn[8], line 6\u001b[0m\n\u001b[0;32m      2\u001b[0m \u001b[38;5;28;01mfrom\u001b[39;00m \u001b[38;5;21;01mkeras\u001b[39;00m\u001b[38;5;21;01m.\u001b[39;00m\u001b[38;5;21;01mpreprocessing\u001b[39;00m \u001b[38;5;28;01mimport\u001b[39;00m image\n\u001b[0;32m      4\u001b[0m train_cats_dir \u001b[38;5;241m=\u001b[39m \u001b[38;5;124m\"\u001b[39m\u001b[38;5;124mC:\u001b[39m\u001b[38;5;130;01m\\\\\u001b[39;00m\u001b[38;5;124mWORKSPACES\u001b[39m\u001b[38;5;130;01m\\\\\u001b[39;00m\u001b[38;5;124mDatasets\u001b[39m\u001b[38;5;130;01m\\\\\u001b[39;00m\u001b[38;5;124mcats_and_dogs_small\u001b[39m\u001b[38;5;130;01m\\\\\u001b[39;00m\u001b[38;5;124mtrain\u001b[39m\u001b[38;5;130;01m\\\\\u001b[39;00m\u001b[38;5;124mcats\u001b[39m\u001b[38;5;124m\"\u001b[39m\n\u001b[1;32m----> 6\u001b[0m fnames \u001b[38;5;241m=\u001b[39m [os\u001b[38;5;241m.\u001b[39mpath\u001b[38;5;241m.\u001b[39mjoin(train_cats_dir, fname) \u001b[38;5;28;01mfor\u001b[39;00m fname \u001b[38;5;129;01min\u001b[39;00m \u001b[43mos\u001b[49m\u001b[38;5;241m.\u001b[39mlistdir(train_cats_dir)]\n\u001b[0;32m      7\u001b[0m \u001b[38;5;66;03m#print(fnames)\u001b[39;00m\n\u001b[0;32m      9\u001b[0m img_path \u001b[38;5;241m=\u001b[39m fnames[\u001b[38;5;241m3\u001b[39m]\n",
      "\u001b[1;31mNameError\u001b[0m: name 'os' is not defined"
     ]
    }
   ],
   "source": [
    "# 5.12\n",
    "from keras.preprocessing import image\n",
    "\n",
    "train_cats_dir = \"C:\\\\WORKSPACES\\\\Datasets\\\\cats_and_dogs_small\\\\train\\\\cats\"\n",
    "\n",
    "fnames = [os.path.join(train_cats_dir, fname) for fname in os.listdir(train_cats_dir)]\n",
    "#print(fnames)\n",
    "\n",
    "img_path = fnames[3]\n",
    "#print(fnames[3])\n",
    "img = image.load_img(img_path, target_size=(150, 150))\n",
    "x = image.img_to_array(img)\n",
    "x = x.reshape((1,) + x.shape)\n",
    "i = 0\n",
    "\n",
    "for batch in datagen.flow(x, batch_size=1):\n",
    "    plt.figure(i)\n",
    "    imgplot = plt.imshow(image.array_to_img(batch[0]))\n",
    "    i += 1\n",
    "    if i % 4 == 0:\n",
    "        break\n",
    "\n",
    "plt.show()\n"
   ]
  },
  {
   "cell_type": "code",
   "execution_count": null,
   "id": "8c183d29",
   "metadata": {},
   "outputs": [],
   "source": []
  }
 ],
 "metadata": {
  "kernelspec": {
   "display_name": "Python 3 (ipykernel)",
   "language": "python",
   "name": "python3"
  },
  "language_info": {
   "codemirror_mode": {
    "name": "ipython",
    "version": 3
   },
   "file_extension": ".py",
   "mimetype": "text/x-python",
   "name": "python",
   "nbconvert_exporter": "python",
   "pygments_lexer": "ipython3",
   "version": "3.9.18"
  }
 },
 "nbformat": 4,
 "nbformat_minor": 5
}
