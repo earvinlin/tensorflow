{
 "cells": [
  {
   "cell_type": "code",
   "execution_count": 123,
   "id": "1416c439",
   "metadata": {},
   "outputs": [],
   "source": [
    "#===========================================#\n",
    "#=== Linux OS running OK                 ===#\n",
    "#=== Test iMac OS OK (needs modify path) ===#\n",
    "#===========================================#\n",
    "import os\n",
    "import numpy as np\n",
    "import pandas as pd\n",
    "import tensorflow as tf\n",
    "import matplotlib.pyplot as plt\n",
    "from tensorflow import keras\n",
    "from tensorflow.keras import layers"
   ]
  },
  {
   "cell_type": "code",
   "execution_count": 108,
   "id": "d683dcda",
   "metadata": {},
   "outputs": [
    {
     "name": "stdout",
     "output_type": "stream",
     "text": [
      "2.4.1\n",
      "2.4.0\n"
     ]
    }
   ],
   "source": [
    "print(tf.__version__)\n",
    "print(keras.__version__)"
   ]
  },
  {
   "cell_type": "code",
   "execution_count": 109,
   "id": "02cc3c26",
   "metadata": {},
   "outputs": [
    {
     "name": "stdout",
     "output_type": "stream",
     "text": [
      "\n"
     ]
    }
   ],
   "source": [
    "import tensorflow as tf\n",
    "gpu_device_name = tf.test.gpu_device_name()\n",
    "print(gpu_device_name)"
   ]
  },
  {
   "cell_type": "code",
   "execution_count": 110,
   "id": "65a6b594",
   "metadata": {},
   "outputs": [
    {
     "data": {
      "text/plain": [
       "[]"
      ]
     },
     "execution_count": 110,
     "metadata": {},
     "output_type": "execute_result"
    }
   ],
   "source": [
    "#tf.test.is_gpu_available()\n",
    "tf.config.list_physical_devices('GPU')"
   ]
  },
  {
   "cell_type": "code",
   "execution_count": 111,
   "id": "ce45b159",
   "metadata": {},
   "outputs": [],
   "source": [
    "# Listing 2.1 Loading the MNIST dataset in Keras\n",
    "from keras.datasets import mnist\n",
    "(train_images, train_labels), (test_images, test_labels) = mnist.load_data()"
   ]
  },
  {
   "cell_type": "code",
   "execution_count": 112,
   "id": "15b87d83",
   "metadata": {},
   "outputs": [
    {
     "name": "stdout",
     "output_type": "stream",
     "text": [
      "train_images : \n",
      " [[[  0   0   0   0   0   0   0   0   0   0   0   0   0   0   0   0   0\n",
      "     0   0   0   0   0   0   0   0   0   0   0]\n",
      "  [  0   0   0   0   0   0   0   0   0   0   0   0   0   0   0   0   0\n",
      "     0   0   0   0   0   0   0   0   0   0   0]\n",
      "  [  0   0   0   0   0   0   0   0   0   0   0   0   0   0   0   0   0\n",
      "     0   0   0   0   0   0   0   0   0   0   0]\n",
      "  [  0   0   0   0   0   0   0   0   0   0   0   0   0   0   0   0   0\n",
      "     0   0   0   0   0   0   0   0   0   0   0]\n",
      "  [  0   0   0   0   0   0   0   0   0   0   0   0   0   0   0   0   0\n",
      "     0   0   0   0   0   0   0   0   0   0   0]\n",
      "  [  0   0   0   0   0   0   0   0   0   0   0   0   3  18  18  18 126\n",
      "   136 175  26 166 255 247 127   0   0   0   0]\n",
      "  [  0   0   0   0   0   0   0   0  30  36  94 154 170 253 253 253 253\n",
      "   253 225 172 253 242 195  64   0   0   0   0]\n",
      "  [  0   0   0   0   0   0   0  49 238 253 253 253 253 253 253 253 253\n",
      "   251  93  82  82  56  39   0   0   0   0   0]\n",
      "  [  0   0   0   0   0   0   0  18 219 253 253 253 253 253 198 182 247\n",
      "   241   0   0   0   0   0   0   0   0   0   0]\n",
      "  [  0   0   0   0   0   0   0   0  80 156 107 253 253 205  11   0  43\n",
      "   154   0   0   0   0   0   0   0   0   0   0]\n",
      "  [  0   0   0   0   0   0   0   0   0  14   1 154 253  90   0   0   0\n",
      "     0   0   0   0   0   0   0   0   0   0   0]\n",
      "  [  0   0   0   0   0   0   0   0   0   0   0 139 253 190   2   0   0\n",
      "     0   0   0   0   0   0   0   0   0   0   0]\n",
      "  [  0   0   0   0   0   0   0   0   0   0   0  11 190 253  70   0   0\n",
      "     0   0   0   0   0   0   0   0   0   0   0]\n",
      "  [  0   0   0   0   0   0   0   0   0   0   0   0  35 241 225 160 108\n",
      "     1   0   0   0   0   0   0   0   0   0   0]\n",
      "  [  0   0   0   0   0   0   0   0   0   0   0   0   0  81 240 253 253\n",
      "   119  25   0   0   0   0   0   0   0   0   0]\n",
      "  [  0   0   0   0   0   0   0   0   0   0   0   0   0   0  45 186 253\n",
      "   253 150  27   0   0   0   0   0   0   0   0]\n",
      "  [  0   0   0   0   0   0   0   0   0   0   0   0   0   0   0  16  93\n",
      "   252 253 187   0   0   0   0   0   0   0   0]\n",
      "  [  0   0   0   0   0   0   0   0   0   0   0   0   0   0   0   0   0\n",
      "   249 253 249  64   0   0   0   0   0   0   0]\n",
      "  [  0   0   0   0   0   0   0   0   0   0   0   0   0   0  46 130 183\n",
      "   253 253 207   2   0   0   0   0   0   0   0]\n",
      "  [  0   0   0   0   0   0   0   0   0   0   0   0  39 148 229 253 253\n",
      "   253 250 182   0   0   0   0   0   0   0   0]\n",
      "  [  0   0   0   0   0   0   0   0   0   0  24 114 221 253 253 253 253\n",
      "   201  78   0   0   0   0   0   0   0   0   0]\n",
      "  [  0   0   0   0   0   0   0   0  23  66 213 253 253 253 253 198  81\n",
      "     2   0   0   0   0   0   0   0   0   0   0]\n",
      "  [  0   0   0   0   0   0  18 171 219 253 253 253 253 195  80   9   0\n",
      "     0   0   0   0   0   0   0   0   0   0   0]\n",
      "  [  0   0   0   0  55 172 226 253 253 253 253 244 133  11   0   0   0\n",
      "     0   0   0   0   0   0   0   0   0   0   0]\n",
      "  [  0   0   0   0 136 253 253 253 212 135 132  16   0   0   0   0   0\n",
      "     0   0   0   0   0   0   0   0   0   0   0]\n",
      "  [  0   0   0   0   0   0   0   0   0   0   0   0   0   0   0   0   0\n",
      "     0   0   0   0   0   0   0   0   0   0   0]\n",
      "  [  0   0   0   0   0   0   0   0   0   0   0   0   0   0   0   0   0\n",
      "     0   0   0   0   0   0   0   0   0   0   0]\n",
      "  [  0   0   0   0   0   0   0   0   0   0   0   0   0   0   0   0   0\n",
      "     0   0   0   0   0   0   0   0   0   0   0]]]\n"
     ]
    }
   ],
   "source": [
    "print(\"train_images : \\n\", train_images[0:1])"
   ]
  },
  {
   "cell_type": "code",
   "execution_count": 113,
   "id": "c8d71e1d-1ad4-4402-97cd-0a398bcb7612",
   "metadata": {},
   "outputs": [
    {
     "name": "stdout",
     "output_type": "stream",
     "text": [
      "60000\n"
     ]
    }
   ],
   "source": [
    "#print(type(train_labels))\n",
    "#print(train_labels)\n",
    "print(len(train_labels))"
   ]
  },
  {
   "cell_type": "code",
   "execution_count": 114,
   "id": "91ec25f5-6186-4931-8ce7-214d76be0db1",
   "metadata": {},
   "outputs": [],
   "source": [
    "# Listing 2.2 The network architecture\n",
    "from keras import models\n",
    "from keras import layers\n",
    "network = models.Sequential()\n",
    "network.add(layers.Dense(512, activation='relu', input_shape=(28 * 28,)))\n",
    "network.add(layers.Dense(10, activation='softmax'))\n"
   ]
  },
  {
   "cell_type": "code",
   "execution_count": 115,
   "id": "40902bed-498b-4f0d-aa1e-d9c230751eb0",
   "metadata": {},
   "outputs": [],
   "source": [
    "# Listing 2.3 The compilation step\n",
    "network.compile(optimizer='rmsprop', \n",
    "                loss='categorical_crossentropy', \n",
    "                metrics=['accuracy'])\n"
   ]
  },
  {
   "cell_type": "code",
   "execution_count": 116,
   "id": "c7366c14-1fa8-4dfc-a990-015bff1ee813",
   "metadata": {},
   "outputs": [],
   "source": [
    "# Listing 2.4 Preparing the image data\n",
    "train_images = train_images.reshape((60000, 28 * 28))\n",
    "train_images = train_images.astype('float32') / 255\n",
    "test_images = test_images.reshape((10000, 28 * 28))\n",
    "test_images = test_images.astype('float32') / 255"
   ]
  },
  {
   "cell_type": "code",
   "execution_count": 117,
   "id": "50d8e678-d83a-4020-bcfd-f5ce9c4f5c18",
   "metadata": {},
   "outputs": [],
   "source": [
    "# Listing 2.5 Preparing the labels\n",
    "from keras.utils import to_categorical\n",
    "train_labels = to_categorical(train_labels)\n",
    "test_labels = to_categorical(test_labels)"
   ]
  },
  {
   "cell_type": "code",
   "execution_count": 118,
   "id": "c629b91b-4836-484d-a8ad-89b92caaad4e",
   "metadata": {},
   "outputs": [
    {
     "name": "stdout",
     "output_type": "stream",
     "text": [
      "Epoch 1/5\n",
      "469/469 [==============================] - 14s 23ms/step - loss: 0.4307 - accuracy: 0.8712\n",
      "Epoch 2/5\n",
      "469/469 [==============================] - 12s 25ms/step - loss: 0.1104 - accuracy: 0.9684\n",
      "Epoch 3/5\n",
      "469/469 [==============================] - 12s 25ms/step - loss: 0.0680 - accuracy: 0.9802\n",
      "Epoch 4/5\n",
      "469/469 [==============================] - 12s 26ms/step - loss: 0.0476 - accuracy: 0.9856\n",
      "Epoch 5/5\n",
      "469/469 [==============================] - 10s 22ms/step - loss: 0.0348 - accuracy: 0.9899\n"
     ]
    },
    {
     "data": {
      "text/plain": [
       "<tensorflow.python.keras.callbacks.History at 0x7003a3b36a60>"
      ]
     },
     "execution_count": 118,
     "metadata": {},
     "output_type": "execute_result"
    }
   ],
   "source": [
    "network.fit(train_images, train_labels, epochs=5, batch_size=128)\n"
   ]
  },
  {
   "cell_type": "code",
   "execution_count": 119,
   "id": "36d551c4-4181-46a5-ab19-7a6ebc109dbe",
   "metadata": {},
   "outputs": [
    {
     "name": "stdout",
     "output_type": "stream",
     "text": [
      "313/313 [==============================] - 4s 10ms/step - loss: 0.0637 - accuracy: 0.9811\n",
      "test_loss=  0.06371374428272247 , test_acc=  0.9811000227928162\n"
     ]
    }
   ],
   "source": [
    "test_loss, test_acc = network.evaluate(test_images, test_labels)\n",
    "print(\"test_loss= \", test_loss, \", test_acc= \", test_acc)\n"
   ]
  },
  {
   "cell_type": "code",
   "execution_count": 124,
   "id": "3c29f4ab-6b50-4541-97d4-5e1c2bc5c095",
   "metadata": {},
   "outputs": [],
   "source": [
    "# Reload dataset\n",
    "from keras.datasets import mnist\n",
    "(train_images, train_labels), (test_images, test_labels) = mnist.load_data()"
   ]
  },
  {
   "cell_type": "code",
   "execution_count": 125,
   "id": "3029531c-b0a6-49bd-a0c0-e30cf2669684",
   "metadata": {},
   "outputs": [
    {
     "name": "stdout",
     "output_type": "stream",
     "text": [
      "[[  0   0   0   0   0   0   0   0   0   0   0   0   0   0   0   0   0   0\n",
      "    0   0   0   0   0   0   0   0   0   0]\n",
      " [  0   0   0   0   0   0   0   0   0   0   0   0   0   0   0   0   0   0\n",
      "    0   0   0   0   0   0   0   0   0   0]\n",
      " [  0   0   0   0   0   0   0   0   0   0   0   0   0   0   0   0   0   0\n",
      "    0   0   0   0   0   0   0   0   0   0]\n",
      " [  0   0   0   0   0   0   0   0   0   0   0   0   0   0   0   0   0   0\n",
      "    0   0   0   0   0   0   0   0   0   0]\n",
      " [  0   0   0   0   0   0   0   0   0   0   0   0   0   0   0   0   0   0\n",
      "    0   0   0   0   0   0   0   0   0   0]\n",
      " [  0   0   0   0   0   0   0   0   0   0   0   0   0   0   0   0   0   0\n",
      "    0   0   0   0   0   0   0   0   0   0]\n",
      " [  0   0   0   0   0   0   0   0   0   0   0   0   0   0   0   0   0   0\n",
      "    0   0   0   0   0   0   0   0   0   0]\n",
      " [  0   0   0   0   0   0   0   0   0   0   0   0  55 148 210 253 253 113\n",
      "   87 148  55   0   0   0   0   0   0   0]\n",
      " [  0   0   0   0   0   0   0   0   0   0   0  87 232 252 253 189 210 252\n",
      "  252 253 168   0   0   0   0   0   0   0]\n",
      " [  0   0   0   0   0   0   0   0   0   4  57 242 252 190  65   5  12 182\n",
      "  252 253 116   0   0   0   0   0   0   0]\n",
      " [  0   0   0   0   0   0   0   0   0  96 252 252 183  14   0   0  92 252\n",
      "  252 225  21   0   0   0   0   0   0   0]\n",
      " [  0   0   0   0   0   0   0   0 132 253 252 146  14   0   0   0 215 252\n",
      "  252  79   0   0   0   0   0   0   0   0]\n",
      " [  0   0   0   0   0   0   0 126 253 247 176   9   0   0   8  78 245 253\n",
      "  129   0   0   0   0   0   0   0   0   0]\n",
      " [  0   0   0   0   0   0  16 232 252 176   0   0   0  36 201 252 252 169\n",
      "   11   0   0   0   0   0   0   0   0   0]\n",
      " [  0   0   0   0   0   0  22 252 252  30  22 119 197 241 253 252 251  77\n",
      "    0   0   0   0   0   0   0   0   0   0]\n",
      " [  0   0   0   0   0   0  16 231 252 253 252 252 252 226 227 252 231   0\n",
      "    0   0   0   0   0   0   0   0   0   0]\n",
      " [  0   0   0   0   0   0   0  55 235 253 217 138  42  24 192 252 143   0\n",
      "    0   0   0   0   0   0   0   0   0   0]\n",
      " [  0   0   0   0   0   0   0   0   0   0   0   0   0  62 255 253 109   0\n",
      "    0   0   0   0   0   0   0   0   0   0]\n",
      " [  0   0   0   0   0   0   0   0   0   0   0   0   0  71 253 252  21   0\n",
      "    0   0   0   0   0   0   0   0   0   0]\n",
      " [  0   0   0   0   0   0   0   0   0   0   0   0   0   0 253 252  21   0\n",
      "    0   0   0   0   0   0   0   0   0   0]\n",
      " [  0   0   0   0   0   0   0   0   0   0   0   0   0  71 253 252  21   0\n",
      "    0   0   0   0   0   0   0   0   0   0]\n",
      " [  0   0   0   0   0   0   0   0   0   0   0   0   0 106 253 252  21   0\n",
      "    0   0   0   0   0   0   0   0   0   0]\n",
      " [  0   0   0   0   0   0   0   0   0   0   0   0   0  45 255 253  21   0\n",
      "    0   0   0   0   0   0   0   0   0   0]\n",
      " [  0   0   0   0   0   0   0   0   0   0   0   0   0   0 218 252  56   0\n",
      "    0   0   0   0   0   0   0   0   0   0]\n",
      " [  0   0   0   0   0   0   0   0   0   0   0   0   0   0  96 252 189  42\n",
      "    0   0   0   0   0   0   0   0   0   0]\n",
      " [  0   0   0   0   0   0   0   0   0   0   0   0   0   0  14 184 252 170\n",
      "   11   0   0   0   0   0   0   0   0   0]\n",
      " [  0   0   0   0   0   0   0   0   0   0   0   0   0   0   0  14 147 252\n",
      "   42   0   0   0   0   0   0   0   0   0]\n",
      " [  0   0   0   0   0   0   0   0   0   0   0   0   0   0   0   0   0   0\n",
      "    0   0   0   0   0   0   0   0   0   0]]\n"
     ]
    }
   ],
   "source": [
    "# Listing 2.6 Displaying the fourth digit\n",
    "digit = train_images[4]\n",
    "print(digit)\n"
   ]
  },
  {
   "cell_type": "code",
   "execution_count": 126,
   "id": "9045896a-d299-462c-a4e0-39dbff801d48",
   "metadata": {},
   "outputs": [
    {
     "data": {
      "image/png": "[encoded data removed]",
      "text/plain": [
       "<Figure size 640x480 with 1 Axes>"
      ]
     },
     "metadata": {},
     "output_type": "display_data"
    },
    {
     "name": "stdout",
     "output_type": "stream",
     "text": [
      "9\n"
     ]
    }
   ],
   "source": [
    "import matplotlib.pyplot as plt\n",
    "plt.imshow(digit, cmap=plt.cm.binary)\n",
    "plt.show()\n",
    "\n",
    "print(train_labels[4])"
   ]
  },
  {
   "cell_type": "code",
   "execution_count": 127,
   "id": "0262b6b4-ed4e-453d-9172-cfc725ffd60c",
   "metadata": {},
   "outputs": [
    {
     "name": "stdout",
     "output_type": "stream",
     "text": [
      "(90, 28, 28)\n"
     ]
    }
   ],
   "source": [
    "m_slice = train_images[10:100]\n",
    "print(m_slice.shape)"
   ]
  },
  {
   "cell_type": "code",
   "execution_count": 128,
   "id": "3e2c0f33-3914-4ef3-bfc7-ed06dbe27cc1",
   "metadata": {},
   "outputs": [
    {
     "name": "stdout",
     "output_type": "stream",
     "text": [
      "(90, 28, 28)\n"
     ]
    }
   ],
   "source": [
    "m_slice = train_images[10:100, :, :]\n",
    "print(m_slice.shape)"
   ]
  },
  {
   "cell_type": "code",
   "execution_count": 131,
   "id": "f5147dec-a54f-4c69-83fd-068576bd70a6",
   "metadata": {},
   "outputs": [
    {
     "name": "stdout",
     "output_type": "stream",
     "text": [
      "[[2 2]\n",
      " [1 3]\n",
      " [3 2]] <class 'numpy.ndarray'> (3, 2)\n",
      "[[1]\n",
      " [3]\n",
      " [5]] <class 'numpy.ndarray'> (3, 1)\n",
      "[[ 2  2]\n",
      " [ 3  9]\n",
      " [15 10]]\n"
     ]
    }
   ],
   "source": [
    "import numpy as np\n",
    "x = np.array([[2, 2],[1, 3], [3, 2]])\n",
    "print(x, type(x), x.shape)\n",
    "y = np.array([[1], [3], [5]])\n",
    "print(y, type(y), y.shape)\n",
    "z = x * y\n",
    "print(z)"
   ]
  },
  {
   "cell_type": "code",
   "execution_count": 130,
   "id": "6b26e3d6-a2c6-46a1-8a7b-ba74bbd65033",
   "metadata": {},
   "outputs": [
    {
     "name": "stdout",
     "output_type": "stream",
     "text": [
      "<class 'numpy.ndarray'> (2, 2, 3, 2)\n",
      "[[[[0.78199065 0.92081943]\n",
      "   [0.71422333 0.76870562]\n",
      "   [0.94272292 0.67996178]]\n",
      "\n",
      "  [[0.24013959 0.50811381]\n",
      "   [0.93292671 0.90141323]\n",
      "   [0.2411391  0.08983972]]]\n",
      "\n",
      "\n",
      " [[[0.29289664 0.73135991]\n",
      "   [0.83000279 0.61968753]\n",
      "   [0.25360698 0.91890389]]\n",
      "\n",
      "  [[0.018105   0.69684653]\n",
      "   [0.13489779 0.6515333 ]\n",
      "   [0.45278927 0.78451312]]]]\n",
      "<class 'numpy.ndarray'> (2, 3, 1)\n",
      "[[[0.95114208]\n",
      "  [0.89335428]\n",
      "  [0.74280666]]\n",
      "\n",
      " [[0.11912125]\n",
      "  [0.11583658]\n",
      "  [0.8839438 ]]]\n",
      "<class 'numpy.ndarray'> (2, 2, 3, 2)\n",
      "[[[[0.95114208 0.95114208]\n",
      "   [0.89335428 0.89335428]\n",
      "   [0.94272292 0.74280666]]\n",
      "\n",
      "  [[0.24013959 0.50811381]\n",
      "   [0.93292671 0.90141323]\n",
      "   [0.8839438  0.8839438 ]]]\n",
      "\n",
      "\n",
      " [[[0.95114208 0.95114208]\n",
      "   [0.89335428 0.89335428]\n",
      "   [0.74280666 0.91890389]]\n",
      "\n",
      "  [[0.11912125 0.69684653]\n",
      "   [0.13489779 0.6515333 ]\n",
      "   [0.8839438  0.8839438 ]]]]\n"
     ]
    }
   ],
   "source": [
    "x = np.random.random((2,2,3,2))\n",
    "print(type(x), x.shape)\n",
    "print(x)\n",
    "\n",
    "y = np.random.random((2,3,1))\n",
    "print(type(y), y.shape)\n",
    "print(y)\n",
    "\n",
    "z = np.maximum(x,y)\n",
    "print(type(z), z.shape)\n",
    "print(z)\n"
   ]
  },
  {
   "cell_type": "code",
   "execution_count": 132,
   "id": "cf72da6a-0d06-4d96-9b0a-97170c6b91ca",
   "metadata": {},
   "outputs": [
    {
     "name": "stdout",
     "output_type": "stream",
     "text": [
      "<class 'numpy.ndarray'> (3, 2)\n",
      "[[0.34586533 0.29794327]\n",
      " [0.96129548 0.14589664]\n",
      " [0.62862958 0.51987598]]\n",
      "<class 'numpy.ndarray'> (2, 3)\n",
      "[[0.16613546 0.0664113  0.21991292]\n",
      " [0.81854886 0.61981426 0.51956965]]\n",
      "<class 'numpy.ndarray'> (3, 3)\n",
      "[[0.30134162 0.20763885 0.23086254]\n",
      " [0.27912879 0.1542697  0.28720476]\n",
      " [0.52998155 0.36397465 0.40835555]]\n"
     ]
    }
   ],
   "source": [
    "# 點積範例\n",
    "x = np.random.random((3,2))\n",
    "print(type(x), x.shape)\n",
    "print(x)\n",
    "\n",
    "y = np.random.random((2,3))\n",
    "print(type(y), y.shape)\n",
    "print(y)\n",
    "\n",
    "z = np.dot(x,y)\n",
    "print(type(z), z.shape)\n",
    "print(z)"
   ]
  },
  {
   "cell_type": "code",
   "execution_count": 136,
   "id": "d056b9ba-1415-40ce-aa2c-3635ab379053",
   "metadata": {},
   "outputs": [
    {
     "name": "stdout",
     "output_type": "stream",
     "text": [
      "x=\n",
      "  [[0.69505712 0.52462138]\n",
      " [0.02504691 0.86790935]\n",
      " [0.074273   0.26145244]] \n",
      "y=\n",
      "  [[0.01054292]\n",
      " [0.45681292]]\n",
      "z= \n",
      " [[0.24698175]\n",
      " [0.39673627]\n",
      " [0.12021791]]\n"
     ]
    }
   ],
   "source": [
    "# 兩個向量點積是標量\n",
    "x = np.random.random((3,2))\n",
    "y = np.random.random((2,1))\n",
    "print(\"x=\\n \", x, \"\\ny=\\n \", y)\n",
    "\n",
    "z = np.dot(x, y)\n",
    "print(\"z= \\n\", z)"
   ]
  },
  {
   "cell_type": "code",
   "execution_count": 137,
   "id": "ec0440ac-fab9-466c-9fc8-1f11f6d8cda3",
   "metadata": {},
   "outputs": [],
   "source": [
    "# 兩個向量的點積\n",
    "def naive_vector_dot(x, y) :\n",
    "    assert len(x.shape) == 1\n",
    "    assert len(y.shape) == 1\n",
    "    assert x.shape[0] == y.shape[0]\n",
    "\n",
    "    z = 0.\n",
    "    for i in range(x.shape[0]) :\n",
    "        z += x[i] * y[i]\n",
    "    return z\n"
   ]
  },
  {
   "cell_type": "code",
   "execution_count": 147,
   "id": "de5bd688-3b37-4288-b518-d34f4040acad",
   "metadata": {},
   "outputs": [
    {
     "name": "stdout",
     "output_type": "stream",
     "text": [
      "x=\n",
      "  [0.19329706 0.81552431 0.31476371] \n",
      "y=\n",
      "  [0.95544345 0.21617273 0.06620371]\n",
      "x.shape=\n",
      "  (3,) \n",
      "y.shape=\n",
      "  (3,)\n",
      "0.38181705019603523\n"
     ]
    }
   ],
   "source": [
    "x = np.random.random(3)\n",
    "y = np.random.random((3))\n",
    "print(\"x=\\n \", x, \"\\ny=\\n \", y)\n",
    "print(\"x.shape=\\n \", x.shape, \"\\ny.shape=\\n \", y.shape)\n",
    "\n",
    "print(naive_vector_dot(x, y)) # 兩向量點積，回傳一個標量"
   ]
  },
  {
   "cell_type": "code",
   "execution_count": 148,
   "id": "be9967b4-5f3a-43c9-b82a-799a82f75b3e",
   "metadata": {},
   "outputs": [],
   "source": [
    "import numpy as np\n",
    "\n",
    "def naive_matrix_vector_dot(x, y):\n",
    "    assert len(x.shape) == 2\n",
    "    assert len(y.shape) == 1 \n",
    "    assert x.shape[1] == y.shape[0]\n",
    "    \n",
    "    z = np.zeros(x.shape[0]) \n",
    "    for i in range(x.shape[0]):\n",
    "        for j in range(x.shape[1]):\n",
    "            z[i] += x[i, j] * y[j]\n",
    "    return z"
   ]
  },
  {
   "cell_type": "code",
   "execution_count": 162,
   "id": "a59a58e3-c0f9-409d-93c0-eb7a301a8362",
   "metadata": {},
   "outputs": [
    {
     "name": "stdout",
     "output_type": "stream",
     "text": [
      "x=\n",
      "  [[0.6324925  0.92236951]\n",
      " [0.17479409 0.13822682]\n",
      " [0.16496165 0.78521123]] \n",
      "y=\n",
      "  [0.5899212  0.00891357]\n",
      "x.shape= 2 ,y.shape= 1\n",
      "z= [0.38134234 0.10434683 0.10431341]\n"
     ]
    }
   ],
   "source": [
    "x = np.random.random((3,2))\n",
    "y = np.random.random((2,))\n",
    "print(\"x=\\n \", x, \"\\ny=\\n \", y)\n",
    "print(\"x.shape=\", len(x.shape), \",y.shape=\", len(y.shape))\n",
    "\n",
    "print(\"z=\", naive_matrix_vector_dot(x, y))"
   ]
  },
  {
   "cell_type": "code",
   "execution_count": 164,
   "id": "1c6a7158-b342-47e4-acd2-ff58d1106457",
   "metadata": {},
   "outputs": [],
   "source": [
    "def naive_matrix_vector_dot2(x, y) :\n",
    "    z = np.zeros(x.shape[0])\n",
    "    for i in range(x.shape[0]) :\n",
    "        z[i] = naive_vector_dot(x[i, :], y)\n",
    "    return z\n",
    "    "
   ]
  },
  {
   "cell_type": "code",
   "execution_count": 165,
   "id": "a6ecbdbf-c468-42ea-ba8a-db42c595fc59",
   "metadata": {},
   "outputs": [
    {
     "name": "stdout",
     "output_type": "stream",
     "text": [
      "x=\n",
      "  [[0.22759118 0.20094028]\n",
      " [0.10153539 0.34755197]\n",
      " [0.43937385 0.83060854]] \n",
      "y=\n",
      "  [0.97755961 0.44979827]\n",
      "x.shape= 2 ,y.shape= 1\n",
      "z= [0.31286654 0.25558517 0.80312041]\n"
     ]
    }
   ],
   "source": [
    "x = np.random.random((3,2))\n",
    "y = np.random.random((2,))\n",
    "print(\"x=\\n \", x, \"\\ny=\\n \", y)\n",
    "print(\"x.shape=\", len(x.shape), \",y.shape=\", len(y.shape))\n",
    "\n",
    "print(\"z=\", naive_matrix_vector_dot2(x, y))"
   ]
  },
  {
   "cell_type": "code",
   "execution_count": null,
   "id": "8a0cd2ab-3b81-49d6-82a3-0caeb3620850",
   "metadata": {},
   "outputs": [],
   "source": []
  }
 ],
 "metadata": {
  "kernelspec": {
   "display_name": "Python 3 (ipykernel)",
   "language": "python",
   "name": "python3"
  },
  "language_info": {
   "codemirror_mode": {
    "name": "ipython",
    "version": 3
   },
   "file_extension": ".py",
   "mimetype": "text/x-python",
   "name": "python",
   "nbconvert_exporter": "python",
   "pygments_lexer": "ipython3",
   "version": "3.8.0"
  }
 },
 "nbformat": 4,
 "nbformat_minor": 5
}
